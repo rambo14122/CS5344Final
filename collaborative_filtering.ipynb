{
 "cells": [
  {
   "cell_type": "code",
   "execution_count": 10,
   "metadata": {
    "collapsed": true,
    "pycharm": {
     "is_executing": false
    }
   },
   "outputs": [],
   "source": [
    "import pyspark\n",
    "from pyspark import SQLContext\n",
    "from pyspark.sql import SparkSession\n",
    "from pyspark.sql.functions import explode, col, hash\n",
    "from pyspark.ml.recommendation import ALS\n",
    "from pyspark.ml.tuning import ParamGridBuilder, CrossValidator\n",
    "from pyspark.ml.evaluation import RegressionEvaluator"
   ]
  },
  {
   "cell_type": "code",
   "execution_count": 11,
   "outputs": [],
   "source": [
    "spark = SparkSession.builder.appName('collaborative filtering').getOrCreate()\n",
    "spark = SparkSession.builder\\\n",
    "    .config('spark.driver.memory', '16g')\\\n",
    "    .config('spark.executor.memory','16g')\\\n",
    "    .config('spark.driver.maxResultSize','0')\\\n",
    "    .config('spark.sql.autoBroadcastJoinThreshold','-1')\\\n",
    "    .config('spark.sql.broadcastTimeout','1200')\\\n",
    "    .config('spark.default.parallelism','8')\\\n",
    "    .appName('collaborative filtering').getOrCreate()\n",
    "\n",
    "########## create sql context ##########\n",
    "spark_conf = pyspark.SparkConf()\n",
    "spark_context = pyspark.SparkContext\n",
    "sc = spark_context.getOrCreate()\n",
    "sqlContext = SQLContext(sc) \n"
   ],
   "metadata": {
    "collapsed": false,
    "pycharm": {
     "name": "#%%\n",
     "is_executing": false
    }
   }
  },
  {
   "cell_type": "code",
   "execution_count": null,
   "outputs": [],
   "source": [
    "data_dir = \"\"\n",
    "# data_dir = \"E:\\\\courses\\\\sem4\\\\CS5344\\\\Final\\\\\"\n",
    "business = sqlContext.read.json(data_dir+\"yelp_academic_dataset_business.json\")\\\n",
    "    .select(\"business_id\", \"name\", hash(\"business_id\").alias(\"business_index\"))\n",
    "business.take(5)"
   ],
   "metadata": {
    "collapsed": false,
    "pycharm": {
     "name": "#%%\n",
     "is_executing": true
    }
   }
  },
  {
   "cell_type": "code",
   "execution_count": 13,
   "outputs": [
    {
     "data": {
      "text/plain": "[Row(business_id='-36nnCT71XE0InJXKBIpuw', user_id='5hjAPltdXiHM3Ng4iw94_Q', stars=1.0, user_index=-1768349507, name='Safeway', business_index=-1364680400),\n Row(business_id='-36nnCT71XE0InJXKBIpuw', user_id='WiVyzMjKiOOyF2kK1_pqjw', stars=5.0, user_index=-175602607, name='Safeway', business_index=-1364680400),\n Row(business_id='-36nnCT71XE0InJXKBIpuw', user_id='tU52QQnMGbJA8o89zYAw2w', stars=1.0, user_index=-538754549, name='Safeway', business_index=-1364680400),\n Row(business_id='-36nnCT71XE0InJXKBIpuw', user_id='Xg7RVVk9zNXTXyvCZB5olA', stars=1.0, user_index=-1633983391, name='Safeway', business_index=-1364680400),\n Row(business_id='-36nnCT71XE0InJXKBIpuw', user_id='wKBjsz3O0DYzXIxr8UQ5dQ', stars=2.0, user_index=-649294825, name='Safeway', business_index=-1364680400)]"
     },
     "metadata": {},
     "output_type": "execute_result",
     "execution_count": 13
    }
   ],
   "source": [
    "rating = sqlContext.read.json(data_dir+\"yelp_academic_dataset_review.json\")\\\n",
    "    .select(\"user_id\", \"business_id\", \"stars\", hash(\"user_id\").alias(\"user_index\"))\n",
    "rating = rating.join(business, [\"business_id\"], \"left\")\n",
    "rating.take(5)"
   ],
   "metadata": {
    "collapsed": false,
    "pycharm": {
     "name": "#%%\n",
     "is_executing": false
    }
   }
  },
  {
   "cell_type": "code",
   "execution_count": 14,
   "outputs": [
    {
     "name": "stdout",
     "text": [
      "The rating dataframe is 99.997544% sparse.\n"
     ],
     "output_type": "stream"
    }
   ],
   "source": [
    "def get_sparsity(rating):\n",
    "    # Count the total number of ratings in the dataset\n",
    "    count_nonzero = rating.select(\"stars\").count()\n",
    "\n",
    "    # Count the number of distinct userIds and distinct movieIds\n",
    "    total_elements = rating.select(\"user_id\").distinct().count() * rating.select(\"business_id\").distinct().count()\n",
    "    # Divide the numerator by the denominator\n",
    "    sparsity = (1.0 - (count_nonzero *1.0)/total_elements)*100\n",
    "    print(\"The rating dataframe is\", \"%.6f\" % sparsity + \"% sparse.\")\n",
    "get_sparsity(rating)"
   ],
   "metadata": {
    "collapsed": false,
    "pycharm": {
     "name": "#%%\n",
     "is_executing": false
    }
   }
  },
  {
   "cell_type": "code",
   "execution_count": null,
   "outputs": [
    {
     "name": "stdout",
     "text": [
      "Num models to be tested:  16\n"
     ],
     "output_type": "stream"
    }
   ],
   "source": [
    "(train, test) = rating.randomSplit([0.8, 0.2], seed = 2020)\n",
    "# Create ALS model\n",
    "als = ALS(\n",
    "         userCol=\"user_index\", \n",
    "         itemCol=\"business_index\",\n",
    "         ratingCol=\"stars\", \n",
    "         nonnegative = True, \n",
    "         implicitPrefs = False,\n",
    "         coldStartStrategy=\"drop\"\n",
    ")\n",
    "param_grid = ParamGridBuilder() \\\n",
    "            .addGrid(als.rank, [10, 50, 100, 150]) \\\n",
    "            .addGrid(als.regParam, [.01, .05, .1, .15]) \\\n",
    "            .build()\n",
    "evaluator = RegressionEvaluator(\n",
    "           metricName=\"rmse\", \n",
    "           labelCol=\"stars\", \n",
    "           predictionCol=\"prediction\") \n",
    "print (\"Num models to be tested: \", len(param_grid))\n",
    "cv = CrossValidator(estimator=als, estimatorParamMaps=param_grid, evaluator=evaluator, numFolds=5)\n",
    "#Fit cross validator to the 'train' dataset\n",
    "model = cv.fit(train)\n",
    "#Extract best model from the cv model above\n",
    "best_model = model.bestModel\n",
    "best_model.write().overwrite().save(\"cf_model\")\n",
    "\n",
    "# View the predictions\n",
    "test_predictions = best_model.transform(test)\n",
    "RMSE = evaluator.evaluate(test_predictions)\n",
    "print(RMSE)\n",
    "\n",
    "print(\"**Best Model**\")\n",
    "# Print \"Rank\"\n",
    "print(\"  Rank:\", best_model._java_obj.parent().getRank())\n",
    "# Print \"MaxIter\"\n",
    "print(\"  MaxIter:\", best_model._java_obj.parent().getMaxIter())\n",
    "# Print \"RegParam\"\n",
    "print(\"  RegParam:\", best_model._java_obj.parent().getRegParam())\n",
    "\n",
    "nrecommendations = best_model.recommendForAllUsers(10)\n",
    "# nrecommendations = nrecommendations\\\n",
    "#     .withColumn(\"rec_exp\", explode(\"recommendations\"))\\\n",
    "#     .select('userId', col(\"rec_exp.movieId\"), col(\"rec_exp.stars\"))\n",
    "\n",
    "nrecommendations.limit(10).show()"
   ],
   "metadata": {
    "collapsed": false,
    "pycharm": {
     "name": "#%%\n",
     "is_executing": true
    }
   }
  }
 ],
 "metadata": {
  "kernelspec": {
   "name": "pycharm-cb58f220",
   "language": "python",
   "display_name": "PyCharm (Final)"
  },
  "language_info": {
   "codemirror_mode": {
    "name": "ipython",
    "version": 2
   },
   "file_extension": ".py",
   "mimetype": "text/x-python",
   "name": "python",
   "nbconvert_exporter": "python",
   "pygments_lexer": "ipython2",
   "version": "2.7.6"
  },
  "pycharm": {
   "stem_cell": {
    "cell_type": "raw",
    "source": [],
    "metadata": {
     "collapsed": false
    }
   }
  }
 },
 "nbformat": 4,
 "nbformat_minor": 0
}