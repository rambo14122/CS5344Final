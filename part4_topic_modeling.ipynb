{
 "cells": [
  {
   "cell_type": "markdown",
   "source": [
    "# Part 4 Topic Modeling"
   ],
   "metadata": {
    "collapsed": false,
    "pycharm": {
     "name": "#%% md\n"
    }
   }
  },
  {
   "cell_type": "markdown",
   "source": [
    "### Setup"
   ],
   "metadata": {
    "collapsed": false
   }
  },
  {
   "cell_type": "code",
   "execution_count": 16,
   "metadata": {
    "collapsed": true,
    "pycharm": {
     "is_executing": false
    }
   },
   "outputs": [],
   "source": [
    "from operator import add\n",
    "from pyspark.sql import SparkSession\n",
    "from pyspark.sql.functions import *\n",
    "from pyspark.ml.feature import *"
   ]
  },
  {
   "cell_type": "code",
   "execution_count": 9,
   "outputs": [],
   "source": [
    "spark = SparkSession.builder.config('spark.driver.memory', '16g').config('spark.executor.memory','16g').config('spark.driver.maxResultSize','0').config('spark.sql.autoBroadcastJoinThreshold','-1').config('spark.sql.broadcastTimeout','1200').config('spark.default.parallelism','8').appName(\"part123\").getOrCreate()\n",
    "business = spark.read.json('yelp_academic_dataset_business.json')\n",
    "review = spark.read.json('yelp_academic_dataset_review.json')\n"
   ],
   "metadata": {
    "collapsed": false,
    "pycharm": {
     "name": "#%%\n",
     "is_executing": false
    }
   }
  },
  {
   "cell_type": "markdown",
   "source": [
    "### Join Review Text by Business ID"
   ],
   "metadata": {
    "collapsed": false
   }
  },
  {
   "cell_type": "code",
   "execution_count": 10,
   "outputs": [
    {
     "data": {
      "text/plain": "160585"
     },
     "metadata": {},
     "output_type": "execute_result",
     "execution_count": 10
    }
   ],
   "source": [
    "reviews_text_rdd = review.select(\"business_id\", \"text\").rdd\n",
    "reviews_by_business_rdd = reviews_text_rdd.map(tuple).reduceByKey(add)  \n",
    "reviews_by_business_df = spark.createDataFrame(reviews_by_business_rdd)\n",
    "reviews_by_business_df = reviews_by_business_df \\\n",
    "                            .withColumnRenamed('_1', 'business_id') \\\n",
    "                            .withColumnRenamed('_2', 'text')"
   ],
   "metadata": {
    "collapsed": false,
    "pycharm": {
     "name": "#%%\n",
     "is_executing": false
    }
   }
  },
  {
   "cell_type": "markdown",
   "source": [
    "### Text Processing\n",
    "- Tokenize\n",
    "- Remove Stopwords\n",
    "- Topic Modeling\n",
    "reviews_by_business_df.take(3)"
   ],
   "metadata": {
    "collapsed": false,
    "pycharm": {
     "name": "#%% md\n",
     "is_executing": false
    }
   }
  },
  {
   "cell_type": "code",
   "execution_count": 15,
   "outputs": [
    {
     "name": "stdout",
     "text": [
      "+--------------------+--------------------+--------------------+\n|         business_id|                text|               token|\n+--------------------+--------------------+--------------------+\n|or-Kyw7kmNin1pWbu...|As a native of th...|[as, a, native, o...|\n|R40JzBT7jrPVbXCr6...|checked out Symph...|[checked, out, sy...|\n|pVBbYcNqoYT1ZXNUv...|This place is del...|[this, place, is,...|\n+--------------------+--------------------+--------------------+\nonly showing top 3 rows\n\n"
     ],
     "output_type": "stream"
    }
   ],
   "source": [
    "# Tokenize\n",
    "\n",
    "regexTokenizer = RegexTokenizer(gaps = False, pattern = '\\w+', inputCol = 'text', outputCol = 'token')\n",
    "reviews_by_business_token_df = regexTokenizer.transform(reviews_by_business_df)\n",
    "reviews_by_business_token_df.show(3)"
   ],
   "metadata": {
    "collapsed": false,
    "pycharm": {
     "name": "#%%\n",
     "is_executing": false
    }
   }
  },
  {
   "cell_type": "code",
   "execution_count": 17,
   "outputs": [
    {
     "name": "stdout",
     "text": [
      "+--------------------+--------------------+--------------------+--------------------+\n|         business_id|                text|               token|           nostopwrd|\n+--------------------+--------------------+--------------------+--------------------+\n|Sxr9FykZWGK3QL_od...|My husband is fro...|[my, husband, is,...|[husband, bolivia...|\n|R40JzBT7jrPVbXCr6...|checked out Symph...|[checked, out, sy...|[checked, symphon...|\n|JX0-7dN3i34Fe_uJ6...|Don't live here. ...|[don, t, live, he...|[live, worth, ser...|\n+--------------------+--------------------+--------------------+--------------------+\nonly showing top 3 rows\n\n"
     ],
     "output_type": "stream"
    }
   ],
   "source": [
    "# Remove Stopwords\n",
    "\n",
    "stopWordsRemover = StopWordsRemover(inputCol = 'token', outputCol = 'nostopwrd')\n",
    "reviews_by_business_token_nostopwrd_df = stopWordsRemover.transform(reviews_by_business_token_df)\n",
    "reviews_by_business_token_nostopwrd_df.show(3)"
   ],
   "metadata": {
    "collapsed": false,
    "pycharm": {
     "name": "#%%\n",
     "is_executing": false
    }
   }
  },
  {
   "cell_type": "code",
   "execution_count": null,
   "outputs": [],
   "source": [
    "# create vectors (features)\n",
    "\n",
    "count_vectorizer = CountVectorizer(inputCol=\"nostopwrd\", outputCol=\"rawFeature\")\n",
    "cv_model = count_vectorizer.fit(reviews_by_business_token_nostopwrd_df)\n",
    "reviews_by_business_featurized_df = cv_model.transform(reviews_by_business_token_nostopwrd_df)\n",
    "\n",
    "# get the vovablary  (all words)\n",
    "vocab = cv_model.vocabulary\n",
    "\n",
    "reviews_by_business_featurized_df.show(3)"
   ],
   "metadata": {
    "collapsed": false,
    "pycharm": {
     "name": "#%%\n"
    }
   }
  }
 ],
 "metadata": {
  "kernelspec": {
   "name": "pycharm-cb58f220",
   "language": "python",
   "display_name": "PyCharm (Final)"
  },
  "language_info": {
   "codemirror_mode": {
    "name": "ipython",
    "version": 2
   },
   "file_extension": ".py",
   "mimetype": "text/x-python",
   "name": "python",
   "nbconvert_exporter": "python",
   "pygments_lexer": "ipython2",
   "version": "2.7.6"
  },
  "pycharm": {
   "stem_cell": {
    "cell_type": "raw",
    "source": [],
    "metadata": {
     "collapsed": false
    }
   }
  }
 },
 "nbformat": 4,
 "nbformat_minor": 0
}