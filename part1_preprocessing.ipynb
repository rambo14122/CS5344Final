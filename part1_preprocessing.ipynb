{
 "cells": [
  {
   "cell_type": "markdown",
   "metadata": {},
   "source": [
    "# Part1 Pre-Processing"
   ]
  },
  {
   "cell_type": "code",
   "execution_count": 1,
   "metadata": {},
   "outputs": [],
   "source": [
    "import pyspark\n",
    "from pyspark.sql import SparkSession\n",
    "from pyspark.sql.functions import *"
   ]
  },
  {
   "cell_type": "code",
   "execution_count": 2,
   "metadata": {},
   "outputs": [],
   "source": [
    "spark = SparkSession.builder.appName(\"part1\").getOrCreate()"
   ]
  },
  {
   "cell_type": "markdown",
   "metadata": {},
   "source": [
    "# Bussiness"
   ]
  },
  {
   "cell_type": "code",
   "execution_count": 3,
   "metadata": {},
   "outputs": [
    {
     "data": {
      "text/plain": [
       "160585"
      ]
     },
     "execution_count": 3,
     "metadata": {},
     "output_type": "execute_result"
    }
   ],
   "source": [
    "path = 'yelp_academic_dataset_business.json'\n",
    "business = spark.read.json(path)\n",
    "business.count()"
   ]
  },
  {
   "cell_type": "code",
   "execution_count": 4,
   "metadata": {},
   "outputs": [],
   "source": [
    "business_col = ['business_id','name','city','state','stars','review_count','categories','latitude','longitude','is_open', 'postal_code']\n",
    "business = business.select(business_col)\n",
    "#business = business.withColumn('category', split(business['categories'],',')).withColumn('category',explode('category')).withColumn('category', trim('category'))\n"
   ]
  },
  {
   "cell_type": "code",
   "execution_count": 5,
   "metadata": {},
   "outputs": [
    {
     "name": "stdout",
     "output_type": "stream",
     "text": [
      "+--------------------+-----+\n",
      "|            category|count|\n",
      "+--------------------+-----+\n",
      "|         Restaurants|50763|\n",
      "|                Food|29469|\n",
      "|            Shopping|26205|\n",
      "|       Beauty & Spas|16574|\n",
      "|       Home Services|16465|\n",
      "|    Health & Medical|15102|\n",
      "|      Local Services|12192|\n",
      "|           Nightlife|11990|\n",
      "|                Bars|10741|\n",
      "|          Automotive|10119|\n",
      "|Event Planning & ...| 9644|\n",
      "|         Active Life| 9231|\n",
      "|        Coffee & Tea| 7725|\n",
      "|          Sandwiches| 7272|\n",
      "|             Fashion| 6599|\n",
      "|American (Traditi...| 6541|\n",
      "|         Hair Salons| 5900|\n",
      "|               Pizza| 5756|\n",
      "|     Hotels & Travel| 5703|\n",
      "|  Breakfast & Brunch| 5505|\n",
      "+--------------------+-----+\n",
      "only showing top 20 rows\n",
      "\n"
     ]
    }
   ],
   "source": [
    "tmp = business.withColumn('category', explode(split(business['categories'],','))).withColumn('category', trim('category'))\n",
    "tmp.groupBy('category').count().orderBy('count',ascending=False).show()\n",
    "#selected_category = ['Restaurants','Food','Coffee & Tea','Sandwiches','Breakfast & Brunch']\n",
    "regex_expr = r'\\b(Restaurants|Food|Coffee|Tea|Sandwiches|Breakfast|Brunch)\\b'\n",
    "business = business.filter(business['categories'].rlike(regex_expr))\n"
   ]
  },
  {
   "cell_type": "code",
   "execution_count": 6,
   "metadata": {},
   "outputs": [
    {
     "data": {
      "text/plain": [
       "64092"
      ]
     },
     "execution_count": 6,
     "metadata": {},
     "output_type": "execute_result"
    }
   ],
   "source": [
    "business.count()"
   ]
  },
  {
   "cell_type": "code",
   "execution_count": 7,
   "metadata": {},
   "outputs": [
    {
     "name": "stdout",
     "output_type": "stream",
     "text": [
      "+---------------+-----+\n",
      "|           city|count|\n",
      "+---------------+-----+\n",
      "|       Portland| 7212|\n",
      "|      Vancouver| 6495|\n",
      "|         Austin| 6373|\n",
      "|        Atlanta| 5092|\n",
      "|        Orlando| 4592|\n",
      "|         Boston| 3536|\n",
      "|       Columbus| 3164|\n",
      "|       Richmond| 1127|\n",
      "|      Cambridge|  957|\n",
      "|        Burnaby|  919|\n",
      "|        Boulder|  882|\n",
      "|      Kissimmee|  846|\n",
      "|      Beaverton|  735|\n",
      "|        Decatur|  627|\n",
      "|     Somerville|  510|\n",
      "|North Vancouver|  500|\n",
      "|    Winter Park|  495|\n",
      "|         Quincy|  414|\n",
      "|      Coquitlam|  383|\n",
      "|         Surrey|  344|\n",
      "+---------------+-----+\n",
      "only showing top 20 rows\n",
      "\n"
     ]
    }
   ],
   "source": [
    "business.groupBy('city').count().orderBy('count',ascending = False).show()\n",
    "selected_city = ['Portland']\n",
    "business = business.filter(col('city').isin(selected_city))\n"
   ]
  },
  {
   "cell_type": "code",
   "execution_count": 8,
   "metadata": {},
   "outputs": [
    {
     "name": "stdout",
     "output_type": "stream",
     "text": [
      "+-----------+----+----+-----+-----+------------+----------+--------+---------+-------+-----------+\n",
      "|business_id|name|city|state|stars|review_count|categories|latitude|longitude|is_open|postal_code|\n",
      "+-----------+----+----+-----+-----+------------+----------+--------+---------+-------+-----------+\n",
      "|          0|   0|   0|    0|    0|           0|         0|       0|        0|      0|          0|\n",
      "+-----------+----+----+-----+-----+------------+----------+--------+---------+-------+-----------+\n",
      "\n"
     ]
    }
   ],
   "source": [
    "business = business[business['is_open']==1]\n",
    "business.select([count(when(isnan(c) | col(c).isNull(), c)).alias(c) for c in business.columns]).show()"
   ]
  },
  {
   "cell_type": "code",
   "execution_count": 9,
   "metadata": {},
   "outputs": [
    {
     "data": {
      "text/plain": [
       "4127"
      ]
     },
     "execution_count": 9,
     "metadata": {},
     "output_type": "execute_result"
    }
   ],
   "source": [
    "business.count()"
   ]
  },
  {
   "cell_type": "markdown",
   "metadata": {},
   "source": [
    "# Review"
   ]
  },
  {
   "cell_type": "code",
   "execution_count": 10,
   "metadata": {},
   "outputs": [
    {
     "data": {
      "text/plain": [
       "8635403"
      ]
     },
     "execution_count": 10,
     "metadata": {},
     "output_type": "execute_result"
    }
   ],
   "source": [
    "path = 'yelp_academic_dataset_review.json'\n",
    "review = spark.read.json(path)\n",
    "review.count()"
   ]
  },
  {
   "cell_type": "code",
   "execution_count": 11,
   "metadata": {},
   "outputs": [
    {
     "name": "stdout",
     "output_type": "stream",
     "text": [
      "root\n",
      " |-- business_id: string (nullable = true)\n",
      " |-- cool: long (nullable = true)\n",
      " |-- date: string (nullable = true)\n",
      " |-- funny: long (nullable = true)\n",
      " |-- review_id: string (nullable = true)\n",
      " |-- stars: double (nullable = true)\n",
      " |-- text: string (nullable = true)\n",
      " |-- useful: long (nullable = true)\n",
      " |-- user_id: string (nullable = true)\n",
      "\n"
     ]
    }
   ],
   "source": [
    "review.printSchema()"
   ]
  },
  {
   "cell_type": "code",
   "execution_count": 12,
   "metadata": {},
   "outputs": [
    {
     "name": "stdout",
     "output_type": "stream",
     "text": [
      "+--------------------+----+-------------------+-----+--------------------+-----+--------------------+------+--------------------+\n",
      "|         business_id|cool|               date|funny|           review_id|stars|                text|useful|             user_id|\n",
      "+--------------------+----+-------------------+-----+--------------------+-----+--------------------+------+--------------------+\n",
      "|buF9druCkbuXLX526...|   1|2014-10-11 03:34:02|    1|lWC-xP3rd6obsecCY...|  4.0|Apparently Prides...|     3|ak0TdVmGKo4pwqdJS...|\n",
      "|RA4V8pr014UyUbDvI...|   0|2015-07-03 20:38:25|    0|8bFej1QE5LXp4O05q...|  4.0|This store is pre...|     1|YoVfDbnISlW0f7abN...|\n",
      "|_sS2LBIGNT5NQb6PD...|   0|2013-05-28 20:38:06|    0|NDhkzczKjLshODbqD...|  5.0|I called WVM on t...|     0|eC5evKn1TWDyHCyQA...|\n",
      "|0AzLzHfOJgL7ROwhd...|   1|2010-01-08 02:29:15|    1|T5fAqjjFooT4V0OeZ...|  2.0|I've stayed at ma...|     1|SFQ1jcnGguO0LYWnb...|\n",
      "|8zehGz9jnxPqXtOc7...|   0|2011-07-28 18:05:01|    0|sjm_uUcQVxab_EeLC...|  4.0|The food is alway...|     0|0kA0PAJ8QFMeveQWH...|\n",
      "|xGXzsc-hzam-VArK6...|   0|2018-01-21 04:41:03|    0|J4a2TuhDasjn2k3wW...|  1.0|This place used t...|     2|RNm_RWkcd02Li2mKP...|\n",
      "|EXOsmAB1s71WePlQk...|   0|2006-04-16 02:58:44|    0|28gGfkLs3igtjVy61...|  2.0|The setting is pe...|     0|Q8c91v7luItVB0cMF...|\n",
      "|DbXHNl890xSXNiyRc...|   0|2017-12-02 18:16:13|    0|9vqwvFCBG3FBiHGmO...|  5.0|Probably one of t...|     0|XGkAG92TQ3MQUKGX9...|\n",
      "|mD-A9KOWADXvfrZfw...|   0|2012-05-28 15:00:47|    0|2l_TDrQ7p-5tANOyi...|  4.0|I am definitely a...|     1|LWUnzwK0ILquLLZcH...|\n",
      "|EEHhKSxUvJkoPSzeG...|   0|2014-05-07 18:10:21|    0|KKVFopqzcVfcubIBx...|  5.0|I work in the Pru...|     0|99RsBrARhhx60UnAC...|\n",
      "+--------------------+----+-------------------+-----+--------------------+-----+--------------------+------+--------------------+\n",
      "only showing top 10 rows\n",
      "\n"
     ]
    }
   ],
   "source": [
    "review.show(10)\n",
    "review = review.withColumn('year', substring('date',1,4).astype('int'))\n",
    "review = review.withColumn('month', substring('date',6,2).astype('int'))\n",
    "review = review.withColumn('day', substring('date',9,2).astype('int'))"
   ]
  },
  {
   "cell_type": "code",
   "execution_count": 13,
   "metadata": {},
   "outputs": [],
   "source": [
    "review_col = ['review_id','business_id','user_id','year','month','day','stars','useful','funny','cool','text']\n",
    "review = review.select(review_col)"
   ]
  },
  {
   "cell_type": "code",
   "execution_count": 14,
   "metadata": {},
   "outputs": [
    {
     "name": "stdout",
     "output_type": "stream",
     "text": [
      "+--------------------+--------------------+--------------------+----+-----+---+-----+------+-----+----+--------------------+\n",
      "|           review_id|         business_id|             user_id|year|month|day|stars|useful|funny|cool|                text|\n",
      "+--------------------+--------------------+--------------------+----+-----+---+-----+------+-----+----+--------------------+\n",
      "|lWC-xP3rd6obsecCY...|buF9druCkbuXLX526...|ak0TdVmGKo4pwqdJS...|2014|   10| 11|  4.0|     3|    1|   1|Apparently Prides...|\n",
      "|8bFej1QE5LXp4O05q...|RA4V8pr014UyUbDvI...|YoVfDbnISlW0f7abN...|2015|    7|  3|  4.0|     1|    0|   0|This store is pre...|\n",
      "|NDhkzczKjLshODbqD...|_sS2LBIGNT5NQb6PD...|eC5evKn1TWDyHCyQA...|2013|    5| 28|  5.0|     0|    0|   0|I called WVM on t...|\n",
      "|T5fAqjjFooT4V0OeZ...|0AzLzHfOJgL7ROwhd...|SFQ1jcnGguO0LYWnb...|2010|    1|  8|  2.0|     1|    1|   1|I've stayed at ma...|\n",
      "|sjm_uUcQVxab_EeLC...|8zehGz9jnxPqXtOc7...|0kA0PAJ8QFMeveQWH...|2011|    7| 28|  4.0|     0|    0|   0|The food is alway...|\n",
      "|J4a2TuhDasjn2k3wW...|xGXzsc-hzam-VArK6...|RNm_RWkcd02Li2mKP...|2018|    1| 21|  1.0|     2|    0|   0|This place used t...|\n",
      "|28gGfkLs3igtjVy61...|EXOsmAB1s71WePlQk...|Q8c91v7luItVB0cMF...|2006|    4| 16|  2.0|     0|    0|   0|The setting is pe...|\n",
      "|9vqwvFCBG3FBiHGmO...|DbXHNl890xSXNiyRc...|XGkAG92TQ3MQUKGX9...|2017|   12|  2|  5.0|     0|    0|   0|Probably one of t...|\n",
      "|2l_TDrQ7p-5tANOyi...|mD-A9KOWADXvfrZfw...|LWUnzwK0ILquLLZcH...|2012|    5| 28|  4.0|     1|    0|   0|I am definitely a...|\n",
      "|KKVFopqzcVfcubIBx...|EEHhKSxUvJkoPSzeG...|99RsBrARhhx60UnAC...|2014|    5|  7|  5.0|     0|    0|   0|I work in the Pru...|\n",
      "+--------------------+--------------------+--------------------+----+-----+---+-----+------+-----+----+--------------------+\n",
      "only showing top 10 rows\n",
      "\n"
     ]
    }
   ],
   "source": [
    "review.show(10)"
   ]
  },
  {
   "cell_type": "code",
   "execution_count": 15,
   "metadata": {},
   "outputs": [
    {
     "data": {
      "text/plain": [
       "8635403"
      ]
     },
     "execution_count": 15,
     "metadata": {},
     "output_type": "execute_result"
    }
   ],
   "source": [
    "review.count()"
   ]
  },
  {
   "cell_type": "markdown",
   "metadata": {},
   "source": [
    "## Filter Reviews in Bussiness Dataset"
   ]
  },
  {
   "cell_type": "code",
   "execution_count": 16,
   "metadata": {},
   "outputs": [],
   "source": [
    "business_id_set = set()\n",
    "for i in list(business.select('business_id').collect()):\n",
    "    business_id_set.add(i[0])"
   ]
  },
  {
   "cell_type": "code",
   "execution_count": 17,
   "metadata": {},
   "outputs": [
    {
     "data": {
      "text/plain": [
       "8635403"
      ]
     },
     "execution_count": 17,
     "metadata": {},
     "output_type": "execute_result"
    }
   ],
   "source": [
    "review.count()"
   ]
  },
  {
   "cell_type": "code",
   "execution_count": 19,
   "metadata": {},
   "outputs": [],
   "source": [
    "review = review.filter(review['business_id'].isin(business_id_set))"
   ]
  },
  {
   "cell_type": "code",
   "execution_count": 20,
   "metadata": {},
   "outputs": [
    {
     "data": {
      "text/plain": [
       "605597"
      ]
     },
     "execution_count": 20,
     "metadata": {},
     "output_type": "execute_result"
    }
   ],
   "source": [
    "review.count()"
   ]
  },
  {
   "cell_type": "markdown",
   "metadata": {},
   "source": [
    "## Remove Reviews Before 2010"
   ]
  },
  {
   "cell_type": "code",
   "execution_count": 21,
   "metadata": {},
   "outputs": [
    {
     "name": "stdout",
     "output_type": "stream",
     "text": [
      "+----+-----+\n",
      "|year|count|\n",
      "+----+-----+\n",
      "|2004|    1|\n",
      "|2005|   72|\n",
      "|2006|  607|\n",
      "|2007| 3369|\n",
      "|2008| 8183|\n",
      "|2009|13023|\n",
      "|2010|20037|\n",
      "|2011|27092|\n",
      "|2012|30442|\n",
      "|2013|38252|\n",
      "|2014|52003|\n",
      "|2015|66122|\n",
      "|2016|69181|\n",
      "|2017|74100|\n",
      "|2018|80903|\n",
      "|2019|76977|\n",
      "|2020|42588|\n",
      "|2021| 2645|\n",
      "+----+-----+\n",
      "\n"
     ]
    }
   ],
   "source": [
    "review.groupBy('year').count().orderBy('year').show()"
   ]
  },
  {
   "cell_type": "code",
   "execution_count": 22,
   "metadata": {},
   "outputs": [],
   "source": [
    "review = review.filter(review.year>2010)"
   ]
  },
  {
   "cell_type": "code",
   "execution_count": 23,
   "metadata": {},
   "outputs": [
    {
     "data": {
      "text/plain": [
       "560305"
      ]
     },
     "execution_count": 23,
     "metadata": {},
     "output_type": "execute_result"
    }
   ],
   "source": [
    "review.count()"
   ]
  },
  {
   "cell_type": "markdown",
   "metadata": {},
   "source": [
    "# User"
   ]
  },
  {
   "cell_type": "code",
   "execution_count": 24,
   "metadata": {},
   "outputs": [],
   "source": [
    "path = 'yelp_academic_dataset_user.json'\n",
    "user = spark.read.json(path)"
   ]
  },
  {
   "cell_type": "code",
   "execution_count": 25,
   "metadata": {},
   "outputs": [
    {
     "name": "stdout",
     "output_type": "stream",
     "text": [
      "root\n",
      " |-- average_stars: double (nullable = true)\n",
      " |-- compliment_cool: long (nullable = true)\n",
      " |-- compliment_cute: long (nullable = true)\n",
      " |-- compliment_funny: long (nullable = true)\n",
      " |-- compliment_hot: long (nullable = true)\n",
      " |-- compliment_list: long (nullable = true)\n",
      " |-- compliment_more: long (nullable = true)\n",
      " |-- compliment_note: long (nullable = true)\n",
      " |-- compliment_photos: long (nullable = true)\n",
      " |-- compliment_plain: long (nullable = true)\n",
      " |-- compliment_profile: long (nullable = true)\n",
      " |-- compliment_writer: long (nullable = true)\n",
      " |-- cool: long (nullable = true)\n",
      " |-- elite: string (nullable = true)\n",
      " |-- fans: long (nullable = true)\n",
      " |-- friends: string (nullable = true)\n",
      " |-- funny: long (nullable = true)\n",
      " |-- name: string (nullable = true)\n",
      " |-- review_count: long (nullable = true)\n",
      " |-- useful: long (nullable = true)\n",
      " |-- user_id: string (nullable = true)\n",
      " |-- yelping_since: string (nullable = true)\n",
      "\n"
     ]
    }
   ],
   "source": [
    "user.printSchema()"
   ]
  },
  {
   "cell_type": "code",
   "execution_count": 26,
   "metadata": {},
   "outputs": [],
   "source": [
    "user_col = ['user_id','name','review_count','yelping_since','friends','useful','funny','cool','fans','average_stars']\n",
    "user = user.select(user_col)"
   ]
  },
  {
   "cell_type": "code",
   "execution_count": 27,
   "metadata": {},
   "outputs": [
    {
     "name": "stdout",
     "output_type": "stream",
     "text": [
      "+--------------------+----------+------------+-------------------+--------------------+------+-----+-----+----+-------------+\n",
      "|             user_id|      name|review_count|      yelping_since|             friends|useful|funny| cool|fans|average_stars|\n",
      "+--------------------+----------+------------+-------------------+--------------------+------+-----+-----+----+-------------+\n",
      "|q_QQ5kBBwlCcbL1s4...|      Jane|        1220|2005-03-14 20:26:35|xBDpTUbai0DXrvxCe...| 15038|10030|11291|1357|         3.85|\n",
      "|dIIKEfOgo0KqUfGQv...|      Gabi|        2136|2007-08-10 19:01:51|XPzYf9_mwG2eXYP2B...| 21272|10289|18046|1025|         4.09|\n",
      "|D6ErcUnFALnCQN4b1...|     Jason|         119|2007-02-07 15:47:53|GfB6sC4NJQvSI2ewb...|   188|  128|  130|  16|         3.76|\n",
      "|JnPIjvC0cmooNDfsa...|       Kat|         987|2009-02-09 16:14:29|HQZPQhKMwRAyS6BCs...|  7234| 4722| 4035| 420|         3.77|\n",
      "|37Hc8hr3cw0iHLoPz...| Christine|         495|2008-03-03 04:57:05|-Q88pZUcrfN0BLBDp...|  1577|  727| 1124|  47|         3.72|\n",
      "|n-QwITZYrXlKQRiV3...|   Natasha|         229|2008-06-25 14:53:17|2ptwW5l68069vNtW8...|   476|  101|  140|  17|         3.59|\n",
      "|eCJoZqpV1fDKJGAsX...|   Bridget|          51|2009-07-22 16:47:01|DlT1HhrcYfDhjJNUy...|    53|   14|   16|   1|         3.86|\n",
      "|cojecOwQJpsYDxnjt...|    Steven|          51|2010-07-04 17:18:40|_Tpd51CSlnOyvDTpO...|   136|   47|   44|   4|         3.79|\n",
      "|1jXmzuIFKxTnEnR0p...|     Clara|         299|2010-10-01 17:29:36|VGfzq5na6LZUwxwWO...|   381|  106|  121|  23|         3.43|\n",
      "|-8QoOIfvwwxJ4sY20...|Antoinette|         288|2007-08-04 20:21:09|vePby1OhpTiQiX75X...|   752|  220|  306|  25|         3.88|\n",
      "+--------------------+----------+------------+-------------------+--------------------+------+-----+-----+----+-------------+\n",
      "only showing top 10 rows\n",
      "\n"
     ]
    }
   ],
   "source": [
    "user.show(10)"
   ]
  },
  {
   "cell_type": "code",
   "execution_count": 28,
   "metadata": {},
   "outputs": [],
   "source": [
    "# get active user\n",
    "user = user[user.review_count>10]"
   ]
  },
  {
   "cell_type": "code",
   "execution_count": 29,
   "metadata": {},
   "outputs": [
    {
     "data": {
      "text/plain": [
       "726250"
      ]
     },
     "execution_count": 29,
     "metadata": {},
     "output_type": "execute_result"
    }
   ],
   "source": [
    "user.count()"
   ]
  },
  {
   "cell_type": "markdown",
   "metadata": {},
   "source": [
    "## Save to CSV"
   ]
  },
  {
   "cell_type": "code",
   "execution_count": 53,
   "metadata": {},
   "outputs": [],
   "source": [
    "# col = ['business_id','name','city','state','stars','review_count','categories','latitude','longitude','is_open', 'postal_code']\n",
    "# city = ['Portland']\n",
    "# category =  ['Restaurants','Food','Coffee & Tea','Sandwiches','Breakfast & Brunch']\n",
    "# is_open = 1\n",
    "business.coalesce(1).write.option(\"header\",True).csv(\"part1_dataclean_business.csv\")"
   ]
  },
  {
   "cell_type": "code",
   "execution_count": 54,
   "metadata": {},
   "outputs": [],
   "source": [
    "# col = ['review_id','business_id','user_id','year','month','day','stars','useful','funny','cool','text']\n",
    "# only include reviews which \"business_id\" in \"bussiness.json\"\n",
    "review.coalesce(1).write.option(\"header\",True).csv(\"part1_dataclean_review.csv\")"
   ]
  },
  {
   "cell_type": "code",
   "execution_count": 55,
   "metadata": {},
   "outputs": [],
   "source": [
    "# col = ['user_id','name','review_count','yelping_since','friends','useful','funny','cool','fans','average_stars']\n",
    "user.coalesce(1).write.option(\"header\",True).csv(\"part1_dataclean_user.csv\")"
   ]
  }
 ],
 "metadata": {
  "kernelspec": {
   "display_name": "Python 3",
   "language": "python",
   "name": "python3"
  },
  "language_info": {
   "codemirror_mode": {
    "name": "ipython",
    "version": 3
   },
   "file_extension": ".py",
   "mimetype": "text/x-python",
   "name": "python",
   "nbconvert_exporter": "python",
   "pygments_lexer": "ipython3",
   "version": "3.6.13"
  },
  "pycharm": {
   "stem_cell": {
    "cell_type": "raw",
    "metadata": {
     "collapsed": false
    },
    "source": []
   }
  }
 },
 "nbformat": 4,
 "nbformat_minor": 4
}
