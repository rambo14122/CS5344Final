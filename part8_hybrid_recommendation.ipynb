{
 "cells": [
  {
   "cell_type": "markdown",
   "metadata": {
    "collapsed": true,
    "pycharm": {
     "name": "#%% md\n"
    }
   },
   "source": [
    "# Part 8 Hybrid Recommendation"
   ]
  },
  {
   "cell_type": "code",
   "execution_count": 19,
   "outputs": [],
   "source": [
    "from pyspark.ml import PipelineModel\n",
    "from pyspark.sql.functions import *\n",
    "from pyspark.sql import SparkSession\n",
    "import pandas as pd\n",
    "from pyspark.sql.types import *\n",
    "from pyspark.sql.functions import *\n",
    "import numpy as np\n",
    "import folium\n",
    "import html"
   ],
   "metadata": {
    "collapsed": false,
    "pycharm": {
     "name": "#%%\n",
     "is_executing": false
    }
   }
  },
  {
   "cell_type": "code",
   "execution_count": 2,
   "outputs": [],
   "source": [
    "spark = SparkSession.builder\\\n",
    "    .config(\"spark.driver.memory\", \"32g\")\\\n",
    "    .config(\"spark.executor.memory\",\"32g\")\\\n",
    "    .config(\"spark.driver.maxResultSize\",\"0\")\\\n",
    "    .config(\"spark.sql.autoBroadcastJoinThreshold\",\"-1\")\\\n",
    "    .config(\"spark.sql.broadcastTimeout\",\"1200\")\\\n",
    "    .config(\"spark.default.parallelism\", \"32\")\\\n",
    "    .config(\"spark.executor.heartbeatInterval\", \"3600\")\\\n",
    "    .config(\"spark.local.dir\",\"D:\\\\Data\")\\\n",
    "    .appName(\"part8\").getOrCreate()"
   ],
   "metadata": {
    "collapsed": false,
    "pycharm": {
     "name": "#%%\n",
     "is_executing": false
    }
   }
  },
  {
   "cell_type": "code",
   "execution_count": 3,
   "outputs": [],
   "source": [
    "review = spark.read.csv(\"part4_topicmodeling_review.csv\", header=True, multiLine=True)\n",
    "business = spark.read.csv(\"part1_dataclean_business.csv\",header=True, multiLine=True)\n",
    "user = spark.read.csv(\"part1_dataclean_user.csv\", header=True, multiLine=True)"
   ],
   "metadata": {
    "collapsed": false,
    "pycharm": {
     "name": "#%%\n",
     "is_executing": false
    }
   }
  },
  {
   "cell_type": "code",
   "execution_count": 34,
   "outputs": [],
   "source": [
    "# define utility functions\n",
    "\n",
    "def cosine_similarity(vector1, vector2): \n",
    "    return np.dot(vector1, vector2) / np.sqrt(np.dot(vector1, vector1)) / np.sqrt(np.dot(vector2, vector2)) \n",
    "def display_in_map(business_df):\n",
    "    folium_map = folium.Map(location=[45.5, -122.5], zoom_start=10)\n",
    "    for i, r in business_df.toPandas().iterrows():\n",
    "        folium.Marker(\n",
    "                    location =[r.latitude, r.longitude], \n",
    "                    popup = html.escape(r[\"name\"]) + '<br>' + 'stars: ' + str(r.stars) + '<br>' + 'reviews count: ' + str(r.review_count),    \n",
    "                    icon = folium.Icon(color='green')).add_to(folium_map)\n",
    "    return folium_map"
   ],
   "metadata": {
    "collapsed": false,
    "pycharm": {
     "name": "#%%\n",
     "is_executing": false
    }
   }
  },
  {
   "cell_type": "markdown",
   "source": [
    "### Prepare Content Based Filtering"
   ],
   "metadata": {
    "collapsed": false,
    "pycharm": {
     "name": "#%% md\n"
    }
   }
  },
  {
   "cell_type": "code",
   "execution_count": 11,
   "outputs": [
    {
     "name": "stdout",
     "text": [
      "+--------------------+--------------------+\n|         business_id|         word_vector|\n+--------------------+--------------------+\n|0OLouFEhEm3pIh4Sx...|[0.00706271847664...|\n|M4zae56hA6sb6V2Ty...|[-0.0525487022407...|\n|W60O4ast9uAq03n7n...|[-0.0027295319850...|\n+--------------------+--------------------+\nonly showing top 3 rows\n\n",
      "[-0.05254870224070885,0.03538502551234829,-0.03854379182152756,-0.053777138675465165,0.11863246697258918,-0.042976504449101866,-0.06302669620455528,-0.010523899725802371,-0.05600440347677558,-0.051089978157957947,-0.12485574790768786,-0.01871904768133106,-0.01511064755262284,-0.012473998580663153,-0.0065393127728708925,-0.018541000201754955,0.026146981704871602,-0.0016333255095140166,0.019860426191859133,-0.02298519021158624,-0.06866251518718708,-0.04173724704121691,0.058374670250007615,-0.033756228102148386,0.036534135101342076,0.031458382954585626,0.014802017625441538,0.04208449111690074,0.05030599064622714,0.02105374494679037,-0.0195642894819269,0.0034160628788665777,0.03395830864219333,0.01141115462098575,-0.07339074955288873,0.006038148350013599,0.030040749926342647,0.019178156645195826,0.030420070933069077,0.026424276935886563,0.06978567937052522,-0.038662586510325364,-0.003517041154072199,-0.0709566290981172,0.030881129774067616,0.03637652215834272,-0.042959994960077935,0.04972426530825177,0.05291908217583924,-0.007215156437148692,-0.06759938494600379,0.03604435021378773,0.026383831714969518,0.02697421875927038,-0.08937993100696903,-0.0675996710759407,-0.01982851261380241,-0.0017940402937706883,-0.058421112945044956,-0.08880331134560483,-0.005576195163382579,0.016750543706828425,0.014313391662452303,0.04417082428150613,0.006844726232884172,-0.07906391895275204,-0.04351495841047669,0.022416933752259262,-0.021910484226283663,-0.10473319522737395,-0.054996799571903864,-0.014218603449948854,-0.006363870307356984,-0.06445056761510565,0.022793586533658077,-0.06624891750990053,0.04677990500011084,0.04364684822155727,-0.029078167441544234,0.08173745354319949,0.04290179008066342,-0.035191017495432055,0.009587641693031453,-0.02862967071102764,0.01855057649868083,0.003869431405685691,0.0037144745455932587,-0.06723655056475496,0.05858744996030741,0.019736421721136845,-0.03625163426473645,-0.005349039772723941,-0.006491014786744817,-0.0841400456261289,-0.03875898864991421,0.0557050942813113,-0.08074009112186684,-0.06281409859545732,0.08900172704076087,-0.017272912181610128]\n"
     ],
     "output_type": "stream"
    }
   ],
   "source": [
    "# load pipeline model\n",
    "\n",
    "pipeline_model = PipelineModel.load(\"content_based_pipeline_model\")\n",
    "\n",
    "\n",
    "# load all business vectors\n",
    "\n",
    "all_business_vectors_df = spark.read.load(\"part5_all_business_vectors.parquet\")\n",
    "all_business_vectors_df.show(3)\n",
    "\n",
    "all_business_vectors = all_business_vectors_df.rdd.map(lambda x: (x[0], x[1])).collect()\n",
    "print(all_business_vectors[1][1])"
   ],
   "metadata": {
    "collapsed": false,
    "pycharm": {
     "name": "#%%\n",
     "is_executing": false
    }
   }
  },
  {
   "cell_type": "code",
   "execution_count": null,
   "outputs": [],
   "source": [
    "def get_similar_business(business_ids, limit=10):\n",
    "    schema = StructType([   \n",
    "                            StructField(\"business_id\", StringType(), True),\n",
    "                            StructField(\"score\", IntegerType(), True)\n",
    "                        ])\n",
    "    similar_businesses_df = spark.createDataFrame([], schema)\n",
    "    \n",
    "    for b_id in business_ids:\n",
    "        try:\n",
    "            input_vec = [(r[1]) for r in all_business_vectors if r[0] == b_id][0]\n",
    "        except:\n",
    "            continue\n",
    "        similar_business_rdd = spark.sparkContext.parallelize(\n",
    "            (i[0], float(cosine_similarity(input_vec, i[1]))) for i in all_business_vectors)\n",
    "\n",
    "        similar_business_df = spark.createDataFrame(similar_business_rdd) \\\n",
    "            .withColumnRenamed(\"_1\", \"business_id\") \\\n",
    "            .withColumnRenamed(\"_2\", \"score\") \\\n",
    "            .orderBy(\"score\", ascending = False)\n",
    "            \n",
    "        similar_business_df = similar_business_df.filter(col(\"business_id\") != b_id).limit(limit)\n",
    "        similar_businesses_df = similar_businesses_df \\\n",
    "                                    .union(similar_business_df)\n",
    "    return similar_businesses_df.orderBy(\"score\", ascending=False).limit(limit)\n",
    "\n",
    "def get_user_recommendation(user_id, limit = 10):\n",
    "    print(f\"[content based filtering] user id: {user_id}\")\n",
    "    user_reviewed_businesses = review\\\n",
    "        .filter((col(\"user_id\") == user_id) & (col(\"superscore\")>=3.0))\\\n",
    "        .orderBy(\"superscore\", ascending=False)\\\n",
    "        .select(\"business_id\").distinct().limit(limit).rdd.collect()\n",
    "    if len(user_reviewed_businesses)==0:\n",
    "        return None\n",
    "    business_list = []\n",
    "    for row in user_reviewed_businesses:\n",
    "        business_list.append(row.business_id)\n",
    "    print(f\"[content based filtering] user reviewed businesses: {business_list}\")\n",
    "    return content_based_get_details(get_similar_business(business_list, limit))\n",
    "\n",
    "def get_keywords_recommendation(keywords, limit=10):\n",
    "    \n",
    "    print(f\"[content based filtering] keywords: {keywords}\")\n",
    "    keywords_df = spark.sparkContext.parallelize([(0, keywords)]).toDF([\"business_id\", \"text\"])\n",
    "    \n",
    "    # transform the the keywords to vectors\n",
    "    \n",
    "    transformed_keywords_df = pipeline_model.transform(keywords_df)    \n",
    "    keywords_vector = transformed_keywords_df.select(\"word_vector\").collect()[0][0]\n",
    "    sim_bus_byword_rdd = spark.sparkContext\\\n",
    "        .parallelize((i[0], float(cosine_similarity(keywords_vector, i[1]))) for i in all_business_vectors)\n",
    "\n",
    "    sim_bus_byword_df = spark.createDataFrame(sim_bus_byword_rdd) \\\n",
    "         .withColumnRenamed(\"_1\", \"business_id\") \\\n",
    "         .withColumnRenamed(\"_2\", \"score\") \\\n",
    "         .orderBy(\"score\", ascending = False) \\\n",
    "         .limit(limit)\n",
    "    \n",
    "    # return top 10 similar businesses\n",
    "    \n",
    "    a = sim_bus_byword_df.limit(limit)\n",
    "    return content_based_get_details(a)\n",
    "\n",
    "def content_based_get_details(recommended_business):\n",
    "    return recommended_business.join(business, \"business_id\", \"inner\").orderBy(\"score\", ascending=False)"
   ],
   "metadata": {
    "collapsed": false,
    "pycharm": {
     "name": "#%%\n",
     "is_executing": false
    }
   }
  },
  {
   "cell_type": "code",
   "execution_count": 12,
   "outputs": [
    {
     "data": {
      "text/plain": "              business_id     score                         name      city  \\\n0  J5pyv-h-OgbJJ1d7KFQXkg  0.959442         Dairy Hill Ice Cream  Portland   \n1  C3MsUBX9Zt76COT3l-OAtg  0.918731                   Ruby Jewel  Portland   \n2  sH-aYKTMVQ8TN7_wv7tr5A  0.909337         Hurry Back Ice Cream  Portland   \n3  D3ND25B6h3xOJVuohZxMtg  0.904133          Cool Moon Ice Cream  Portland   \n4  XUA4QMW3_lHPmmLwwDiZDQ  0.900201         Cloud City Ice Cream  Portland   \n5  xGiqtSj3GmfnOFTsVAK_JQ  0.899289  Handel's Homemade Ice Cream  Portland   \n6  3i-vTnuordT7_iQW8UroFw  0.893876        Fifty Licks Ice Cream  Portland   \n7  nVM8SLX5Yp3E6NNmL7tAPQ  0.891180                  Fifty Licks  Portland   \n8  DU9QRdyekAFrR3GzjDaB5g  0.889460                   Ruby Jewel  Portland   \n9  2lqbPc3KrbaFTZJCw0t2TQ  0.889111                   Ruby Jewel  Portland   \n\n  state stars review_count                                         categories  \\\n0    OR   4.5           61  Bakeries, Ice Cream & Frozen Yogurt, Desserts,...   \n1    OR   4.5           29          Food, Desserts, Ice Cream & Frozen Yogurt   \n2    OR   5.0           85       Food Trucks, Food, Ice Cream & Frozen Yogurt   \n3    OR   4.5          463  Ice Cream & Frozen Yogurt, Food, Coffee & Tea,...   \n4    OR   4.5          414  Food, Coffee & Tea, Ice Cream & Frozen Yogurt,...   \n5    OR   4.0           85                    Food, Ice Cream & Frozen Yogurt   \n6    OR   4.0          245       Food Trucks, Food, Ice Cream & Frozen Yogurt   \n7    OR   4.0          478       Food Trucks, Ice Cream & Frozen Yogurt, Food   \n8    OR   4.0          434  Bakeries, Caterers, Ice Cream & Frozen Yogurt,...   \n9    OR   4.0          743  Event Planning & Services, Caterers, Specialty...   \n\n        latitude        longitude is_open postal_code  \n0      45.477952  -122.6958435774       1       97239  \n1  45.5345046219  -122.6986144446       1       97210  \n2      45.467275      -122.653168       1       97202  \n3  45.5287951382  -122.6825249787       1       97209  \n4     45.4795487     -122.6159691       1       97206  \n5     45.5282597     -122.8148562       1       97229  \n6     45.5227216     -122.6374919       1       97214  \n7      45.503615  -122.6450414642       1       97202  \n8  45.5497015429   -122.675727682       1       97227  \n9     45.5220396     -122.6830297       1       97205  ",
      "text/html": "<div>\n<style scoped>\n    .dataframe tbody tr th:only-of-type {\n        vertical-align: middle;\n    }\n\n    .dataframe tbody tr th {\n        vertical-align: top;\n    }\n\n    .dataframe thead th {\n        text-align: right;\n    }\n</style>\n<table border=\"1\" class=\"dataframe\">\n  <thead>\n    <tr style=\"text-align: right;\">\n      <th></th>\n      <th>business_id</th>\n      <th>score</th>\n      <th>name</th>\n      <th>city</th>\n      <th>state</th>\n      <th>stars</th>\n      <th>review_count</th>\n      <th>categories</th>\n      <th>latitude</th>\n      <th>longitude</th>\n      <th>is_open</th>\n      <th>postal_code</th>\n    </tr>\n  </thead>\n  <tbody>\n    <tr>\n      <th>0</th>\n      <td>J5pyv-h-OgbJJ1d7KFQXkg</td>\n      <td>0.959442</td>\n      <td>Dairy Hill Ice Cream</td>\n      <td>Portland</td>\n      <td>OR</td>\n      <td>4.5</td>\n      <td>61</td>\n      <td>Bakeries, Ice Cream &amp; Frozen Yogurt, Desserts,...</td>\n      <td>45.477952</td>\n      <td>-122.6958435774</td>\n      <td>1</td>\n      <td>97239</td>\n    </tr>\n    <tr>\n      <th>1</th>\n      <td>C3MsUBX9Zt76COT3l-OAtg</td>\n      <td>0.918731</td>\n      <td>Ruby Jewel</td>\n      <td>Portland</td>\n      <td>OR</td>\n      <td>4.5</td>\n      <td>29</td>\n      <td>Food, Desserts, Ice Cream &amp; Frozen Yogurt</td>\n      <td>45.5345046219</td>\n      <td>-122.6986144446</td>\n      <td>1</td>\n      <td>97210</td>\n    </tr>\n    <tr>\n      <th>2</th>\n      <td>sH-aYKTMVQ8TN7_wv7tr5A</td>\n      <td>0.909337</td>\n      <td>Hurry Back Ice Cream</td>\n      <td>Portland</td>\n      <td>OR</td>\n      <td>5.0</td>\n      <td>85</td>\n      <td>Food Trucks, Food, Ice Cream &amp; Frozen Yogurt</td>\n      <td>45.467275</td>\n      <td>-122.653168</td>\n      <td>1</td>\n      <td>97202</td>\n    </tr>\n    <tr>\n      <th>3</th>\n      <td>D3ND25B6h3xOJVuohZxMtg</td>\n      <td>0.904133</td>\n      <td>Cool Moon Ice Cream</td>\n      <td>Portland</td>\n      <td>OR</td>\n      <td>4.5</td>\n      <td>463</td>\n      <td>Ice Cream &amp; Frozen Yogurt, Food, Coffee &amp; Tea,...</td>\n      <td>45.5287951382</td>\n      <td>-122.6825249787</td>\n      <td>1</td>\n      <td>97209</td>\n    </tr>\n    <tr>\n      <th>4</th>\n      <td>XUA4QMW3_lHPmmLwwDiZDQ</td>\n      <td>0.900201</td>\n      <td>Cloud City Ice Cream</td>\n      <td>Portland</td>\n      <td>OR</td>\n      <td>4.5</td>\n      <td>414</td>\n      <td>Food, Coffee &amp; Tea, Ice Cream &amp; Frozen Yogurt,...</td>\n      <td>45.4795487</td>\n      <td>-122.6159691</td>\n      <td>1</td>\n      <td>97206</td>\n    </tr>\n    <tr>\n      <th>5</th>\n      <td>xGiqtSj3GmfnOFTsVAK_JQ</td>\n      <td>0.899289</td>\n      <td>Handel's Homemade Ice Cream</td>\n      <td>Portland</td>\n      <td>OR</td>\n      <td>4.0</td>\n      <td>85</td>\n      <td>Food, Ice Cream &amp; Frozen Yogurt</td>\n      <td>45.5282597</td>\n      <td>-122.8148562</td>\n      <td>1</td>\n      <td>97229</td>\n    </tr>\n    <tr>\n      <th>6</th>\n      <td>3i-vTnuordT7_iQW8UroFw</td>\n      <td>0.893876</td>\n      <td>Fifty Licks Ice Cream</td>\n      <td>Portland</td>\n      <td>OR</td>\n      <td>4.0</td>\n      <td>245</td>\n      <td>Food Trucks, Food, Ice Cream &amp; Frozen Yogurt</td>\n      <td>45.5227216</td>\n      <td>-122.6374919</td>\n      <td>1</td>\n      <td>97214</td>\n    </tr>\n    <tr>\n      <th>7</th>\n      <td>nVM8SLX5Yp3E6NNmL7tAPQ</td>\n      <td>0.891180</td>\n      <td>Fifty Licks</td>\n      <td>Portland</td>\n      <td>OR</td>\n      <td>4.0</td>\n      <td>478</td>\n      <td>Food Trucks, Ice Cream &amp; Frozen Yogurt, Food</td>\n      <td>45.503615</td>\n      <td>-122.6450414642</td>\n      <td>1</td>\n      <td>97202</td>\n    </tr>\n    <tr>\n      <th>8</th>\n      <td>DU9QRdyekAFrR3GzjDaB5g</td>\n      <td>0.889460</td>\n      <td>Ruby Jewel</td>\n      <td>Portland</td>\n      <td>OR</td>\n      <td>4.0</td>\n      <td>434</td>\n      <td>Bakeries, Caterers, Ice Cream &amp; Frozen Yogurt,...</td>\n      <td>45.5497015429</td>\n      <td>-122.675727682</td>\n      <td>1</td>\n      <td>97227</td>\n    </tr>\n    <tr>\n      <th>9</th>\n      <td>2lqbPc3KrbaFTZJCw0t2TQ</td>\n      <td>0.889111</td>\n      <td>Ruby Jewel</td>\n      <td>Portland</td>\n      <td>OR</td>\n      <td>4.0</td>\n      <td>743</td>\n      <td>Event Planning &amp; Services, Caterers, Specialty...</td>\n      <td>45.5220396</td>\n      <td>-122.6830297</td>\n      <td>1</td>\n      <td>97205</td>\n    </tr>\n  </tbody>\n</table>\n</div>"
     },
     "metadata": {},
     "output_type": "execute_result",
     "execution_count": 12
    }
   ],
   "source": [
    "# verify the loading process for content based\n",
    "# test case 1\n",
    "\n",
    "content_based_get_details(\n",
    "    get_similar_business([\"Npm0cjoyWwyV13OULL9qOA\", \"ZKPqinA-7gkDA8-yzubSYw\"]))\\\n",
    "    .toPandas()"
   ],
   "metadata": {
    "collapsed": false,
    "pycharm": {
     "name": "#%% \n",
     "is_executing": false
    }
   }
  },
  {
   "cell_type": "code",
   "execution_count": 13,
   "outputs": [
    {
     "name": "stdout",
     "text": [
      "[content based filtering] user id: DataFrame[user_id: string, name: string, review_count: string, yelping_since: string, friends: string, useful: string, funny: string, cool: string, fans: string, average_stars: string]\n",
      "[content based filtering] user reviewed businesses: ['sekbE_TpoPkVWIHMu0uBiA', '4Hc4QRv8PBlTXi9jm2s5cw']\n"
     ],
     "output_type": "stream"
    },
    {
     "data": {
      "text/plain": "              business_id     score                        name      city  \\\n0  IyLLref8p5xTcuO7SpHf-g  0.999162                Salt & Straw  Portland   \n1  o_L9Ss4boqq6ZEF9xeSH6Q  0.996246                Salt & Straw  Portland   \n2  xzBdKVBwoPwDNLN7ZwVa2w  0.978557  Yoko's Japanese Restaurant  Portland   \n3  XUA4QMW3_lHPmmLwwDiZDQ  0.977217        Cloud City Ice Cream  Portland   \n4  nVM8SLX5Yp3E6NNmL7tAPQ  0.974500                 Fifty Licks  Portland   \n5  mNSNd3RY7kamIDKyw0hHpQ  0.969481           What's The Scoop?  Portland   \n6  ZZTG_ttcN3YFQA6vuWZdYw  0.968871               Sushi & Sushi  Portland   \n7  3i-vTnuordT7_iQW8UroFw  0.968238       Fifty Licks Ice Cream  Portland   \n8  zIUFzFUy4Ja0TWMClV0xRQ  0.967478      Marinepolis Sushi Land  Portland   \n9  D3ND25B6h3xOJVuohZxMtg  0.967204         Cool Moon Ice Cream  Portland   \n\n  state stars review_count                                         categories  \\\n0    OR   4.5         1704  Restaurants, Food, Food Stands, Ice Cream & Fr...   \n1    OR   4.5         3672  Food, Bakeries, Ice Cream & Frozen Yogurt, Cof...   \n2    OR   4.0          373  Sushi Bars, Coffee & Tea, Japanese, Restaurant...   \n3    OR   4.5          414  Food, Coffee & Tea, Ice Cream & Frozen Yogurt,...   \n4    OR   4.0          478       Food Trucks, Ice Cream & Frozen Yogurt, Food   \n5    OR   4.0          366  American (Traditional), Restaurants, Ice Cream...   \n6    OR   3.0          122                  Sushi Bars, Restaurants, Japanese   \n7    OR   4.0          245       Food Trucks, Food, Ice Cream & Frozen Yogurt   \n8    OR   2.5          310  Conveyor Belt Sushi, Sushi Bars, Restaurants, ...   \n9    OR   4.5          463  Ice Cream & Frozen Yogurt, Food, Coffee & Tea,...   \n\n        latitude        longitude is_open postal_code  \n0     45.5592731      -122.644136       1       97211  \n1     45.5289444     -122.6982801       1       97210  \n2      45.493212      -122.636056       1       97202  \n3     45.4795487     -122.6159691       1       97206  \n4      45.503615  -122.6450414642       1       97202  \n5  45.5489817156  -122.6665197543       1       97227  \n6  45.4827352122  -122.5772265611       1       97266  \n7     45.5227216     -122.6374919       1       97214  \n8      45.524275       -122.68101       1       97209  \n9  45.5287951382  -122.6825249787       1       97209  ",
      "text/html": "<div>\n<style scoped>\n    .dataframe tbody tr th:only-of-type {\n        vertical-align: middle;\n    }\n\n    .dataframe tbody tr th {\n        vertical-align: top;\n    }\n\n    .dataframe thead th {\n        text-align: right;\n    }\n</style>\n<table border=\"1\" class=\"dataframe\">\n  <thead>\n    <tr style=\"text-align: right;\">\n      <th></th>\n      <th>business_id</th>\n      <th>score</th>\n      <th>name</th>\n      <th>city</th>\n      <th>state</th>\n      <th>stars</th>\n      <th>review_count</th>\n      <th>categories</th>\n      <th>latitude</th>\n      <th>longitude</th>\n      <th>is_open</th>\n      <th>postal_code</th>\n    </tr>\n  </thead>\n  <tbody>\n    <tr>\n      <th>0</th>\n      <td>IyLLref8p5xTcuO7SpHf-g</td>\n      <td>0.999162</td>\n      <td>Salt &amp; Straw</td>\n      <td>Portland</td>\n      <td>OR</td>\n      <td>4.5</td>\n      <td>1704</td>\n      <td>Restaurants, Food, Food Stands, Ice Cream &amp; Fr...</td>\n      <td>45.5592731</td>\n      <td>-122.644136</td>\n      <td>1</td>\n      <td>97211</td>\n    </tr>\n    <tr>\n      <th>1</th>\n      <td>o_L9Ss4boqq6ZEF9xeSH6Q</td>\n      <td>0.996246</td>\n      <td>Salt &amp; Straw</td>\n      <td>Portland</td>\n      <td>OR</td>\n      <td>4.5</td>\n      <td>3672</td>\n      <td>Food, Bakeries, Ice Cream &amp; Frozen Yogurt, Cof...</td>\n      <td>45.5289444</td>\n      <td>-122.6982801</td>\n      <td>1</td>\n      <td>97210</td>\n    </tr>\n    <tr>\n      <th>2</th>\n      <td>xzBdKVBwoPwDNLN7ZwVa2w</td>\n      <td>0.978557</td>\n      <td>Yoko's Japanese Restaurant</td>\n      <td>Portland</td>\n      <td>OR</td>\n      <td>4.0</td>\n      <td>373</td>\n      <td>Sushi Bars, Coffee &amp; Tea, Japanese, Restaurant...</td>\n      <td>45.493212</td>\n      <td>-122.636056</td>\n      <td>1</td>\n      <td>97202</td>\n    </tr>\n    <tr>\n      <th>3</th>\n      <td>XUA4QMW3_lHPmmLwwDiZDQ</td>\n      <td>0.977217</td>\n      <td>Cloud City Ice Cream</td>\n      <td>Portland</td>\n      <td>OR</td>\n      <td>4.5</td>\n      <td>414</td>\n      <td>Food, Coffee &amp; Tea, Ice Cream &amp; Frozen Yogurt,...</td>\n      <td>45.4795487</td>\n      <td>-122.6159691</td>\n      <td>1</td>\n      <td>97206</td>\n    </tr>\n    <tr>\n      <th>4</th>\n      <td>nVM8SLX5Yp3E6NNmL7tAPQ</td>\n      <td>0.974500</td>\n      <td>Fifty Licks</td>\n      <td>Portland</td>\n      <td>OR</td>\n      <td>4.0</td>\n      <td>478</td>\n      <td>Food Trucks, Ice Cream &amp; Frozen Yogurt, Food</td>\n      <td>45.503615</td>\n      <td>-122.6450414642</td>\n      <td>1</td>\n      <td>97202</td>\n    </tr>\n    <tr>\n      <th>5</th>\n      <td>mNSNd3RY7kamIDKyw0hHpQ</td>\n      <td>0.969481</td>\n      <td>What's The Scoop?</td>\n      <td>Portland</td>\n      <td>OR</td>\n      <td>4.0</td>\n      <td>366</td>\n      <td>American (Traditional), Restaurants, Ice Cream...</td>\n      <td>45.5489817156</td>\n      <td>-122.6665197543</td>\n      <td>1</td>\n      <td>97227</td>\n    </tr>\n    <tr>\n      <th>6</th>\n      <td>ZZTG_ttcN3YFQA6vuWZdYw</td>\n      <td>0.968871</td>\n      <td>Sushi &amp; Sushi</td>\n      <td>Portland</td>\n      <td>OR</td>\n      <td>3.0</td>\n      <td>122</td>\n      <td>Sushi Bars, Restaurants, Japanese</td>\n      <td>45.4827352122</td>\n      <td>-122.5772265611</td>\n      <td>1</td>\n      <td>97266</td>\n    </tr>\n    <tr>\n      <th>7</th>\n      <td>3i-vTnuordT7_iQW8UroFw</td>\n      <td>0.968238</td>\n      <td>Fifty Licks Ice Cream</td>\n      <td>Portland</td>\n      <td>OR</td>\n      <td>4.0</td>\n      <td>245</td>\n      <td>Food Trucks, Food, Ice Cream &amp; Frozen Yogurt</td>\n      <td>45.5227216</td>\n      <td>-122.6374919</td>\n      <td>1</td>\n      <td>97214</td>\n    </tr>\n    <tr>\n      <th>8</th>\n      <td>zIUFzFUy4Ja0TWMClV0xRQ</td>\n      <td>0.967478</td>\n      <td>Marinepolis Sushi Land</td>\n      <td>Portland</td>\n      <td>OR</td>\n      <td>2.5</td>\n      <td>310</td>\n      <td>Conveyor Belt Sushi, Sushi Bars, Restaurants, ...</td>\n      <td>45.524275</td>\n      <td>-122.68101</td>\n      <td>1</td>\n      <td>97209</td>\n    </tr>\n    <tr>\n      <th>9</th>\n      <td>D3ND25B6h3xOJVuohZxMtg</td>\n      <td>0.967204</td>\n      <td>Cool Moon Ice Cream</td>\n      <td>Portland</td>\n      <td>OR</td>\n      <td>4.5</td>\n      <td>463</td>\n      <td>Ice Cream &amp; Frozen Yogurt, Food, Coffee &amp; Tea,...</td>\n      <td>45.5287951382</td>\n      <td>-122.6825249787</td>\n      <td>1</td>\n      <td>97209</td>\n    </tr>\n  </tbody>\n</table>\n</div>"
     },
     "metadata": {},
     "output_type": "execute_result",
     "execution_count": 13
    }
   ],
   "source": [
    "# test case 2\n",
    "\n",
    "get_user_recommendation(\"uLhdaZUsVvT0gbNTdOSzDg\").toPandas()"
   ],
   "metadata": {
    "collapsed": false,
    "pycharm": {
     "name": "#%%\n",
     "is_executing": false
    }
   }
  },
  {
   "cell_type": "code",
   "execution_count": 14,
   "outputs": [
    {
     "name": "stdout",
     "text": [
      "[content based filtering] keywords: burger\n"
     ],
     "output_type": "stream"
    },
    {
     "data": {
      "text/plain": "              business_id     score                                  name  \\\n0  RZEEoKF4odsIg_GV70xD_Q  0.627719                          Union Burger   \n1  EkyssuFKGgcMX6FpmVjiDA  0.602341                         Killer Burger   \n2  QreidCBt3HUOesM8gnULqw  0.595073                         Pickle & Salt   \n3  Hlvpm0izAXRQM1uZn1H35A  0.591029                     Little Big Burger   \n4  gcTc8abc8Jfpmg3t1ejp3g  0.581785                         Killer Burger   \n5  Jelhk2X7EJIMwUlO8RAN5g  0.581083                 Fuller's Burger Shack   \n6  JyPNR8kk5uBrhEMfuZoCug  0.580262                     Little Big Burger   \n7  jUnRs-5ZGecrN-sm8iiNjA  0.579537                     Little Big Burger   \n8  Yvsezs2OxUazHhw_kIYIPQ  0.575546  Bless Your Heart Burgers 33rd Avenue   \n9  TJoJ_1aQXRobOP-UITj5tw  0.575242                     Little Big Burger   \n\n       city state stars review_count  \\\n0  Portland    OR   5.0           46   \n1  Portland    OR   4.0          797   \n2  Portland    OR   4.5           15   \n3  Portland    OR   4.0          949   \n4  Portland    OR   4.0          411   \n5  Portland    OR   4.0           48   \n6  Portland    OR   3.5           73   \n7  Portland    OR   3.5          232   \n8  Portland    OR   4.0           63   \n9  Portland    OR   4.0          306   \n\n                                          categories       latitude  \\\n0            Restaurants, Food Trucks, Food, Burgers     45.5763354   \n1                               Restaurants, Burgers  45.5381080913   \n2     Food, Halal, Food Trucks, Burgers, Restaurants     45.5227501   \n3                    Burgers, Restaurants, Fast Food  45.5241461354   \n4                               Restaurants, Burgers     45.4596066   \n5  American (Traditional), American (New), Burger...     45.5731634   \n6  Food, Burgers, Restaurants, Vegetarian, Fast Food     45.5116533   \n7  Restaurants, Fast Food, American (Traditional)...     45.5501187   \n8  Burgers, Restaurants, Food Trucks, Food, Ameri...     45.5618172   \n9                    Restaurants, Burgers, Fast Food      45.529483   \n\n         longitude is_open postal_code  \n0  -122.6616957039       1       97211  \n1  -122.6151960203       1       97213  \n2     -122.6747903       1       97209  \n3  -122.6810082251       1       97209  \n4     -122.6468698       1       97202  \n5     -122.5575475       1       97220  \n6      -122.644857       1       97214  \n7     -122.6758684       1       97227  \n8     -122.6305022       1       97211  \n9       -122.69858       1       97210  ",
      "text/html": "<div>\n<style scoped>\n    .dataframe tbody tr th:only-of-type {\n        vertical-align: middle;\n    }\n\n    .dataframe tbody tr th {\n        vertical-align: top;\n    }\n\n    .dataframe thead th {\n        text-align: right;\n    }\n</style>\n<table border=\"1\" class=\"dataframe\">\n  <thead>\n    <tr style=\"text-align: right;\">\n      <th></th>\n      <th>business_id</th>\n      <th>score</th>\n      <th>name</th>\n      <th>city</th>\n      <th>state</th>\n      <th>stars</th>\n      <th>review_count</th>\n      <th>categories</th>\n      <th>latitude</th>\n      <th>longitude</th>\n      <th>is_open</th>\n      <th>postal_code</th>\n    </tr>\n  </thead>\n  <tbody>\n    <tr>\n      <th>0</th>\n      <td>RZEEoKF4odsIg_GV70xD_Q</td>\n      <td>0.627719</td>\n      <td>Union Burger</td>\n      <td>Portland</td>\n      <td>OR</td>\n      <td>5.0</td>\n      <td>46</td>\n      <td>Restaurants, Food Trucks, Food, Burgers</td>\n      <td>45.5763354</td>\n      <td>-122.6616957039</td>\n      <td>1</td>\n      <td>97211</td>\n    </tr>\n    <tr>\n      <th>1</th>\n      <td>EkyssuFKGgcMX6FpmVjiDA</td>\n      <td>0.602341</td>\n      <td>Killer Burger</td>\n      <td>Portland</td>\n      <td>OR</td>\n      <td>4.0</td>\n      <td>797</td>\n      <td>Restaurants, Burgers</td>\n      <td>45.5381080913</td>\n      <td>-122.6151960203</td>\n      <td>1</td>\n      <td>97213</td>\n    </tr>\n    <tr>\n      <th>2</th>\n      <td>QreidCBt3HUOesM8gnULqw</td>\n      <td>0.595073</td>\n      <td>Pickle &amp; Salt</td>\n      <td>Portland</td>\n      <td>OR</td>\n      <td>4.5</td>\n      <td>15</td>\n      <td>Food, Halal, Food Trucks, Burgers, Restaurants</td>\n      <td>45.5227501</td>\n      <td>-122.6747903</td>\n      <td>1</td>\n      <td>97209</td>\n    </tr>\n    <tr>\n      <th>3</th>\n      <td>Hlvpm0izAXRQM1uZn1H35A</td>\n      <td>0.591029</td>\n      <td>Little Big Burger</td>\n      <td>Portland</td>\n      <td>OR</td>\n      <td>4.0</td>\n      <td>949</td>\n      <td>Burgers, Restaurants, Fast Food</td>\n      <td>45.5241461354</td>\n      <td>-122.6810082251</td>\n      <td>1</td>\n      <td>97209</td>\n    </tr>\n    <tr>\n      <th>4</th>\n      <td>gcTc8abc8Jfpmg3t1ejp3g</td>\n      <td>0.581785</td>\n      <td>Killer Burger</td>\n      <td>Portland</td>\n      <td>OR</td>\n      <td>4.0</td>\n      <td>411</td>\n      <td>Restaurants, Burgers</td>\n      <td>45.4596066</td>\n      <td>-122.6468698</td>\n      <td>1</td>\n      <td>97202</td>\n    </tr>\n    <tr>\n      <th>5</th>\n      <td>Jelhk2X7EJIMwUlO8RAN5g</td>\n      <td>0.581083</td>\n      <td>Fuller's Burger Shack</td>\n      <td>Portland</td>\n      <td>OR</td>\n      <td>4.0</td>\n      <td>48</td>\n      <td>American (Traditional), American (New), Burger...</td>\n      <td>45.5731634</td>\n      <td>-122.5575475</td>\n      <td>1</td>\n      <td>97220</td>\n    </tr>\n    <tr>\n      <th>6</th>\n      <td>JyPNR8kk5uBrhEMfuZoCug</td>\n      <td>0.580262</td>\n      <td>Little Big Burger</td>\n      <td>Portland</td>\n      <td>OR</td>\n      <td>3.5</td>\n      <td>73</td>\n      <td>Food, Burgers, Restaurants, Vegetarian, Fast Food</td>\n      <td>45.5116533</td>\n      <td>-122.644857</td>\n      <td>1</td>\n      <td>97214</td>\n    </tr>\n    <tr>\n      <th>7</th>\n      <td>jUnRs-5ZGecrN-sm8iiNjA</td>\n      <td>0.579537</td>\n      <td>Little Big Burger</td>\n      <td>Portland</td>\n      <td>OR</td>\n      <td>3.5</td>\n      <td>232</td>\n      <td>Restaurants, Fast Food, American (Traditional)...</td>\n      <td>45.5501187</td>\n      <td>-122.6758684</td>\n      <td>1</td>\n      <td>97227</td>\n    </tr>\n    <tr>\n      <th>8</th>\n      <td>Yvsezs2OxUazHhw_kIYIPQ</td>\n      <td>0.575546</td>\n      <td>Bless Your Heart Burgers 33rd Avenue</td>\n      <td>Portland</td>\n      <td>OR</td>\n      <td>4.0</td>\n      <td>63</td>\n      <td>Burgers, Restaurants, Food Trucks, Food, Ameri...</td>\n      <td>45.5618172</td>\n      <td>-122.6305022</td>\n      <td>1</td>\n      <td>97211</td>\n    </tr>\n    <tr>\n      <th>9</th>\n      <td>TJoJ_1aQXRobOP-UITj5tw</td>\n      <td>0.575242</td>\n      <td>Little Big Burger</td>\n      <td>Portland</td>\n      <td>OR</td>\n      <td>4.0</td>\n      <td>306</td>\n      <td>Restaurants, Burgers, Fast Food</td>\n      <td>45.529483</td>\n      <td>-122.69858</td>\n      <td>1</td>\n      <td>97210</td>\n    </tr>\n  </tbody>\n</table>\n</div>"
     },
     "metadata": {},
     "output_type": "execute_result",
     "execution_count": 14
    }
   ],
   "source": [
    "# test case 3\n",
    "\n",
    "get_keywords_recommendation(\"burger\").toPandas()\n"
   ],
   "metadata": {
    "collapsed": false,
    "pycharm": {
     "name": "#%%\n",
     "is_executing": false
    }
   }
  },
  {
   "cell_type": "markdown",
   "source": [
    "### Prepare Collaborative Filtering "
   ],
   "metadata": {
    "collapsed": false
   }
  },
  {
   "cell_type": "code",
   "execution_count": 17,
   "outputs": [
    {
     "name": "stdout",
     "text": [
      "+----------+--------------------+--------------------+\n|user_index|     recommendations|             user_id|\n+----------+--------------------+--------------------+\n|      1199|[{57, 4.4834585},...|T8fXV7fkbBkg8ET6v...|\n|      2116|[{3761, 5.422045}...|ZCUf_Uk-eXli07c48...|\n|      2684|[{2565, 5.9831705...|3mNz5nQFTIBQm0oU5...|\n+----------+--------------------+--------------------+\nonly showing top 3 rows\n\nroot\n |-- user_index: integer (nullable = true)\n |-- recommendations: array (nullable = true)\n |    |-- element: struct (containsNull = true)\n |    |    |-- business_index: integer (nullable = true)\n |    |    |-- rating: float (nullable = true)\n |-- user_id: string (nullable = true)\n\n+--------------+--------------------+--------------------+--------+-----+-----+------------+--------------------+-------------+---------------+-------+-----------+\n|business_index|         business_id|                name|    city|state|stars|review_count|          categories|     latitude|      longitude|is_open|postal_code|\n+--------------+--------------------+--------------------+--------+-----+-----+------------+--------------------+-------------+---------------+-------+-----------+\n|             0|tCbdrRPZA0oiIYSmH...|Flying Elephants ...|Portland|   OR|  4.0|         126|Salad, Soup, Sand...|45.5889058992|-122.5933307507|      1|      97218|\n|             1|jx91IMdGOmLOo8h_F...|Cleary's Restaura...|Portland|   OR|  3.5|          19|Nightlife, Sandwi...|   45.5264727|    -122.535323|      1|      97230|\n+--------------+--------------------+--------------------+--------+-----+-----+------------+--------------------+-------------+---------------+-------+-----------+\nonly showing top 2 rows\n\n[collaborative filtering] test user id: BXgoRfst14LeNLOHTJ0rjA\n"
     ],
     "output_type": "stream"
    },
    {
     "data": {
      "text/plain": "   business_index             business_id  \\\n0            3209  CM2DhoaUwvr2bQPZlkOJ4Q   \n1            1183  0JUkzQXJKaiAbpruTgDPnw   \n2              89  -liZt9xZNvnT0tHW0XTwQA   \n3            3643  rl8U3o2y4IH7aJBfsMPTew   \n4             628  YQ6srHagEScNH9iu_DhqUg   \n5            1057  3ZcksUCfKGneyZkXGAmckA   \n6             635  iPnSI7FZbTtcxipcOT_lLA   \n7            2493  maa0Pgf6ZD3e5us3kte6Sw   \n8            1727  bWJoJe-gHtYzfTH5JfW-PQ   \n9            1735  4bP1O1WA_CVaAEmRkfXe5A   \n\n                                       name      city state stars  \\\n0                                   Pasta’s  Portland    OR   5.0   \n1                                 Yatra PDX  Portland    OR   5.0   \n2                          Kate's Ice Cream  Portland    OR   5.0   \n3                           Division Liquor  Portland    OR   4.0   \n4                           Sarah's Cookies  Portland    OR   5.0   \n5  Pixie Retreat Raw'r Laboratorie & Makery  Portland    OR   5.0   \n6                      Proletariat Butchery  Portland    OR   4.5   \n7                            Bees and Beans  Portland    OR   5.0   \n8                          MUSE Cheesecakes  Portland    OR   5.0   \n9                   Oregonic Tonic Kombucha  Portland    OR   5.0   \n\n  review_count                                         categories  \\\n0            6  Specialty Food, Restaurants, Food Trucks, Food...   \n1            9  Food Stands, Food, Indian, Himalayan/Nepalese,...   \n2           25  Vegan, Food, Ice Cream & Frozen Yogurt, Restau...   \n3            8                         Beer, Wine & Spirits, Food   \n4           10                                     Food, Bakeries   \n5           40  Specialty Food, Restaurants, Live/Raw Food, Ve...   \n6           14          Specialty Food, Food, Meat Shops, Butcher   \n7           10  Food, Desserts, Chocolatiers & Shops, Specialt...   \n8            7  Desserts, Specialty Food, Food, Patisserie/Cak...   \n9            5                          Food, Breweries, Kombucha   \n\n        latitude        longitude is_open postal_code    rating  \n0      45.547669     -122.6682301       1       97227  2.056291  \n1  45.4641695267    -122.65434729       1       97202  1.952722  \n2     45.5283148     -122.6386321       1       97232  1.950059  \n3     45.5060226     -122.4949421       1       97236  1.940054  \n4     45.5643461     -122.5557446       1       97220  1.939659  \n5  45.5110677127  -122.6626858006       1       97214  1.935495  \n6     45.5483842     -122.5996826       1       97213  1.925042  \n7      45.508732      -122.654872       1       97214  1.883153  \n8     45.5544197     -122.6663494       1       97217  1.880594  \n9     45.5837298     -122.7268969       1       97203  1.869701  ",
      "text/html": "<div>\n<style scoped>\n    .dataframe tbody tr th:only-of-type {\n        vertical-align: middle;\n    }\n\n    .dataframe tbody tr th {\n        vertical-align: top;\n    }\n\n    .dataframe thead th {\n        text-align: right;\n    }\n</style>\n<table border=\"1\" class=\"dataframe\">\n  <thead>\n    <tr style=\"text-align: right;\">\n      <th></th>\n      <th>business_index</th>\n      <th>business_id</th>\n      <th>name</th>\n      <th>city</th>\n      <th>state</th>\n      <th>stars</th>\n      <th>review_count</th>\n      <th>categories</th>\n      <th>latitude</th>\n      <th>longitude</th>\n      <th>is_open</th>\n      <th>postal_code</th>\n      <th>rating</th>\n    </tr>\n  </thead>\n  <tbody>\n    <tr>\n      <th>0</th>\n      <td>3209</td>\n      <td>CM2DhoaUwvr2bQPZlkOJ4Q</td>\n      <td>Pasta’s</td>\n      <td>Portland</td>\n      <td>OR</td>\n      <td>5.0</td>\n      <td>6</td>\n      <td>Specialty Food, Restaurants, Food Trucks, Food...</td>\n      <td>45.547669</td>\n      <td>-122.6682301</td>\n      <td>1</td>\n      <td>97227</td>\n      <td>2.056291</td>\n    </tr>\n    <tr>\n      <th>1</th>\n      <td>1183</td>\n      <td>0JUkzQXJKaiAbpruTgDPnw</td>\n      <td>Yatra PDX</td>\n      <td>Portland</td>\n      <td>OR</td>\n      <td>5.0</td>\n      <td>9</td>\n      <td>Food Stands, Food, Indian, Himalayan/Nepalese,...</td>\n      <td>45.4641695267</td>\n      <td>-122.65434729</td>\n      <td>1</td>\n      <td>97202</td>\n      <td>1.952722</td>\n    </tr>\n    <tr>\n      <th>2</th>\n      <td>89</td>\n      <td>-liZt9xZNvnT0tHW0XTwQA</td>\n      <td>Kate's Ice Cream</td>\n      <td>Portland</td>\n      <td>OR</td>\n      <td>5.0</td>\n      <td>25</td>\n      <td>Vegan, Food, Ice Cream &amp; Frozen Yogurt, Restau...</td>\n      <td>45.5283148</td>\n      <td>-122.6386321</td>\n      <td>1</td>\n      <td>97232</td>\n      <td>1.950059</td>\n    </tr>\n    <tr>\n      <th>3</th>\n      <td>3643</td>\n      <td>rl8U3o2y4IH7aJBfsMPTew</td>\n      <td>Division Liquor</td>\n      <td>Portland</td>\n      <td>OR</td>\n      <td>4.0</td>\n      <td>8</td>\n      <td>Beer, Wine &amp; Spirits, Food</td>\n      <td>45.5060226</td>\n      <td>-122.4949421</td>\n      <td>1</td>\n      <td>97236</td>\n      <td>1.940054</td>\n    </tr>\n    <tr>\n      <th>4</th>\n      <td>628</td>\n      <td>YQ6srHagEScNH9iu_DhqUg</td>\n      <td>Sarah's Cookies</td>\n      <td>Portland</td>\n      <td>OR</td>\n      <td>5.0</td>\n      <td>10</td>\n      <td>Food, Bakeries</td>\n      <td>45.5643461</td>\n      <td>-122.5557446</td>\n      <td>1</td>\n      <td>97220</td>\n      <td>1.939659</td>\n    </tr>\n    <tr>\n      <th>5</th>\n      <td>1057</td>\n      <td>3ZcksUCfKGneyZkXGAmckA</td>\n      <td>Pixie Retreat Raw'r Laboratorie &amp; Makery</td>\n      <td>Portland</td>\n      <td>OR</td>\n      <td>5.0</td>\n      <td>40</td>\n      <td>Specialty Food, Restaurants, Live/Raw Food, Ve...</td>\n      <td>45.5110677127</td>\n      <td>-122.6626858006</td>\n      <td>1</td>\n      <td>97214</td>\n      <td>1.935495</td>\n    </tr>\n    <tr>\n      <th>6</th>\n      <td>635</td>\n      <td>iPnSI7FZbTtcxipcOT_lLA</td>\n      <td>Proletariat Butchery</td>\n      <td>Portland</td>\n      <td>OR</td>\n      <td>4.5</td>\n      <td>14</td>\n      <td>Specialty Food, Food, Meat Shops, Butcher</td>\n      <td>45.5483842</td>\n      <td>-122.5996826</td>\n      <td>1</td>\n      <td>97213</td>\n      <td>1.925042</td>\n    </tr>\n    <tr>\n      <th>7</th>\n      <td>2493</td>\n      <td>maa0Pgf6ZD3e5us3kte6Sw</td>\n      <td>Bees and Beans</td>\n      <td>Portland</td>\n      <td>OR</td>\n      <td>5.0</td>\n      <td>10</td>\n      <td>Food, Desserts, Chocolatiers &amp; Shops, Specialt...</td>\n      <td>45.508732</td>\n      <td>-122.654872</td>\n      <td>1</td>\n      <td>97214</td>\n      <td>1.883153</td>\n    </tr>\n    <tr>\n      <th>8</th>\n      <td>1727</td>\n      <td>bWJoJe-gHtYzfTH5JfW-PQ</td>\n      <td>MUSE Cheesecakes</td>\n      <td>Portland</td>\n      <td>OR</td>\n      <td>5.0</td>\n      <td>7</td>\n      <td>Desserts, Specialty Food, Food, Patisserie/Cak...</td>\n      <td>45.5544197</td>\n      <td>-122.6663494</td>\n      <td>1</td>\n      <td>97217</td>\n      <td>1.880594</td>\n    </tr>\n    <tr>\n      <th>9</th>\n      <td>1735</td>\n      <td>4bP1O1WA_CVaAEmRkfXe5A</td>\n      <td>Oregonic Tonic Kombucha</td>\n      <td>Portland</td>\n      <td>OR</td>\n      <td>5.0</td>\n      <td>5</td>\n      <td>Food, Breweries, Kombucha</td>\n      <td>45.5837298</td>\n      <td>-122.7268969</td>\n      <td>1</td>\n      <td>97203</td>\n      <td>1.869701</td>\n    </tr>\n  </tbody>\n</table>\n</div>"
     },
     "metadata": {},
     "output_type": "execute_result",
     "execution_count": 17
    }
   ],
   "source": [
    "loaded_user_recommendations = spark.read.load(\"part6_all_user_recommendations.parquet\").cache()\n",
    "loaded_user_recommendations.show(3)\n",
    "loaded_user_recommendations.printSchema()\n",
    "\n",
    "business_new_df = spark.read.load(\"part6_business_with_index.parquet\")\n",
    "business_new_df.show(2)"
   ],
   "metadata": {
    "collapsed": false,
    "pycharm": {
     "name": "#%%\n",
     "is_executing": false
    }
   }
  },
  {
   "cell_type": "code",
   "execution_count": 44,
   "outputs": [
    {
     "name": "stdout",
     "text": [
      "[collaborative filtering] test user id: BXgoRfst14LeNLOHTJ0rjA\n"
     ],
     "output_type": "stream"
    },
    {
     "data": {
      "text/plain": "   business_index             business_id  \\\n0            3209  CM2DhoaUwvr2bQPZlkOJ4Q   \n1            1183  0JUkzQXJKaiAbpruTgDPnw   \n2              89  -liZt9xZNvnT0tHW0XTwQA   \n3            3643  rl8U3o2y4IH7aJBfsMPTew   \n4             628  YQ6srHagEScNH9iu_DhqUg   \n5            1057  3ZcksUCfKGneyZkXGAmckA   \n6             635  iPnSI7FZbTtcxipcOT_lLA   \n7            2493  maa0Pgf6ZD3e5us3kte6Sw   \n8            1727  bWJoJe-gHtYzfTH5JfW-PQ   \n9            1735  4bP1O1WA_CVaAEmRkfXe5A   \n\n                                       name      city state stars  \\\n0                                   Pasta’s  Portland    OR   5.0   \n1                                 Yatra PDX  Portland    OR   5.0   \n2                          Kate's Ice Cream  Portland    OR   5.0   \n3                           Division Liquor  Portland    OR   4.0   \n4                           Sarah's Cookies  Portland    OR   5.0   \n5  Pixie Retreat Raw'r Laboratorie & Makery  Portland    OR   5.0   \n6                      Proletariat Butchery  Portland    OR   4.5   \n7                            Bees and Beans  Portland    OR   5.0   \n8                          MUSE Cheesecakes  Portland    OR   5.0   \n9                   Oregonic Tonic Kombucha  Portland    OR   5.0   \n\n  review_count                                         categories  \\\n0            6  Specialty Food, Restaurants, Food Trucks, Food...   \n1            9  Food Stands, Food, Indian, Himalayan/Nepalese,...   \n2           25  Vegan, Food, Ice Cream & Frozen Yogurt, Restau...   \n3            8                         Beer, Wine & Spirits, Food   \n4           10                                     Food, Bakeries   \n5           40  Specialty Food, Restaurants, Live/Raw Food, Ve...   \n6           14          Specialty Food, Food, Meat Shops, Butcher   \n7           10  Food, Desserts, Chocolatiers & Shops, Specialt...   \n8            7  Desserts, Specialty Food, Food, Patisserie/Cak...   \n9            5                          Food, Breweries, Kombucha   \n\n        latitude        longitude is_open postal_code    rating  \n0      45.547669     -122.6682301       1       97227  2.056291  \n1  45.4641695267    -122.65434729       1       97202  1.952722  \n2     45.5283148     -122.6386321       1       97232  1.950059  \n3     45.5060226     -122.4949421       1       97236  1.940054  \n4     45.5643461     -122.5557446       1       97220  1.939659  \n5  45.5110677127  -122.6626858006       1       97214  1.935495  \n6     45.5483842     -122.5996826       1       97213  1.925042  \n7      45.508732      -122.654872       1       97214  1.883153  \n8     45.5544197     -122.6663494       1       97217  1.880594  \n9     45.5837298     -122.7268969       1       97203  1.869701  ",
      "text/html": "<div>\n<style scoped>\n    .dataframe tbody tr th:only-of-type {\n        vertical-align: middle;\n    }\n\n    .dataframe tbody tr th {\n        vertical-align: top;\n    }\n\n    .dataframe thead th {\n        text-align: right;\n    }\n</style>\n<table border=\"1\" class=\"dataframe\">\n  <thead>\n    <tr style=\"text-align: right;\">\n      <th></th>\n      <th>business_index</th>\n      <th>business_id</th>\n      <th>name</th>\n      <th>city</th>\n      <th>state</th>\n      <th>stars</th>\n      <th>review_count</th>\n      <th>categories</th>\n      <th>latitude</th>\n      <th>longitude</th>\n      <th>is_open</th>\n      <th>postal_code</th>\n      <th>rating</th>\n    </tr>\n  </thead>\n  <tbody>\n    <tr>\n      <th>0</th>\n      <td>3209</td>\n      <td>CM2DhoaUwvr2bQPZlkOJ4Q</td>\n      <td>Pasta’s</td>\n      <td>Portland</td>\n      <td>OR</td>\n      <td>5.0</td>\n      <td>6</td>\n      <td>Specialty Food, Restaurants, Food Trucks, Food...</td>\n      <td>45.547669</td>\n      <td>-122.6682301</td>\n      <td>1</td>\n      <td>97227</td>\n      <td>2.056291</td>\n    </tr>\n    <tr>\n      <th>1</th>\n      <td>1183</td>\n      <td>0JUkzQXJKaiAbpruTgDPnw</td>\n      <td>Yatra PDX</td>\n      <td>Portland</td>\n      <td>OR</td>\n      <td>5.0</td>\n      <td>9</td>\n      <td>Food Stands, Food, Indian, Himalayan/Nepalese,...</td>\n      <td>45.4641695267</td>\n      <td>-122.65434729</td>\n      <td>1</td>\n      <td>97202</td>\n      <td>1.952722</td>\n    </tr>\n    <tr>\n      <th>2</th>\n      <td>89</td>\n      <td>-liZt9xZNvnT0tHW0XTwQA</td>\n      <td>Kate's Ice Cream</td>\n      <td>Portland</td>\n      <td>OR</td>\n      <td>5.0</td>\n      <td>25</td>\n      <td>Vegan, Food, Ice Cream &amp; Frozen Yogurt, Restau...</td>\n      <td>45.5283148</td>\n      <td>-122.6386321</td>\n      <td>1</td>\n      <td>97232</td>\n      <td>1.950059</td>\n    </tr>\n    <tr>\n      <th>3</th>\n      <td>3643</td>\n      <td>rl8U3o2y4IH7aJBfsMPTew</td>\n      <td>Division Liquor</td>\n      <td>Portland</td>\n      <td>OR</td>\n      <td>4.0</td>\n      <td>8</td>\n      <td>Beer, Wine &amp; Spirits, Food</td>\n      <td>45.5060226</td>\n      <td>-122.4949421</td>\n      <td>1</td>\n      <td>97236</td>\n      <td>1.940054</td>\n    </tr>\n    <tr>\n      <th>4</th>\n      <td>628</td>\n      <td>YQ6srHagEScNH9iu_DhqUg</td>\n      <td>Sarah's Cookies</td>\n      <td>Portland</td>\n      <td>OR</td>\n      <td>5.0</td>\n      <td>10</td>\n      <td>Food, Bakeries</td>\n      <td>45.5643461</td>\n      <td>-122.5557446</td>\n      <td>1</td>\n      <td>97220</td>\n      <td>1.939659</td>\n    </tr>\n    <tr>\n      <th>5</th>\n      <td>1057</td>\n      <td>3ZcksUCfKGneyZkXGAmckA</td>\n      <td>Pixie Retreat Raw'r Laboratorie &amp; Makery</td>\n      <td>Portland</td>\n      <td>OR</td>\n      <td>5.0</td>\n      <td>40</td>\n      <td>Specialty Food, Restaurants, Live/Raw Food, Ve...</td>\n      <td>45.5110677127</td>\n      <td>-122.6626858006</td>\n      <td>1</td>\n      <td>97214</td>\n      <td>1.935495</td>\n    </tr>\n    <tr>\n      <th>6</th>\n      <td>635</td>\n      <td>iPnSI7FZbTtcxipcOT_lLA</td>\n      <td>Proletariat Butchery</td>\n      <td>Portland</td>\n      <td>OR</td>\n      <td>4.5</td>\n      <td>14</td>\n      <td>Specialty Food, Food, Meat Shops, Butcher</td>\n      <td>45.5483842</td>\n      <td>-122.5996826</td>\n      <td>1</td>\n      <td>97213</td>\n      <td>1.925042</td>\n    </tr>\n    <tr>\n      <th>7</th>\n      <td>2493</td>\n      <td>maa0Pgf6ZD3e5us3kte6Sw</td>\n      <td>Bees and Beans</td>\n      <td>Portland</td>\n      <td>OR</td>\n      <td>5.0</td>\n      <td>10</td>\n      <td>Food, Desserts, Chocolatiers &amp; Shops, Specialt...</td>\n      <td>45.508732</td>\n      <td>-122.654872</td>\n      <td>1</td>\n      <td>97214</td>\n      <td>1.883153</td>\n    </tr>\n    <tr>\n      <th>8</th>\n      <td>1727</td>\n      <td>bWJoJe-gHtYzfTH5JfW-PQ</td>\n      <td>MUSE Cheesecakes</td>\n      <td>Portland</td>\n      <td>OR</td>\n      <td>5.0</td>\n      <td>7</td>\n      <td>Desserts, Specialty Food, Food, Patisserie/Cak...</td>\n      <td>45.5544197</td>\n      <td>-122.6663494</td>\n      <td>1</td>\n      <td>97217</td>\n      <td>1.880594</td>\n    </tr>\n    <tr>\n      <th>9</th>\n      <td>1735</td>\n      <td>4bP1O1WA_CVaAEmRkfXe5A</td>\n      <td>Oregonic Tonic Kombucha</td>\n      <td>Portland</td>\n      <td>OR</td>\n      <td>5.0</td>\n      <td>5</td>\n      <td>Food, Breweries, Kombucha</td>\n      <td>45.5837298</td>\n      <td>-122.7268969</td>\n      <td>1</td>\n      <td>97203</td>\n      <td>1.869701</td>\n    </tr>\n  </tbody>\n</table>\n</div>"
     },
     "metadata": {},
     "output_type": "execute_result",
     "execution_count": 44
    }
   ],
   "source": [
    "def get_collaborative_recommendation(user_id, limit=10):\n",
    "\n",
    "    filtered_business = loaded_user_recommendations.filter(col(\"user_id\") == user_id)\n",
    "    if not filtered_business.head(1):\n",
    "        return None\n",
    "    recommended_business =  spark.createDataFrame(\n",
    "        filtered_business.rdd.flatMap(lambda p: p[1])\n",
    "    )\n",
    "    return business_new_df.join(recommended_business, \"business_index\", \"inner\")\\\n",
    "             .orderBy(\"rating\", ascending = False).limit(limit)\n",
    "\n",
    "random_user = loaded_user_recommendations.sample(0.01, seed=1).head(1)[0].user_id\n",
    "print(f\"[collaborative filtering] test user id: {random_user}\")\n",
    "get_collaborative_recommendation(random_user).toPandas()"
   ],
   "metadata": {
    "collapsed": false,
    "pycharm": {
     "name": "#%%\n",
     "is_executing": false
    }
   }
  },
  {
   "cell_type": "markdown",
   "source": [
    "### Prepare Friend Recommendation"
   ],
   "metadata": {
    "collapsed": false
   }
  },
  {
   "cell_type": "code",
   "execution_count": 10,
   "outputs": [
    {
     "data": {
      "text/plain": "              business_id                       name      city state stars  \\\n0  n73rxa6e6-fTIxQzfv4BuA      Mother’s Bistro & Bar  Portland    OR   4.5   \n1  1JKK_kmQ6Kxc6NzhQhcAOA    Sivalai Thai Restaurant  Portland    OR   4.5   \n2  9P-lp3AWDXGayDqJz9VPwQ              Marukin Ramen  Portland    OR   4.0   \n3  z1QhExIrJH0cnBdQKrsk0g              Piazza Italia  Portland    OR   4.0   \n4  nEaWb1R9wFRI6sTWBkymAA     Kizuki Ramen & Izakaya  Portland    OR   4.0   \n5  jXnMy7-VQ7eqRBtjXAacuQ         Lucky Devil Lounge  Portland    OR   4.0   \n6  4VT8kIUlTa4d3mwWrGJ5Zg               Pepe le Moko  Portland    OR   4.0   \n7  d69y3CN9_SQKrEnXXqQr8g  King Burrito Mexican Food  Portland    OR   4.0   \n8  nb6XRTOkX2mtWianzv819Q            Shigezo Izakaya  Portland    OR   3.5   \n9  qgq0usjnOA8qTWHdxbuzZA           Eclectic Kitchen  Portland    OR   3.5   \n\n  review_count                                         categories  \\\n0         4466  American (Traditional), Restaurants, Bars, Nig...   \n1          833                                  Restaurants, Thai   \n2          616              Restaurants, Ramen, Noodles, Japanese   \n3          973  Restaurants, Shopping, Salad, Delis, Art Galle...   \n4          955     Ramen, Japanese, Restaurants, Izakaya, Noodles   \n5          112  Restaurants, Bars, Adult Entertainment, Nightl...   \n6          439  Cocktail Bars, Nightlife, Bars, Restaurants, S...   \n7          534  Mexican, Restaurants, Breakfast & Brunch, Burgers   \n8          678  Tapas/Small Plates, Japanese, Ramen, Restauran...   \n9          137  Food, Salad, Sandwiches, Restaurants, Bakeries...   \n\n        latitude        longitude is_open postal_code  \n0      45.522196      -122.673868       1       97204  \n1     45.5190945     -122.6131884       1       97215  \n2      45.522407       -122.65937       1       97214  \n3     45.5287804     -122.6829301       1       97209  \n4     45.5217636     -122.8021536       1       97229  \n5     45.5017514     -122.6590969       1       97202  \n6  45.5218730302  -122.6811734763       1       97205  \n7     45.5769598     -122.6970866       1       97217  \n8     45.5176574     -122.6825351       1       97205  \n9      45.548143     -122.6118289       1       97213  ",
      "text/html": "<div>\n<style scoped>\n    .dataframe tbody tr th:only-of-type {\n        vertical-align: middle;\n    }\n\n    .dataframe tbody tr th {\n        vertical-align: top;\n    }\n\n    .dataframe thead th {\n        text-align: right;\n    }\n</style>\n<table border=\"1\" class=\"dataframe\">\n  <thead>\n    <tr style=\"text-align: right;\">\n      <th></th>\n      <th>business_id</th>\n      <th>name</th>\n      <th>city</th>\n      <th>state</th>\n      <th>stars</th>\n      <th>review_count</th>\n      <th>categories</th>\n      <th>latitude</th>\n      <th>longitude</th>\n      <th>is_open</th>\n      <th>postal_code</th>\n    </tr>\n  </thead>\n  <tbody>\n    <tr>\n      <th>0</th>\n      <td>n73rxa6e6-fTIxQzfv4BuA</td>\n      <td>Mother’s Bistro &amp; Bar</td>\n      <td>Portland</td>\n      <td>OR</td>\n      <td>4.5</td>\n      <td>4466</td>\n      <td>American (Traditional), Restaurants, Bars, Nig...</td>\n      <td>45.522196</td>\n      <td>-122.673868</td>\n      <td>1</td>\n      <td>97204</td>\n    </tr>\n    <tr>\n      <th>1</th>\n      <td>1JKK_kmQ6Kxc6NzhQhcAOA</td>\n      <td>Sivalai Thai Restaurant</td>\n      <td>Portland</td>\n      <td>OR</td>\n      <td>4.5</td>\n      <td>833</td>\n      <td>Restaurants, Thai</td>\n      <td>45.5190945</td>\n      <td>-122.6131884</td>\n      <td>1</td>\n      <td>97215</td>\n    </tr>\n    <tr>\n      <th>2</th>\n      <td>9P-lp3AWDXGayDqJz9VPwQ</td>\n      <td>Marukin Ramen</td>\n      <td>Portland</td>\n      <td>OR</td>\n      <td>4.0</td>\n      <td>616</td>\n      <td>Restaurants, Ramen, Noodles, Japanese</td>\n      <td>45.522407</td>\n      <td>-122.65937</td>\n      <td>1</td>\n      <td>97214</td>\n    </tr>\n    <tr>\n      <th>3</th>\n      <td>z1QhExIrJH0cnBdQKrsk0g</td>\n      <td>Piazza Italia</td>\n      <td>Portland</td>\n      <td>OR</td>\n      <td>4.0</td>\n      <td>973</td>\n      <td>Restaurants, Shopping, Salad, Delis, Art Galle...</td>\n      <td>45.5287804</td>\n      <td>-122.6829301</td>\n      <td>1</td>\n      <td>97209</td>\n    </tr>\n    <tr>\n      <th>4</th>\n      <td>nEaWb1R9wFRI6sTWBkymAA</td>\n      <td>Kizuki Ramen &amp; Izakaya</td>\n      <td>Portland</td>\n      <td>OR</td>\n      <td>4.0</td>\n      <td>955</td>\n      <td>Ramen, Japanese, Restaurants, Izakaya, Noodles</td>\n      <td>45.5217636</td>\n      <td>-122.8021536</td>\n      <td>1</td>\n      <td>97229</td>\n    </tr>\n    <tr>\n      <th>5</th>\n      <td>jXnMy7-VQ7eqRBtjXAacuQ</td>\n      <td>Lucky Devil Lounge</td>\n      <td>Portland</td>\n      <td>OR</td>\n      <td>4.0</td>\n      <td>112</td>\n      <td>Restaurants, Bars, Adult Entertainment, Nightl...</td>\n      <td>45.5017514</td>\n      <td>-122.6590969</td>\n      <td>1</td>\n      <td>97202</td>\n    </tr>\n    <tr>\n      <th>6</th>\n      <td>4VT8kIUlTa4d3mwWrGJ5Zg</td>\n      <td>Pepe le Moko</td>\n      <td>Portland</td>\n      <td>OR</td>\n      <td>4.0</td>\n      <td>439</td>\n      <td>Cocktail Bars, Nightlife, Bars, Restaurants, S...</td>\n      <td>45.5218730302</td>\n      <td>-122.6811734763</td>\n      <td>1</td>\n      <td>97205</td>\n    </tr>\n    <tr>\n      <th>7</th>\n      <td>d69y3CN9_SQKrEnXXqQr8g</td>\n      <td>King Burrito Mexican Food</td>\n      <td>Portland</td>\n      <td>OR</td>\n      <td>4.0</td>\n      <td>534</td>\n      <td>Mexican, Restaurants, Breakfast &amp; Brunch, Burgers</td>\n      <td>45.5769598</td>\n      <td>-122.6970866</td>\n      <td>1</td>\n      <td>97217</td>\n    </tr>\n    <tr>\n      <th>8</th>\n      <td>nb6XRTOkX2mtWianzv819Q</td>\n      <td>Shigezo Izakaya</td>\n      <td>Portland</td>\n      <td>OR</td>\n      <td>3.5</td>\n      <td>678</td>\n      <td>Tapas/Small Plates, Japanese, Ramen, Restauran...</td>\n      <td>45.5176574</td>\n      <td>-122.6825351</td>\n      <td>1</td>\n      <td>97205</td>\n    </tr>\n    <tr>\n      <th>9</th>\n      <td>qgq0usjnOA8qTWHdxbuzZA</td>\n      <td>Eclectic Kitchen</td>\n      <td>Portland</td>\n      <td>OR</td>\n      <td>3.5</td>\n      <td>137</td>\n      <td>Food, Salad, Sandwiches, Restaurants, Bakeries...</td>\n      <td>45.548143</td>\n      <td>-122.6118289</td>\n      <td>1</td>\n      <td>97213</td>\n    </tr>\n  </tbody>\n</table>\n</div>"
     },
     "metadata": {},
     "output_type": "execute_result",
     "execution_count": 10
    }
   ],
   "source": [
    "user_friends = user.select(\"user_id\", \"friends\")\n",
    "\n",
    "def get_friends_recommendation(user_id, limit=10):\n",
    "    friends = user_friends.filter(col(\"user_id\")==user_id).limit(1)\n",
    "    if friends.count()<1:\n",
    "        return None\n",
    "    friend_str = friends.select(\"friends\").rdd.collect()[0][0].replace(\" \", \"\")\n",
    "    if friend_str==\"\":\n",
    "        return None\n",
    "    friend_list = list(friend_str.split(\",\"))\n",
    "    friends_businesses = review.filter(\n",
    "         (col(\"superscore\")>=3.0) &(col(\"user_id\").isin(friend_list)))\\\n",
    "        .orderBy(\"superscore\", ascending=False)\\\n",
    "        .select(\"business_id\").distinct().limit(limit).rdd.collect()\n",
    "    if len(friends_businesses)==0:\n",
    "        return None\n",
    "    business_list = []\n",
    "    for row in friends_businesses:\n",
    "        business_list.append(row.business_id)\n",
    "    return get_business_details(business_list) \n",
    "\n",
    "def get_business_details(business_list):\n",
    "    return business.filter(col(\"business_id\").isin(business_list)).orderBy(\"stars\", ascending=False)\n",
    "get_friends_recommendation(\"uLhdaZUsVvT0gbNTdOSzDg\").toPandas()\n"
   ],
   "metadata": {
    "collapsed": false,
    "pycharm": {
     "name": "#%%\n",
     "is_executing": false
    }
   }
  },
  {
   "cell_type": "markdown",
   "source": [
    "### Prepare Location Based Recommendation"
   ],
   "metadata": {
    "collapsed": false,
    "pycharm": {
     "name": "#%% md\n"
    }
   }
  },
  {
   "cell_type": "code",
   "execution_count": null,
   "outputs": [],
   "source": [
    "# TODO"
   ],
   "metadata": {
    "collapsed": false,
    "pycharm": {
     "name": "#%%\n"
    }
   }
  },
  {
   "cell_type": "markdown",
   "source": [
    "### Hybrid Recommendation"
   ],
   "metadata": {
    "collapsed": false,
    "pycharm": {
     "name": "#%% md\n",
     "is_executing": true
    }
   },
   "outputs": [
    {
     "name": "stdout",
     "text": [
      "              business_id     score                        name      city  \\\n0  IyLLref8p5xTcuO7SpHf-g  0.999162                Salt & Straw  Portland   \n1  o_L9Ss4boqq6ZEF9xeSH6Q  0.996246                Salt & Straw  Portland   \n2  xzBdKVBwoPwDNLN7ZwVa2w  0.978557  Yoko's Japanese Restaurant  Portland   \n3  XUA4QMW3_lHPmmLwwDiZDQ  0.977217        Cloud City Ice Cream  Portland   \n4  nVM8SLX5Yp3E6NNmL7tAPQ  0.974500                 Fifty Licks  Portland   \n\n  state stars review_count                                         categories  \\\n0    OR   4.5         1704  Restaurants, Food, Food Stands, Ice Cream & Fr...   \n1    OR   4.5         3672  Food, Bakeries, Ice Cream & Frozen Yogurt, Cof...   \n2    OR   4.0          373  Sushi Bars, Coffee & Tea, Japanese, Restaurant...   \n3    OR   4.5          414  Food, Coffee & Tea, Ice Cream & Frozen Yogurt,...   \n4    OR   4.0          478       Food Trucks, Ice Cream & Frozen Yogurt, Food   \n\n     latitude        longitude is_open postal_code  \n0  45.5592731      -122.644136       1       97211  \n1  45.5289444     -122.6982801       1       97210  \n2   45.493212      -122.636056       1       97202  \n3  45.4795487     -122.6159691       1       97206  \n4   45.503615  -122.6450414642       1       97202  \n\n",
      "collaborative based: \n",
      "   business_index             business_id           name      city state  \\\n0            2551  vN2l24gtzxRw_nqCoLy3RA           Biga  Portland    OR   \n1            1183  0JUkzQXJKaiAbpruTgDPnw      Yatra PDX  Portland    OR   \n2            2880  9hSJzHu3JuILSEiwUDGXUg  Birrieria PDX  Portland    OR   \n\n  stars review_count                                         categories  \\\n0   5.0            5           Restaurants, Italian, Gluten-Free, Pizza   \n1   5.0            9  Food Stands, Food, Indian, Himalayan/Nepalese,...   \n2   4.5           29        Food Trucks, Food, Food Stands, Restaurants   \n\n        latitude      longitude is_open postal_code    rating  \n0     45.5628742   -122.6351415       1       97211  4.600189  \n1  45.4641695267  -122.65434729       1       97202  4.410491  \n2     45.4796668   -122.5146061       1       97236  4.371979  \n\n",
      "friend based: \n              business_id              name      city state stars  \\\n0  4VT8kIUlTa4d3mwWrGJ5Zg      Pepe le Moko  Portland    OR   4.0   \n1  qgq0usjnOA8qTWHdxbuzZA  Eclectic Kitchen  Portland    OR   3.5   \n\n  review_count                                         categories  \\\n0          439  Cocktail Bars, Nightlife, Bars, Restaurants, S...   \n1          137  Food, Salad, Sandwiches, Restaurants, Bakeries...   \n\n        latitude        longitude is_open postal_code  \n0  45.5218730302  -122.6811734763       1       97205  \n1      45.548143     -122.6118289       1       97213  \n\naggregated result: \n",
      "              business_id                        name      city state stars  \\\n0  IyLLref8p5xTcuO7SpHf-g                Salt & Straw  Portland    OR   4.5   \n1  o_L9Ss4boqq6ZEF9xeSH6Q                Salt & Straw  Portland    OR   4.5   \n2  xzBdKVBwoPwDNLN7ZwVa2w  Yoko's Japanese Restaurant  Portland    OR   4.0   \n3  XUA4QMW3_lHPmmLwwDiZDQ        Cloud City Ice Cream  Portland    OR   4.5   \n4  nVM8SLX5Yp3E6NNmL7tAPQ                 Fifty Licks  Portland    OR   4.0   \n5  vN2l24gtzxRw_nqCoLy3RA                        Biga  Portland    OR   5.0   \n6  0JUkzQXJKaiAbpruTgDPnw                   Yatra PDX  Portland    OR   5.0   \n7  9hSJzHu3JuILSEiwUDGXUg               Birrieria PDX  Portland    OR   4.5   \n8  4VT8kIUlTa4d3mwWrGJ5Zg                Pepe le Moko  Portland    OR   4.0   \n9  qgq0usjnOA8qTWHdxbuzZA            Eclectic Kitchen  Portland    OR   3.5   \n\n  review_count                                         categories  \\\n0         1704  Restaurants, Food, Food Stands, Ice Cream & Fr...   \n1         3672  Food, Bakeries, Ice Cream & Frozen Yogurt, Cof...   \n2          373  Sushi Bars, Coffee & Tea, Japanese, Restaurant...   \n3          414  Food, Coffee & Tea, Ice Cream & Frozen Yogurt,...   \n4          478       Food Trucks, Ice Cream & Frozen Yogurt, Food   \n5            5           Restaurants, Italian, Gluten-Free, Pizza   \n6            9  Food Stands, Food, Indian, Himalayan/Nepalese,...   \n7           29        Food Trucks, Food, Food Stands, Restaurants   \n8          439  Cocktail Bars, Nightlife, Bars, Restaurants, S...   \n9          137  Food, Salad, Sandwiches, Restaurants, Bakeries...   \n\n        latitude        longitude is_open postal_code  \n0     45.5592731      -122.644136       1       97211  \n1     45.5289444     -122.6982801       1       97210  \n2      45.493212      -122.636056       1       97202  \n3     45.4795487     -122.6159691       1       97206  \n4      45.503615  -122.6450414642       1       97202  \n5     45.5628742     -122.6351415       1       97211  \n6  45.4641695267    -122.65434729       1       97202  \n7     45.4796668     -122.5146061       1       97236  \n8  45.5218730302  -122.6811734763       1       97205  \n9      45.548143     -122.6118289       1       97213  \n\n"
     ],
     "output_type": "stream"
    }
   ]
  },
  {
   "cell_type": "code",
   "execution_count": 48,
   "outputs": [],
   "source": [
    "# final hybrid recommendation model\n",
    "\n",
    "def get_hybrid_recommendation_by_user(user_id, \n",
    "                                      content_based_limit=5, \n",
    "                                      collaborative_based_limit=3,\n",
    "                                      friend_recommendation_limit=2):\n",
    "    hybrid_result = spark.createDataFrame(spark.sparkContext.emptyRDD(), business.schema)\n",
    "\n",
    "    print(\"content based: \")\n",
    "    content_based_result = get_user_recommendation(user_id, content_based_limit)\n",
    "    if content_based_result is not None :\n",
    "        print(content_based_result.toPandas())\n",
    "        hybrid_result = hybrid_result.union(content_based_result.drop(\"score\"))\n",
    "    print(\"end \\n\\n\")\n",
    "    \n",
    "    print(\"collaborative based: \")\n",
    "    collaborative_result = get_collaborative_recommendation(user_id, collaborative_based_limit)\n",
    "    if collaborative_result is not None :\n",
    "        print(collaborative_result.toPandas())\n",
    "        hybrid_result = hybrid_result.union(collaborative_result.drop(\"rating\", \"business_index\"))\n",
    "    print(\"end \\n\\n\")\n",
    "\n",
    "    print(\"friend based: \")\n",
    "    friend_result = get_friends_recommendation(user_id, friend_recommendation_limit)\n",
    "    if friend_result is not None :\n",
    "        print(friend_result.toPandas())\n",
    "        hybrid_result = hybrid_result.union(friend_result)\n",
    "    print(\"end \\n\\n\")\n",
    "    \n",
    "    print(\"hybrid result: \")\n",
    "    hybrid_result = hybrid_result.repartition(1).dropDuplicates([\"name\"])\n",
    "    if hybrid_result is not None :\n",
    "        print(hybrid_result.toPandas())\n",
    "    print(\"end \\n\\n\")\n",
    "\n",
    "    number_of_result = hybrid_result.count()\n",
    "    if  number_of_result< 10:\n",
    "        # TODO add location based result\n",
    "        # then union\n",
    "        print(f\"need {10-number_of_result} business from location based\")\n",
    "        pass\n",
    "    return hybrid_result"
   ],
   "metadata": {
    "collapsed": false,
    "pycharm": {
     "name": "#%%\n",
     "is_executing": false
    }
   }
  },
  {
   "cell_type": "code",
   "execution_count": 36,
   "outputs": [
    {
     "name": "stdout",
     "text": [
      "content based: \n[content based filtering] user id: DataFrame[user_id: string, name: string, review_count: string, yelping_since: string, friends: string, useful: string, funny: string, cool: string, fans: string, average_stars: string]\n",
      "[content based filtering] user reviewed businesses: ['sekbE_TpoPkVWIHMu0uBiA', '4Hc4QRv8PBlTXi9jm2s5cw']\n",
      "              business_id     score                        name      city  \\\n0  IyLLref8p5xTcuO7SpHf-g  0.999162                Salt & Straw  Portland   \n1  o_L9Ss4boqq6ZEF9xeSH6Q  0.996246                Salt & Straw  Portland   \n2  xzBdKVBwoPwDNLN7ZwVa2w  0.978557  Yoko's Japanese Restaurant  Portland   \n3  XUA4QMW3_lHPmmLwwDiZDQ  0.977217        Cloud City Ice Cream  Portland   \n4  nVM8SLX5Yp3E6NNmL7tAPQ  0.974500                 Fifty Licks  Portland   \n\n  state stars review_count                                         categories  \\\n0    OR   4.5         1704  Restaurants, Food, Food Stands, Ice Cream & Fr...   \n1    OR   4.5         3672  Food, Bakeries, Ice Cream & Frozen Yogurt, Cof...   \n2    OR   4.0          373  Sushi Bars, Coffee & Tea, Japanese, Restaurant...   \n3    OR   4.5          414  Food, Coffee & Tea, Ice Cream & Frozen Yogurt,...   \n4    OR   4.0          478       Food Trucks, Ice Cream & Frozen Yogurt, Food   \n\n     latitude        longitude is_open postal_code  \n0  45.5592731      -122.644136       1       97211  \n1  45.5289444     -122.6982801       1       97210  \n2   45.493212      -122.636056       1       97202  \n3  45.4795487     -122.6159691       1       97206  \n4   45.503615  -122.6450414642       1       97202  \nend \n\n\ncollaborative based: \n",
      "   business_index             business_id           name      city state  \\\n0            2551  vN2l24gtzxRw_nqCoLy3RA           Biga  Portland    OR   \n1            1183  0JUkzQXJKaiAbpruTgDPnw      Yatra PDX  Portland    OR   \n2            2880  9hSJzHu3JuILSEiwUDGXUg  Birrieria PDX  Portland    OR   \n\n  stars review_count                                         categories  \\\n0   5.0            5           Restaurants, Italian, Gluten-Free, Pizza   \n1   5.0            9  Food Stands, Food, Indian, Himalayan/Nepalese,...   \n2   4.5           29        Food Trucks, Food, Food Stands, Restaurants   \n\n        latitude      longitude is_open postal_code    rating  \n0     45.5628742   -122.6351415       1       97211  4.600189  \n1  45.4641695267  -122.65434729       1       97202  4.410491  \n2     45.4796668   -122.5146061       1       97236  4.371979  \nend \n\n\nfriend based: \n",
      "              business_id              name      city state stars  \\\n0  4VT8kIUlTa4d3mwWrGJ5Zg      Pepe le Moko  Portland    OR   4.0   \n1  qgq0usjnOA8qTWHdxbuzZA  Eclectic Kitchen  Portland    OR   3.5   \n\n  review_count                                         categories  \\\n0          439  Cocktail Bars, Nightlife, Bars, Restaurants, S...   \n1          137  Food, Salad, Sandwiches, Restaurants, Bakeries...   \n\n        latitude        longitude is_open postal_code  \n0  45.5218730302  -122.6811734763       1       97205  \n1      45.548143     -122.6118289       1       97213  \nend \n\n\nhybrid result: \n",
      "              business_id                        name      city state stars  \\\n0  vN2l24gtzxRw_nqCoLy3RA                        Biga  Portland    OR   5.0   \n1  4VT8kIUlTa4d3mwWrGJ5Zg                Pepe le Moko  Portland    OR   4.0   \n2  9hSJzHu3JuILSEiwUDGXUg               Birrieria PDX  Portland    OR   4.5   \n3  nVM8SLX5Yp3E6NNmL7tAPQ                 Fifty Licks  Portland    OR   4.0   \n4  IyLLref8p5xTcuO7SpHf-g                Salt & Straw  Portland    OR   4.5   \n5  XUA4QMW3_lHPmmLwwDiZDQ        Cloud City Ice Cream  Portland    OR   4.5   \n6  qgq0usjnOA8qTWHdxbuzZA            Eclectic Kitchen  Portland    OR   3.5   \n7  xzBdKVBwoPwDNLN7ZwVa2w  Yoko's Japanese Restaurant  Portland    OR   4.0   \n8  0JUkzQXJKaiAbpruTgDPnw                   Yatra PDX  Portland    OR   5.0   \n\n  review_count                                         categories  \\\n0            5           Restaurants, Italian, Gluten-Free, Pizza   \n1          439  Cocktail Bars, Nightlife, Bars, Restaurants, S...   \n2           29        Food Trucks, Food, Food Stands, Restaurants   \n3          478       Food Trucks, Ice Cream & Frozen Yogurt, Food   \n4         1704  Restaurants, Food, Food Stands, Ice Cream & Fr...   \n5          414  Food, Coffee & Tea, Ice Cream & Frozen Yogurt,...   \n6          137  Food, Salad, Sandwiches, Restaurants, Bakeries...   \n7          373  Sushi Bars, Coffee & Tea, Japanese, Restaurant...   \n8            9  Food Stands, Food, Indian, Himalayan/Nepalese,...   \n\n        latitude        longitude is_open postal_code  \n0     45.5628742     -122.6351415       1       97211  \n1  45.5218730302  -122.6811734763       1       97205  \n2     45.4796668     -122.5146061       1       97236  \n3      45.503615  -122.6450414642       1       97202  \n4     45.5592731      -122.644136       1       97211  \n5     45.4795487     -122.6159691       1       97206  \n6      45.548143     -122.6118289       1       97213  \n7      45.493212      -122.636056       1       97202  \n8  45.4641695267    -122.65434729       1       97202  \nend \n\n\n",
      "9\nneed 1 business from location based\n"
     ],
     "output_type": "stream"
    },
    {
     "data": {
      "text/plain": "<folium.folium.Map at 0x24f24e20588>",
      "text/html": "<div style=\"width:100%;\"><div style=\"position:relative;width:100%;height:0;padding-bottom:60%;\"><span style=\"color:#565656\">Make this Notebook Trusted to load map: File -> Trust Notebook</span><iframe src=\"about:blank\" style=\"position:absolute;width:100%;height:100%;left:0;top:0;border:none !important;\" data-html=%3C%21DOCTYPE%20html%3E%0A%3Chead%3E%20%20%20%20%0A%20%20%20%20%3Cmeta%20http-equiv%3D%22content-type%22%20content%3D%22text/html%3B%20charset%3DUTF-8%22%20/%3E%0A%20%20%20%20%0A%20%20%20%20%20%20%20%20%3Cscript%3E%0A%20%20%20%20%20%20%20%20%20%20%20%20L_NO_TOUCH%20%3D%20false%3B%0A%20%20%20%20%20%20%20%20%20%20%20%20L_DISABLE_3D%20%3D%20false%3B%0A%20%20%20%20%20%20%20%20%3C/script%3E%0A%20%20%20%20%0A%20%20%20%20%3Cstyle%3Ehtml%2C%20body%20%7Bwidth%3A%20100%25%3Bheight%3A%20100%25%3Bmargin%3A%200%3Bpadding%3A%200%3B%7D%3C/style%3E%0A%20%20%20%20%3Cstyle%3E%23map%20%7Bposition%3Aabsolute%3Btop%3A0%3Bbottom%3A0%3Bright%3A0%3Bleft%3A0%3B%7D%3C/style%3E%0A%20%20%20%20%3Cscript%20src%3D%22https%3A//cdn.jsdelivr.net/npm/leaflet%401.6.0/dist/leaflet.js%22%3E%3C/script%3E%0A%20%20%20%20%3Cscript%20src%3D%22https%3A//code.jquery.com/jquery-1.12.4.min.js%22%3E%3C/script%3E%0A%20%20%20%20%3Cscript%20src%3D%22https%3A//maxcdn.bootstrapcdn.com/bootstrap/3.2.0/js/bootstrap.min.js%22%3E%3C/script%3E%0A%20%20%20%20%3Cscript%20src%3D%22https%3A//cdnjs.cloudflare.com/ajax/libs/Leaflet.awesome-markers/2.0.2/leaflet.awesome-markers.js%22%3E%3C/script%3E%0A%20%20%20%20%3Clink%20rel%3D%22stylesheet%22%20href%3D%22https%3A//cdn.jsdelivr.net/npm/leaflet%401.6.0/dist/leaflet.css%22/%3E%0A%20%20%20%20%3Clink%20rel%3D%22stylesheet%22%20href%3D%22https%3A//maxcdn.bootstrapcdn.com/bootstrap/3.2.0/css/bootstrap.min.css%22/%3E%0A%20%20%20%20%3Clink%20rel%3D%22stylesheet%22%20href%3D%22https%3A//maxcdn.bootstrapcdn.com/bootstrap/3.2.0/css/bootstrap-theme.min.css%22/%3E%0A%20%20%20%20%3Clink%20rel%3D%22stylesheet%22%20href%3D%22https%3A//maxcdn.bootstrapcdn.com/font-awesome/4.6.3/css/font-awesome.min.css%22/%3E%0A%20%20%20%20%3Clink%20rel%3D%22stylesheet%22%20href%3D%22https%3A//cdnjs.cloudflare.com/ajax/libs/Leaflet.awesome-markers/2.0.2/leaflet.awesome-markers.css%22/%3E%0A%20%20%20%20%3Clink%20rel%3D%22stylesheet%22%20href%3D%22https%3A//cdn.jsdelivr.net/gh/python-visualization/folium/folium/templates/leaflet.awesome.rotate.min.css%22/%3E%0A%20%20%20%20%0A%20%20%20%20%20%20%20%20%20%20%20%20%3Cmeta%20name%3D%22viewport%22%20content%3D%22width%3Ddevice-width%2C%0A%20%20%20%20%20%20%20%20%20%20%20%20%20%20%20%20initial-scale%3D1.0%2C%20maximum-scale%3D1.0%2C%20user-scalable%3Dno%22%20/%3E%0A%20%20%20%20%20%20%20%20%20%20%20%20%3Cstyle%3E%0A%20%20%20%20%20%20%20%20%20%20%20%20%20%20%20%20%23map_af478e39dce340d384528e8ab3751fad%20%7B%0A%20%20%20%20%20%20%20%20%20%20%20%20%20%20%20%20%20%20%20%20position%3A%20relative%3B%0A%20%20%20%20%20%20%20%20%20%20%20%20%20%20%20%20%20%20%20%20width%3A%20100.0%25%3B%0A%20%20%20%20%20%20%20%20%20%20%20%20%20%20%20%20%20%20%20%20height%3A%20100.0%25%3B%0A%20%20%20%20%20%20%20%20%20%20%20%20%20%20%20%20%20%20%20%20left%3A%200.0%25%3B%0A%20%20%20%20%20%20%20%20%20%20%20%20%20%20%20%20%20%20%20%20top%3A%200.0%25%3B%0A%20%20%20%20%20%20%20%20%20%20%20%20%20%20%20%20%7D%0A%20%20%20%20%20%20%20%20%20%20%20%20%3C/style%3E%0A%20%20%20%20%20%20%20%20%0A%3C/head%3E%0A%3Cbody%3E%20%20%20%20%0A%20%20%20%20%0A%20%20%20%20%20%20%20%20%20%20%20%20%3Cdiv%20class%3D%22folium-map%22%20id%3D%22map_af478e39dce340d384528e8ab3751fad%22%20%3E%3C/div%3E%0A%20%20%20%20%20%20%20%20%0A%3C/body%3E%0A%3Cscript%3E%20%20%20%20%0A%20%20%20%20%0A%20%20%20%20%20%20%20%20%20%20%20%20var%20map_af478e39dce340d384528e8ab3751fad%20%3D%20L.map%28%0A%20%20%20%20%20%20%20%20%20%20%20%20%20%20%20%20%22map_af478e39dce340d384528e8ab3751fad%22%2C%0A%20%20%20%20%20%20%20%20%20%20%20%20%20%20%20%20%7B%0A%20%20%20%20%20%20%20%20%20%20%20%20%20%20%20%20%20%20%20%20center%3A%20%5B45.5%2C%20-122.5%5D%2C%0A%20%20%20%20%20%20%20%20%20%20%20%20%20%20%20%20%20%20%20%20crs%3A%20L.CRS.EPSG3857%2C%0A%20%20%20%20%20%20%20%20%20%20%20%20%20%20%20%20%20%20%20%20zoom%3A%2010%2C%0A%20%20%20%20%20%20%20%20%20%20%20%20%20%20%20%20%20%20%20%20zoomControl%3A%20true%2C%0A%20%20%20%20%20%20%20%20%20%20%20%20%20%20%20%20%20%20%20%20preferCanvas%3A%20false%2C%0A%20%20%20%20%20%20%20%20%20%20%20%20%20%20%20%20%7D%0A%20%20%20%20%20%20%20%20%20%20%20%20%29%3B%0A%0A%20%20%20%20%20%20%20%20%20%20%20%20%0A%0A%20%20%20%20%20%20%20%20%0A%20%20%20%20%0A%20%20%20%20%20%20%20%20%20%20%20%20var%20tile_layer_c24e0b5d30624f638266857acd8874f9%20%3D%20L.tileLayer%28%0A%20%20%20%20%20%20%20%20%20%20%20%20%20%20%20%20%22https%3A//%7Bs%7D.tile.openstreetmap.org/%7Bz%7D/%7Bx%7D/%7By%7D.png%22%2C%0A%20%20%20%20%20%20%20%20%20%20%20%20%20%20%20%20%7B%22attribution%22%3A%20%22Data%20by%20%5Cu0026copy%3B%20%5Cu003ca%20href%3D%5C%22http%3A//openstreetmap.org%5C%22%5Cu003eOpenStreetMap%5Cu003c/a%5Cu003e%2C%20under%20%5Cu003ca%20href%3D%5C%22http%3A//www.openstreetmap.org/copyright%5C%22%5Cu003eODbL%5Cu003c/a%5Cu003e.%22%2C%20%22detectRetina%22%3A%20false%2C%20%22maxNativeZoom%22%3A%2018%2C%20%22maxZoom%22%3A%2018%2C%20%22minZoom%22%3A%200%2C%20%22noWrap%22%3A%20false%2C%20%22opacity%22%3A%201%2C%20%22subdomains%22%3A%20%22abc%22%2C%20%22tms%22%3A%20false%7D%0A%20%20%20%20%20%20%20%20%20%20%20%20%29.addTo%28map_af478e39dce340d384528e8ab3751fad%29%3B%0A%20%20%20%20%20%20%20%20%0A%20%20%20%20%0A%20%20%20%20%20%20%20%20%20%20%20%20var%20marker_95d05aacc85a4b7caa55a5063591c7f9%20%3D%20L.marker%28%0A%20%20%20%20%20%20%20%20%20%20%20%20%20%20%20%20%5B45.5628742%2C%20-122.6351415%5D%2C%0A%20%20%20%20%20%20%20%20%20%20%20%20%20%20%20%20%7B%7D%0A%20%20%20%20%20%20%20%20%20%20%20%20%29.addTo%28map_af478e39dce340d384528e8ab3751fad%29%3B%0A%20%20%20%20%20%20%20%20%0A%20%20%20%20%0A%20%20%20%20%20%20%20%20%20%20%20%20var%20icon_5d9c2d1d4f85457b95039eb577bfe5c3%20%3D%20L.AwesomeMarkers.icon%28%0A%20%20%20%20%20%20%20%20%20%20%20%20%20%20%20%20%7B%22extraClasses%22%3A%20%22fa-rotate-0%22%2C%20%22icon%22%3A%20%22info-sign%22%2C%20%22iconColor%22%3A%20%22white%22%2C%20%22markerColor%22%3A%20%22green%22%2C%20%22prefix%22%3A%20%22glyphicon%22%7D%0A%20%20%20%20%20%20%20%20%20%20%20%20%29%3B%0A%20%20%20%20%20%20%20%20%20%20%20%20marker_95d05aacc85a4b7caa55a5063591c7f9.setIcon%28icon_5d9c2d1d4f85457b95039eb577bfe5c3%29%3B%0A%20%20%20%20%20%20%20%20%0A%20%20%20%20%0A%20%20%20%20%20%20%20%20var%20popup_7323e726cec9474e9887b126170ff352%20%3D%20L.popup%28%7B%22maxWidth%22%3A%20%22100%25%22%7D%29%3B%0A%0A%20%20%20%20%20%20%20%20%0A%20%20%20%20%20%20%20%20%20%20%20%20var%20html_f84f7abcb0594be086e4ea812cf794e3%20%3D%20%24%28%60%3Cdiv%20id%3D%22html_f84f7abcb0594be086e4ea812cf794e3%22%20style%3D%22width%3A%20100.0%25%3B%20height%3A%20100.0%25%3B%22%3EBiga%3Cbr%3Estars%3A%205.0%3Cbr%3Ereviews%20count%3A%205%3C/div%3E%60%29%5B0%5D%3B%0A%20%20%20%20%20%20%20%20%20%20%20%20popup_7323e726cec9474e9887b126170ff352.setContent%28html_f84f7abcb0594be086e4ea812cf794e3%29%3B%0A%20%20%20%20%20%20%20%20%0A%0A%20%20%20%20%20%20%20%20marker_95d05aacc85a4b7caa55a5063591c7f9.bindPopup%28popup_7323e726cec9474e9887b126170ff352%29%0A%20%20%20%20%20%20%20%20%3B%0A%0A%20%20%20%20%20%20%20%20%0A%20%20%20%20%0A%20%20%20%20%0A%20%20%20%20%20%20%20%20%20%20%20%20var%20marker_bd3687b38c574193b8b59bff35b0b058%20%3D%20L.marker%28%0A%20%20%20%20%20%20%20%20%20%20%20%20%20%20%20%20%5B45.5218730302%2C%20-122.6811734763%5D%2C%0A%20%20%20%20%20%20%20%20%20%20%20%20%20%20%20%20%7B%7D%0A%20%20%20%20%20%20%20%20%20%20%20%20%29.addTo%28map_af478e39dce340d384528e8ab3751fad%29%3B%0A%20%20%20%20%20%20%20%20%0A%20%20%20%20%0A%20%20%20%20%20%20%20%20%20%20%20%20var%20icon_07cd25f242f64009aa9f70d0e4dc9f6a%20%3D%20L.AwesomeMarkers.icon%28%0A%20%20%20%20%20%20%20%20%20%20%20%20%20%20%20%20%7B%22extraClasses%22%3A%20%22fa-rotate-0%22%2C%20%22icon%22%3A%20%22info-sign%22%2C%20%22iconColor%22%3A%20%22white%22%2C%20%22markerColor%22%3A%20%22green%22%2C%20%22prefix%22%3A%20%22glyphicon%22%7D%0A%20%20%20%20%20%20%20%20%20%20%20%20%29%3B%0A%20%20%20%20%20%20%20%20%20%20%20%20marker_bd3687b38c574193b8b59bff35b0b058.setIcon%28icon_07cd25f242f64009aa9f70d0e4dc9f6a%29%3B%0A%20%20%20%20%20%20%20%20%0A%20%20%20%20%0A%20%20%20%20%20%20%20%20var%20popup_b4f601de05c042c189627942d12235ce%20%3D%20L.popup%28%7B%22maxWidth%22%3A%20%22100%25%22%7D%29%3B%0A%0A%20%20%20%20%20%20%20%20%0A%20%20%20%20%20%20%20%20%20%20%20%20var%20html_44ab3a5e08ac4712a6e1571bdb5f19e1%20%3D%20%24%28%60%3Cdiv%20id%3D%22html_44ab3a5e08ac4712a6e1571bdb5f19e1%22%20style%3D%22width%3A%20100.0%25%3B%20height%3A%20100.0%25%3B%22%3EPepe%20le%20Moko%3Cbr%3Estars%3A%204.0%3Cbr%3Ereviews%20count%3A%20439%3C/div%3E%60%29%5B0%5D%3B%0A%20%20%20%20%20%20%20%20%20%20%20%20popup_b4f601de05c042c189627942d12235ce.setContent%28html_44ab3a5e08ac4712a6e1571bdb5f19e1%29%3B%0A%20%20%20%20%20%20%20%20%0A%0A%20%20%20%20%20%20%20%20marker_bd3687b38c574193b8b59bff35b0b058.bindPopup%28popup_b4f601de05c042c189627942d12235ce%29%0A%20%20%20%20%20%20%20%20%3B%0A%0A%20%20%20%20%20%20%20%20%0A%20%20%20%20%0A%20%20%20%20%0A%20%20%20%20%20%20%20%20%20%20%20%20var%20marker_8cbeee1401d742eabb3c581e6233acef%20%3D%20L.marker%28%0A%20%20%20%20%20%20%20%20%20%20%20%20%20%20%20%20%5B45.4796668%2C%20-122.5146061%5D%2C%0A%20%20%20%20%20%20%20%20%20%20%20%20%20%20%20%20%7B%7D%0A%20%20%20%20%20%20%20%20%20%20%20%20%29.addTo%28map_af478e39dce340d384528e8ab3751fad%29%3B%0A%20%20%20%20%20%20%20%20%0A%20%20%20%20%0A%20%20%20%20%20%20%20%20%20%20%20%20var%20icon_b537767d1cf54257a815d5570a8c1dce%20%3D%20L.AwesomeMarkers.icon%28%0A%20%20%20%20%20%20%20%20%20%20%20%20%20%20%20%20%7B%22extraClasses%22%3A%20%22fa-rotate-0%22%2C%20%22icon%22%3A%20%22info-sign%22%2C%20%22iconColor%22%3A%20%22white%22%2C%20%22markerColor%22%3A%20%22green%22%2C%20%22prefix%22%3A%20%22glyphicon%22%7D%0A%20%20%20%20%20%20%20%20%20%20%20%20%29%3B%0A%20%20%20%20%20%20%20%20%20%20%20%20marker_8cbeee1401d742eabb3c581e6233acef.setIcon%28icon_b537767d1cf54257a815d5570a8c1dce%29%3B%0A%20%20%20%20%20%20%20%20%0A%20%20%20%20%0A%20%20%20%20%20%20%20%20var%20popup_7a2d67dc7a7e4f418516a94e0b703d4f%20%3D%20L.popup%28%7B%22maxWidth%22%3A%20%22100%25%22%7D%29%3B%0A%0A%20%20%20%20%20%20%20%20%0A%20%20%20%20%20%20%20%20%20%20%20%20var%20html_a332c8f653d24352ab601a293e5c6229%20%3D%20%24%28%60%3Cdiv%20id%3D%22html_a332c8f653d24352ab601a293e5c6229%22%20style%3D%22width%3A%20100.0%25%3B%20height%3A%20100.0%25%3B%22%3EBirrieria%20PDX%3Cbr%3Estars%3A%204.5%3Cbr%3Ereviews%20count%3A%2029%3C/div%3E%60%29%5B0%5D%3B%0A%20%20%20%20%20%20%20%20%20%20%20%20popup_7a2d67dc7a7e4f418516a94e0b703d4f.setContent%28html_a332c8f653d24352ab601a293e5c6229%29%3B%0A%20%20%20%20%20%20%20%20%0A%0A%20%20%20%20%20%20%20%20marker_8cbeee1401d742eabb3c581e6233acef.bindPopup%28popup_7a2d67dc7a7e4f418516a94e0b703d4f%29%0A%20%20%20%20%20%20%20%20%3B%0A%0A%20%20%20%20%20%20%20%20%0A%20%20%20%20%0A%20%20%20%20%0A%20%20%20%20%20%20%20%20%20%20%20%20var%20marker_50679c1c32bc4dfeaa801a2c54962460%20%3D%20L.marker%28%0A%20%20%20%20%20%20%20%20%20%20%20%20%20%20%20%20%5B45.503615%2C%20-122.6450414642%5D%2C%0A%20%20%20%20%20%20%20%20%20%20%20%20%20%20%20%20%7B%7D%0A%20%20%20%20%20%20%20%20%20%20%20%20%29.addTo%28map_af478e39dce340d384528e8ab3751fad%29%3B%0A%20%20%20%20%20%20%20%20%0A%20%20%20%20%0A%20%20%20%20%20%20%20%20%20%20%20%20var%20icon_eb3afc0433694a9087e6db9ae7c0b3e1%20%3D%20L.AwesomeMarkers.icon%28%0A%20%20%20%20%20%20%20%20%20%20%20%20%20%20%20%20%7B%22extraClasses%22%3A%20%22fa-rotate-0%22%2C%20%22icon%22%3A%20%22info-sign%22%2C%20%22iconColor%22%3A%20%22white%22%2C%20%22markerColor%22%3A%20%22green%22%2C%20%22prefix%22%3A%20%22glyphicon%22%7D%0A%20%20%20%20%20%20%20%20%20%20%20%20%29%3B%0A%20%20%20%20%20%20%20%20%20%20%20%20marker_50679c1c32bc4dfeaa801a2c54962460.setIcon%28icon_eb3afc0433694a9087e6db9ae7c0b3e1%29%3B%0A%20%20%20%20%20%20%20%20%0A%20%20%20%20%0A%20%20%20%20%20%20%20%20var%20popup_519e0093b6734fa68ae16b315d9769da%20%3D%20L.popup%28%7B%22maxWidth%22%3A%20%22100%25%22%7D%29%3B%0A%0A%20%20%20%20%20%20%20%20%0A%20%20%20%20%20%20%20%20%20%20%20%20var%20html_0d6f8515983149b7bcc3999e9cec007a%20%3D%20%24%28%60%3Cdiv%20id%3D%22html_0d6f8515983149b7bcc3999e9cec007a%22%20style%3D%22width%3A%20100.0%25%3B%20height%3A%20100.0%25%3B%22%3EFifty%20Licks%3Cbr%3Estars%3A%204.0%3Cbr%3Ereviews%20count%3A%20478%3C/div%3E%60%29%5B0%5D%3B%0A%20%20%20%20%20%20%20%20%20%20%20%20popup_519e0093b6734fa68ae16b315d9769da.setContent%28html_0d6f8515983149b7bcc3999e9cec007a%29%3B%0A%20%20%20%20%20%20%20%20%0A%0A%20%20%20%20%20%20%20%20marker_50679c1c32bc4dfeaa801a2c54962460.bindPopup%28popup_519e0093b6734fa68ae16b315d9769da%29%0A%20%20%20%20%20%20%20%20%3B%0A%0A%20%20%20%20%20%20%20%20%0A%20%20%20%20%0A%20%20%20%20%0A%20%20%20%20%20%20%20%20%20%20%20%20var%20marker_1f455f30dddb4f1d9ba284240814a974%20%3D%20L.marker%28%0A%20%20%20%20%20%20%20%20%20%20%20%20%20%20%20%20%5B45.5592731%2C%20-122.644136%5D%2C%0A%20%20%20%20%20%20%20%20%20%20%20%20%20%20%20%20%7B%7D%0A%20%20%20%20%20%20%20%20%20%20%20%20%29.addTo%28map_af478e39dce340d384528e8ab3751fad%29%3B%0A%20%20%20%20%20%20%20%20%0A%20%20%20%20%0A%20%20%20%20%20%20%20%20%20%20%20%20var%20icon_6243b37807b84f39ac258e0172097245%20%3D%20L.AwesomeMarkers.icon%28%0A%20%20%20%20%20%20%20%20%20%20%20%20%20%20%20%20%7B%22extraClasses%22%3A%20%22fa-rotate-0%22%2C%20%22icon%22%3A%20%22info-sign%22%2C%20%22iconColor%22%3A%20%22white%22%2C%20%22markerColor%22%3A%20%22green%22%2C%20%22prefix%22%3A%20%22glyphicon%22%7D%0A%20%20%20%20%20%20%20%20%20%20%20%20%29%3B%0A%20%20%20%20%20%20%20%20%20%20%20%20marker_1f455f30dddb4f1d9ba284240814a974.setIcon%28icon_6243b37807b84f39ac258e0172097245%29%3B%0A%20%20%20%20%20%20%20%20%0A%20%20%20%20%0A%20%20%20%20%20%20%20%20var%20popup_f9ec6d872b7f4685a65044a10b30e488%20%3D%20L.popup%28%7B%22maxWidth%22%3A%20%22100%25%22%7D%29%3B%0A%0A%20%20%20%20%20%20%20%20%0A%20%20%20%20%20%20%20%20%20%20%20%20var%20html_cc52d2471eac407389b8ec9e751fa1e7%20%3D%20%24%28%60%3Cdiv%20id%3D%22html_cc52d2471eac407389b8ec9e751fa1e7%22%20style%3D%22width%3A%20100.0%25%3B%20height%3A%20100.0%25%3B%22%3ESalt%20%26amp%3B%20Straw%3Cbr%3Estars%3A%204.5%3Cbr%3Ereviews%20count%3A%201704%3C/div%3E%60%29%5B0%5D%3B%0A%20%20%20%20%20%20%20%20%20%20%20%20popup_f9ec6d872b7f4685a65044a10b30e488.setContent%28html_cc52d2471eac407389b8ec9e751fa1e7%29%3B%0A%20%20%20%20%20%20%20%20%0A%0A%20%20%20%20%20%20%20%20marker_1f455f30dddb4f1d9ba284240814a974.bindPopup%28popup_f9ec6d872b7f4685a65044a10b30e488%29%0A%20%20%20%20%20%20%20%20%3B%0A%0A%20%20%20%20%20%20%20%20%0A%20%20%20%20%0A%20%20%20%20%0A%20%20%20%20%20%20%20%20%20%20%20%20var%20marker_b72f91f8118a499690dd471e5369f9a3%20%3D%20L.marker%28%0A%20%20%20%20%20%20%20%20%20%20%20%20%20%20%20%20%5B45.4795487%2C%20-122.6159691%5D%2C%0A%20%20%20%20%20%20%20%20%20%20%20%20%20%20%20%20%7B%7D%0A%20%20%20%20%20%20%20%20%20%20%20%20%29.addTo%28map_af478e39dce340d384528e8ab3751fad%29%3B%0A%20%20%20%20%20%20%20%20%0A%20%20%20%20%0A%20%20%20%20%20%20%20%20%20%20%20%20var%20icon_82b2eeb06efd40a19d7410ee0d0a8719%20%3D%20L.AwesomeMarkers.icon%28%0A%20%20%20%20%20%20%20%20%20%20%20%20%20%20%20%20%7B%22extraClasses%22%3A%20%22fa-rotate-0%22%2C%20%22icon%22%3A%20%22info-sign%22%2C%20%22iconColor%22%3A%20%22white%22%2C%20%22markerColor%22%3A%20%22green%22%2C%20%22prefix%22%3A%20%22glyphicon%22%7D%0A%20%20%20%20%20%20%20%20%20%20%20%20%29%3B%0A%20%20%20%20%20%20%20%20%20%20%20%20marker_b72f91f8118a499690dd471e5369f9a3.setIcon%28icon_82b2eeb06efd40a19d7410ee0d0a8719%29%3B%0A%20%20%20%20%20%20%20%20%0A%20%20%20%20%0A%20%20%20%20%20%20%20%20var%20popup_4411a72d438649408d4e748d1ab09b9f%20%3D%20L.popup%28%7B%22maxWidth%22%3A%20%22100%25%22%7D%29%3B%0A%0A%20%20%20%20%20%20%20%20%0A%20%20%20%20%20%20%20%20%20%20%20%20var%20html_7f23855ea0ca431fbfefd500469c7211%20%3D%20%24%28%60%3Cdiv%20id%3D%22html_7f23855ea0ca431fbfefd500469c7211%22%20style%3D%22width%3A%20100.0%25%3B%20height%3A%20100.0%25%3B%22%3ECloud%20City%20Ice%20Cream%3Cbr%3Estars%3A%204.5%3Cbr%3Ereviews%20count%3A%20414%3C/div%3E%60%29%5B0%5D%3B%0A%20%20%20%20%20%20%20%20%20%20%20%20popup_4411a72d438649408d4e748d1ab09b9f.setContent%28html_7f23855ea0ca431fbfefd500469c7211%29%3B%0A%20%20%20%20%20%20%20%20%0A%0A%20%20%20%20%20%20%20%20marker_b72f91f8118a499690dd471e5369f9a3.bindPopup%28popup_4411a72d438649408d4e748d1ab09b9f%29%0A%20%20%20%20%20%20%20%20%3B%0A%0A%20%20%20%20%20%20%20%20%0A%20%20%20%20%0A%20%20%20%20%0A%20%20%20%20%20%20%20%20%20%20%20%20var%20marker_89a27da1e84f435782c6020153c09e8a%20%3D%20L.marker%28%0A%20%20%20%20%20%20%20%20%20%20%20%20%20%20%20%20%5B45.548143%2C%20-122.6118289%5D%2C%0A%20%20%20%20%20%20%20%20%20%20%20%20%20%20%20%20%7B%7D%0A%20%20%20%20%20%20%20%20%20%20%20%20%29.addTo%28map_af478e39dce340d384528e8ab3751fad%29%3B%0A%20%20%20%20%20%20%20%20%0A%20%20%20%20%0A%20%20%20%20%20%20%20%20%20%20%20%20var%20icon_b7f3d3e8a979411db4016b21d01a4662%20%3D%20L.AwesomeMarkers.icon%28%0A%20%20%20%20%20%20%20%20%20%20%20%20%20%20%20%20%7B%22extraClasses%22%3A%20%22fa-rotate-0%22%2C%20%22icon%22%3A%20%22info-sign%22%2C%20%22iconColor%22%3A%20%22white%22%2C%20%22markerColor%22%3A%20%22green%22%2C%20%22prefix%22%3A%20%22glyphicon%22%7D%0A%20%20%20%20%20%20%20%20%20%20%20%20%29%3B%0A%20%20%20%20%20%20%20%20%20%20%20%20marker_89a27da1e84f435782c6020153c09e8a.setIcon%28icon_b7f3d3e8a979411db4016b21d01a4662%29%3B%0A%20%20%20%20%20%20%20%20%0A%20%20%20%20%0A%20%20%20%20%20%20%20%20var%20popup_190906bd4def4e1e851b463e3186f50d%20%3D%20L.popup%28%7B%22maxWidth%22%3A%20%22100%25%22%7D%29%3B%0A%0A%20%20%20%20%20%20%20%20%0A%20%20%20%20%20%20%20%20%20%20%20%20var%20html_726f7ef5863b4ee4938a96b9be428b6e%20%3D%20%24%28%60%3Cdiv%20id%3D%22html_726f7ef5863b4ee4938a96b9be428b6e%22%20style%3D%22width%3A%20100.0%25%3B%20height%3A%20100.0%25%3B%22%3EEclectic%20Kitchen%3Cbr%3Estars%3A%203.5%3Cbr%3Ereviews%20count%3A%20137%3C/div%3E%60%29%5B0%5D%3B%0A%20%20%20%20%20%20%20%20%20%20%20%20popup_190906bd4def4e1e851b463e3186f50d.setContent%28html_726f7ef5863b4ee4938a96b9be428b6e%29%3B%0A%20%20%20%20%20%20%20%20%0A%0A%20%20%20%20%20%20%20%20marker_89a27da1e84f435782c6020153c09e8a.bindPopup%28popup_190906bd4def4e1e851b463e3186f50d%29%0A%20%20%20%20%20%20%20%20%3B%0A%0A%20%20%20%20%20%20%20%20%0A%20%20%20%20%0A%20%20%20%20%0A%20%20%20%20%20%20%20%20%20%20%20%20var%20marker_a1dc1f9996884d499abd3cdf4ed16fe1%20%3D%20L.marker%28%0A%20%20%20%20%20%20%20%20%20%20%20%20%20%20%20%20%5B45.493212%2C%20-122.636056%5D%2C%0A%20%20%20%20%20%20%20%20%20%20%20%20%20%20%20%20%7B%7D%0A%20%20%20%20%20%20%20%20%20%20%20%20%29.addTo%28map_af478e39dce340d384528e8ab3751fad%29%3B%0A%20%20%20%20%20%20%20%20%0A%20%20%20%20%0A%20%20%20%20%20%20%20%20%20%20%20%20var%20icon_189057742df343e4a755bedfadd44fc0%20%3D%20L.AwesomeMarkers.icon%28%0A%20%20%20%20%20%20%20%20%20%20%20%20%20%20%20%20%7B%22extraClasses%22%3A%20%22fa-rotate-0%22%2C%20%22icon%22%3A%20%22info-sign%22%2C%20%22iconColor%22%3A%20%22white%22%2C%20%22markerColor%22%3A%20%22green%22%2C%20%22prefix%22%3A%20%22glyphicon%22%7D%0A%20%20%20%20%20%20%20%20%20%20%20%20%29%3B%0A%20%20%20%20%20%20%20%20%20%20%20%20marker_a1dc1f9996884d499abd3cdf4ed16fe1.setIcon%28icon_189057742df343e4a755bedfadd44fc0%29%3B%0A%20%20%20%20%20%20%20%20%0A%20%20%20%20%0A%20%20%20%20%20%20%20%20var%20popup_2e4cd01a2c6341a4981ae158557aa184%20%3D%20L.popup%28%7B%22maxWidth%22%3A%20%22100%25%22%7D%29%3B%0A%0A%20%20%20%20%20%20%20%20%0A%20%20%20%20%20%20%20%20%20%20%20%20var%20html_4fcba63577c3400c89f6a35f974d3f0c%20%3D%20%24%28%60%3Cdiv%20id%3D%22html_4fcba63577c3400c89f6a35f974d3f0c%22%20style%3D%22width%3A%20100.0%25%3B%20height%3A%20100.0%25%3B%22%3EYoko%26%23x27%3Bs%20Japanese%20Restaurant%3Cbr%3Estars%3A%204.0%3Cbr%3Ereviews%20count%3A%20373%3C/div%3E%60%29%5B0%5D%3B%0A%20%20%20%20%20%20%20%20%20%20%20%20popup_2e4cd01a2c6341a4981ae158557aa184.setContent%28html_4fcba63577c3400c89f6a35f974d3f0c%29%3B%0A%20%20%20%20%20%20%20%20%0A%0A%20%20%20%20%20%20%20%20marker_a1dc1f9996884d499abd3cdf4ed16fe1.bindPopup%28popup_2e4cd01a2c6341a4981ae158557aa184%29%0A%20%20%20%20%20%20%20%20%3B%0A%0A%20%20%20%20%20%20%20%20%0A%20%20%20%20%0A%20%20%20%20%0A%20%20%20%20%20%20%20%20%20%20%20%20var%20marker_5f2be561eb324c3d882583196721605b%20%3D%20L.marker%28%0A%20%20%20%20%20%20%20%20%20%20%20%20%20%20%20%20%5B45.4641695267%2C%20-122.65434729%5D%2C%0A%20%20%20%20%20%20%20%20%20%20%20%20%20%20%20%20%7B%7D%0A%20%20%20%20%20%20%20%20%20%20%20%20%29.addTo%28map_af478e39dce340d384528e8ab3751fad%29%3B%0A%20%20%20%20%20%20%20%20%0A%20%20%20%20%0A%20%20%20%20%20%20%20%20%20%20%20%20var%20icon_ddb3fb1847df42d4850ab44111e26918%20%3D%20L.AwesomeMarkers.icon%28%0A%20%20%20%20%20%20%20%20%20%20%20%20%20%20%20%20%7B%22extraClasses%22%3A%20%22fa-rotate-0%22%2C%20%22icon%22%3A%20%22info-sign%22%2C%20%22iconColor%22%3A%20%22white%22%2C%20%22markerColor%22%3A%20%22green%22%2C%20%22prefix%22%3A%20%22glyphicon%22%7D%0A%20%20%20%20%20%20%20%20%20%20%20%20%29%3B%0A%20%20%20%20%20%20%20%20%20%20%20%20marker_5f2be561eb324c3d882583196721605b.setIcon%28icon_ddb3fb1847df42d4850ab44111e26918%29%3B%0A%20%20%20%20%20%20%20%20%0A%20%20%20%20%0A%20%20%20%20%20%20%20%20var%20popup_9455eaea546443a994c9da004d2d4511%20%3D%20L.popup%28%7B%22maxWidth%22%3A%20%22100%25%22%7D%29%3B%0A%0A%20%20%20%20%20%20%20%20%0A%20%20%20%20%20%20%20%20%20%20%20%20var%20html_13cbde850d23488389785799f56c9c23%20%3D%20%24%28%60%3Cdiv%20id%3D%22html_13cbde850d23488389785799f56c9c23%22%20style%3D%22width%3A%20100.0%25%3B%20height%3A%20100.0%25%3B%22%3EYatra%20PDX%3Cbr%3Estars%3A%205.0%3Cbr%3Ereviews%20count%3A%209%3C/div%3E%60%29%5B0%5D%3B%0A%20%20%20%20%20%20%20%20%20%20%20%20popup_9455eaea546443a994c9da004d2d4511.setContent%28html_13cbde850d23488389785799f56c9c23%29%3B%0A%20%20%20%20%20%20%20%20%0A%0A%20%20%20%20%20%20%20%20marker_5f2be561eb324c3d882583196721605b.bindPopup%28popup_9455eaea546443a994c9da004d2d4511%29%0A%20%20%20%20%20%20%20%20%3B%0A%0A%20%20%20%20%20%20%20%20%0A%20%20%20%20%0A%3C/script%3E onload=\"this.contentDocument.open();this.contentDocument.write(    decodeURIComponent(this.getAttribute('data-html')));this.contentDocument.close();\" allowfullscreen webkitallowfullscreen mozallowfullscreen></iframe></div></div>"
     },
     "metadata": {},
     "output_type": "execute_result",
     "execution_count": 36
    }
   ],
   "source": [
    "# test case 1: valid user id\n",
    "\n",
    "final_result = get_hybrid_recommendation_by_user(\"uLhdaZUsVvT0gbNTdOSzDg\")\n",
    "display_in_map(final_result)"
   ],
   "metadata": {
    "collapsed": false,
    "pycharm": {
     "name": "#%%\n",
     "is_executing": false
    }
   }
  },
  {
   "cell_type": "code",
   "execution_count": 49,
   "outputs": [
    {
     "name": "stdout",
     "text": [
      "content based: \n[content based filtering] user id: DataFrame[user_id: string, name: string, review_count: string, yelping_since: string, friends: string, useful: string, funny: string, cool: string, fans: string, average_stars: string]\n",
      "end \n\n\ncollaborative based: \nend \n\n\nfriend based: \n",
      "end \n\n\nhybrid result: \nEmpty DataFrame\nColumns: [business_id, name, city, state, stars, review_count, categories, latitude, longitude, is_open, postal_code]\nIndex: []\nend \n\n\n",
      "need 10 business from location based\n"
     ],
     "output_type": "stream"
    }
   ],
   "source": [
    "# test case 2: invalid user id\n",
    "final_result = get_hybrid_recommendation_by_user(\"1uLhdaZUsVvT0gbNTdOSzDg\")"
   ],
   "metadata": {
    "collapsed": false,
    "pycharm": {
     "name": "#%%\n",
     "is_executing": false
    }
   }
  }
 ],
 "metadata": {
  "kernelspec": {
   "name": "pycharm-cb58f220",
   "language": "python",
   "display_name": "PyCharm (Final)"
  },
  "language_info": {
   "codemirror_mode": {
    "name": "ipython",
    "version": 2
   },
   "file_extension": ".py",
   "mimetype": "text/x-python",
   "name": "python",
   "nbconvert_exporter": "python",
   "pygments_lexer": "ipython2",
   "version": "2.7.6"
  },
  "pycharm": {
   "stem_cell": {
    "cell_type": "raw",
    "source": [],
    "metadata": {
     "collapsed": false
    }
   }
  }
 },
 "nbformat": 4,
 "nbformat_minor": 0
}