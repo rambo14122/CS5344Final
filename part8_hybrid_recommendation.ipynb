{
 "cells": [
  {
   "cell_type": "markdown",
   "metadata": {
    "collapsed": true,
    "pycharm": {
     "name": "#%% md\n"
    }
   },
   "source": [
    "# Part 8 Hybrid Recommendation"
   ]
  },
  {
   "cell_type": "code",
   "execution_count": 12,
   "outputs": [],
   "source": [
    "from pyspark.ml import PipelineModel\n",
    "from pyspark.sql.functions import *\n",
    "from pyspark.sql import SparkSession\n",
    "import pandas as pd\n",
    "from pyspark.sql.types import *\n",
    "from pyspark.sql.functions import *\n",
    "import numpy as np\n",
    "import folium\n",
    "import html"
   ],
   "metadata": {
    "collapsed": false,
    "pycharm": {
     "name": "#%%\n",
     "is_executing": false
    }
   }
  },
  {
   "cell_type": "code",
   "execution_count": 13,
   "outputs": [],
   "source": [
    "spark = SparkSession.builder\\\n",
    "    .config(\"spark.driver.memory\", \"32g\")\\\n",
    "    .config(\"spark.executor.memory\",\"32g\")\\\n",
    "    .config(\"spark.driver.maxResultSize\",\"0\")\\\n",
    "    .config(\"spark.sql.autoBroadcastJoinThreshold\",\"-1\")\\\n",
    "    .config(\"spark.sql.broadcastTimeout\",\"1200\")\\\n",
    "    .config(\"spark.default.parallelism\", \"32\")\\\n",
    "    .config(\"spark.executor.heartbeatInterval\", \"3600\")\\\n",
    "    .config(\"spark.local.dir\",\"D:\\\\Data\")\\\n",
    "    .appName(\"part8\").getOrCreate()"
   ],
   "metadata": {
    "collapsed": false,
    "pycharm": {
     "name": "#%%\n",
     "is_executing": false
    }
   }
  },
  {
   "cell_type": "code",
   "execution_count": 14,
   "outputs": [],
   "source": [
    "review = spark.read.csv(\"part4_topicmodeling_review.csv\", header=True, multiLine=True)\n",
    "business = spark.read.csv(\"part1_dataclean_business.csv\",header=True, multiLine=True).cache()\n",
    "user = spark.read.csv(\"part1_dataclean_user.csv\", header=True, multiLine=True)"
   ],
   "metadata": {
    "collapsed": false,
    "pycharm": {
     "name": "#%%\n",
     "is_executing": false
    }
   }
  },
  {
   "cell_type": "code",
   "execution_count": 15,
   "outputs": [],
   "source": [
    "# define utility functions\n",
    "\n",
    "def cosine_similarity(vector1, vector2): \n",
    "    return np.dot(vector1, vector2) / np.sqrt(np.dot(vector1, vector1)) / np.sqrt(np.dot(vector2, vector2)) \n",
    "def display_in_map(business_df):\n",
    "    folium_map = folium.Map(location=[45.5, -122.5], zoom_start=10)\n",
    "    for i, r in business_df.toPandas().iterrows():\n",
    "        folium.Marker(\n",
    "                    location =[r.latitude, r.longitude], \n",
    "                    popup = html.escape(r[\"name\"]) + '<br>' + 'stars: ' + str(r.stars) + '<br>' + 'reviews count: ' + str(r.review_count),    \n",
    "                    icon = folium.Icon(color='green')).add_to(folium_map)\n",
    "    return folium_map"
   ],
   "metadata": {
    "collapsed": false,
    "pycharm": {
     "name": "#%%\n",
     "is_executing": false
    }
   }
  },
  {
   "cell_type": "markdown",
   "source": [
    "### Prepare Content Based Filtering"
   ],
   "metadata": {
    "collapsed": false,
    "pycharm": {
     "name": "#%% md\n"
    }
   }
  },
  {
   "cell_type": "code",
   "execution_count": 16,
   "outputs": [
    {
     "name": "stdout",
     "text": [
      "+--------------------+--------------------+\n|         business_id|         word_vector|\n+--------------------+--------------------+\n|0OLouFEhEm3pIh4Sx...|[0.00706271847664...|\n|M4zae56hA6sb6V2Ty...|[-0.0525487022407...|\n|W60O4ast9uAq03n7n...|[-0.0027295319850...|\n+--------------------+--------------------+\nonly showing top 3 rows\n\n",
      "[-0.05254870224070885,0.03538502551234829,-0.03854379182152756,-0.053777138675465165,0.11863246697258918,-0.042976504449101866,-0.06302669620455528,-0.010523899725802371,-0.05600440347677558,-0.051089978157957947,-0.12485574790768786,-0.01871904768133106,-0.01511064755262284,-0.012473998580663153,-0.0065393127728708925,-0.018541000201754955,0.026146981704871602,-0.0016333255095140166,0.019860426191859133,-0.02298519021158624,-0.06866251518718708,-0.04173724704121691,0.058374670250007615,-0.033756228102148386,0.036534135101342076,0.031458382954585626,0.014802017625441538,0.04208449111690074,0.05030599064622714,0.02105374494679037,-0.0195642894819269,0.0034160628788665777,0.03395830864219333,0.01141115462098575,-0.07339074955288873,0.006038148350013599,0.030040749926342647,0.019178156645195826,0.030420070933069077,0.026424276935886563,0.06978567937052522,-0.038662586510325364,-0.003517041154072199,-0.0709566290981172,0.030881129774067616,0.03637652215834272,-0.042959994960077935,0.04972426530825177,0.05291908217583924,-0.007215156437148692,-0.06759938494600379,0.03604435021378773,0.026383831714969518,0.02697421875927038,-0.08937993100696903,-0.0675996710759407,-0.01982851261380241,-0.0017940402937706883,-0.058421112945044956,-0.08880331134560483,-0.005576195163382579,0.016750543706828425,0.014313391662452303,0.04417082428150613,0.006844726232884172,-0.07906391895275204,-0.04351495841047669,0.022416933752259262,-0.021910484226283663,-0.10473319522737395,-0.054996799571903864,-0.014218603449948854,-0.006363870307356984,-0.06445056761510565,0.022793586533658077,-0.06624891750990053,0.04677990500011084,0.04364684822155727,-0.029078167441544234,0.08173745354319949,0.04290179008066342,-0.035191017495432055,0.009587641693031453,-0.02862967071102764,0.01855057649868083,0.003869431405685691,0.0037144745455932587,-0.06723655056475496,0.05858744996030741,0.019736421721136845,-0.03625163426473645,-0.005349039772723941,-0.006491014786744817,-0.0841400456261289,-0.03875898864991421,0.0557050942813113,-0.08074009112186684,-0.06281409859545732,0.08900172704076087,-0.017272912181610128]\n"
     ],
     "output_type": "stream"
    }
   ],
   "source": [
    "# load pipeline model\n",
    "\n",
    "pipeline_model = PipelineModel.load(\"content_based_pipeline_model\")\n",
    "\n",
    "\n",
    "# load all business vectors\n",
    "\n",
    "all_business_vectors_df = spark.read.load(\"part5_all_business_vectors.parquet\").cache()\n",
    "all_business_vectors_df.show(3)\n",
    "\n",
    "all_business_vectors = all_business_vectors_df.rdd.map(lambda x: (x[0], x[1])).collect()\n",
    "print(all_business_vectors[1][1])"
   ],
   "metadata": {
    "collapsed": false,
    "pycharm": {
     "name": "#%%\n",
     "is_executing": false
    }
   }
  },
  {
   "cell_type": "code",
   "execution_count": 17,
   "outputs": [],
   "source": [
    "def get_similar_business(business_ids, limit=10):\n",
    "    schema = StructType([   \n",
    "                            StructField(\"business_id\", StringType(), True),\n",
    "                            StructField(\"score\", IntegerType(), True)\n",
    "                        ])\n",
    "    similar_businesses_df = spark.createDataFrame([], schema)\n",
    "    \n",
    "    for b_id in business_ids:\n",
    "        try:\n",
    "            input_vec = [(r[1]) for r in all_business_vectors if r[0] == b_id][0]\n",
    "        except:\n",
    "            continue\n",
    "        similar_business_rdd = spark.sparkContext.parallelize(\n",
    "            (i[0], float(cosine_similarity(input_vec, i[1]))) for i in all_business_vectors)\n",
    "\n",
    "        similar_business_df = spark.createDataFrame(similar_business_rdd) \\\n",
    "            .withColumnRenamed(\"_1\", \"business_id\") \\\n",
    "            .withColumnRenamed(\"_2\", \"score\") \\\n",
    "            .orderBy(\"score\", ascending = False)\n",
    "            \n",
    "        similar_business_df = similar_business_df.filter(col(\"business_id\") != b_id).limit(limit)\n",
    "        similar_businesses_df = similar_businesses_df \\\n",
    "                                    .union(similar_business_df)\n",
    "    return similar_businesses_df.orderBy(\"score\", ascending=False).limit(limit)\n",
    "\n",
    "def get_user_recommendation(user_id, limit = 10):\n",
    "    print(f\"[content based filtering] user id: {user_id}\")\n",
    "    user_reviewed_businesses = review\\\n",
    "        .filter((col(\"user_id\") == user_id) & (col(\"superscore\")>=3.0))\\\n",
    "        .orderBy(\"superscore\", ascending=False)\\\n",
    "        .select(\"business_id\").distinct().limit(limit).rdd.collect()\n",
    "    if len(user_reviewed_businesses)==0:\n",
    "        return None\n",
    "    business_list = []\n",
    "    for row in user_reviewed_businesses:\n",
    "        business_list.append(row.business_id)\n",
    "    print(f\"[content based filtering] user reviewed businesses: {business_list}\")\n",
    "    return content_based_get_details(get_similar_business(business_list, limit))\n",
    "\n",
    "def get_keywords_recommendation(keywords, limit=10):\n",
    "    \n",
    "    print(f\"[content based filtering] keywords: {keywords}\")\n",
    "    keywords_df = spark.sparkContext.parallelize([(0, keywords)]).toDF([\"business_id\", \"text\"])\n",
    "    \n",
    "    # transform the the keywords to vectors\n",
    "    \n",
    "    transformed_keywords_df = pipeline_model.transform(keywords_df)    \n",
    "    keywords_vector = transformed_keywords_df.select(\"word_vector\").collect()[0][0]\n",
    "    sim_bus_byword_rdd = spark.sparkContext\\\n",
    "        .parallelize((i[0], float(cosine_similarity(keywords_vector, i[1]))) for i in all_business_vectors)\n",
    "\n",
    "    sim_bus_byword_df = spark.createDataFrame(sim_bus_byword_rdd) \\\n",
    "         .withColumnRenamed(\"_1\", \"business_id\") \\\n",
    "         .withColumnRenamed(\"_2\", \"score\") \\\n",
    "         .orderBy(\"score\", ascending = False) \\\n",
    "         .limit(limit)\n",
    "    \n",
    "    # return top 10 similar businesses\n",
    "    \n",
    "    a = sim_bus_byword_df.limit(limit)\n",
    "    return content_based_get_details(a)\n",
    "\n",
    "def content_based_get_details(recommended_business):\n",
    "    return recommended_business.join(business, \"business_id\", \"inner\").orderBy(\"score\", ascending=False)"
   ],
   "metadata": {
    "collapsed": false,
    "pycharm": {
     "name": "#%%\n",
     "is_executing": false
    }
   }
  },
  {
   "cell_type": "code",
   "execution_count": 18,
   "outputs": [
    {
     "data": {
      "text/plain": "              business_id     score                         name      city  \\\n0  J5pyv-h-OgbJJ1d7KFQXkg  0.959442         Dairy Hill Ice Cream  Portland   \n1  C3MsUBX9Zt76COT3l-OAtg  0.918731                   Ruby Jewel  Portland   \n2  sH-aYKTMVQ8TN7_wv7tr5A  0.909337         Hurry Back Ice Cream  Portland   \n3  D3ND25B6h3xOJVuohZxMtg  0.904133          Cool Moon Ice Cream  Portland   \n4  XUA4QMW3_lHPmmLwwDiZDQ  0.900201         Cloud City Ice Cream  Portland   \n5  xGiqtSj3GmfnOFTsVAK_JQ  0.899289  Handel's Homemade Ice Cream  Portland   \n6  3i-vTnuordT7_iQW8UroFw  0.893876        Fifty Licks Ice Cream  Portland   \n7  nVM8SLX5Yp3E6NNmL7tAPQ  0.891180                  Fifty Licks  Portland   \n8  DU9QRdyekAFrR3GzjDaB5g  0.889460                   Ruby Jewel  Portland   \n9  2lqbPc3KrbaFTZJCw0t2TQ  0.889111                   Ruby Jewel  Portland   \n\n  state stars review_count                                         categories  \\\n0    OR   4.5           61  Bakeries, Ice Cream & Frozen Yogurt, Desserts,...   \n1    OR   4.5           29          Food, Desserts, Ice Cream & Frozen Yogurt   \n2    OR   5.0           85       Food Trucks, Food, Ice Cream & Frozen Yogurt   \n3    OR   4.5          463  Ice Cream & Frozen Yogurt, Food, Coffee & Tea,...   \n4    OR   4.5          414  Food, Coffee & Tea, Ice Cream & Frozen Yogurt,...   \n5    OR   4.0           85                    Food, Ice Cream & Frozen Yogurt   \n6    OR   4.0          245       Food Trucks, Food, Ice Cream & Frozen Yogurt   \n7    OR   4.0          478       Food Trucks, Ice Cream & Frozen Yogurt, Food   \n8    OR   4.0          434  Bakeries, Caterers, Ice Cream & Frozen Yogurt,...   \n9    OR   4.0          743  Event Planning & Services, Caterers, Specialty...   \n\n        latitude        longitude is_open postal_code  \n0      45.477952  -122.6958435774       1       97239  \n1  45.5345046219  -122.6986144446       1       97210  \n2      45.467275      -122.653168       1       97202  \n3  45.5287951382  -122.6825249787       1       97209  \n4     45.4795487     -122.6159691       1       97206  \n5     45.5282597     -122.8148562       1       97229  \n6     45.5227216     -122.6374919       1       97214  \n7      45.503615  -122.6450414642       1       97202  \n8  45.5497015429   -122.675727682       1       97227  \n9     45.5220396     -122.6830297       1       97205  ",
      "text/html": "<div>\n<style scoped>\n    .dataframe tbody tr th:only-of-type {\n        vertical-align: middle;\n    }\n\n    .dataframe tbody tr th {\n        vertical-align: top;\n    }\n\n    .dataframe thead th {\n        text-align: right;\n    }\n</style>\n<table border=\"1\" class=\"dataframe\">\n  <thead>\n    <tr style=\"text-align: right;\">\n      <th></th>\n      <th>business_id</th>\n      <th>score</th>\n      <th>name</th>\n      <th>city</th>\n      <th>state</th>\n      <th>stars</th>\n      <th>review_count</th>\n      <th>categories</th>\n      <th>latitude</th>\n      <th>longitude</th>\n      <th>is_open</th>\n      <th>postal_code</th>\n    </tr>\n  </thead>\n  <tbody>\n    <tr>\n      <th>0</th>\n      <td>J5pyv-h-OgbJJ1d7KFQXkg</td>\n      <td>0.959442</td>\n      <td>Dairy Hill Ice Cream</td>\n      <td>Portland</td>\n      <td>OR</td>\n      <td>4.5</td>\n      <td>61</td>\n      <td>Bakeries, Ice Cream &amp; Frozen Yogurt, Desserts,...</td>\n      <td>45.477952</td>\n      <td>-122.6958435774</td>\n      <td>1</td>\n      <td>97239</td>\n    </tr>\n    <tr>\n      <th>1</th>\n      <td>C3MsUBX9Zt76COT3l-OAtg</td>\n      <td>0.918731</td>\n      <td>Ruby Jewel</td>\n      <td>Portland</td>\n      <td>OR</td>\n      <td>4.5</td>\n      <td>29</td>\n      <td>Food, Desserts, Ice Cream &amp; Frozen Yogurt</td>\n      <td>45.5345046219</td>\n      <td>-122.6986144446</td>\n      <td>1</td>\n      <td>97210</td>\n    </tr>\n    <tr>\n      <th>2</th>\n      <td>sH-aYKTMVQ8TN7_wv7tr5A</td>\n      <td>0.909337</td>\n      <td>Hurry Back Ice Cream</td>\n      <td>Portland</td>\n      <td>OR</td>\n      <td>5.0</td>\n      <td>85</td>\n      <td>Food Trucks, Food, Ice Cream &amp; Frozen Yogurt</td>\n      <td>45.467275</td>\n      <td>-122.653168</td>\n      <td>1</td>\n      <td>97202</td>\n    </tr>\n    <tr>\n      <th>3</th>\n      <td>D3ND25B6h3xOJVuohZxMtg</td>\n      <td>0.904133</td>\n      <td>Cool Moon Ice Cream</td>\n      <td>Portland</td>\n      <td>OR</td>\n      <td>4.5</td>\n      <td>463</td>\n      <td>Ice Cream &amp; Frozen Yogurt, Food, Coffee &amp; Tea,...</td>\n      <td>45.5287951382</td>\n      <td>-122.6825249787</td>\n      <td>1</td>\n      <td>97209</td>\n    </tr>\n    <tr>\n      <th>4</th>\n      <td>XUA4QMW3_lHPmmLwwDiZDQ</td>\n      <td>0.900201</td>\n      <td>Cloud City Ice Cream</td>\n      <td>Portland</td>\n      <td>OR</td>\n      <td>4.5</td>\n      <td>414</td>\n      <td>Food, Coffee &amp; Tea, Ice Cream &amp; Frozen Yogurt,...</td>\n      <td>45.4795487</td>\n      <td>-122.6159691</td>\n      <td>1</td>\n      <td>97206</td>\n    </tr>\n    <tr>\n      <th>5</th>\n      <td>xGiqtSj3GmfnOFTsVAK_JQ</td>\n      <td>0.899289</td>\n      <td>Handel's Homemade Ice Cream</td>\n      <td>Portland</td>\n      <td>OR</td>\n      <td>4.0</td>\n      <td>85</td>\n      <td>Food, Ice Cream &amp; Frozen Yogurt</td>\n      <td>45.5282597</td>\n      <td>-122.8148562</td>\n      <td>1</td>\n      <td>97229</td>\n    </tr>\n    <tr>\n      <th>6</th>\n      <td>3i-vTnuordT7_iQW8UroFw</td>\n      <td>0.893876</td>\n      <td>Fifty Licks Ice Cream</td>\n      <td>Portland</td>\n      <td>OR</td>\n      <td>4.0</td>\n      <td>245</td>\n      <td>Food Trucks, Food, Ice Cream &amp; Frozen Yogurt</td>\n      <td>45.5227216</td>\n      <td>-122.6374919</td>\n      <td>1</td>\n      <td>97214</td>\n    </tr>\n    <tr>\n      <th>7</th>\n      <td>nVM8SLX5Yp3E6NNmL7tAPQ</td>\n      <td>0.891180</td>\n      <td>Fifty Licks</td>\n      <td>Portland</td>\n      <td>OR</td>\n      <td>4.0</td>\n      <td>478</td>\n      <td>Food Trucks, Ice Cream &amp; Frozen Yogurt, Food</td>\n      <td>45.503615</td>\n      <td>-122.6450414642</td>\n      <td>1</td>\n      <td>97202</td>\n    </tr>\n    <tr>\n      <th>8</th>\n      <td>DU9QRdyekAFrR3GzjDaB5g</td>\n      <td>0.889460</td>\n      <td>Ruby Jewel</td>\n      <td>Portland</td>\n      <td>OR</td>\n      <td>4.0</td>\n      <td>434</td>\n      <td>Bakeries, Caterers, Ice Cream &amp; Frozen Yogurt,...</td>\n      <td>45.5497015429</td>\n      <td>-122.675727682</td>\n      <td>1</td>\n      <td>97227</td>\n    </tr>\n    <tr>\n      <th>9</th>\n      <td>2lqbPc3KrbaFTZJCw0t2TQ</td>\n      <td>0.889111</td>\n      <td>Ruby Jewel</td>\n      <td>Portland</td>\n      <td>OR</td>\n      <td>4.0</td>\n      <td>743</td>\n      <td>Event Planning &amp; Services, Caterers, Specialty...</td>\n      <td>45.5220396</td>\n      <td>-122.6830297</td>\n      <td>1</td>\n      <td>97205</td>\n    </tr>\n  </tbody>\n</table>\n</div>"
     },
     "metadata": {},
     "output_type": "execute_result",
     "execution_count": 18
    }
   ],
   "source": [
    "# verify the loading process for content based\n",
    "# test case 1\n",
    "\n",
    "content_based_get_details(\n",
    "    get_similar_business([\"Npm0cjoyWwyV13OULL9qOA\", \"ZKPqinA-7gkDA8-yzubSYw\"]))\\\n",
    "    .toPandas()"
   ],
   "metadata": {
    "collapsed": false,
    "pycharm": {
     "name": "#%% \n",
     "is_executing": false
    }
   }
  },
  {
   "cell_type": "code",
   "execution_count": null,
   "outputs": [
    {
     "name": "stdout",
     "text": [
      "[content based filtering] user id: uLhdaZUsVvT0gbNTdOSzDg\n",
      "[content based filtering] user reviewed businesses: ['sekbE_TpoPkVWIHMu0uBiA', '4Hc4QRv8PBlTXi9jm2s5cw']\n"
     ],
     "output_type": "stream"
    }
   ],
   "source": [
    "# test case 2\n",
    "\n",
    "get_user_recommendation(\"uLhdaZUsVvT0gbNTdOSzDg\").toPandas()"
   ],
   "metadata": {
    "collapsed": false,
    "pycharm": {
     "name": "#%%\n",
     "is_executing": true
    }
   }
  },
  {
   "cell_type": "code",
   "execution_count": null,
   "outputs": [],
   "source": [
    "# test case 3\n",
    "\n",
    "get_keywords_recommendation(\"burger\").toPandas()\n"
   ],
   "metadata": {
    "collapsed": false,
    "pycharm": {
     "name": "#%%\n",
     "is_executing": true
    }
   }
  },
  {
   "cell_type": "markdown",
   "source": [
    "### Prepare Collaborative Filtering "
   ],
   "metadata": {
    "collapsed": false
   }
  },
  {
   "cell_type": "code",
   "execution_count": null,
   "outputs": [],
   "source": [
    "loaded_user_recommendations = spark.read.load(\"part6_all_user_recommendations.parquet\").cache()\n",
    "loaded_user_recommendations.show(3)\n",
    "loaded_user_recommendations.printSchema()\n",
    "\n",
    "business_new_df = spark.read.load(\"part6_business_with_index.parquet\").cache()\n",
    "business_new_df.show(2)"
   ],
   "metadata": {
    "collapsed": false,
    "pycharm": {
     "name": "#%%\n",
     "is_executing": true
    }
   }
  },
  {
   "cell_type": "code",
   "execution_count": null,
   "outputs": [],
   "source": [
    "def get_collaborative_recommendation(user_id, limit=10):\n",
    "\n",
    "    filtered_business = loaded_user_recommendations.filter(col(\"user_id\") == user_id)\n",
    "    if not filtered_business.head(1):\n",
    "        return None\n",
    "    recommended_business =  spark.createDataFrame(\n",
    "        filtered_business.rdd.flatMap(lambda p: p[1])\n",
    "    )\n",
    "    return business_new_df.join(recommended_business, \"business_index\", \"inner\")\\\n",
    "             .orderBy(\"rating\", ascending = False).limit(limit)\n",
    "\n",
    "random_user = loaded_user_recommendations.sample(0.01, seed=1).head(1)[0].user_id\n",
    "print(f\"[collaborative filtering] test user id: {random_user}\")\n",
    "get_collaborative_recommendation(random_user).toPandas()"
   ],
   "metadata": {
    "collapsed": false,
    "pycharm": {
     "name": "#%%\n",
     "is_executing": true
    }
   }
  },
  {
   "cell_type": "markdown",
   "source": [
    "### Prepare Friend Recommendation"
   ],
   "metadata": {
    "collapsed": false
   }
  },
  {
   "cell_type": "code",
   "execution_count": null,
   "outputs": [],
   "source": [
    "user_friends = user.select(\"user_id\", \"friends\").cache()\n",
    "\n",
    "def get_friends_recommendation(user_id, limit=10):\n",
    "    friends = user_friends.filter(col(\"user_id\")==user_id).limit(1)\n",
    "    if friends.count()<1:\n",
    "        return None\n",
    "    friend_str = friends.select(\"friends\").rdd.collect()[0][0].replace(\" \", \"\")\n",
    "    if friend_str==\"\":\n",
    "        return None\n",
    "    friend_list = list(friend_str.split(\",\"))\n",
    "    friends_businesses = review.filter(\n",
    "         (col(\"superscore\")>=3.0) &(col(\"user_id\").isin(friend_list)))\\\n",
    "        .orderBy(\"superscore\", ascending=False)\\\n",
    "        .select(\"business_id\").distinct().limit(limit).rdd.collect()\n",
    "    if len(friends_businesses)==0:\n",
    "        return None\n",
    "    business_list = []\n",
    "    for row in friends_businesses:\n",
    "        business_list.append(row.business_id)\n",
    "    return get_business_details(business_list) \n",
    "\n",
    "def get_business_details(business_list):\n",
    "    return business.filter(col(\"business_id\").isin(business_list)).orderBy(\"stars\", ascending=False)\n",
    "get_friends_recommendation(\"uLhdaZUsVvT0gbNTdOSzDg\").toPandas()\n"
   ],
   "metadata": {
    "collapsed": false,
    "pycharm": {
     "name": "#%%\n",
     "is_executing": true
    }
   }
  },
  {
   "cell_type": "markdown",
   "source": [
    "### Prepare Location Based Recommendation"
   ],
   "metadata": {
    "collapsed": false,
    "pycharm": {
     "name": "#%% md\n"
    }
   }
  },
  {
   "cell_type": "code",
   "execution_count": null,
   "outputs": [],
   "source": [
    "# TODO"
   ],
   "metadata": {
    "collapsed": false,
    "pycharm": {
     "name": "#%%\n",
     "is_executing": true
    }
   }
  },
  {
   "cell_type": "markdown",
   "source": [
    "### Hybrid Recommendation"
   ],
   "metadata": {
    "collapsed": false,
    "pycharm": {
     "name": "#%% md\n",
     "is_executing": true
    }
   },
   "outputs": [
    {
     "name": "stdout",
     "text": [
      "              business_id     score                        name      city  \\\n0  IyLLref8p5xTcuO7SpHf-g  0.999162                Salt & Straw  Portland   \n1  o_L9Ss4boqq6ZEF9xeSH6Q  0.996246                Salt & Straw  Portland   \n2  xzBdKVBwoPwDNLN7ZwVa2w  0.978557  Yoko's Japanese Restaurant  Portland   \n3  XUA4QMW3_lHPmmLwwDiZDQ  0.977217        Cloud City Ice Cream  Portland   \n4  nVM8SLX5Yp3E6NNmL7tAPQ  0.974500                 Fifty Licks  Portland   \n\n  state stars review_count                                         categories  \\\n0    OR   4.5         1704  Restaurants, Food, Food Stands, Ice Cream & Fr...   \n1    OR   4.5         3672  Food, Bakeries, Ice Cream & Frozen Yogurt, Cof...   \n2    OR   4.0          373  Sushi Bars, Coffee & Tea, Japanese, Restaurant...   \n3    OR   4.5          414  Food, Coffee & Tea, Ice Cream & Frozen Yogurt,...   \n4    OR   4.0          478       Food Trucks, Ice Cream & Frozen Yogurt, Food   \n\n     latitude        longitude is_open postal_code  \n0  45.5592731      -122.644136       1       97211  \n1  45.5289444     -122.6982801       1       97210  \n2   45.493212      -122.636056       1       97202  \n3  45.4795487     -122.6159691       1       97206  \n4   45.503615  -122.6450414642       1       97202  \n\n",
      "collaborative based: \n",
      "   business_index             business_id           name      city state  \\\n0            2551  vN2l24gtzxRw_nqCoLy3RA           Biga  Portland    OR   \n1            1183  0JUkzQXJKaiAbpruTgDPnw      Yatra PDX  Portland    OR   \n2            2880  9hSJzHu3JuILSEiwUDGXUg  Birrieria PDX  Portland    OR   \n\n  stars review_count                                         categories  \\\n0   5.0            5           Restaurants, Italian, Gluten-Free, Pizza   \n1   5.0            9  Food Stands, Food, Indian, Himalayan/Nepalese,...   \n2   4.5           29        Food Trucks, Food, Food Stands, Restaurants   \n\n        latitude      longitude is_open postal_code    rating  \n0     45.5628742   -122.6351415       1       97211  4.600189  \n1  45.4641695267  -122.65434729       1       97202  4.410491  \n2     45.4796668   -122.5146061       1       97236  4.371979  \n\n",
      "friend based: \n              business_id              name      city state stars  \\\n0  4VT8kIUlTa4d3mwWrGJ5Zg      Pepe le Moko  Portland    OR   4.0   \n1  qgq0usjnOA8qTWHdxbuzZA  Eclectic Kitchen  Portland    OR   3.5   \n\n  review_count                                         categories  \\\n0          439  Cocktail Bars, Nightlife, Bars, Restaurants, S...   \n1          137  Food, Salad, Sandwiches, Restaurants, Bakeries...   \n\n        latitude        longitude is_open postal_code  \n0  45.5218730302  -122.6811734763       1       97205  \n1      45.548143     -122.6118289       1       97213  \n\naggregated result: \n",
      "              business_id                        name      city state stars  \\\n0  IyLLref8p5xTcuO7SpHf-g                Salt & Straw  Portland    OR   4.5   \n1  o_L9Ss4boqq6ZEF9xeSH6Q                Salt & Straw  Portland    OR   4.5   \n2  xzBdKVBwoPwDNLN7ZwVa2w  Yoko's Japanese Restaurant  Portland    OR   4.0   \n3  XUA4QMW3_lHPmmLwwDiZDQ        Cloud City Ice Cream  Portland    OR   4.5   \n4  nVM8SLX5Yp3E6NNmL7tAPQ                 Fifty Licks  Portland    OR   4.0   \n5  vN2l24gtzxRw_nqCoLy3RA                        Biga  Portland    OR   5.0   \n6  0JUkzQXJKaiAbpruTgDPnw                   Yatra PDX  Portland    OR   5.0   \n7  9hSJzHu3JuILSEiwUDGXUg               Birrieria PDX  Portland    OR   4.5   \n8  4VT8kIUlTa4d3mwWrGJ5Zg                Pepe le Moko  Portland    OR   4.0   \n9  qgq0usjnOA8qTWHdxbuzZA            Eclectic Kitchen  Portland    OR   3.5   \n\n  review_count                                         categories  \\\n0         1704  Restaurants, Food, Food Stands, Ice Cream & Fr...   \n1         3672  Food, Bakeries, Ice Cream & Frozen Yogurt, Cof...   \n2          373  Sushi Bars, Coffee & Tea, Japanese, Restaurant...   \n3          414  Food, Coffee & Tea, Ice Cream & Frozen Yogurt,...   \n4          478       Food Trucks, Ice Cream & Frozen Yogurt, Food   \n5            5           Restaurants, Italian, Gluten-Free, Pizza   \n6            9  Food Stands, Food, Indian, Himalayan/Nepalese,...   \n7           29        Food Trucks, Food, Food Stands, Restaurants   \n8          439  Cocktail Bars, Nightlife, Bars, Restaurants, S...   \n9          137  Food, Salad, Sandwiches, Restaurants, Bakeries...   \n\n        latitude        longitude is_open postal_code  \n0     45.5592731      -122.644136       1       97211  \n1     45.5289444     -122.6982801       1       97210  \n2      45.493212      -122.636056       1       97202  \n3     45.4795487     -122.6159691       1       97206  \n4      45.503615  -122.6450414642       1       97202  \n5     45.5628742     -122.6351415       1       97211  \n6  45.4641695267    -122.65434729       1       97202  \n7     45.4796668     -122.5146061       1       97236  \n8  45.5218730302  -122.6811734763       1       97205  \n9      45.548143     -122.6118289       1       97213  \n\n"
     ],
     "output_type": "stream"
    }
   ]
  },
  {
   "cell_type": "code",
   "execution_count": null,
   "outputs": [],
   "source": [
    "# final hybrid recommendation model\n",
    "\n",
    "def get_hybrid_recommendation_by_user(user_id, \n",
    "                                      content_based_limit=5, \n",
    "                                      collaborative_based_limit=3,\n",
    "                                      friend_recommendation_limit=2):\n",
    "    hybrid_result = spark.createDataFrame(spark.sparkContext.emptyRDD(), business.schema)\n",
    "\n",
    "    print(\"content based: \")\n",
    "    content_based_result = get_user_recommendation(user_id, content_based_limit)\n",
    "    if content_based_result is not None :\n",
    "        print(content_based_result.toPandas())\n",
    "        hybrid_result = hybrid_result.union(content_based_result.drop(\"score\"))\n",
    "    print(\"end \\n\\n\")\n",
    "    \n",
    "    print(\"collaborative based: \")\n",
    "    collaborative_result = get_collaborative_recommendation(user_id, collaborative_based_limit)\n",
    "    if collaborative_result is not None :\n",
    "        print(collaborative_result.toPandas())\n",
    "        hybrid_result = hybrid_result.union(collaborative_result.drop(\"rating\", \"business_index\"))\n",
    "    print(\"end \\n\\n\")\n",
    "\n",
    "    print(\"friend based: \")\n",
    "    friend_result = get_friends_recommendation(user_id, friend_recommendation_limit)\n",
    "    if friend_result is not None :\n",
    "        print(friend_result.toPandas())\n",
    "        hybrid_result = hybrid_result.union(friend_result)\n",
    "    print(\"end \\n\\n\")\n",
    "    \n",
    "    print(\"hybrid result: \")\n",
    "    hybrid_result = hybrid_result.repartition(1).dropDuplicates([\"name\"])\n",
    "    if hybrid_result is not None :\n",
    "        print(hybrid_result.toPandas())\n",
    "    print(\"end \\n\\n\")\n",
    "\n",
    "    number_of_result = hybrid_result.count()\n",
    "    if  number_of_result< 10:\n",
    "        # TODO add location based result\n",
    "        # then union\n",
    "        print(f\"need {10-number_of_result} business from location based\")\n",
    "        pass\n",
    "    return hybrid_result"
   ],
   "metadata": {
    "collapsed": false,
    "pycharm": {
     "name": "#%%\n",
     "is_executing": true
    }
   }
  },
  {
   "cell_type": "code",
   "execution_count": null,
   "outputs": [],
   "source": [
    "# test case 1: valid user id\n",
    "\n",
    "final_result = get_hybrid_recommendation_by_user(\"uLhdaZUsVvT0gbNTdOSzDg\")\n",
    "display_in_map(final_result)"
   ],
   "metadata": {
    "collapsed": false,
    "pycharm": {
     "name": "#%%\n",
     "is_executing": true
    }
   }
  },
  {
   "cell_type": "code",
   "execution_count": null,
   "outputs": [],
   "source": [
    "# test case 2: invalid user id\n",
    "final_result = get_hybrid_recommendation_by_user(\"1uLhdaZUsVvT0gbNTdOSzDg\")"
   ],
   "metadata": {
    "collapsed": false,
    "pycharm": {
     "name": "#%%\n",
     "is_executing": true
    }
   }
  }
 ],
 "metadata": {
  "kernelspec": {
   "name": "pycharm-cb58f220",
   "language": "python",
   "display_name": "PyCharm (Final)"
  },
  "language_info": {
   "codemirror_mode": {
    "name": "ipython",
    "version": 2
   },
   "file_extension": ".py",
   "mimetype": "text/x-python",
   "name": "python",
   "nbconvert_exporter": "python",
   "pygments_lexer": "ipython2",
   "version": "2.7.6"
  },
  "pycharm": {
   "stem_cell": {
    "cell_type": "raw",
    "source": [],
    "metadata": {
     "collapsed": false
    }
   }
  }
 },
 "nbformat": 4,
 "nbformat_minor": 0
}