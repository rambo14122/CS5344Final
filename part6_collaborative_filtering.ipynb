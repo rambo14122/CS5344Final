{
 "cells": [
  {
   "cell_type": "markdown",
   "source": [
    "# Part 6 Collaborative Filtering"
   ],
   "metadata": {
    "collapsed": false,
    "pycharm": {
     "name": "#%% md\n"
    }
   }
  },
  {
   "cell_type": "markdown",
   "source": [
    "### Setup"
   ],
   "metadata": {
    "collapsed": false
   }
  },
  {
   "cell_type": "code",
   "execution_count": 1,
   "outputs": [],
   "source": [
    "from pyspark.sql.functions import *\n",
    "from pyspark.sql.types import *\n",
    "from pyspark.ml.recommendation import ALS, ALSModel\n",
    "from pyspark.ml.tuning import ParamGridBuilder, CrossValidator\n",
    "from pyspark.ml.evaluation import RegressionEvaluator\n",
    "from pyspark.sql import SparkSession\n",
    "import pandas as pd"
   ],
   "metadata": {
    "collapsed": false,
    "pycharm": {
     "name": "#%%\n",
     "is_executing": false
    }
   }
  },
  {
   "cell_type": "code",
   "source": [
    "spark = SparkSession.builder\\\n",
    "    .config(\"spark.driver.memory\", \"32g\")\\\n",
    "    .config(\"spark.executor.memory\",\"32g\")\\\n",
    "    .config(\"spark.driver.maxResultSize\",\"0\")\\\n",
    "    .config(\"spark.sql.autoBroadcastJoinThreshold\",\"-1\")\\\n",
    "    .config(\"spark.sql.broadcastTimeout\",\"1200\")\\\n",
    "    .config(\"spark.default.parallelism\", \"32\")\\\n",
    "    .config(\"spark.executor.heartbeatInterval\", \"3600\")\\\n",
    "    .config(\"spark.local.dir\",\"D:\\\\Data\")\\\n",
    "    .appName(\"part6\").getOrCreate()"
   ],
   "metadata": {
    "collapsed": false,
    "pycharm": {
     "name": "#%%\n",
     "is_executing": false
    }
   },
   "execution_count": 2,
   "outputs": []
  },
  {
   "cell_type": "code",
   "execution_count": 3,
   "outputs": [],
   "source": [
    "business = spark.read.json(\"yelp_academic_dataset_business.json\")\n",
    "review = spark.read.json(\"yelp_academic_dataset_review.json\")\n",
    "user = spark.read.json(\"yelp_academic_dataset_user.json\")\n"
   ],
   "metadata": {
    "collapsed": false,
    "pycharm": {
     "name": "#%%\n",
     "is_executing": false
    }
   }
  },
  {
   "cell_type": "markdown",
   "source": [
    "### Prepare Data for ALS"
   ],
   "metadata": {
    "collapsed": false
   }
  },
  {
   "cell_type": "code",
   "execution_count": 4,
   "outputs": [],
   "source": [
    "def df_zip_with_index (df, col_name, offset=0):\n",
    "    new_schema = StructType(\n",
    "                    [StructField(col_name,LongType(),True)]       \n",
    "                    + df.schema.fields                           \n",
    "                )\n",
    "\n",
    "    zipped_rdd = df.rdd.zipWithIndex()\n",
    "    new_rdd = zipped_rdd.map(lambda args: ([args[1] + offset] + list(args[0])))\n",
    "    return spark.createDataFrame(new_rdd, new_schema)"
   ],
   "metadata": {
    "collapsed": false,
    "pycharm": {
     "name": "#%%\n",
     "is_executing": false
    }
   }
  },
  {
   "cell_type": "code",
   "execution_count": 5,
   "outputs": [
    {
     "name": "stdout",
     "text": [
      "+----------+-------------+---------------+---------------+----------------+--------------+---------------+---------------+---------------+-----------------+----------------+------------------+-----------------+-----+--------------------+----+--------------------+-----+----+------------+------+--------------------+-------------------+\n|user_index|average_stars|compliment_cool|compliment_cute|compliment_funny|compliment_hot|compliment_list|compliment_more|compliment_note|compliment_photos|compliment_plain|compliment_profile|compliment_writer| cool|               elite|fans|             friends|funny|name|review_count|useful|             user_id|      yelping_since|\n+----------+-------------+---------------+---------------+----------------+--------------+---------------+---------------+---------------+-----------------+----------------+------------------+-----------------+-----+--------------------+----+--------------------+-----+----+------------+------+--------------------+-------------------+\n|         0|         3.85|           2541|            361|            2541|          1710|            147|            163|           1212|              323|            5691|               190|              815|11291|2006,2007,2008,20...|1357|xBDpTUbai0DXrvxCe...|10030|Jane|        1220| 15038|q_QQ5kBBwlCcbL1s4...|2005-03-14 20:26:35|\n|         1|         4.09|           2205|            232|            2205|          1632|             96|             87|           1187|              294|            3293|                94|              472|18046|2007,2008,2009,20...|1025|XPzYf9_mwG2eXYP2B...|10289|Gabi|        2136| 21272|dIIKEfOgo0KqUfGQv...|2007-08-10 19:01:51|\n+----------+-------------+---------------+---------------+----------------+--------------+---------------+---------------+---------------+-----------------+----------------+------------------+-----------------+-----+--------------------+----+--------------------+-----+----+------------+------+--------------------+-------------------+\nonly showing top 2 rows\n\n",
      "+--------------------+----------+\n|             user_id|user_index|\n+--------------------+----------+\n|q_QQ5kBBwlCcbL1s4...|         0|\n|dIIKEfOgo0KqUfGQv...|         1|\n+--------------------+----------+\nonly showing top 2 rows\n\n"
     ],
     "output_type": "stream"
    }
   ],
   "source": [
    "# prepare user\n",
    "\n",
    "user_new_df = df_zip_with_index(user, \"user_index\")\n",
    "user_new_df.show(2)\n",
    "\n",
    "user_index_df = user_new_df.select(\"user_id\", \"user_index\")\n",
    "user_index_df.show(2)"
   ],
   "metadata": {
    "collapsed": false,
    "pycharm": {
     "name": "#%%\n",
     "is_executing": false
    }
   }
  },
  {
   "cell_type": "code",
   "execution_count": 6,
   "outputs": [
    {
     "name": "stdout",
     "text": [
      "+--------------+-------------------+--------------------+--------------------+--------------------+--------+--------------------+-------+-------------+---------------+--------------------+-----------+------------+-----+-----+\n|business_index|            address|          attributes|         business_id|          categories|    city|               hours|is_open|     latitude|      longitude|                name|postal_code|review_count|stars|state|\n+--------------+-------------------+--------------------+--------------------+--------------------+--------+--------------------+-------+-------------+---------------+--------------------+-----------+------------+-----+-----+\n|             0|       921 Pearl St|{null, null, 'bee...|6iYb2HFDywm3zjuRg...|Gastropubs, Food,...| Boulder|{11:0-23:0, 11:0-...|      1|   40.0175444|   -105.2833481| Oskar Blues Taproom|      80302|          86|  4.0|   CO|\n|             1|7000 NE Airport Way|{null, null, u'be...|tCbdrRPZA0oiIYSmH...|Salad, Soup, Sand...|Portland|{5:0-18:0, 5:0-18...|      1|45.5889058992|-122.5933307507|Flying Elephants ...|      97218|         126|  4.0|   OR|\n+--------------+-------------------+--------------------+--------------------+--------------------+--------+--------------------+-------+-------------+---------------+--------------------+-----------+------------+-----+-----+\nonly showing top 2 rows\n\n",
      "+--------------------+--------------+\n|         business_id|business_index|\n+--------------------+--------------+\n|6iYb2HFDywm3zjuRg...|             0|\n|tCbdrRPZA0oiIYSmH...|             1|\n+--------------------+--------------+\nonly showing top 2 rows\n\n"
     ],
     "output_type": "stream"
    }
   ],
   "source": [
    "# prepare business\n",
    "\n",
    "business_new_df = df_zip_with_index(business, \"business_index\")\n",
    "business_new_df.show(2)\n",
    "\n",
    "business_index_df = business_new_df.select(\"business_id\", \"business_index\")\n",
    "business_index_df.show(2)"
   ],
   "metadata": {
    "collapsed": false,
    "pycharm": {
     "name": "#%%\n",
     "is_executing": false
    }
   }
  },
  {
   "cell_type": "code",
   "execution_count": 7,
   "outputs": [
    {
     "name": "stdout",
     "text": [
      "+--------------------+--------------------+-----+----------+--------------+\n|         business_id|             user_id|stars|user_index|business_index|\n+--------------------+--------------------+-----+----------+--------------+\n|-36nnCT71XE0InJXK...|ofyOSbE04KsDt7e9T...|  1.0|    300867|         96101|\n|-36nnCT71XE0InJXK...|oLd1zN3dy5cmPCCnd...|  2.0|     85243|         96101|\n+--------------------+--------------------+-----+----------+--------------+\nonly showing top 2 rows\n\n"
     ],
     "output_type": "stream"
    }
   ],
   "source": [
    "# map new user_id and business_id in the review dataframe\n",
    "\n",
    "review_df = review.select(\"user_id\", \"business_id\", \"stars\")\n",
    "review_new_df = review_df.join(user_index_df, \"user_id\").join(business_index_df,\"business_id\")\n",
    "review_new_df.show(2)"
   ],
   "metadata": {
    "collapsed": false,
    "pycharm": {
     "name": "#%%\n",
     "is_executing": false
    }
   }
  },
  {
   "cell_type": "markdown",
   "source": [
    "### Build ALS Model"
   ],
   "metadata": {
    "collapsed": false
   }
  },
  {
   "cell_type": "code",
   "execution_count": 8,
   "outputs": [
    {
     "name": "stdout",
     "text": [
      "+----------+--------------+------+\n|user_index|business_index|rating|\n+----------+--------------+------+\n|    300867|         96101|   1.0|\n|     85243|         96101|   2.0|\n+----------+--------------+------+\nonly showing top 2 rows\n\n",
      "rating matrix count 8635403\nroot\n |-- user_index: long (nullable = true)\n |-- business_index: long (nullable = true)\n |-- rating: float (nullable = true)\n\n"
     ],
     "output_type": "stream"
    },
    {
     "data": {
      "text/plain": "   user_index  business_index  rating\n0      300867           96101     1.0\n1       85243           96101     2.0",
      "text/html": "<div>\n<style scoped>\n    .dataframe tbody tr th:only-of-type {\n        vertical-align: middle;\n    }\n\n    .dataframe tbody tr th {\n        vertical-align: top;\n    }\n\n    .dataframe thead th {\n        text-align: right;\n    }\n</style>\n<table border=\"1\" class=\"dataframe\">\n  <thead>\n    <tr style=\"text-align: right;\">\n      <th></th>\n      <th>user_index</th>\n      <th>business_index</th>\n      <th>rating</th>\n    </tr>\n  </thead>\n  <tbody>\n    <tr>\n      <th>0</th>\n      <td>300867</td>\n      <td>96101</td>\n      <td>1.0</td>\n    </tr>\n    <tr>\n      <th>1</th>\n      <td>85243</td>\n      <td>96101</td>\n      <td>2.0</td>\n    </tr>\n  </tbody>\n</table>\n</div>"
     },
     "metadata": {},
     "output_type": "execute_result",
     "execution_count": 8
    }
   ],
   "source": [
    "# create the rating matrix required by the ALS model\n",
    "\n",
    "rating_df = review_new_df.select(\"user_index\", \"business_index\", review_new_df.stars.cast(\"float\").alias(\"rating\"))\n",
    "rating_df.show(2)\n",
    "print(\"rating matrix count\", rating_df.count())\n",
    "rating_df.printSchema()\n",
    "rating_df.limit(2).toPandas()"
   ],
   "metadata": {
    "collapsed": false,
    "pycharm": {
     "name": "#%%\n",
     "is_executing": false
    }
   }
  },
  {
   "cell_type": "code",
   "execution_count": 9,
   "outputs": [],
   "source": [
    "(train, test) = rating_df.randomSplit([0.8, 0.2], seed=1)"
   ],
   "metadata": {
    "collapsed": false,
    "pycharm": {
     "name": "#%%\n",
     "is_executing": false
    }
   }
  },
  {
   "cell_type": "code",
   "execution_count": 10,
   "outputs": [
    {
     "data": {
      "text/plain": "'\\nprint(\"start tuning ALS model\")\\n\\nals = ALS(userCol=\"user_index\", itemCol=\"business_index\", ratingCol=\"rating\", coldStartStrategy=\"drop\")\\nparam_grid = ParamGridBuilder()    .addGrid(als.rank,[10, 15, 20])    .addGrid(als.maxIter,[10, 15, 20])    .build()\\nevaluator = RegressionEvaluator(metricName=\"rmse\",labelCol=\"rating\")\\n\\ncv = CrossValidator(estimator=als, estimatorParamMaps=param_grid, evaluator=evaluator, numFolds=5, seed=1)\\ncv_als_model = cv.fit(train)\\n\\nals_predictions = cv_als_model.bestModel.transform(test)\\nevaluator = RegressionEvaluator(metricName=\"rmse\", labelCol=\"rating\", predictionCol=\"prediction\")\\nrmse = evaluator.evaluate(als_predictions)\\nprint(\"rmse: \" + str(rmse))\\n\\nbest_model = cv_als_model.bestModel\\n#best_rank is 20\\nbest_model.rank\\n#best_maxIter is 20\\nbest_model._java_obj.parent().getMaxIter()\\n# rmse is 1.3383\\nprint(\"end tuning ALS model\")\\n\\nprint(\"rank:\", best_model._java_obj.parent().getRank())\\nprint(\"maxIter:\", best_model._java_obj.parent().getMaxIter())\\nprint(\"regParam:\", best_model._java_obj.parent().getRegParam())\\n'"
     },
     "metadata": {},
     "output_type": "execute_result",
     "execution_count": 10
    }
   ],
   "source": [
    "\"\"\"\n",
    "print(\"start tuning ALS model\")\n",
    "\n",
    "als = ALS(userCol=\"user_index\", itemCol=\"business_index\", ratingCol=\"rating\", coldStartStrategy=\"drop\")\n",
    "param_grid = ParamGridBuilder()\\\n",
    "    .addGrid(als.rank,[10, 15, 20])\\\n",
    "    .addGrid(als.maxIter,[10, 15, 20])\\\n",
    "    .build()\n",
    "evaluator = RegressionEvaluator(metricName=\"rmse\",labelCol=\"rating\")\n",
    "\n",
    "cv = CrossValidator(estimator=als, estimatorParamMaps=param_grid, evaluator=evaluator, numFolds=5, seed=1)\n",
    "cv_als_model = cv.fit(train)\n",
    "\n",
    "als_predictions = cv_als_model.bestModel.transform(test)\n",
    "evaluator = RegressionEvaluator(metricName=\"rmse\", labelCol=\"rating\", predictionCol=\"prediction\")\n",
    "rmse = evaluator.evaluate(als_predictions)\n",
    "print(\"rmse: \" + str(rmse))\n",
    "\n",
    "best_model = cv_als_model.bestModel\n",
    "#best_rank is 20\n",
    "best_model.rank\n",
    "#best_maxIter is 20\n",
    "best_model._java_obj.parent().getMaxIter()\n",
    "# rmse is 1.3383\n",
    "print(\"end tuning ALS model\")\n",
    "\n",
    "print(\"rank:\", best_model._java_obj.parent().getRank())\n",
    "print(\"maxIter:\", best_model._java_obj.parent().getMaxIter())\n",
    "print(\"regParam:\", best_model._java_obj.parent().getRegParam())\n",
    "\"\"\""
   ],
   "metadata": {
    "collapsed": false,
    "pycharm": {
     "name": "#%%\n",
     "is_executing": false
    }
   }
  },
  {
   "cell_type": "code",
   "execution_count": 11,
   "outputs": [
    {
     "data": {
      "text/plain": "'\\nprint(\"start building ALS model\")\\n\\nals = ALS(rank=20, maxIter=20, regParam=0.3, userCol=\"user_index\", itemCol=\"business_index\", ratingCol=\"rating\",                coldStartStrategy=\"drop\", seed=1)\\nals_model = als.fit(train)\\n\\nals_predictions = als_model.transform(test)\\n# evaluator = RegressionEvaluator(metricName=\"rmse\", labelCol=\"rating\", predictionCol=\"prediction\")\\n# rmse = evaluator.evaluate(als_predictions)\\n# print(\"rmse: \" + str(rmse))\\n\\n# save the ALS model\\nals_model.write().overwrite().save(\"als_model\")\\n# rmse is 1.2579\\n\\nprint(\"end building ALS model\")\\n'"
     },
     "metadata": {},
     "output_type": "execute_result",
     "execution_count": 11
    }
   ],
   "source": [
    "\"\"\"\n",
    "print(\"start building ALS model\")\n",
    "\n",
    "als = ALS(rank=20, maxIter=20, regParam=0.3, userCol=\"user_index\", itemCol=\"business_index\", ratingCol=\"rating\", \\\n",
    "               coldStartStrategy=\"drop\", seed=1)\n",
    "als_model = als.fit(train)\n",
    "\n",
    "als_predictions = als_model.transform(test)\n",
    "# evaluator = RegressionEvaluator(metricName=\"rmse\", labelCol=\"rating\", predictionCol=\"prediction\")\n",
    "# rmse = evaluator.evaluate(als_predictions)\n",
    "# print(\"rmse: \" + str(rmse))\n",
    "\n",
    "# save the ALS model\n",
    "als_model.write().overwrite().save(\"als_model\")\n",
    "# rmse is 1.2579\n",
    "\n",
    "print(\"end building ALS model\")\n",
    "\"\"\""
   ],
   "metadata": {
    "collapsed": false,
    "pycharm": {
     "name": "#%%\n",
     "is_executing": false
    }
   }
  },
  {
   "cell_type": "code",
   "execution_count": 12,
   "outputs": [],
   "source": [
    "# load als model\n",
    "als_model = ALSModel.load(\"als_model\")"
   ],
   "metadata": {
    "collapsed": false,
    "pycharm": {
     "name": "#%%\n",
     "is_executing": false
    }
   }
  },
  {
   "cell_type": "code",
   "execution_count": 13,
   "outputs": [
    {
     "name": "stdout",
     "text": [
      "+----------+--------------------+\n|user_index|     recommendations|\n+----------+--------------------+\n|       148|[{60336, 4.452312...|\n|       463|[{159581, 4.88538...|\n+----------+--------------------+\nonly showing top 2 rows\n\n"
     ],
     "output_type": "stream"
    }
   ],
   "source": [
    "# generate top 10 business for each user\n",
    "\n",
    "user_recommendations = als_model.recommendForAllUsers(10)\n",
    "user_recommendations.show(2)"
   ],
   "metadata": {
    "collapsed": false,
    "pycharm": {
     "name": "#%%\n",
     "is_executing": false
    }
   }
  },
  {
   "cell_type": "code",
   "execution_count": 25,
   "outputs": [
    {
     "name": "stdout",
     "text": [
      "+----------+-----------------------------------------------------------------------------------------------------------------------------------------------------------------------------------------------------+----------------------+\n|user_index|recommendations                                                                                                                                                                                      |user_id               |\n+----------+-----------------------------------------------------------------------------------------------------------------------------------------------------------------------------------------------------+----------------------+\n|26        |[{430, 4.8179026}, {38749, 4.6943216}, {3629, 4.6805577}, {53050, 4.632521}, {118534, 4.621344}, {87959, 4.6168857}, {152872, 4.607834}, {126090, 4.597147}, {136161, 4.5937386}, {150086, 4.591945}]|EeKFz5FcrlajMbm0tyFn7Q|\n|29        |[{155142, 5.5051017}, {29716, 5.3834133}, {71295, 5.295455}, {38025, 5.229974}, {11590, 5.2218924}, {6267, 5.2072487}, {59658, 5.1914673}, {90279, 5.168706}, {47685, 5.1669827}, {32037, 5.1665883}]|-oZ0Qva3U8W_HXKAVvscLQ|\n+----------+-----------------------------------------------------------------------------------------------------------------------------------------------------------------------------------------------------+----------------------+\nonly showing top 2 rows\n\n"
     ],
     "output_type": "stream"
    }
   ],
   "source": [
    "# add the column user_id, cache the recommendaton dataframe and show recommedations sample\n",
    "\n",
    "all_user_recommendations = user_recommendations.join(user_index_df, \"user_index\", \"inner\").cache()\n",
    "all_user_recommendations.show(2, truncate=False)"
   ],
   "metadata": {
    "collapsed": false,
    "pycharm": {
     "name": "#%%\n",
     "is_executing": false
    }
   }
  },
  {
   "cell_type": "code",
   "execution_count": 42,
   "outputs": [],
   "source": [
    "all_user_recommendations.write.format(\"parquet\").save(\"part6_all_user_recommendations.parquet\")"
   ],
   "metadata": {
    "collapsed": false,
    "pycharm": {
     "name": "#%%\n",
     "is_executing": false
    }
   }
  },
  {
   "cell_type": "code",
   "execution_count": 43,
   "outputs": [
    {
     "name": "stdout",
     "text": [
      "+----------+--------------------+--------------------+\n|user_index|     recommendations|             user_id|\n+----------+--------------------+--------------------+\n|        74|[{29716, 5.204533...|2-qjCTBWu0E892IUf...|\n|       280|[{159581, 4.95877...|g1v5bMkJlg63n_wZz...|\n|       322|[{67031, 5.239844...|hDhX63HdUlGNl3DBe...|\n+----------+--------------------+--------------------+\nonly showing top 3 rows\n\nroot\n |-- user_index: integer (nullable = true)\n |-- recommendations: array (nullable = true)\n |    |-- element: struct (containsNull = true)\n |    |    |-- business_index: integer (nullable = true)\n |    |    |-- rating: float (nullable = true)\n |-- user_id: string (nullable = true)\n\n"
     ],
     "output_type": "stream"
    }
   ],
   "source": [
    "# test load\n",
    "loaded_user_recommendations = spark.read.load(\"part6_all_user_recommendations.parquet\")\n",
    "loaded_user_recommendations.show(3)\n",
    "loaded_user_recommendations.printSchema()"
   ],
   "metadata": {
    "collapsed": false,
    "pycharm": {
     "name": "#%%\n",
     "is_executing": false
    }
   }
  },
  {
   "cell_type": "code",
   "execution_count": 44,
   "outputs": [],
   "source": [
    "def get_collaborative_recommendation(user_id):\n",
    "\n",
    "    recommended_business =  spark.createDataFrame(\n",
    "        loaded_user_recommendations.filter(col(\"user_id\") == user_id)\n",
    "                                                  .rdd.flatMap(lambda p: p[1]))\n",
    "    return recommended_business.join(business_new_df, \"business_index\", \"inner\")\\\n",
    "             .orderBy(\"rating\", ascending = False)\n",
    "    "
   ],
   "metadata": {
    "collapsed": false,
    "pycharm": {
     "name": "#%%\n",
     "is_executing": false
    }
   }
  },
  {
   "cell_type": "code",
   "execution_count": 45,
   "outputs": [
    {
     "data": {
      "text/plain": "   business_index    rating                       address  \\\n0             430  4.817903         5339 N IH-35, Ste 100   \n1           38749  4.694322   2600 Longhorn Blvd, Ste 107   \n2            3629  4.680558             2210 S 1st Street   \n3           53050  4.632521                9926 Circle Dr   \n4          118534  4.621344                                 \n5           87959  4.616886                                 \n6          152872  4.607834                                 \n7          126090  4.597147           8504 South Congress   \n8          136161  4.593739  4207 James Casey St, Ste 115   \n9          150086  4.591945         6001 Techni Center Dr   \n\n                                          attributes             business_id  \\\n0  (None, None, None, None, None, None, None, Non...  e3SRzV_dN_t5ZQW9TtK1qQ   \n1                                               None  Yxx6A4Yj7qZAzV8qe78nyw   \n2  (None, None, None, None, None, None, None, Non...  Ss0eE3EYBBXX_U8_uJZxYA   \n3  (None, None, u'beer_and_wine', None, None, Non...  BxcvlSGdj8alNt-yX7mYQg   \n4  (None, None, None, None, None, None, None, Non...  8suLHIUEGMLf4oOJ4f5Ziw   \n5  (None, None, None, None, None, None, None, Non...  vt_sr5QqKr8R6jk0lgGwZA   \n6  (None, None, None, None, None, None, None, Non...  87ls7-pCdQ7IQY-0Oscbiw   \n7  (None, None, u'beer_and_wine', {'romantic': Fa...  Oq5s3TSuJAPokLKbc7RkMA   \n8  (None, None, None, None, None, None, None, Non...  xraLRVJAK13RCXwThLu4lw   \n9  (None, None, None, None, None, None, None, Tru...  SA1PCjoASj60IKSKiE6Hhg   \n\n                                          categories    city  \\\n0         Family Practice, Doctors, Health & Medical  Austin   \n1                     Auto Repair, Automotive, Tires  Austin   \n2                    Sporting Goods, Bikes, Shopping  Austin   \n3        Bars, Karaoke, Active Life, Nightlife, Golf  Austin   \n4  Shades & Blinds, Building Supplies, Solar Inst...  Austin   \n5                                     Food, Desserts  Austin   \n6        Eyelash Service, Beauty & Spas, Nail Salons  Austin   \n7                                 Pizza, Restaurants  Austin   \n8                      Acupuncture, Health & Medical  Austin   \n9                                          Food, CSA  Austin   \n\n                                               hours  is_open   latitude  \\\n0                                               None        1  30.198704   \n1  (9:0-15:0, 9:0-15:0, None, None, 9:0-15:0, 9:0...        0  30.380994   \n2  (10:0-19:0, 10:0-19:0, 10:0-19:0, None, 10:0-1...        0  30.244053   \n3                                               None        0  30.246176   \n4  (8:0-19:0, 8:0-19:0, None, None, 8:0-19:0, 8:0...        1  30.353932   \n5                                               None        0  30.272921   \n6  (10:0-19:0, None, 10:0-18:0, None, 10:0-19:0, ...        0  30.168207   \n7  (17:0-1:0, 17:0-1:0, 17:0-1:0, 17:0-1:0, 17:0-...        0  30.172641   \n8  (9:0-18:0, 9:0-18:0, None, None, 9:0-18:0, 9:0...        1  30.224732   \n9  (8:0-15:0, 8:0-15:0, None, None, 8:0-15:0, 8:0...        1  30.276598   \n\n   longitude                                  name postal_code  review_count  \\\n0 -97.761154             Jeffrey F Bocchicchio, MD       78723             6   \n1 -97.725697                 SoulSpeed Performance       78758             7   \n2 -97.758649                Southside Bicycle Shop       78704             9   \n3 -97.927125                   Circle Country Club       78736             5   \n4 -97.736056      Josh Hobbs Solar Screen Services       78766            27   \n5 -97.744386                    Two Gals Cupcakery       78701             5   \n6 -97.817760          Nail Lounge By Chandra White       78748            10   \n7 -97.786324                         Via 313 Pizza       78745            19   \n8 -97.773718  AcuTouch Acupuncture and Herb Center       78745             8   \n9 -97.671343                       Good Flow Honey       78721            10   \n\n   stars state  \n0    5.0    TX  \n1    5.0    TX  \n2    4.0    TX  \n3    5.0    TX  \n4    5.0    TX  \n5    5.0    TX  \n6    4.5    TX  \n7    5.0    TX  \n8    5.0    TX  \n9    5.0    TX  ",
      "text/html": "<div>\n<style scoped>\n    .dataframe tbody tr th:only-of-type {\n        vertical-align: middle;\n    }\n\n    .dataframe tbody tr th {\n        vertical-align: top;\n    }\n\n    .dataframe thead th {\n        text-align: right;\n    }\n</style>\n<table border=\"1\" class=\"dataframe\">\n  <thead>\n    <tr style=\"text-align: right;\">\n      <th></th>\n      <th>business_index</th>\n      <th>rating</th>\n      <th>address</th>\n      <th>attributes</th>\n      <th>business_id</th>\n      <th>categories</th>\n      <th>city</th>\n      <th>hours</th>\n      <th>is_open</th>\n      <th>latitude</th>\n      <th>longitude</th>\n      <th>name</th>\n      <th>postal_code</th>\n      <th>review_count</th>\n      <th>stars</th>\n      <th>state</th>\n    </tr>\n  </thead>\n  <tbody>\n    <tr>\n      <th>0</th>\n      <td>430</td>\n      <td>4.817903</td>\n      <td>5339 N IH-35, Ste 100</td>\n      <td>(None, None, None, None, None, None, None, Non...</td>\n      <td>e3SRzV_dN_t5ZQW9TtK1qQ</td>\n      <td>Family Practice, Doctors, Health &amp; Medical</td>\n      <td>Austin</td>\n      <td>None</td>\n      <td>1</td>\n      <td>30.198704</td>\n      <td>-97.761154</td>\n      <td>Jeffrey F Bocchicchio, MD</td>\n      <td>78723</td>\n      <td>6</td>\n      <td>5.0</td>\n      <td>TX</td>\n    </tr>\n    <tr>\n      <th>1</th>\n      <td>38749</td>\n      <td>4.694322</td>\n      <td>2600 Longhorn Blvd, Ste 107</td>\n      <td>None</td>\n      <td>Yxx6A4Yj7qZAzV8qe78nyw</td>\n      <td>Auto Repair, Automotive, Tires</td>\n      <td>Austin</td>\n      <td>(9:0-15:0, 9:0-15:0, None, None, 9:0-15:0, 9:0...</td>\n      <td>0</td>\n      <td>30.380994</td>\n      <td>-97.725697</td>\n      <td>SoulSpeed Performance</td>\n      <td>78758</td>\n      <td>7</td>\n      <td>5.0</td>\n      <td>TX</td>\n    </tr>\n    <tr>\n      <th>2</th>\n      <td>3629</td>\n      <td>4.680558</td>\n      <td>2210 S 1st Street</td>\n      <td>(None, None, None, None, None, None, None, Non...</td>\n      <td>Ss0eE3EYBBXX_U8_uJZxYA</td>\n      <td>Sporting Goods, Bikes, Shopping</td>\n      <td>Austin</td>\n      <td>(10:0-19:0, 10:0-19:0, 10:0-19:0, None, 10:0-1...</td>\n      <td>0</td>\n      <td>30.244053</td>\n      <td>-97.758649</td>\n      <td>Southside Bicycle Shop</td>\n      <td>78704</td>\n      <td>9</td>\n      <td>4.0</td>\n      <td>TX</td>\n    </tr>\n    <tr>\n      <th>3</th>\n      <td>53050</td>\n      <td>4.632521</td>\n      <td>9926 Circle Dr</td>\n      <td>(None, None, u'beer_and_wine', None, None, Non...</td>\n      <td>BxcvlSGdj8alNt-yX7mYQg</td>\n      <td>Bars, Karaoke, Active Life, Nightlife, Golf</td>\n      <td>Austin</td>\n      <td>None</td>\n      <td>0</td>\n      <td>30.246176</td>\n      <td>-97.927125</td>\n      <td>Circle Country Club</td>\n      <td>78736</td>\n      <td>5</td>\n      <td>5.0</td>\n      <td>TX</td>\n    </tr>\n    <tr>\n      <th>4</th>\n      <td>118534</td>\n      <td>4.621344</td>\n      <td></td>\n      <td>(None, None, None, None, None, None, None, Non...</td>\n      <td>8suLHIUEGMLf4oOJ4f5Ziw</td>\n      <td>Shades &amp; Blinds, Building Supplies, Solar Inst...</td>\n      <td>Austin</td>\n      <td>(8:0-19:0, 8:0-19:0, None, None, 8:0-19:0, 8:0...</td>\n      <td>1</td>\n      <td>30.353932</td>\n      <td>-97.736056</td>\n      <td>Josh Hobbs Solar Screen Services</td>\n      <td>78766</td>\n      <td>27</td>\n      <td>5.0</td>\n      <td>TX</td>\n    </tr>\n    <tr>\n      <th>5</th>\n      <td>87959</td>\n      <td>4.616886</td>\n      <td></td>\n      <td>(None, None, None, None, None, None, None, Non...</td>\n      <td>vt_sr5QqKr8R6jk0lgGwZA</td>\n      <td>Food, Desserts</td>\n      <td>Austin</td>\n      <td>None</td>\n      <td>0</td>\n      <td>30.272921</td>\n      <td>-97.744386</td>\n      <td>Two Gals Cupcakery</td>\n      <td>78701</td>\n      <td>5</td>\n      <td>5.0</td>\n      <td>TX</td>\n    </tr>\n    <tr>\n      <th>6</th>\n      <td>152872</td>\n      <td>4.607834</td>\n      <td></td>\n      <td>(None, None, None, None, None, None, None, Non...</td>\n      <td>87ls7-pCdQ7IQY-0Oscbiw</td>\n      <td>Eyelash Service, Beauty &amp; Spas, Nail Salons</td>\n      <td>Austin</td>\n      <td>(10:0-19:0, None, 10:0-18:0, None, 10:0-19:0, ...</td>\n      <td>0</td>\n      <td>30.168207</td>\n      <td>-97.817760</td>\n      <td>Nail Lounge By Chandra White</td>\n      <td>78748</td>\n      <td>10</td>\n      <td>4.5</td>\n      <td>TX</td>\n    </tr>\n    <tr>\n      <th>7</th>\n      <td>126090</td>\n      <td>4.597147</td>\n      <td>8504 South Congress</td>\n      <td>(None, None, u'beer_and_wine', {'romantic': Fa...</td>\n      <td>Oq5s3TSuJAPokLKbc7RkMA</td>\n      <td>Pizza, Restaurants</td>\n      <td>Austin</td>\n      <td>(17:0-1:0, 17:0-1:0, 17:0-1:0, 17:0-1:0, 17:0-...</td>\n      <td>0</td>\n      <td>30.172641</td>\n      <td>-97.786324</td>\n      <td>Via 313 Pizza</td>\n      <td>78745</td>\n      <td>19</td>\n      <td>5.0</td>\n      <td>TX</td>\n    </tr>\n    <tr>\n      <th>8</th>\n      <td>136161</td>\n      <td>4.593739</td>\n      <td>4207 James Casey St, Ste 115</td>\n      <td>(None, None, None, None, None, None, None, Non...</td>\n      <td>xraLRVJAK13RCXwThLu4lw</td>\n      <td>Acupuncture, Health &amp; Medical</td>\n      <td>Austin</td>\n      <td>(9:0-18:0, 9:0-18:0, None, None, 9:0-18:0, 9:0...</td>\n      <td>1</td>\n      <td>30.224732</td>\n      <td>-97.773718</td>\n      <td>AcuTouch Acupuncture and Herb Center</td>\n      <td>78745</td>\n      <td>8</td>\n      <td>5.0</td>\n      <td>TX</td>\n    </tr>\n    <tr>\n      <th>9</th>\n      <td>150086</td>\n      <td>4.591945</td>\n      <td>6001 Techni Center Dr</td>\n      <td>(None, None, None, None, None, None, None, Tru...</td>\n      <td>SA1PCjoASj60IKSKiE6Hhg</td>\n      <td>Food, CSA</td>\n      <td>Austin</td>\n      <td>(8:0-15:0, 8:0-15:0, None, None, 8:0-15:0, 8:0...</td>\n      <td>1</td>\n      <td>30.276598</td>\n      <td>-97.671343</td>\n      <td>Good Flow Honey</td>\n      <td>78721</td>\n      <td>10</td>\n      <td>5.0</td>\n      <td>TX</td>\n    </tr>\n  </tbody>\n</table>\n</div>"
     },
     "metadata": {},
     "output_type": "execute_result",
     "execution_count": 45
    }
   ],
   "source": [
    "# test case\n",
    "\n",
    "user = \"EeKFz5FcrlajMbm0tyFn7Q\"\n",
    "get_collaborative_recommendation(user).toPandas()\n",
    "\n",
    "\n"
   ],
   "metadata": {
    "collapsed": false,
    "pycharm": {
     "name": "#%%\n",
     "is_executing": false
    }
   }
  }
 ],
 "metadata": {
  "kernelspec": {
   "name": "pycharm-cb58f220",
   "language": "python",
   "display_name": "PyCharm (Final)"
  },
  "language_info": {
   "codemirror_mode": {
    "name": "ipython",
    "version": 2
   },
   "file_extension": ".py",
   "mimetype": "text/x-python",
   "name": "python",
   "nbconvert_exporter": "python",
   "pygments_lexer": "ipython2",
   "version": "2.7.6"
  },
  "pycharm": {
   "stem_cell": {
    "cell_type": "raw",
    "source": [],
    "metadata": {
     "collapsed": false
    }
   }
  }
 },
 "nbformat": 4,
 "nbformat_minor": 0
}