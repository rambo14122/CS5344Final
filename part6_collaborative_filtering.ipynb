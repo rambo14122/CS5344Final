{
 "cells": [
  {
   "cell_type": "markdown",
   "source": [
    "# Part 6 Collaborative Filtering"
   ],
   "metadata": {
    "collapsed": false,
    "pycharm": {
     "name": "#%% md\n"
    }
   }
  },
  {
   "cell_type": "markdown",
   "source": [
    "### Setup"
   ],
   "metadata": {
    "collapsed": false
   }
  },
  {
   "cell_type": "code",
   "execution_count": null,
   "outputs": [],
   "source": [
    "from pyspark.sql.functions import *\n",
    "from pyspark.sql.types import *\n",
    "from pyspark.ml.recommendation import ALS, ALSModel\n",
    "from pyspark.ml.tuning import ParamGridBuilder, CrossValidator\n",
    "from pyspark.ml.evaluation import RegressionEvaluator\n",
    "from pyspark.sql import SparkSession\n"
   ],
   "metadata": {
    "collapsed": false,
    "pycharm": {
     "name": "#%%\n"
    }
   }
  },
  {
   "cell_type": "code",
   "source": [
    "spark = SparkSession.builder\\\n",
    "    .config(\"spark.driver.memory\", \"32g\")\\\n",
    "    .config(\"spark.executor.memory\",\"32g\")\\\n",
    "    .config(\"spark.driver.maxResultSize\",\"0\")\\\n",
    "    .config(\"spark.sql.autoBroadcastJoinThreshold\",\"-1\")\\\n",
    "    .config(\"spark.sql.broadcastTimeout\",\"1200\")\\\n",
    "    .config(\"spark.default.parallelism\", \"180\")\\\n",
    "    .config(\"spark.executor.heartbeatInterval\", \"3600\")\\\n",
    "    .appName(\"part6\").getOrCreate()"
   ],
   "metadata": {
    "collapsed": false,
    "pycharm": {
     "name": "#%%\n"
    }
   },
   "execution_count": null,
   "outputs": []
  },
  {
   "cell_type": "code",
   "execution_count": null,
   "outputs": [],
   "source": [
    "business = spark.read.json(\"yelp_academic_dataset_business.json\")\n",
    "review = spark.read.json(\"yelp_academic_dataset_review.json\")\n",
    "user = spark.read.json(\"yelp_academic_dataset_user.json\")\n"
   ],
   "metadata": {
    "collapsed": false,
    "pycharm": {
     "name": "#%%\n"
    }
   }
  },
  {
   "cell_type": "markdown",
   "source": [
    "### Prepare Data for ALS\n"
   ],
   "metadata": {
    "collapsed": false
   }
  },
  {
   "cell_type": "code",
   "execution_count": null,
   "outputs": [],
   "source": [
    "# prepare user\n",
    "user_index_df = spark.createDataFrame(user.rdd.map(lambda x: x[0]).zipWithIndex(), \\\n",
    "        StructType([StructField(\"user_id\", StringType(), True),StructField(\"user_index\", IntegerType(), True)]))\n",
    "\n",
    "user_index_df.show(1)\n",
    "\n",
    "a = user.alias(\"a\")\n",
    "b = user_index_df.alias(\"b\")\n",
    "user_new_df = a.join(b, col(\"a.user_id\") == col(\"b.user_id\"), \"inner\") \\\n",
    "             .select([col(\"a.\"+x) for x in a.columns] + [col(\"b.user_index\")])\n",
    "user_new_df.select(\"user_index\",\"user_id\", \"user_name\").show(2)"
   ],
   "metadata": {
    "collapsed": false,
    "pycharm": {
     "name": "#%%\n"
    }
   }
  },
  {
   "cell_type": "code",
   "execution_count": null,
   "outputs": [],
   "source": [
    "# prepare business\n",
    "business_index_df = spark.createDataFrame(business.rdd.map(lambda x: x[0]).zipWithIndex(), \\\n",
    "        StructType([StructField(\"business_id\", StringType(), True),StructField(\"business_index\", IntegerType(), True)]))\n",
    "\n",
    "business_index_df.show(1)\n",
    "\n",
    "a = business.alias(\"a\")\n",
    "b = business_index_df.alias(\"b\")\n",
    "business_new_df = a.join(b, col(\"a.business_id\") == col(\"b.business_id\"), \"inner\") \\\n",
    "             .select([col(\"a.\"+x) for x in a.columns] + [col(\"b.business_index\")])\n",
    "business_new_df.select(\"business_index\",\"business_id\", \"business_name\").show(1)"
   ],
   "metadata": {
    "collapsed": false,
    "pycharm": {
     "name": "#%%\n"
    }
   }
  },
  {
   "cell_type": "code",
   "execution_count": null,
   "outputs": [],
   "source": [
    "# map new userId and businessId in the review dataframe\n",
    "\n",
    "review_df = review.select(\"user_id\", \"business_id\", \"stars\")\n",
    "\n",
    "a = review_df.alias(\"a\")\n",
    "b = user_index_df.alias(\"b\")\n",
    "review_user_index_df = a.join(b, col(\"a.user_id\") == col(\"b.user_id\"), \"inner\") \\\n",
    "                     .select([col(\"a.\"+xx) for xx in a.columns] + [col(\"b.user_index\")])\n",
    "\n",
    "a = review_user_index_df.alias(\"a\")\n",
    "b = business_index_df.alias(\"b\")\n",
    "review_new_df = a.join(b, col(\"a.business_id\") == col(\"b.business_id\"), \"inner\") \\\n",
    "                         .select([col(\"a.\"+x) for x in a.columns] + [col(\"b.business_index\")])\n",
    "review_new_df.show(2)"
   ],
   "metadata": {
    "collapsed": false,
    "pycharm": {
     "name": "#%%\n"
    }
   }
  },
  {
   "cell_type": "markdown",
   "source": [
    "### Build ALS Model"
   ],
   "metadata": {
    "collapsed": false
   }
  },
  {
   "cell_type": "code",
   "execution_count": null,
   "outputs": [],
   "source": [
    "# create the rating matrix required by the ALS model\n",
    "\n",
    "rating_df = review_new_df.select(\"user_index\", \"business_index\", review_new_df.stars.cast(\"float\").alias(\"rating\"))\n",
    "rating_df.show(1)\n",
    "print(\"rating matrix count\", rating_df.count())\n",
    "rating_df.printSchema()\n",
    "rating_df.limit(1).toPandas()"
   ],
   "metadata": {
    "collapsed": false,
    "pycharm": {
     "name": "#%%\n"
    }
   }
  },
  {
   "cell_type": "code",
   "execution_count": null,
   "outputs": [],
   "source": [
    "(train, test) = rating_df.randomSplit([0.8, 0.2], seed=1)\n",
    "\n",
    "\"\"\"\n",
    "als = ALS(userCol=\"user_index\", itemCol=\"business_index\", ratingCol=\"rating\", coldStartStrategy=\"drop\")\n",
    "param_grid = ParamGridBuilder().addGrid(als.rank,[10, 15, 20])\\\n",
    "    .addGrid(als.maxIter,[10, 15, 20]).build()\n",
    "evaluator = RegressionEvaluator(metricName=\"rmse\",labelCol=\"rating\")\n",
    "\n",
    "cv = CrossValidator(estimator=als, estimatorParamMaps=param_grid, evaluator=evaluator, numFolds=5, seed=123)\n",
    "cv_als_model = cv.fit(train)\n",
    "\n",
    "als_predictions = cv_als_model.bestModel.transform(test)\n",
    "evaluator = RegressionEvaluator(metricName=\"rmse\", labelCol=\"rating\", predictionCol=\"prediction\")\n",
    "rmse = evaluator.evaluate(als_predictions)\n",
    "print(\"rmse: \" + str(rmse))\n",
    "\n",
    "best_model = cv_als_model.bestModel\n",
    "#best_rank is 20\n",
    "best_model.rank\n",
    "#best_maxIter is 20\n",
    "best_model._java_obj.parent().getMaxIter()\n",
    "# rmse is 1.3383\n",
    "\"\"\""
   ],
   "metadata": {
    "collapsed": false,
    "pycharm": {
     "name": "#%%\n"
    }
   }
  },
  {
   "cell_type": "code",
   "execution_count": null,
   "outputs": [],
   "source": [
    "als = ALS(rank=20, maxIter=20, regParam=0.3, userCol=\"user_index\", itemCol=\"business_index\", ratingCol=\"rating\", \\\n",
    "               coldStartStrategy=\"drop\", seed=1)\n",
    "als_model = als.fit(train)\n",
    "\n",
    "als_predictions = als_model.transform(test)\n",
    "evaluator = RegressionEvaluator(metricName=\"rmse\", labelCol=\"rating\", predictionCol=\"prediction\")\n",
    "rmse = evaluator.evaluate(als_predictions)\n",
    "print(\"rmse: \" + str(rmse))\n",
    "\n",
    "# save the ALS model\n",
    "als_model.write().overwrite().save(\"als_model\")\n",
    "# rmse is 1.2579"
   ],
   "metadata": {
    "collapsed": false,
    "pycharm": {
     "name": "#%%\n"
    }
   }
  },
  {
   "cell_type": "code",
   "execution_count": null,
   "outputs": [],
   "source": [
    "# load als model\n",
    "als_model = ALSModel.load(\"als_model\")"
   ],
   "metadata": {
    "collapsed": false,
    "pycharm": {
     "name": "#%%\n"
    }
   }
  },
  {
   "cell_type": "code",
   "execution_count": null,
   "outputs": [],
   "source": [
    "# generate top 10 business for each user\n",
    "\n",
    "user_recommendations = als_model.recommendForAllUsers(10)"
   ],
   "metadata": {
    "collapsed": false,
    "pycharm": {
     "name": "#%%\n"
    }
   }
  },
  {
   "cell_type": "code",
   "execution_count": null,
   "outputs": [],
   "source": [
    "# add the column user_id, cache the recommendaton dataframe and show recommedations sample\n",
    "\n",
    "a = user_recommendations.alias(\"a\")\n",
    "b = user_index_df.alias(\"b\")\n",
    "    \n",
    "all_user_recommendations = a.join(b, col(\"a.user_index\") == col(\"b.user_index\"), \"inner\") \\\n",
    "             .select([col(\"a.\"+xx) for xx in a.columns] + [col(\"b.user_id\")])\n",
    "\n",
    "all_user_recommendations.cache()   \n",
    "all_user_recommendations.show(1, truncate=False)"
   ],
   "metadata": {
    "collapsed": false,
    "pycharm": {
     "name": "#%%\n"
    }
   }
  },
  {
   "cell_type": "code",
   "execution_count": null,
   "outputs": [],
   "source": [
    "def get_collaborative_recommendation(user_id):\n",
    "    \n",
    "\n",
    "    recommended_business =  spark.createDataFrame(all_user_recommendations.filter(col(\"user_id\") == user_id).rdd.flatMap(lambda p: p[1]))\n",
    "\n",
    "    a = recommended_business.alias(\"a\")\n",
    "    b = business_new_df.alias(\"b\")\n",
    "    \n",
    "    return a.join(b, col(\"a.business_index\") == col(\"b.business_index\"), \"inner\") \\\n",
    "             .select([col(\"b.business_id\"), col(\"a.rating\"), col(\"b.business_name\"),col(\"b.categories\"),\n",
    "                                                           col(\"b.stars\"),col(\"b.review_count\"),\n",
    "                                                           col(\"b.latitude\"),col(\"b.longitude\")]) \\\n",
    "             .orderBy(\"rating\", ascending = False)\n",
    "    "
   ],
   "metadata": {
    "collapsed": false,
    "pycharm": {
     "name": "#%%\n"
    }
   }
  },
  {
   "cell_type": "code",
   "execution_count": null,
   "outputs": [],
   "source": [
    "# test case\n",
    "user = \"ZWD8UH1T7QXQr0Eq-mcWYg\"\n",
    "get_collaborative_recommendation(user).toPandas()\n",
    "\n",
    "\n"
   ],
   "metadata": {
    "collapsed": false,
    "pycharm": {
     "name": "#%%\n"
    }
   }
  }
 ],
 "metadata": {
  "kernelspec": {
   "display_name": "Python 3",
   "language": "python",
   "name": "python3"
  },
  "language_info": {
   "codemirror_mode": {
    "name": "ipython",
    "version": 2
   },
   "file_extension": ".py",
   "mimetype": "text/x-python",
   "name": "python",
   "nbconvert_exporter": "python",
   "pygments_lexer": "ipython2",
   "version": "2.7.6"
  },
  "pycharm": {
   "stem_cell": {
    "cell_type": "raw",
    "source": [],
    "metadata": {
     "collapsed": false
    }
   }
  }
 },
 "nbformat": 4,
 "nbformat_minor": 0
}