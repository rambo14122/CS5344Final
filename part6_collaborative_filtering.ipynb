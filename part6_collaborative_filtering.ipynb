{
 "cells": [
  {
   "cell_type": "markdown",
   "source": [
    "# Part 6 Collaborative Filtering"
   ],
   "metadata": {
    "collapsed": false,
    "pycharm": {
     "name": "#%% md\n"
    }
   }
  },
  {
   "cell_type": "markdown",
   "source": [
    "### Setup"
   ],
   "metadata": {
    "collapsed": false
   }
  },
  {
   "cell_type": "code",
   "execution_count": 1,
   "outputs": [],
   "source": [
    "from pyspark.sql.functions import *\n",
    "from pyspark.sql.types import *\n",
    "from pyspark.ml.recommendation import ALS, ALSModel\n",
    "from pyspark.ml.tuning import ParamGridBuilder, CrossValidator\n",
    "from pyspark.ml.evaluation import RegressionEvaluator\n",
    "from pyspark.sql import SparkSession\n",
    "import pandas as pd"
   ],
   "metadata": {
    "collapsed": false,
    "pycharm": {
     "name": "#%%\n",
     "is_executing": false
    }
   }
  },
  {
   "cell_type": "code",
   "source": [
    "spark = SparkSession.builder\\\n",
    "    .config(\"spark.driver.memory\", \"32g\")\\\n",
    "    .config(\"spark.executor.memory\",\"32g\")\\\n",
    "    .config(\"spark.driver.maxResultSize\",\"0\")\\\n",
    "    .config(\"spark.sql.autoBroadcastJoinThreshold\",\"-1\")\\\n",
    "    .config(\"spark.sql.broadcastTimeout\",\"1200\")\\\n",
    "    .config(\"spark.default.parallelism\", \"32\")\\\n",
    "    .config(\"spark.executor.heartbeatInterval\", \"3600\")\\ \n",
    "    .config(\"spark.local.dir\",\"D:\\\\Data\")\\ \n",
    "    .appName(\"part6\").getOrCreate()\n",
    "# spark.local.dir: disable if your do not have this dir"
   ],
   "metadata": {
    "collapsed": false,
    "pycharm": {
     "name": "#%%\n",
     "is_executing": false
    }
   },
   "execution_count": 2,
   "outputs": []
  },
  {
   "cell_type": "code",
   "execution_count": 4,
   "outputs": [],
   "source": [
    "business = spark.read.csv(\"part1_dataclean_business.csv\", header=True, multiLine=True)\n",
    "review = spark.read.csv(\"part4_topicmodeling_review.csv\", header=True, multiLine=True)\n",
    "user = spark.read.csv(\"part1_dataclean_user.csv\", header=True, multiLine=True)"
   ],
   "metadata": {
    "collapsed": false,
    "pycharm": {
     "name": "#%%\n",
     "is_executing": false
    }
   }
  },
  {
   "cell_type": "code",
   "execution_count": 7,
   "outputs": [
    {
     "name": "stdout",
     "text": [
      "business schema\nroot\n |-- business_id: string (nullable = true)\n |-- name: string (nullable = true)\n |-- city: string (nullable = true)\n |-- state: string (nullable = true)\n |-- stars: string (nullable = true)\n |-- review_count: string (nullable = true)\n |-- categories: string (nullable = true)\n |-- latitude: string (nullable = true)\n |-- longitude: string (nullable = true)\n |-- is_open: string (nullable = true)\n |-- postal_code: string (nullable = true)\n\nreview schema\nroot\n |-- review_id: string (nullable = true)\n |-- business_id: string (nullable = true)\n |-- user_id: string (nullable = true)\n |-- stars: string (nullable = true)\n |-- useful: string (nullable = true)\n |-- text: string (nullable = true)\n |-- polarity: string (nullable = true)\n |-- subjectivity: string (nullable = true)\n |-- compound: string (nullable = true)\n |-- superscore: string (nullable = true)\n |-- Keywords: string (nullable = true)\n\nuser schema\nroot\n |-- user_id: string (nullable = true)\n |-- name: string (nullable = true)\n |-- review_count: string (nullable = true)\n |-- yelping_since: string (nullable = true)\n |-- friends: string (nullable = true)\n |-- useful: string (nullable = true)\n |-- funny: string (nullable = true)\n |-- cool: string (nullable = true)\n |-- fans: string (nullable = true)\n |-- average_stars: string (nullable = true)\n\n"
     ],
     "output_type": "stream"
    }
   ],
   "source": [
    "print(\"business schema\")\n",
    "business.printSchema()\n",
    "\n",
    "print(\"review schema\")\n",
    "review.printSchema()\n",
    "\n",
    "print(\"user schema\")\n",
    "user.printSchema()"
   ],
   "metadata": {
    "collapsed": false,
    "pycharm": {
     "name": "#%%\n",
     "is_executing": false
    }
   }
  },
  {
   "cell_type": "markdown",
   "source": [
    "### Prepare Data for ALS"
   ],
   "metadata": {
    "collapsed": false
   }
  },
  {
   "cell_type": "code",
   "execution_count": 8,
   "outputs": [],
   "source": [
    "def df_zip_with_index (df, col_name, offset=0):\n",
    "    new_schema = StructType(\n",
    "                    [StructField(col_name,LongType(),True)]       \n",
    "                    + df.schema.fields                           \n",
    "                )\n",
    "\n",
    "    zipped_rdd = df.rdd.zipWithIndex()\n",
    "    new_rdd = zipped_rdd.map(lambda args: ([args[1] + offset] + list(args[0])))\n",
    "    return spark.createDataFrame(new_rdd, new_schema)"
   ],
   "metadata": {
    "collapsed": false,
    "pycharm": {
     "name": "#%%\n",
     "is_executing": false
    }
   }
  },
  {
   "cell_type": "code",
   "execution_count": 9,
   "outputs": [
    {
     "name": "stdout",
     "text": [
      "+----------+--------------------+----+------------+-------------------+--------------------+------+-----+-----+----+-------------+\n|user_index|             user_id|name|review_count|      yelping_since|             friends|useful|funny| cool|fans|average_stars|\n+----------+--------------------+----+------------+-------------------+--------------------+------+-----+-----+----+-------------+\n|         0|q_QQ5kBBwlCcbL1s4...|Jane|        1220|2005-03-14 20:26:35|xBDpTUbai0DXrvxCe...| 15038|10030|11291|1357|         3.85|\n|         1|dIIKEfOgo0KqUfGQv...|Gabi|        2136|2007-08-10 19:01:51|XPzYf9_mwG2eXYP2B...| 21272|10289|18046|1025|         4.09|\n+----------+--------------------+----+------------+-------------------+--------------------+------+-----+-----+----+-------------+\nonly showing top 2 rows\n\n",
      "+--------------------+----------+\n|             user_id|user_index|\n+--------------------+----------+\n|q_QQ5kBBwlCcbL1s4...|         0|\n|dIIKEfOgo0KqUfGQv...|         1|\n+--------------------+----------+\nonly showing top 2 rows\n\n"
     ],
     "output_type": "stream"
    }
   ],
   "source": [
    "# prepare user\n",
    "\n",
    "user_new_df = df_zip_with_index(user, \"user_index\")\n",
    "user_new_df.show(2)\n",
    "\n",
    "user_index_df = user_new_df.select(\"user_id\", \"user_index\")\n",
    "user_index_df.show(2)"
   ],
   "metadata": {
    "collapsed": false,
    "pycharm": {
     "name": "#%%\n",
     "is_executing": false
    }
   }
  },
  {
   "cell_type": "code",
   "execution_count": 10,
   "outputs": [
    {
     "name": "stdout",
     "text": [
      "+--------------+--------------------+--------------------+--------+-----+-----+------------+--------------------+-------------+---------------+-------+-----------+\n|business_index|         business_id|                name|    city|state|stars|review_count|          categories|     latitude|      longitude|is_open|postal_code|\n+--------------+--------------------+--------------------+--------+-----+-----+------------+--------------------+-------------+---------------+-------+-----------+\n|             0|tCbdrRPZA0oiIYSmH...|Flying Elephants ...|Portland|   OR|  4.0|         126|Salad, Soup, Sand...|45.5889058992|-122.5933307507|      1|      97218|\n|             1|jx91IMdGOmLOo8h_F...|Cleary's Restaura...|Portland|   OR|  3.5|          19|Nightlife, Sandwi...|   45.5264727|    -122.535323|      1|      97230|\n+--------------+--------------------+--------------------+--------+-----+-----+------------+--------------------+-------------+---------------+-------+-----------+\nonly showing top 2 rows\n\n+--------------------+--------------+\n|         business_id|business_index|\n+--------------------+--------------+\n|tCbdrRPZA0oiIYSmH...|             0|\n|jx91IMdGOmLOo8h_F...|             1|\n+--------------------+--------------+\nonly showing top 2 rows\n\n"
     ],
     "output_type": "stream"
    }
   ],
   "source": [
    "# prepare business\n",
    "\n",
    "business_new_df = df_zip_with_index(business, \"business_index\").cache()\n",
    "business_new_df.show(2)\n",
    "\n",
    "business_index_df = business_new_df.select(\"business_id\", \"business_index\")\n",
    "business_index_df.show(2)"
   ],
   "metadata": {
    "collapsed": false,
    "pycharm": {
     "name": "#%%\n",
     "is_executing": false
    }
   }
  },
  {
   "cell_type": "code",
   "execution_count": 11,
   "outputs": [
    {
     "name": "stdout",
     "text": [
      "+--------------------+--------------------+-----------------+----------+--------------+\n|         business_id|             user_id|       superscore|user_index|business_index|\n+--------------------+--------------------+-----------------+----------+--------------+\n|08n38tS38iznDwL_X...|46wwNRiBGIAJuPlk8...|       4.95210625|     28744|          1047|\n|08n38tS38iznDwL_X...|M8vydiEEQQnn4Z-wx...|5.186179212673611|    374051|          1047|\n+--------------------+--------------------+-----------------+----------+--------------+\nonly showing top 2 rows\n\n"
     ],
     "output_type": "stream"
    }
   ],
   "source": [
    "# map new user_id and business_id in the review dataframe\n",
    "\n",
    "review_df = review.select(\"user_id\", \"business_id\", \"superscore\")\n",
    "review_new_df = review_df.join(user_index_df, \"user_id\").join(business_index_df,\"business_id\")\n",
    "review_new_df.show(2)"
   ],
   "metadata": {
    "collapsed": false,
    "pycharm": {
     "name": "#%%\n",
     "is_executing": false
    }
   }
  },
  {
   "cell_type": "markdown",
   "source": [
    "### Build ALS Model"
   ],
   "metadata": {
    "collapsed": false
   }
  },
  {
   "cell_type": "code",
   "execution_count": 12,
   "outputs": [
    {
     "name": "stdout",
     "text": [
      "+----------+--------------+---------+\n|user_index|business_index|   rating|\n+----------+--------------+---------+\n|     28744|          1047|4.9521065|\n|    374051|          1047| 5.186179|\n+----------+--------------+---------+\nonly showing top 2 rows\n\n",
      "rating matrix count 417737\nroot\n |-- user_index: long (nullable = true)\n |-- business_index: long (nullable = true)\n |-- rating: float (nullable = true)\n\n"
     ],
     "output_type": "stream"
    },
    {
     "data": {
      "text/plain": "   user_index  business_index    rating\n0       28744            1047  4.952106\n1      374051            1047  5.186179",
      "text/html": "<div>\n<style scoped>\n    .dataframe tbody tr th:only-of-type {\n        vertical-align: middle;\n    }\n\n    .dataframe tbody tr th {\n        vertical-align: top;\n    }\n\n    .dataframe thead th {\n        text-align: right;\n    }\n</style>\n<table border=\"1\" class=\"dataframe\">\n  <thead>\n    <tr style=\"text-align: right;\">\n      <th></th>\n      <th>user_index</th>\n      <th>business_index</th>\n      <th>rating</th>\n    </tr>\n  </thead>\n  <tbody>\n    <tr>\n      <th>0</th>\n      <td>28744</td>\n      <td>1047</td>\n      <td>4.952106</td>\n    </tr>\n    <tr>\n      <th>1</th>\n      <td>374051</td>\n      <td>1047</td>\n      <td>5.186179</td>\n    </tr>\n  </tbody>\n</table>\n</div>"
     },
     "metadata": {},
     "output_type": "execute_result",
     "execution_count": 12
    }
   ],
   "source": [
    "# create the rating matrix required by the ALS model\n",
    "\n",
    "rating_df = review_new_df.select(\"user_index\", \"business_index\", review_new_df.superscore.cast(\"float\").alias(\"rating\"))\n",
    "rating_df.show(2)\n",
    "rating_df.printSchema()\n",
    "rating_df.limit(2).toPandas()"
   ],
   "metadata": {
    "collapsed": false,
    "pycharm": {
     "name": "#%%\n",
     "is_executing": false
    }
   }
  },
  {
   "cell_type": "code",
   "execution_count": 13,
   "outputs": [],
   "source": [
    "(train, test) = rating_df.randomSplit([0.8, 0.2], seed=1)"
   ],
   "metadata": {
    "collapsed": false,
    "pycharm": {
     "name": "#%%\n",
     "is_executing": false
    }
   }
  },
  {
   "cell_type": "code",
   "execution_count": null,
   "outputs": [],
   "source": [
    "\"\"\"\n",
    "print(\"start tuning ALS model\")\n",
    "\n",
    "als = ALS(userCol=\"user_index\", itemCol=\"business_index\", ratingCol=\"rating\", coldStartStrategy=\"drop\")\n",
    "param_grid = ParamGridBuilder()\\\n",
    "    .addGrid(als.rank,[10, 15, 20])\\\n",
    "    .addGrid(als.maxIter,[10, 15, 20])\\\n",
    "    .build()\n",
    "evaluator = RegressionEvaluator(metricName=\"rmse\",labelCol=\"rating\")\n",
    "\n",
    "cv = CrossValidator(estimator=als, estimatorParamMaps=param_grid, evaluator=evaluator, numFolds=5, seed=1)\n",
    "cv_als_model = cv.fit(train)\n",
    "\n",
    "als_predictions = cv_als_model.bestModel.transform(test)\n",
    "evaluator = RegressionEvaluator(metricName=\"rmse\", labelCol=\"rating\", predictionCol=\"prediction\")\n",
    "rmse = evaluator.evaluate(als_predictions)\n",
    "print(\"rmse: \" + str(rmse))\n",
    "\n",
    "best_model = cv_als_model.bestModel\n",
    "#best_rank is 20\n",
    "best_model.rank\n",
    "#best_maxIter is 20\n",
    "best_model._java_obj.parent().getMaxIter()\n",
    "# rmse is 1.3383\n",
    "print(\"end tuning ALS model\")\n",
    "\n",
    "print(\"rank:\", best_model._java_obj.parent().getRank())\n",
    "print(\"maxIter:\", best_model._java_obj.parent().getMaxIter())\n",
    "print(\"regParam:\", best_model._java_obj.parent().getRegParam())\n",
    "\"\"\""
   ],
   "metadata": {
    "collapsed": false,
    "pycharm": {
     "name": "#%%\n",
     "is_executing": false
    }
   }
  },
  {
   "cell_type": "code",
   "execution_count": 14,
   "outputs": [
    {
     "name": "stdout",
     "text": [
      "start building ALS model\n",
      "end building ALS model\n"
     ],
     "output_type": "stream"
    }
   ],
   "source": [
    "\"\"\"\n",
    "print(\"start building ALS model\")\n",
    "\n",
    "als = ALS(rank=20, maxIter=20, regParam=0.3, userCol=\"user_index\", itemCol=\"business_index\", ratingCol=\"rating\", \\\n",
    "               coldStartStrategy=\"drop\", seed=1)\n",
    "als_model = als.fit(train)\n",
    "\n",
    "als_predictions = als_model.transform(test)\n",
    "# evaluator = RegressionEvaluator(metricName=\"rmse\", labelCol=\"rating\", predictionCol=\"prediction\")\n",
    "# rmse = evaluator.evaluate(als_predictions)\n",
    "# print(\"rmse: \" + str(rmse))\n",
    "\n",
    "# save the ALS model\n",
    "als_model.write().overwrite().save(\"als_model\")\n",
    "# rmse is 1.2579\n",
    "\n",
    "print(\"end building ALS model\")\n",
    "\n",
    "\"\"\""
   ],
   "metadata": {
    "collapsed": false,
    "pycharm": {
     "name": "#%%\n",
     "is_executing": false
    }
   }
  },
  {
   "cell_type": "code",
   "execution_count": 15,
   "outputs": [],
   "source": [
    "# load als model\n",
    "als_model = ALSModel.load(\"als_model\")"
   ],
   "metadata": {
    "collapsed": false,
    "pycharm": {
     "name": "#%%\n",
     "is_executing": false
    }
   }
  },
  {
   "cell_type": "code",
   "execution_count": 16,
   "outputs": [
    {
     "name": "stdout",
     "text": [
      "+----------+--------------------+\n|user_index|     recommendations|\n+----------+--------------------+\n|      1088|[{1183, 4.2916126...|\n|      1342|[{2493, 5.264535}...|\n+----------+--------------------+\nonly showing top 2 rows\n\n"
     ],
     "output_type": "stream"
    }
   ],
   "source": [
    "# generate top 10 business for each user\n",
    "\n",
    "user_recommendations = als_model.recommendForAllUsers(10)\n",
    "user_recommendations.show(2)"
   ],
   "metadata": {
    "collapsed": false,
    "pycharm": {
     "name": "#%%\n",
     "is_executing": false
    }
   }
  },
  {
   "cell_type": "code",
   "execution_count": 17,
   "outputs": [
    {
     "name": "stdout",
     "text": [
      "+----------+---------------------------------------------------------------------------------------------------------------------------------------------------------------------------------------+----------------------+\n|user_index|recommendations                                                                                                                                                                        |user_id               |\n+----------+---------------------------------------------------------------------------------------------------------------------------------------------------------------------------------------+----------------------+\n|1697      |[{1183, 5.1396894}, {788, 5.02356}, {3375, 4.9667706}, {700, 4.8327394}, {268, 4.82203}, {1323, 4.809856}, {2880, 4.807377}, {3359, 4.8005567}, {3526, 4.7902193}, {628, 4.771118}]    |486c4Pznd00sbs2wh7eNyg|\n|1806      |[{2493, 3.7883527}, {726, 3.6609554}, {869, 3.5705402}, {89, 3.5580711}, {2523, 3.526672}, {1653, 3.5241573}, {2888, 3.517764}, {3107, 3.5023057}, {510, 3.4962392}, {3761, 3.4914944}]|LEGudhGQU2sBvpyltEov1g|\n+----------+---------------------------------------------------------------------------------------------------------------------------------------------------------------------------------------+----------------------+\nonly showing top 2 rows\n\n"
     ],
     "output_type": "stream"
    }
   ],
   "source": [
    "# add the column user_id, cache the recommendaton dataframe and show recommedations sample\n",
    "\n",
    "all_user_recommendations = user_recommendations.join(user_index_df, \"user_index\", \"inner\").cache()\n",
    "all_user_recommendations.show(2, truncate=False)"
   ],
   "metadata": {
    "collapsed": false,
    "pycharm": {
     "name": "#%%\n",
     "is_executing": false
    }
   }
  },
  {
   "cell_type": "code",
   "execution_count": 19,
   "outputs": [],
   "source": [
    "# save all user recommendations\n",
    "\n",
    "all_user_recommendations.write.mode(\"overwrite\")\\\n",
    "    .format(\"parquet\").save(\"part6_all_user_recommendations.parquet\")"
   ],
   "metadata": {
    "collapsed": false,
    "pycharm": {
     "name": "#%%\n",
     "is_executing": false
    }
   }
  },
  {
   "cell_type": "code",
   "execution_count": 21,
   "outputs": [
    {
     "name": "stdout",
     "text": [
      "+----------+--------------------+--------------------+\n|user_index|     recommendations|             user_id|\n+----------+--------------------+--------------------+\n|      1199|[{57, 4.4834585},...|T8fXV7fkbBkg8ET6v...|\n|      2116|[{3761, 5.422045}...|ZCUf_Uk-eXli07c48...|\n|      2684|[{2565, 5.9831705...|3mNz5nQFTIBQm0oU5...|\n+----------+--------------------+--------------------+\nonly showing top 3 rows\n\nroot\n |-- user_index: integer (nullable = true)\n |-- recommendations: array (nullable = true)\n |    |-- element: struct (containsNull = true)\n |    |    |-- business_index: integer (nullable = true)\n |    |    |-- rating: float (nullable = true)\n |-- user_id: string (nullable = true)\n\n"
     ],
     "output_type": "stream"
    }
   ],
   "source": [
    "# test load\n",
    "\n",
    "loaded_user_recommendations = spark.read.load(\"part6_all_user_recommendations.parquet\").cache()\n",
    "loaded_user_recommendations.show(3)\n",
    "loaded_user_recommendations.printSchema()"
   ],
   "metadata": {
    "collapsed": false,
    "pycharm": {
     "name": "#%%\n",
     "is_executing": false
    }
   }
  },
  {
   "cell_type": "code",
   "execution_count": 22,
   "outputs": [],
   "source": [
    "def get_collaborative_recommendation(user_id):\n",
    "\n",
    "    recommended_business =  spark.createDataFrame(\n",
    "        loaded_user_recommendations.filter(col(\"user_id\") == user_id)\n",
    "                                                  .rdd.flatMap(lambda p: p[1]))\n",
    "    return business_new_df.join(recommended_business, \"business_index\", \"inner\")\\\n",
    "             .orderBy(\"rating\", ascending = False)\n",
    "    "
   ],
   "metadata": {
    "collapsed": false,
    "pycharm": {
     "name": "#%%\n",
     "is_executing": false
    }
   }
  },
  {
   "cell_type": "code",
   "execution_count": 28,
   "outputs": [
    {
     "name": "stdout",
     "text": [
      "test user idBXgoRfst14LeNLOHTJ0rjA\n"
     ],
     "output_type": "stream"
    },
    {
     "data": {
      "text/plain": "   business_index             business_id  \\\n0            3209  CM2DhoaUwvr2bQPZlkOJ4Q   \n1            1183  0JUkzQXJKaiAbpruTgDPnw   \n2              89  -liZt9xZNvnT0tHW0XTwQA   \n3            3643  rl8U3o2y4IH7aJBfsMPTew   \n4             628  YQ6srHagEScNH9iu_DhqUg   \n5            1057  3ZcksUCfKGneyZkXGAmckA   \n6             635  iPnSI7FZbTtcxipcOT_lLA   \n7            2493  maa0Pgf6ZD3e5us3kte6Sw   \n8            1727  bWJoJe-gHtYzfTH5JfW-PQ   \n9            1735  4bP1O1WA_CVaAEmRkfXe5A   \n\n                                       name      city state stars  \\\n0                                   Pasta’s  Portland    OR   5.0   \n1                                 Yatra PDX  Portland    OR   5.0   \n2                          Kate's Ice Cream  Portland    OR   5.0   \n3                           Division Liquor  Portland    OR   4.0   \n4                           Sarah's Cookies  Portland    OR   5.0   \n5  Pixie Retreat Raw'r Laboratorie & Makery  Portland    OR   5.0   \n6                      Proletariat Butchery  Portland    OR   4.5   \n7                            Bees and Beans  Portland    OR   5.0   \n8                          MUSE Cheesecakes  Portland    OR   5.0   \n9                   Oregonic Tonic Kombucha  Portland    OR   5.0   \n\n  review_count                                         categories  \\\n0            6  Specialty Food, Restaurants, Food Trucks, Food...   \n1            9  Food Stands, Food, Indian, Himalayan/Nepalese,...   \n2           25  Vegan, Food, Ice Cream & Frozen Yogurt, Restau...   \n3            8                         Beer, Wine & Spirits, Food   \n4           10                                     Food, Bakeries   \n5           40  Specialty Food, Restaurants, Live/Raw Food, Ve...   \n6           14          Specialty Food, Food, Meat Shops, Butcher   \n7           10  Food, Desserts, Chocolatiers & Shops, Specialt...   \n8            7  Desserts, Specialty Food, Food, Patisserie/Cak...   \n9            5                          Food, Breweries, Kombucha   \n\n        latitude        longitude is_open postal_code    rating  \n0      45.547669     -122.6682301       1       97227  2.056291  \n1  45.4641695267    -122.65434729       1       97202  1.952722  \n2     45.5283148     -122.6386321       1       97232  1.950059  \n3     45.5060226     -122.4949421       1       97236  1.940054  \n4     45.5643461     -122.5557446       1       97220  1.939659  \n5  45.5110677127  -122.6626858006       1       97214  1.935495  \n6     45.5483842     -122.5996826       1       97213  1.925042  \n7      45.508732      -122.654872       1       97214  1.883153  \n8     45.5544197     -122.6663494       1       97217  1.880594  \n9     45.5837298     -122.7268969       1       97203  1.869701  ",
      "text/html": "<div>\n<style scoped>\n    .dataframe tbody tr th:only-of-type {\n        vertical-align: middle;\n    }\n\n    .dataframe tbody tr th {\n        vertical-align: top;\n    }\n\n    .dataframe thead th {\n        text-align: right;\n    }\n</style>\n<table border=\"1\" class=\"dataframe\">\n  <thead>\n    <tr style=\"text-align: right;\">\n      <th></th>\n      <th>business_index</th>\n      <th>business_id</th>\n      <th>name</th>\n      <th>city</th>\n      <th>state</th>\n      <th>stars</th>\n      <th>review_count</th>\n      <th>categories</th>\n      <th>latitude</th>\n      <th>longitude</th>\n      <th>is_open</th>\n      <th>postal_code</th>\n      <th>rating</th>\n    </tr>\n  </thead>\n  <tbody>\n    <tr>\n      <th>0</th>\n      <td>3209</td>\n      <td>CM2DhoaUwvr2bQPZlkOJ4Q</td>\n      <td>Pasta’s</td>\n      <td>Portland</td>\n      <td>OR</td>\n      <td>5.0</td>\n      <td>6</td>\n      <td>Specialty Food, Restaurants, Food Trucks, Food...</td>\n      <td>45.547669</td>\n      <td>-122.6682301</td>\n      <td>1</td>\n      <td>97227</td>\n      <td>2.056291</td>\n    </tr>\n    <tr>\n      <th>1</th>\n      <td>1183</td>\n      <td>0JUkzQXJKaiAbpruTgDPnw</td>\n      <td>Yatra PDX</td>\n      <td>Portland</td>\n      <td>OR</td>\n      <td>5.0</td>\n      <td>9</td>\n      <td>Food Stands, Food, Indian, Himalayan/Nepalese,...</td>\n      <td>45.4641695267</td>\n      <td>-122.65434729</td>\n      <td>1</td>\n      <td>97202</td>\n      <td>1.952722</td>\n    </tr>\n    <tr>\n      <th>2</th>\n      <td>89</td>\n      <td>-liZt9xZNvnT0tHW0XTwQA</td>\n      <td>Kate's Ice Cream</td>\n      <td>Portland</td>\n      <td>OR</td>\n      <td>5.0</td>\n      <td>25</td>\n      <td>Vegan, Food, Ice Cream &amp; Frozen Yogurt, Restau...</td>\n      <td>45.5283148</td>\n      <td>-122.6386321</td>\n      <td>1</td>\n      <td>97232</td>\n      <td>1.950059</td>\n    </tr>\n    <tr>\n      <th>3</th>\n      <td>3643</td>\n      <td>rl8U3o2y4IH7aJBfsMPTew</td>\n      <td>Division Liquor</td>\n      <td>Portland</td>\n      <td>OR</td>\n      <td>4.0</td>\n      <td>8</td>\n      <td>Beer, Wine &amp; Spirits, Food</td>\n      <td>45.5060226</td>\n      <td>-122.4949421</td>\n      <td>1</td>\n      <td>97236</td>\n      <td>1.940054</td>\n    </tr>\n    <tr>\n      <th>4</th>\n      <td>628</td>\n      <td>YQ6srHagEScNH9iu_DhqUg</td>\n      <td>Sarah's Cookies</td>\n      <td>Portland</td>\n      <td>OR</td>\n      <td>5.0</td>\n      <td>10</td>\n      <td>Food, Bakeries</td>\n      <td>45.5643461</td>\n      <td>-122.5557446</td>\n      <td>1</td>\n      <td>97220</td>\n      <td>1.939659</td>\n    </tr>\n    <tr>\n      <th>5</th>\n      <td>1057</td>\n      <td>3ZcksUCfKGneyZkXGAmckA</td>\n      <td>Pixie Retreat Raw'r Laboratorie &amp; Makery</td>\n      <td>Portland</td>\n      <td>OR</td>\n      <td>5.0</td>\n      <td>40</td>\n      <td>Specialty Food, Restaurants, Live/Raw Food, Ve...</td>\n      <td>45.5110677127</td>\n      <td>-122.6626858006</td>\n      <td>1</td>\n      <td>97214</td>\n      <td>1.935495</td>\n    </tr>\n    <tr>\n      <th>6</th>\n      <td>635</td>\n      <td>iPnSI7FZbTtcxipcOT_lLA</td>\n      <td>Proletariat Butchery</td>\n      <td>Portland</td>\n      <td>OR</td>\n      <td>4.5</td>\n      <td>14</td>\n      <td>Specialty Food, Food, Meat Shops, Butcher</td>\n      <td>45.5483842</td>\n      <td>-122.5996826</td>\n      <td>1</td>\n      <td>97213</td>\n      <td>1.925042</td>\n    </tr>\n    <tr>\n      <th>7</th>\n      <td>2493</td>\n      <td>maa0Pgf6ZD3e5us3kte6Sw</td>\n      <td>Bees and Beans</td>\n      <td>Portland</td>\n      <td>OR</td>\n      <td>5.0</td>\n      <td>10</td>\n      <td>Food, Desserts, Chocolatiers &amp; Shops, Specialt...</td>\n      <td>45.508732</td>\n      <td>-122.654872</td>\n      <td>1</td>\n      <td>97214</td>\n      <td>1.883153</td>\n    </tr>\n    <tr>\n      <th>8</th>\n      <td>1727</td>\n      <td>bWJoJe-gHtYzfTH5JfW-PQ</td>\n      <td>MUSE Cheesecakes</td>\n      <td>Portland</td>\n      <td>OR</td>\n      <td>5.0</td>\n      <td>7</td>\n      <td>Desserts, Specialty Food, Food, Patisserie/Cak...</td>\n      <td>45.5544197</td>\n      <td>-122.6663494</td>\n      <td>1</td>\n      <td>97217</td>\n      <td>1.880594</td>\n    </tr>\n    <tr>\n      <th>9</th>\n      <td>1735</td>\n      <td>4bP1O1WA_CVaAEmRkfXe5A</td>\n      <td>Oregonic Tonic Kombucha</td>\n      <td>Portland</td>\n      <td>OR</td>\n      <td>5.0</td>\n      <td>5</td>\n      <td>Food, Breweries, Kombucha</td>\n      <td>45.5837298</td>\n      <td>-122.7268969</td>\n      <td>1</td>\n      <td>97203</td>\n      <td>1.869701</td>\n    </tr>\n  </tbody>\n</table>\n</div>"
     },
     "metadata": {},
     "output_type": "execute_result",
     "execution_count": 28
    }
   ],
   "source": [
    "# test a random case\n",
    "random_user = loaded_user_recommendations.sample(0.01, seed=1).head(1)[0].user_id\n",
    "print(f\"test user id: {random_user}\")\n",
    "get_collaborative_recommendation(random_user).toPandas()\n"
   ],
   "metadata": {
    "collapsed": false,
    "pycharm": {
     "name": "#%%\n",
     "is_executing": false
    }
   }
  }
 ],
 "metadata": {
  "kernelspec": {
   "name": "pycharm-cb58f220",
   "language": "python",
   "display_name": "PyCharm (Final)"
  },
  "language_info": {
   "codemirror_mode": {
    "name": "ipython",
    "version": 2
   },
   "file_extension": ".py",
   "mimetype": "text/x-python",
   "name": "python",
   "nbconvert_exporter": "python",
   "pygments_lexer": "ipython2",
   "version": "2.7.6"
  },
  "pycharm": {
   "stem_cell": {
    "cell_type": "raw",
    "source": [],
    "metadata": {
     "collapsed": false
    }
   }
  }
 },
 "nbformat": 4,
 "nbformat_minor": 0
}