{
 "cells": [
  {
   "cell_type": "markdown",
   "source": [
    "# Part 6 Collaborative Filtering"
   ],
   "metadata": {
    "collapsed": false,
    "pycharm": {
     "name": "#%% md\n"
    }
   }
  },
  {
   "cell_type": "markdown",
   "source": [
    "### Setup"
   ],
   "metadata": {
    "collapsed": false
   }
  },
  {
   "cell_type": "code",
   "execution_count": 18,
   "outputs": [],
   "source": [
    "from pyspark.sql.functions import *\n",
    "from pyspark.sql.types import *\n",
    "from pyspark.ml.recommendation import ALS, ALSModel\n",
    "from pyspark.ml.tuning import ParamGridBuilder, CrossValidator\n",
    "from pyspark.ml.evaluation import RegressionEvaluator\n",
    "from pyspark.sql import SparkSession"
   ],
   "metadata": {
    "collapsed": false,
    "pycharm": {
     "name": "#%%\n",
     "is_executing": false
    }
   }
  },
  {
   "cell_type": "code",
   "source": [
    "spark = SparkSession.builder\\\n",
    "    .config(\"spark.driver.memory\", \"32g\")\\\n",
    "    .config(\"spark.executor.memory\",\"32g\")\\\n",
    "    .config(\"spark.driver.maxResultSize\",\"0\")\\\n",
    "    .config(\"spark.sql.autoBroadcastJoinThreshold\",\"-1\")\\\n",
    "    .config(\"spark.sql.broadcastTimeout\",\"1200\")\\\n",
    "    .config(\"spark.default.parallelism\", \"32\")\\\n",
    "    .config(\"spark.executor.heartbeatInterval\", \"3600\")\\\n",
    "    .appName(\"part6\").getOrCreate()"
   ],
   "metadata": {
    "collapsed": false,
    "pycharm": {
     "name": "#%%\n",
     "is_executing": false
    }
   },
   "execution_count": 19,
   "outputs": []
  },
  {
   "cell_type": "code",
   "execution_count": 20,
   "outputs": [],
   "source": [
    "business = spark.read.json(\"yelp_academic_dataset_business.json\")\n",
    "review = spark.read.json(\"yelp_academic_dataset_review.json\")\n",
    "user = spark.read.json(\"yelp_academic_dataset_user.json\")\n"
   ],
   "metadata": {
    "collapsed": false,
    "pycharm": {
     "name": "#%%\n",
     "is_executing": false
    }
   }
  },
  {
   "cell_type": "markdown",
   "source": [
    "### Prepare Data for ALS"
   ],
   "metadata": {
    "collapsed": false
   }
  },
  {
   "cell_type": "code",
   "execution_count": 21,
   "outputs": [],
   "source": [
    "def df_zip_with_index (df, col_name, offset=0):\n",
    "    new_schema = StructType(\n",
    "                    [StructField(col_name,LongType(),True)]       \n",
    "                    + df.schema.fields                           \n",
    "                )\n",
    "\n",
    "    zipped_rdd = df.rdd.zipWithIndex()\n",
    "    new_rdd = zipped_rdd.map(lambda args: ([args[1] + offset] + list(args[0])))\n",
    "    return spark.createDataFrame(new_rdd, new_schema)"
   ],
   "metadata": {
    "collapsed": false,
    "pycharm": {
     "name": "#%%\n",
     "is_executing": false
    }
   }
  },
  {
   "cell_type": "code",
   "execution_count": 27,
   "outputs": [
    {
     "name": "stdout",
     "text": [
      "+----------+-------------+---------------+---------------+----------------+--------------+---------------+---------------+---------------+-----------------+----------------+------------------+-----------------+-----+--------------------+----+--------------------+-----+----+------------+------+--------------------+-------------------+\n|user_index|average_stars|compliment_cool|compliment_cute|compliment_funny|compliment_hot|compliment_list|compliment_more|compliment_note|compliment_photos|compliment_plain|compliment_profile|compliment_writer| cool|               elite|fans|             friends|funny|name|review_count|useful|             user_id|      yelping_since|\n+----------+-------------+---------------+---------------+----------------+--------------+---------------+---------------+---------------+-----------------+----------------+------------------+-----------------+-----+--------------------+----+--------------------+-----+----+------------+------+--------------------+-------------------+\n|         0|         3.85|           2541|            361|            2541|          1710|            147|            163|           1212|              323|            5691|               190|              815|11291|2006,2007,2008,20...|1357|xBDpTUbai0DXrvxCe...|10030|Jane|        1220| 15038|q_QQ5kBBwlCcbL1s4...|2005-03-14 20:26:35|\n|         1|         4.09|           2205|            232|            2205|          1632|             96|             87|           1187|              294|            3293|                94|              472|18046|2007,2008,2009,20...|1025|XPzYf9_mwG2eXYP2B...|10289|Gabi|        2136| 21272|dIIKEfOgo0KqUfGQv...|2007-08-10 19:01:51|\n+----------+-------------+---------------+---------------+----------------+--------------+---------------+---------------+---------------+-----------------+----------------+------------------+-----------------+-----+--------------------+----+--------------------+-----+----+------------+------+--------------------+-------------------+\nonly showing top 2 rows\n\n",
      "+--------------------+----------+\n|             user_id|user_index|\n+--------------------+----------+\n|q_QQ5kBBwlCcbL1s4...|         0|\n|dIIKEfOgo0KqUfGQv...|         1|\n+--------------------+----------+\nonly showing top 2 rows\n\n"
     ],
     "output_type": "stream"
    }
   ],
   "source": [
    "# prepare user\n",
    "\n",
    "user_new_df = df_zip_with_index(user, \"user_index\")\n",
    "user_new_df.show(2)\n",
    "\n",
    "user_index_df = user_new_df.select(\"user_id\", \"user_index\")\n",
    "user_index_df.show(2)"
   ],
   "metadata": {
    "collapsed": false,
    "pycharm": {
     "name": "#%%\n",
     "is_executing": false
    }
   }
  },
  {
   "cell_type": "code",
   "execution_count": 23,
   "outputs": [
    {
     "name": "stdout",
     "text": [
      "+--------------+-------------------+--------------------+--------------------+--------------------+--------+--------------------+-------+-------------+---------------+--------------------+-----------+------------+-----+-----+\n|business_index|            address|          attributes|         business_id|          categories|    city|               hours|is_open|     latitude|      longitude|                name|postal_code|review_count|stars|state|\n+--------------+-------------------+--------------------+--------------------+--------------------+--------+--------------------+-------+-------------+---------------+--------------------+-----------+------------+-----+-----+\n|             0|       921 Pearl St|{null, null, 'bee...|6iYb2HFDywm3zjuRg...|Gastropubs, Food,...| Boulder|{11:0-23:0, 11:0-...|      1|   40.0175444|   -105.2833481| Oskar Blues Taproom|      80302|          86|  4.0|   CO|\n|             1|7000 NE Airport Way|{null, null, u'be...|tCbdrRPZA0oiIYSmH...|Salad, Soup, Sand...|Portland|{5:0-18:0, 5:0-18...|      1|45.5889058992|-122.5933307507|Flying Elephants ...|      97218|         126|  4.0|   OR|\n+--------------+-------------------+--------------------+--------------------+--------------------+--------+--------------------+-------+-------------+---------------+--------------------+-----------+------------+-----+-----+\nonly showing top 2 rows\n\n",
      "+--------------------+--------------+\n|         business_id|business_index|\n+--------------------+--------------+\n|6iYb2HFDywm3zjuRg...|             0|\n|tCbdrRPZA0oiIYSmH...|             1|\n+--------------------+--------------+\nonly showing top 2 rows\n\n"
     ],
     "output_type": "stream"
    }
   ],
   "source": [
    "# prepare business\n",
    "\n",
    "business_new_df = df_zip_with_index(business, \"business_index\")\n",
    "business_new_df.show(2)\n",
    "\n",
    "business_index_df = business_new_df.select(\"business_id\", \"business_index\")\n",
    "business_index_df.show(2)"
   ],
   "metadata": {
    "collapsed": false,
    "pycharm": {
     "name": "#%%\n",
     "is_executing": false
    }
   }
  },
  {
   "cell_type": "code",
   "execution_count": 28,
   "outputs": [
    {
     "name": "stdout",
     "text": [
      "+--------------------+--------------------+-----+----------+--------------+\n|         business_id|             user_id|stars|user_index|business_index|\n+--------------------+--------------------+-----+----------+--------------+\n|-36nnCT71XE0InJXK...|ofyOSbE04KsDt7e9T...|  1.0|    300867|         96101|\n|-36nnCT71XE0InJXK...|oLd1zN3dy5cmPCCnd...|  2.0|     85243|         96101|\n+--------------------+--------------------+-----+----------+--------------+\nonly showing top 2 rows\n\n"
     ],
     "output_type": "stream"
    }
   ],
   "source": [
    "# map new user_id and business_id in the review dataframe\n",
    "\n",
    "review_df = review.select(\"user_id\", \"business_id\", \"stars\")\n",
    "review_new_df = review_df.join(user_index_df, \"user_id\").join(business_index_df,\"business_id\")\n",
    "review_new_df.show(2)"
   ],
   "metadata": {
    "collapsed": false,
    "pycharm": {
     "name": "#%%\n",
     "is_executing": false
    }
   }
  },
  {
   "cell_type": "markdown",
   "source": [
    "### Build ALS Model"
   ],
   "metadata": {
    "collapsed": false
   }
  },
  {
   "cell_type": "code",
   "execution_count": null,
   "outputs": [],
   "source": [
    "# create the rating matrix required by the ALS model\n",
    "\n",
    "rating_df = review_new_df.select(\"user_index\", \"business_index\", review_new_df.stars.cast(\"float\").alias(\"rating\"))\n",
    "rating_df.show(2)\n",
    "print(\"rating matrix count\", rating_df.count())\n",
    "rating_df.printSchema()\n",
    "rating_df.limit(2).toPandas()"
   ],
   "metadata": {
    "collapsed": false,
    "pycharm": {
     "name": "#%%\n",
     "is_executing": true
    }
   }
  },
  {
   "cell_type": "code",
   "execution_count": null,
   "outputs": [],
   "source": [
    "(train, test) = rating_df.randomSplit([0.8, 0.2], seed=1)\n",
    "\n",
    "print(\"start tuning ALS model\")\n",
    "\n",
    "als = ALS(userCol=\"user_index\", itemCol=\"business_index\", ratingCol=\"rating\", coldStartStrategy=\"drop\")\n",
    "param_grid = ParamGridBuilder()\\\n",
    "    .addGrid(als.rank,[10, 15, 20, 50, 100])\\\n",
    "    .addGrid(als.maxIter,[10, 15, 20])\\\n",
    "    .addGrid(als.regParam, [.01, .05, .1, .15, 0.3]) \\\n",
    "    .build()\n",
    "evaluator = RegressionEvaluator(metricName=\"rmse\",labelCol=\"rating\")\n",
    "\n",
    "cv = CrossValidator(estimator=als, estimatorParamMaps=param_grid, evaluator=evaluator, numFolds=5, seed=1)\n",
    "cv_als_model = cv.fit(train)\n",
    "\n",
    "als_predictions = cv_als_model.bestModel.transform(test)\n",
    "evaluator = RegressionEvaluator(metricName=\"rmse\", labelCol=\"rating\", predictionCol=\"prediction\")\n",
    "rmse = evaluator.evaluate(als_predictions)\n",
    "print(\"rmse: \" + str(rmse))\n",
    "\n",
    "best_model = cv_als_model.bestModel\n",
    "#best_rank is 20\n",
    "best_model.rank\n",
    "#best_maxIter is 20\n",
    "best_model._java_obj.parent().getMaxIter()\n",
    "# rmse is 1.3383\n",
    "print(\"end tuning ALS model\")\n",
    "\n",
    "print(\"rank:\", best_model._java_obj.parent().getRank())\n",
    "print(\"maxIter:\", best_model._java_obj.parent().getMaxIter())\n",
    "print(\"regParam:\", best_model._java_obj.parent().getRegParam())"
   ],
   "metadata": {
    "collapsed": false,
    "pycharm": {
     "name": "#%%\n",
     "is_executing": false
    }
   }
  },
  {
   "cell_type": "code",
   "execution_count": null,
   "outputs": [],
   "source": [
    "print(\"start building ALS model\")\n",
    "\n",
    "als = ALS(rank=20, maxIter=20, regParam=0.3, userCol=\"user_index\", itemCol=\"business_index\", ratingCol=\"rating\", \\\n",
    "               coldStartStrategy=\"drop\", seed=1)\n",
    "als_model = als.fit(train)\n",
    "\n",
    "als_predictions = als_model.transform(test)\n",
    "evaluator = RegressionEvaluator(metricName=\"rmse\", labelCol=\"rating\", predictionCol=\"prediction\")\n",
    "rmse = evaluator.evaluate(als_predictions)\n",
    "print(\"rmse: \" + str(rmse))\n",
    "\n",
    "# save the ALS model\n",
    "als_model.write().overwrite().save(\"als_model\")\n",
    "# rmse is 1.2579\n",
    "\n",
    "print(\"end building ALS model\")"
   ],
   "metadata": {
    "collapsed": false,
    "pycharm": {
     "name": "#%%\n",
     "is_executing": false
    }
   }
  },
  {
   "cell_type": "code",
   "execution_count": null,
   "outputs": [],
   "source": [
    "# load als model\n",
    "als_model = ALSModel.load(\"als_model\")"
   ],
   "metadata": {
    "collapsed": false,
    "pycharm": {
     "name": "#%%\n",
     "is_executing": false
    }
   }
  },
  {
   "cell_type": "code",
   "execution_count": null,
   "outputs": [],
   "source": [
    "# generate top 10 business for each user\n",
    "\n",
    "user_recommendations = als_model.recommendForAllUsers(10)"
   ],
   "metadata": {
    "collapsed": false,
    "pycharm": {
     "name": "#%%\n",
     "is_executing": false
    }
   }
  },
  {
   "cell_type": "code",
   "execution_count": null,
   "outputs": [],
   "source": [
    "# add the column user_id, cache the recommendaton dataframe and show recommedations sample\n",
    "\n",
    "a = user_recommendations.alias(\"a\")\n",
    "b = user_index_df.alias(\"b\")\n",
    "    \n",
    "all_user_recommendations = a.join(b, col(\"a.user_index\") == col(\"b.user_index\"), \"inner\") \\\n",
    "             .select([col(\"a.\"+xx) for xx in a.columns] + [col(\"b.user_id\")])\n",
    "\n",
    "all_user_recommendations.cache()   \n",
    "all_user_recommendations.show(1, truncate=False)"
   ],
   "metadata": {
    "collapsed": false,
    "pycharm": {
     "name": "#%%\n",
     "is_executing": false
    }
   }
  },
  {
   "cell_type": "code",
   "execution_count": null,
   "outputs": [],
   "source": [
    "def get_collaborative_recommendation(user_id):\n",
    "    \n",
    "\n",
    "    recommended_business =  spark.createDataFrame(all_user_recommendations.filter(col(\"user_id\") == user_id).rdd.flatMap(lambda p: p[1]))\n",
    "\n",
    "    a = recommended_business.alias(\"a\")\n",
    "    b = business_new_df.alias(\"b\")\n",
    "    \n",
    "    return a.join(b, col(\"a.business_index\") == col(\"b.business_index\"), \"inner\") \\\n",
    "             .select([col(\"b.business_id\"), col(\"a.rating\"), col(\"b.name\"),col(\"b.categories\"),\n",
    "                                                           col(\"b.stars\"),col(\"b.review_count\"),\n",
    "                                                           col(\"b.latitude\"),col(\"b.longitude\")]) \\\n",
    "             .orderBy(\"rating\", ascending = False)\n",
    "    "
   ],
   "metadata": {
    "collapsed": false,
    "pycharm": {
     "name": "#%%\n",
     "is_executing": false
    }
   }
  },
  {
   "cell_type": "code",
   "execution_count": null,
   "outputs": [],
   "source": [
    "# test case\n",
    "user = \"ZWD8UH1T7QXQr0Eq-mcWYg\"\n",
    "get_collaborative_recommendation(user).toPandas()\n",
    "\n",
    "\n"
   ],
   "metadata": {
    "collapsed": false,
    "pycharm": {
     "name": "#%%\n",
     "is_executing": false
    }
   }
  }
 ],
 "metadata": {
  "kernelspec": {
   "name": "pycharm-caaf7c26",
   "language": "python",
   "display_name": "PyCharm (CS5344)"
  },
  "language_info": {
   "codemirror_mode": {
    "name": "ipython",
    "version": 2
   },
   "file_extension": ".py",
   "mimetype": "text/x-python",
   "name": "python",
   "nbconvert_exporter": "python",
   "pygments_lexer": "ipython2",
   "version": "2.7.6"
  },
  "pycharm": {
   "stem_cell": {
    "cell_type": "raw",
    "source": [],
    "metadata": {
     "collapsed": false
    }
   }
  }
 },
 "nbformat": 4,
 "nbformat_minor": 0
}