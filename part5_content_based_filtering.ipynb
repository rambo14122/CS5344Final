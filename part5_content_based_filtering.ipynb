{
 "cells": [
  {
   "cell_type": "markdown",
   "metadata": {
    "collapsed": true,
    "pycharm": {
     "name": "#%% md\n"
    }
   },
   "source": [
    "# Part 5 Content Based Filtering"
   ]
  },
  {
   "cell_type": "markdown",
   "metadata": {},
   "source": [
    "### Setup"
   ]
  },
  {
   "cell_type": "code",
   "execution_count": 1,
   "metadata": {
    "pycharm": {
     "is_executing": false,
     "name": "#%%\n"
    }
   },
   "outputs": [],
   "source": [
    "from operator import add\n",
    "from pyspark.sql import SparkSession\n",
    "from pyspark.ml.feature import *\n",
    "from pyspark.ml import Pipeline, PipelineModel\n",
    "import numpy as np\n",
    "from pyspark.sql.types import *\n",
    "from pyspark.sql.functions import *"
   ]
  },
  {
   "cell_type": "code",
   "execution_count": 4,
   "metadata": {
    "pycharm": {
     "is_executing": false,
     "name": "#%%\n"
    }
   },
   "outputs": [],
   "source": [
    "spark = SparkSession.builder\\\n",
    "    .config(\"spark.driver.memory\", \"8g\")\\\n",
    "    .config(\"spark.executor.memory\",\"8g\")\\\n",
    "    .config(\"spark.driver.maxResultSize\",\"0\")\\\n",
    "    .config(\"spark.sql.autoBroadcastJoinThreshold\",\"-1\")\\\n",
    "    .config(\"spark.sql.broadcastTimeout\",\"1200\")\\\n",
    "    .config(\"spark.default.parallelism\", \"8\")\\\n",
    "    .config(\"spark.network.timeout\",\"7200s\")\\\n",
    "    .config(\"spark.executor.heartbeatInterval\", \"3600s\")\\\n",
    "    .appName(\"pipeline\").getOrCreate()"
   ]
  },
  {
   "cell_type": "markdown",
   "metadata": {},
   "source": [
    "### Read in Pre-processed Data"
   ]
  },
  {
   "cell_type": "code",
   "execution_count": 5,
   "metadata": {
    "pycharm": {
     "is_executing": false,
     "name": "#%%\n"
    }
   },
   "outputs": [],
   "source": [
    "business = spark.read.csv(\"business.csv\",header=True, multiLine=True)\n",
    "review = spark.read.csv(\"part4_topicmodeling_review.csv\",header=True, multiLine=True)"
   ]
  },
  {
   "cell_type": "code",
   "execution_count": 6,
   "metadata": {},
   "outputs": [
    {
     "data": {
      "text/plain": [
       "4127"
      ]
     },
     "execution_count": 6,
     "metadata": {},
     "output_type": "execute_result"
    }
   ],
   "source": [
    "business.count()"
   ]
  },
  {
   "cell_type": "code",
   "execution_count": 7,
   "metadata": {},
   "outputs": [
    {
     "name": "stdout",
     "output_type": "stream",
     "text": [
      "root\n",
      " |-- business_id: string (nullable = true)\n",
      " |-- name: string (nullable = true)\n",
      " |-- city: string (nullable = true)\n",
      " |-- state: string (nullable = true)\n",
      " |-- stars: string (nullable = true)\n",
      " |-- review_count: string (nullable = true)\n",
      " |-- categories: string (nullable = true)\n",
      " |-- latitude: string (nullable = true)\n",
      " |-- longitude: string (nullable = true)\n",
      " |-- is_open: string (nullable = true)\n",
      " |-- postal_code: string (nullable = true)\n",
      "\n"
     ]
    }
   ],
   "source": [
    "business.printSchema()"
   ]
  },
  {
   "cell_type": "code",
   "execution_count": 8,
   "metadata": {},
   "outputs": [
    {
     "data": {
      "text/plain": [
       "559331"
      ]
     },
     "execution_count": 8,
     "metadata": {},
     "output_type": "execute_result"
    }
   ],
   "source": [
    "review.count()"
   ]
  },
  {
   "cell_type": "code",
   "execution_count": 9,
   "metadata": {},
   "outputs": [
    {
     "name": "stdout",
     "output_type": "stream",
     "text": [
      "root\n",
      " |-- review_id: string (nullable = true)\n",
      " |-- business_id: string (nullable = true)\n",
      " |-- user_id: string (nullable = true)\n",
      " |-- stars: string (nullable = true)\n",
      " |-- useful: string (nullable = true)\n",
      " |-- text: string (nullable = true)\n",
      " |-- polarity: string (nullable = true)\n",
      " |-- subjectivity: string (nullable = true)\n",
      " |-- compound: string (nullable = true)\n",
      " |-- superscore: string (nullable = true)\n",
      " |-- Keywords: string (nullable = true)\n",
      "\n"
     ]
    }
   ],
   "source": [
    "review.printSchema()"
   ]
  },
  {
   "cell_type": "markdown",
   "metadata": {},
   "source": [
    "### Join Review Text by Business ID"
   ]
  },
  {
   "cell_type": "code",
   "execution_count": 10,
   "metadata": {
    "pycharm": {
     "is_executing": false,
     "name": "#%%\n"
    }
   },
   "outputs": [],
   "source": [
    "reviews_text_rdd = review.select(\"business_id\", \"text\").rdd\n",
    "reviews_by_business_rdd = reviews_text_rdd.map(tuple).reduceByKey(add)  \n",
    "reviews_by_business_df = spark.createDataFrame(reviews_by_business_rdd)\n",
    "reviews_by_business_df = reviews_by_business_df.withColumnRenamed(\"_1\", \"business_id\").withColumnRenamed(\"_2\", \"text\")"
   ]
  },
  {
   "cell_type": "markdown",
   "metadata": {
    "pycharm": {
     "name": "#%% md\n"
    }
   },
   "source": [
    "### Build Content Based Filtering Pipeline"
   ]
  },
  {
   "cell_type": "code",
   "execution_count": 12,
   "metadata": {
    "pycharm": {
     "is_executing": false,
     "name": "#%%\n"
    }
   },
   "outputs": [],
   "source": [
    "# prepare the pipeline\n",
    "\n",
    "regex_tokenizer = RegexTokenizer(gaps = False, pattern = \"\\w+\", inputCol = \"text\", outputCol = \"token\")\n",
    "stop_words_remover = StopWordsRemover(inputCol = \"token\", outputCol = \"non_stop_word\")\n",
    "count_vectorizer = CountVectorizer(inputCol=\"non_stop_word\", outputCol=\"raw_feature\")\n",
    "idf = IDF(inputCol=\"raw_feature\", outputCol=\"idf_vector\")\n",
    "word_2_vector = Word2Vec(vectorSize = 100, minCount = 5, inputCol = \"non_stop_word\", outputCol = \"word_vector\", seed=1)\n",
    "vector_assembler = VectorAssembler(inputCols=[\"idf_vector\", \"word_vector\"], outputCol=\"combined_vector\")\n",
    "\n",
    "# fit the pipeline\n",
    "\n",
    "pipeline = Pipeline(stages=[regex_tokenizer, stop_words_remover, count_vectorizer, idf, word_2_vector, vector_assembler])\n",
    "pipeline_model = pipeline.fit(reviews_by_business_df)\n",
    "\n",
    "# save the pipeline model\n",
    "\n",
    "pipeline_model.write().overwrite().save(\"content_based_pipeline_model\")"
   ]
  },
  {
   "cell_type": "code",
   "execution_count": 13,
   "metadata": {
    "pycharm": {
     "is_executing": false,
     "name": "#%%\n"
    }
   },
   "outputs": [],
   "source": [
    "# load the pipeline model\n",
    "\n",
    "pipeline_model = PipelineModel.load(\"content_based_pipeline_model\")\n",
    "reviews_by_business_transformed_df = pipeline_model.transform(reviews_by_business_df)\n"
   ]
  },
  {
   "cell_type": "code",
   "execution_count": 14,
   "metadata": {},
   "outputs": [
    {
     "name": "stdout",
     "output_type": "stream",
     "text": [
      "root\n",
      " |-- business_id: string (nullable = true)\n",
      " |-- text: string (nullable = true)\n",
      " |-- token: array (nullable = true)\n",
      " |    |-- element: string (containsNull = true)\n",
      " |-- non_stop_word: array (nullable = true)\n",
      " |    |-- element: string (containsNull = true)\n",
      " |-- raw_feature: vector (nullable = true)\n",
      " |-- idf_vector: vector (nullable = true)\n",
      " |-- word_vector: vector (nullable = true)\n",
      " |-- combined_vector: vector (nullable = true)\n",
      "\n"
     ]
    }
   ],
   "source": [
    "reviews_by_business_transformed_df.printSchema()\n"
   ]
  },
  {
   "cell_type": "code",
   "execution_count": 16,
   "metadata": {},
   "outputs": [
    {
     "name": "stdout",
     "output_type": "stream",
     "text": [
      "+--------------------+--------------------+--------------------+--------------------+--------------------+--------------------+--------------------+--------------------+\n",
      "|         business_id|                text|               token|       non_stop_word|         raw_feature|          idf_vector|         word_vector|     combined_vector|\n",
      "+--------------------+--------------------+--------------------+--------------------+--------------------+--------------------+--------------------+--------------------+\n",
      "|fNkX4JGvBMmLSoAON...|We were pleasantl...|[we, were, pleasa...|[pleasantly, surp...|(157702,[0,1,2,3,...|(157702,[0,1,2,3,...|[-0.0113749849423...|(157802,[0,1,2,3,...|\n",
      "|itqW3t8LhYjWvjZDf...|Love Love Love. B...|[love, love, love...|[love, love, love...|(157702,[0,1,2,3,...|(157702,[0,1,2,3,...|[0.03365884937757...|(157802,[0,1,2,3,...|\n",
      "|yYUbaE9QH9EDEiSyE...|Everything is exp...|[everything, is, ...|[everything, expi...|(157702,[1,2,3,4,...|(157702,[1,2,3,4,...|[-0.0166842110826...|(157802,[1,2,3,4,...|\n",
      "+--------------------+--------------------+--------------------+--------------------+--------------------+--------------------+--------------------+--------------------+\n",
      "only showing top 3 rows\n",
      "\n"
     ]
    }
   ],
   "source": [
    "reviews_by_business_transformed_df.show(3)"
   ]
  },
  {
   "cell_type": "code",
   "execution_count": 17,
   "metadata": {
    "pycharm": {
     "is_executing": false,
     "name": "#%%\n"
    }
   },
   "outputs": [
    {
     "data": {
      "text/plain": [
       "DenseVector([0.0337, 0.0258, 0.0975, -0.0251, -0.0183, 0.0104, -0.0191, -0.0004, 0.0107, -0.0216, -0.02, -0.1039, 0.0377, -0.0424, -0.0413, -0.0157, 0.1056, -0.0221, -0.0412, 0.0683, 0.1046, -0.0004, -0.0083, 0.1137, 0.0526, 0.0502, -0.0112, -0.0918, 0.017, 0.0628, 0.02, 0.006, -0.0134, -0.0392, -0.0904, -0.027, -0.03, -0.0466, -0.0095, -0.0016, -0.0039, -0.0911, -0.0658, 0.0561, -0.0076, -0.0629, -0.0688, -0.1342, -0.0652, -0.0511, 0.009, -0.0549, -0.0209, 0.0329, 0.0416, 0.0066, -0.0041, 0.023, -0.0147, -0.0546, 0.0309, 0.0121, -0.102, -0.0544, 0.0064, -0.0097, 0.0161, 0.0183, 0.0246, -0.0799, -0.033, 0.0232, -0.0119, 0.0041, -0.0496, -0.0715, -0.0002, -0.0063, -0.1076, -0.114, -0.0161, -0.0055, -0.0068, 0.0439, -0.0018, 0.0396, 0.0522, -0.0358, -0.0836, 0.0279, 0.0664, -0.0052, -0.0258, -0.0565, 0.0806, -0.0318, 0.0352, -0.0528, 0.0401, 0.0223])"
      ]
     },
     "execution_count": 17,
     "metadata": {},
     "output_type": "execute_result"
    }
   ],
   "source": [
    "all_business_vectors = reviews_by_business_transformed_df.select(\"business_id\", \"word_vector\").rdd.map(lambda x: (x[0], x[1])).collect()\n",
    "all_business_vectors[1][1]"
   ]
  },
  {
   "cell_type": "code",
   "execution_count": 18,
   "metadata": {
    "pycharm": {
     "is_executing": false,
     "name": "#%%\n"
    }
   },
   "outputs": [],
   "source": [
    "# utility functions\n",
    "\n",
    "def cosine_similarity(vector1, vector2): \n",
    "    return np.dot(vector1, vector2) / np.sqrt(np.dot(vector1, vector1)) / np.sqrt(np.dot(vector2, vector2)) \n",
    "\n",
    "\n",
    "def get_business_details(in_business):\n",
    "    a = in_business.alias(\"a\")\n",
    "    b = business.alias(\"b\")\n",
    "    return a.join(b, col(\"a.business_id\") == col(\"b.business_id\"), 'inner') \\\n",
    "             .select([col('a.'+x) for x in a.columns] + [col('b.name'),col('b.categories'),\n",
    "                                                           col('b.stars'),col('b.review_count'),\n",
    "                                                           col('b.latitude'),col('b.longitude')])\n",
    "    "
   ]
  },
  {
   "cell_type": "code",
   "execution_count": 30,
   "metadata": {
    "pycharm": {
     "is_executing": false,
     "name": "#%%\n"
    }
   },
   "outputs": [
    {
     "name": "stdout",
     "output_type": "stream",
     "text": [
      "\n",
      "input restaurants details:\n",
      "+----------------------+---------------------+-----------------------------------------------------------------------------------+\n",
      "|business_id           |name                 |categories                                                                         |\n",
      "+----------------------+---------------------+-----------------------------------------------------------------------------------+\n",
      "|itqW3t8LhYjWvjZDf-HkhQ|Oracle Coffee Company|Food, Bakeries, Vegan, Coffee & Tea, Internet Cafes, Coffee Roasteries, Restaurants|\n",
      "|yYUbaE9QH9EDEiSyEGyZ9g|Lents 1 Stop Market  |Convenience Stores, Delis, Restaurants, Food, Juice Bars & Smoothies               |\n",
      "+----------------------+---------------------+-----------------------------------------------------------------------------------+\n",
      "\n",
      "Top 10 similar restaurants for each input restaurant are:\"\n"
     ]
    },
    {
     "data": {
      "text/html": [
       "<div>\n",
       "<style scoped>\n",
       "    .dataframe tbody tr th:only-of-type {\n",
       "        vertical-align: middle;\n",
       "    }\n",
       "\n",
       "    .dataframe tbody tr th {\n",
       "        vertical-align: top;\n",
       "    }\n",
       "\n",
       "    .dataframe thead th {\n",
       "        text-align: right;\n",
       "    }\n",
       "</style>\n",
       "<table border=\"1\" class=\"dataframe\">\n",
       "  <thead>\n",
       "    <tr style=\"text-align: right;\">\n",
       "      <th></th>\n",
       "      <th>business_id</th>\n",
       "      <th>score</th>\n",
       "      <th>input_business_id</th>\n",
       "      <th>name</th>\n",
       "      <th>categories</th>\n",
       "      <th>stars</th>\n",
       "      <th>review_count</th>\n",
       "      <th>latitude</th>\n",
       "      <th>longitude</th>\n",
       "    </tr>\n",
       "  </thead>\n",
       "  <tbody>\n",
       "    <tr>\n",
       "      <th>0</th>\n",
       "      <td>17pcPIDZ_hqQ7NcTrFwPsQ</td>\n",
       "      <td>0.973720</td>\n",
       "      <td>itqW3t8LhYjWvjZDf-HkhQ</td>\n",
       "      <td>Nossa Familia Coffee</td>\n",
       "      <td>Restaurants, Coffee &amp; Tea, Coffee Roasteries, ...</td>\n",
       "      <td>4.5</td>\n",
       "      <td>211</td>\n",
       "      <td>45.5299427</td>\n",
       "      <td>-122.6847716</td>\n",
       "    </tr>\n",
       "    <tr>\n",
       "      <th>1</th>\n",
       "      <td>LNsROS-qBdtH-NKtCKqrKA</td>\n",
       "      <td>0.940162</td>\n",
       "      <td>yYUbaE9QH9EDEiSyEGyZ9g</td>\n",
       "      <td>50th Market</td>\n",
       "      <td>Food, Beer, Wine &amp; Spirits, Convenience Stores...</td>\n",
       "      <td>2.5</td>\n",
       "      <td>5</td>\n",
       "      <td>45.5013256</td>\n",
       "      <td>-122.6108413</td>\n",
       "    </tr>\n",
       "    <tr>\n",
       "      <th>2</th>\n",
       "      <td>dRMSM-8cISIgtH60XYEDYw</td>\n",
       "      <td>0.969932</td>\n",
       "      <td>itqW3t8LhYjWvjZDf-HkhQ</td>\n",
       "      <td>Case Study Coffee</td>\n",
       "      <td>Coffee &amp; Tea, Food</td>\n",
       "      <td>4.0</td>\n",
       "      <td>472</td>\n",
       "      <td>45.5192434281</td>\n",
       "      <td>-122.6822642762</td>\n",
       "    </tr>\n",
       "    <tr>\n",
       "      <th>3</th>\n",
       "      <td>lZCuDuBYPOaDV8k8tlQlSg</td>\n",
       "      <td>0.967796</td>\n",
       "      <td>itqW3t8LhYjWvjZDf-HkhQ</td>\n",
       "      <td>Barista</td>\n",
       "      <td>Food, Coffee &amp; Tea</td>\n",
       "      <td>4.5</td>\n",
       "      <td>425</td>\n",
       "      <td>45.5269539</td>\n",
       "      <td>-122.6845432</td>\n",
       "    </tr>\n",
       "    <tr>\n",
       "      <th>4</th>\n",
       "      <td>z6aMvwRopS3fZ3P-t2wPhw</td>\n",
       "      <td>0.968823</td>\n",
       "      <td>itqW3t8LhYjWvjZDf-HkhQ</td>\n",
       "      <td>Heart</td>\n",
       "      <td>Coffee Roasteries, Food</td>\n",
       "      <td>3.5</td>\n",
       "      <td>55</td>\n",
       "      <td>45.5219662</td>\n",
       "      <td>-122.6829152</td>\n",
       "    </tr>\n",
       "    <tr>\n",
       "      <th>5</th>\n",
       "      <td>Ly8E8wrBxzXQIBoE_FuxYA</td>\n",
       "      <td>0.966878</td>\n",
       "      <td>itqW3t8LhYjWvjZDf-HkhQ</td>\n",
       "      <td>Never Coffee</td>\n",
       "      <td>Food, Coffee &amp; Tea</td>\n",
       "      <td>4.5</td>\n",
       "      <td>132</td>\n",
       "      <td>45.5167547</td>\n",
       "      <td>-122.6186539</td>\n",
       "    </tr>\n",
       "    <tr>\n",
       "      <th>6</th>\n",
       "      <td>vWqf0BZ8vcMI0z7Vm2z0QQ</td>\n",
       "      <td>0.946222</td>\n",
       "      <td>yYUbaE9QH9EDEiSyEGyZ9g</td>\n",
       "      <td>Walmart Supercenter</td>\n",
       "      <td>Mobile Phones, Drugstores, Fashion, Food, Shop...</td>\n",
       "      <td>2.0</td>\n",
       "      <td>143</td>\n",
       "      <td>45.4913102</td>\n",
       "      <td>-122.5750681</td>\n",
       "    </tr>\n",
       "    <tr>\n",
       "      <th>7</th>\n",
       "      <td>RQOixECuPg6KFTGsPoGZcA</td>\n",
       "      <td>0.946203</td>\n",
       "      <td>yYUbaE9QH9EDEiSyEGyZ9g</td>\n",
       "      <td>Walgreens</td>\n",
       "      <td>Shopping, Convenience Stores, Beauty &amp; Spas, F...</td>\n",
       "      <td>2.0</td>\n",
       "      <td>23</td>\n",
       "      <td>45.5230196</td>\n",
       "      <td>-122.5797317</td>\n",
       "    </tr>\n",
       "    <tr>\n",
       "      <th>8</th>\n",
       "      <td>EbF6YAseIRfaJFk7FgbWEg</td>\n",
       "      <td>0.950295</td>\n",
       "      <td>yYUbaE9QH9EDEiSyEGyZ9g</td>\n",
       "      <td>Plaid Pantry Markets</td>\n",
       "      <td>Convenience Stores, Food</td>\n",
       "      <td>2.0</td>\n",
       "      <td>14</td>\n",
       "      <td>45.5174322</td>\n",
       "      <td>-122.6540713</td>\n",
       "    </tr>\n",
       "    <tr>\n",
       "      <th>9</th>\n",
       "      <td>gmXy3qJFGqk771purRwJdQ</td>\n",
       "      <td>0.947143</td>\n",
       "      <td>yYUbaE9QH9EDEiSyEGyZ9g</td>\n",
       "      <td>7-Eleven</td>\n",
       "      <td>Convenience Stores, Coffee &amp; Tea, Food</td>\n",
       "      <td>2.5</td>\n",
       "      <td>14</td>\n",
       "      <td>45.4780350998</td>\n",
       "      <td>-122.5632861257</td>\n",
       "    </tr>\n",
       "    <tr>\n",
       "      <th>10</th>\n",
       "      <td>QXDLHwQ-54DsmUqMuBaIDw</td>\n",
       "      <td>0.940893</td>\n",
       "      <td>yYUbaE9QH9EDEiSyEGyZ9g</td>\n",
       "      <td>Plaid Pantry Markets</td>\n",
       "      <td>Food, Convenience Stores</td>\n",
       "      <td>2.0</td>\n",
       "      <td>7</td>\n",
       "      <td>45.5167066</td>\n",
       "      <td>-122.6350592</td>\n",
       "    </tr>\n",
       "    <tr>\n",
       "      <th>11</th>\n",
       "      <td>sQZxBPBvvgYqnq6tA28nAQ</td>\n",
       "      <td>0.943567</td>\n",
       "      <td>yYUbaE9QH9EDEiSyEGyZ9g</td>\n",
       "      <td>Plaid Pantry Markets</td>\n",
       "      <td>Convenience Stores, Food</td>\n",
       "      <td>1.5</td>\n",
       "      <td>7</td>\n",
       "      <td>45.5162846</td>\n",
       "      <td>-122.6852675</td>\n",
       "    </tr>\n",
       "    <tr>\n",
       "      <th>12</th>\n",
       "      <td>Iov7BtQ4rzqE7CJm3wHFDw</td>\n",
       "      <td>0.950675</td>\n",
       "      <td>yYUbaE9QH9EDEiSyEGyZ9g</td>\n",
       "      <td>Plaid Pantry Markets</td>\n",
       "      <td>Food, Convenience Stores</td>\n",
       "      <td>3.0</td>\n",
       "      <td>11</td>\n",
       "      <td>45.513023</td>\n",
       "      <td>-122.6855149</td>\n",
       "    </tr>\n",
       "    <tr>\n",
       "      <th>13</th>\n",
       "      <td>8DICkysA5clCvyaMv78qNQ</td>\n",
       "      <td>0.944179</td>\n",
       "      <td>yYUbaE9QH9EDEiSyEGyZ9g</td>\n",
       "      <td>Cedar Hills Mart &amp; Mail</td>\n",
       "      <td>Food, Convenience Stores</td>\n",
       "      <td>2.5</td>\n",
       "      <td>15</td>\n",
       "      <td>45.507456</td>\n",
       "      <td>-122.782147</td>\n",
       "    </tr>\n",
       "    <tr>\n",
       "      <th>14</th>\n",
       "      <td>uei0jTLA7VYcDXpIrKapMw</td>\n",
       "      <td>0.973148</td>\n",
       "      <td>itqW3t8LhYjWvjZDf-HkhQ</td>\n",
       "      <td>Seven Virtues Coffee Roasters</td>\n",
       "      <td>Bagels, Coffee &amp; Tea, Food</td>\n",
       "      <td>4.0</td>\n",
       "      <td>43</td>\n",
       "      <td>45.51182</td>\n",
       "      <td>-122.62797</td>\n",
       "    </tr>\n",
       "    <tr>\n",
       "      <th>15</th>\n",
       "      <td>vv4-te8DFF5lrcWqBu7Ziw</td>\n",
       "      <td>0.974746</td>\n",
       "      <td>itqW3t8LhYjWvjZDf-HkhQ</td>\n",
       "      <td>Jet Black Coffee</td>\n",
       "      <td>Bakeries, Food, Coffee &amp; Tea</td>\n",
       "      <td>4.5</td>\n",
       "      <td>110</td>\n",
       "      <td>45.533828</td>\n",
       "      <td>-122.547756</td>\n",
       "    </tr>\n",
       "    <tr>\n",
       "      <th>16</th>\n",
       "      <td>QAMYI5VIo7_g_AOMeRmZtw</td>\n",
       "      <td>0.967316</td>\n",
       "      <td>itqW3t8LhYjWvjZDf-HkhQ</td>\n",
       "      <td>Compass Coffee Roasting</td>\n",
       "      <td>Coffee Roasteries, Coffee &amp; Tea, Food</td>\n",
       "      <td>4.5</td>\n",
       "      <td>44</td>\n",
       "      <td>45.5466920472</td>\n",
       "      <td>-122.6678745444</td>\n",
       "    </tr>\n",
       "    <tr>\n",
       "      <th>17</th>\n",
       "      <td>dTkYItaR86zUQaOZ78_b_A</td>\n",
       "      <td>0.953807</td>\n",
       "      <td>yYUbaE9QH9EDEiSyEGyZ9g</td>\n",
       "      <td>Subway</td>\n",
       "      <td>Sandwiches, Fast Food, Restaurants</td>\n",
       "      <td>1.5</td>\n",
       "      <td>51</td>\n",
       "      <td>45.5353041</td>\n",
       "      <td>-122.6522784192</td>\n",
       "    </tr>\n",
       "    <tr>\n",
       "      <th>18</th>\n",
       "      <td>6Y_S0K_4gHN3QhNWZUMmEw</td>\n",
       "      <td>0.974754</td>\n",
       "      <td>itqW3t8LhYjWvjZDf-HkhQ</td>\n",
       "      <td>In J Coffee</td>\n",
       "      <td>Coffee Roasteries, Coffee &amp; Tea, Restaurants, ...</td>\n",
       "      <td>5.0</td>\n",
       "      <td>49</td>\n",
       "      <td>45.5146338</td>\n",
       "      <td>-122.6842724</td>\n",
       "    </tr>\n",
       "    <tr>\n",
       "      <th>19</th>\n",
       "      <td>kV_pD8eKpK5YAl_WQzEzQA</td>\n",
       "      <td>0.969965</td>\n",
       "      <td>itqW3t8LhYjWvjZDf-HkhQ</td>\n",
       "      <td>Haven Coffee Co.</td>\n",
       "      <td>Coffee &amp; Tea, Bagels, Food, Restaurants, Local...</td>\n",
       "      <td>4.5</td>\n",
       "      <td>180</td>\n",
       "      <td>45.5251170679</td>\n",
       "      <td>-122.8146326675</td>\n",
       "    </tr>\n",
       "  </tbody>\n",
       "</table>\n",
       "</div>"
      ],
      "text/plain": [
       "               business_id     score       input_business_id  \\\n",
       "0   17pcPIDZ_hqQ7NcTrFwPsQ  0.973720  itqW3t8LhYjWvjZDf-HkhQ   \n",
       "1   LNsROS-qBdtH-NKtCKqrKA  0.940162  yYUbaE9QH9EDEiSyEGyZ9g   \n",
       "2   dRMSM-8cISIgtH60XYEDYw  0.969932  itqW3t8LhYjWvjZDf-HkhQ   \n",
       "3   lZCuDuBYPOaDV8k8tlQlSg  0.967796  itqW3t8LhYjWvjZDf-HkhQ   \n",
       "4   z6aMvwRopS3fZ3P-t2wPhw  0.968823  itqW3t8LhYjWvjZDf-HkhQ   \n",
       "5   Ly8E8wrBxzXQIBoE_FuxYA  0.966878  itqW3t8LhYjWvjZDf-HkhQ   \n",
       "6   vWqf0BZ8vcMI0z7Vm2z0QQ  0.946222  yYUbaE9QH9EDEiSyEGyZ9g   \n",
       "7   RQOixECuPg6KFTGsPoGZcA  0.946203  yYUbaE9QH9EDEiSyEGyZ9g   \n",
       "8   EbF6YAseIRfaJFk7FgbWEg  0.950295  yYUbaE9QH9EDEiSyEGyZ9g   \n",
       "9   gmXy3qJFGqk771purRwJdQ  0.947143  yYUbaE9QH9EDEiSyEGyZ9g   \n",
       "10  QXDLHwQ-54DsmUqMuBaIDw  0.940893  yYUbaE9QH9EDEiSyEGyZ9g   \n",
       "11  sQZxBPBvvgYqnq6tA28nAQ  0.943567  yYUbaE9QH9EDEiSyEGyZ9g   \n",
       "12  Iov7BtQ4rzqE7CJm3wHFDw  0.950675  yYUbaE9QH9EDEiSyEGyZ9g   \n",
       "13  8DICkysA5clCvyaMv78qNQ  0.944179  yYUbaE9QH9EDEiSyEGyZ9g   \n",
       "14  uei0jTLA7VYcDXpIrKapMw  0.973148  itqW3t8LhYjWvjZDf-HkhQ   \n",
       "15  vv4-te8DFF5lrcWqBu7Ziw  0.974746  itqW3t8LhYjWvjZDf-HkhQ   \n",
       "16  QAMYI5VIo7_g_AOMeRmZtw  0.967316  itqW3t8LhYjWvjZDf-HkhQ   \n",
       "17  dTkYItaR86zUQaOZ78_b_A  0.953807  yYUbaE9QH9EDEiSyEGyZ9g   \n",
       "18  6Y_S0K_4gHN3QhNWZUMmEw  0.974754  itqW3t8LhYjWvjZDf-HkhQ   \n",
       "19  kV_pD8eKpK5YAl_WQzEzQA  0.969965  itqW3t8LhYjWvjZDf-HkhQ   \n",
       "\n",
       "                             name  \\\n",
       "0            Nossa Familia Coffee   \n",
       "1                     50th Market   \n",
       "2               Case Study Coffee   \n",
       "3                         Barista   \n",
       "4                           Heart   \n",
       "5                    Never Coffee   \n",
       "6             Walmart Supercenter   \n",
       "7                       Walgreens   \n",
       "8            Plaid Pantry Markets   \n",
       "9                        7-Eleven   \n",
       "10           Plaid Pantry Markets   \n",
       "11           Plaid Pantry Markets   \n",
       "12           Plaid Pantry Markets   \n",
       "13        Cedar Hills Mart & Mail   \n",
       "14  Seven Virtues Coffee Roasters   \n",
       "15               Jet Black Coffee   \n",
       "16        Compass Coffee Roasting   \n",
       "17                         Subway   \n",
       "18                    In J Coffee   \n",
       "19               Haven Coffee Co.   \n",
       "\n",
       "                                           categories stars review_count  \\\n",
       "0   Restaurants, Coffee & Tea, Coffee Roasteries, ...   4.5          211   \n",
       "1   Food, Beer, Wine & Spirits, Convenience Stores...   2.5            5   \n",
       "2                                  Coffee & Tea, Food   4.0          472   \n",
       "3                                  Food, Coffee & Tea   4.5          425   \n",
       "4                             Coffee Roasteries, Food   3.5           55   \n",
       "5                                  Food, Coffee & Tea   4.5          132   \n",
       "6   Mobile Phones, Drugstores, Fashion, Food, Shop...   2.0          143   \n",
       "7   Shopping, Convenience Stores, Beauty & Spas, F...   2.0           23   \n",
       "8                            Convenience Stores, Food   2.0           14   \n",
       "9              Convenience Stores, Coffee & Tea, Food   2.5           14   \n",
       "10                           Food, Convenience Stores   2.0            7   \n",
       "11                           Convenience Stores, Food   1.5            7   \n",
       "12                           Food, Convenience Stores   3.0           11   \n",
       "13                           Food, Convenience Stores   2.5           15   \n",
       "14                         Bagels, Coffee & Tea, Food   4.0           43   \n",
       "15                       Bakeries, Food, Coffee & Tea   4.5          110   \n",
       "16              Coffee Roasteries, Coffee & Tea, Food   4.5           44   \n",
       "17                 Sandwiches, Fast Food, Restaurants   1.5           51   \n",
       "18  Coffee Roasteries, Coffee & Tea, Restaurants, ...   5.0           49   \n",
       "19  Coffee & Tea, Bagels, Food, Restaurants, Local...   4.5          180   \n",
       "\n",
       "         latitude        longitude  \n",
       "0      45.5299427     -122.6847716  \n",
       "1      45.5013256     -122.6108413  \n",
       "2   45.5192434281  -122.6822642762  \n",
       "3      45.5269539     -122.6845432  \n",
       "4      45.5219662     -122.6829152  \n",
       "5      45.5167547     -122.6186539  \n",
       "6      45.4913102     -122.5750681  \n",
       "7      45.5230196     -122.5797317  \n",
       "8      45.5174322     -122.6540713  \n",
       "9   45.4780350998  -122.5632861257  \n",
       "10     45.5167066     -122.6350592  \n",
       "11     45.5162846     -122.6852675  \n",
       "12      45.513023     -122.6855149  \n",
       "13      45.507456      -122.782147  \n",
       "14       45.51182       -122.62797  \n",
       "15      45.533828      -122.547756  \n",
       "16  45.5466920472  -122.6678745444  \n",
       "17     45.5353041  -122.6522784192  \n",
       "18     45.5146338     -122.6842724  \n",
       "19  45.5251170679  -122.8146326675  "
      ]
     },
     "execution_count": 30,
     "metadata": {},
     "output_type": "execute_result"
    }
   ],
   "source": [
    "def get_similar_business(business_ids, limit=10):\n",
    "    schema = StructType([   \n",
    "                            StructField(\"business_id\", StringType(), True)\n",
    "                            ,StructField(\"score\", IntegerType(), True)\n",
    "                            ,StructField(\"input_business_id\", StringType(), True)\n",
    "                        ])\n",
    "    similar_businesses_df = spark.createDataFrame([], schema)\n",
    "    \n",
    "    for b_id in business_ids:\n",
    "        try:\n",
    "            input_vec = [(r[1]) for r in all_business_vectors if r[0] == b_id][0]\n",
    "        except:\n",
    "            continue\n",
    "        similar_business_rdd = spark.sparkContext.parallelize(\n",
    "            (i[0], float(cosine_similarity(input_vec, i[1]))) for i in all_business_vectors)\n",
    "\n",
    "        similar_business_df = spark.createDataFrame(similar_business_rdd) \\\n",
    "            .withColumnRenamed(\"_1\", \"business_id\") \\\n",
    "            .withColumnRenamed(\"_2\", \"score\") \\\n",
    "            .orderBy(\"score\", ascending = False)\n",
    "            \n",
    "        similar_business_df = similar_business_df.filter(col(\"business_id\") != b_id).limit(limit)\n",
    "        similar_business_df = similar_business_df.withColumn(\"input_business_id\", lit(b_id))\n",
    "        similar_businesses_df = similar_businesses_df \\\n",
    "                                    .union(similar_business_df)\n",
    "    return similar_businesses_df\n",
    "\n",
    "# test \n",
    "bids = ['Dl2vgi5W_nbe-A97D0zgfA', 'RtUvSWO_UZ8V3Wpj0n077w','itqW3t8LhYjWvjZDf-HkhQ', 'yYUbaE9QH9EDEiSyEGyZ9g']\n",
    "\n",
    "print('\\ninput restaurants details:')\n",
    "business.select('business_id','name', 'categories') \\\n",
    "    .filter(business.business_id.isin(bids) == True).show(truncate=False)\n",
    "    \n",
    "# get top 10 similar business\n",
    "similar_business = get_business_details(get_similar_business(bids))\n",
    "\n",
    "print('Top 10 similar restaurants for each input restaurant are:\"')\n",
    "similar_business.toPandas()"
   ]
  },
  {
   "cell_type": "code",
   "execution_count": null,
   "metadata": {
    "pycharm": {
     "is_executing": false,
     "name": "#%%\n"
    }
   },
   "outputs": [],
   "source": []
  }
 ],
 "metadata": {
  "kernelspec": {
   "display_name": "Python 3",
   "language": "python",
   "name": "python3"
  },
  "language_info": {
   "codemirror_mode": {
    "name": "ipython",
    "version": 3
   },
   "file_extension": ".py",
   "mimetype": "text/x-python",
   "name": "python",
   "nbconvert_exporter": "python",
   "pygments_lexer": "ipython3",
   "version": "3.6.13"
  },
  "pycharm": {
   "stem_cell": {
    "cell_type": "raw",
    "metadata": {
     "collapsed": false
    },
    "source": []
   }
  }
 },
 "nbformat": 4,
 "nbformat_minor": 1
}
