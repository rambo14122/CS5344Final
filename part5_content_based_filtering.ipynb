{
 "cells": [
  {
   "cell_type": "markdown",
   "metadata": {
    "collapsed": true,
    "pycharm": {
     "name": "#%% md\n"
    }
   },
   "source": [
    "# Part 5 Content Based Filtering"
   ]
  },
  {
   "cell_type": "markdown",
   "metadata": {},
   "source": [
    "### Setup"
   ]
  },
  {
   "cell_type": "code",
   "execution_count": 26,
   "metadata": {
    "pycharm": {
     "is_executing": false,
     "name": "#%%\n"
    }
   },
   "outputs": [],
   "source": [
    "from operator import add\n",
    "from pyspark.sql import SparkSession\n",
    "from pyspark.ml.feature import *\n",
    "from pyspark.ml import Pipeline, PipelineModel\n",
    "import numpy as np\n",
    "from pyspark.sql.types import *\n",
    "from pyspark.sql.functions import *"
   ]
  },
  {
   "cell_type": "code",
   "execution_count": 27,
   "metadata": {
    "pycharm": {
     "is_executing": false,
     "name": "#%%\n"
    }
   },
   "outputs": [],
   "source": [
    "spark = SparkSession.builder\\\n",
    "    .config(\"spark.driver.memory\", \"8g\")\\\n",
    "    .config(\"spark.executor.memory\",\"8g\")\\\n",
    "    .config(\"spark.driver.maxResultSize\",\"0\")\\\n",
    "    .config(\"spark.sql.autoBroadcastJoinThreshold\",\"-1\")\\\n",
    "    .config(\"spark.sql.broadcastTimeout\",\"1200\")\\\n",
    "    .config(\"spark.default.parallelism\", \"8\")\\\n",
    "    .config(\"spark.network.timeout\",\"7200s\")\\\n",
    "    .config(\"spark.executor.heartbeatInterval\", \"3600s\")\\\n",
    "    .config(\"spark.local.dir\",\"D:\\\\Data\")\\\n",
    "    .appName(\"pipeline\").getOrCreate()\n",
    "# spark.local.dir: disable if your do not have this dir"
   ]
  },
  {
   "cell_type": "markdown",
   "metadata": {},
   "source": [
    "### Read in Pre-processed Data"
   ]
  },
  {
   "cell_type": "code",
   "execution_count": 28,
   "metadata": {
    "pycharm": {
     "is_executing": false,
     "name": "#%%\n"
    }
   },
   "outputs": [],
   "source": [
    "business = spark.read.csv(\"part1_dataclean_business.csv\",header=True, multiLine=True)\n",
    "review = spark.read.csv(\"part4_topicmodeling_review.csv\",header=True, multiLine=True)"
   ]
  },
  {
   "cell_type": "markdown",
   "metadata": {},
   "source": [
    "### Join Review Text by Business ID"
   ]
  },
  {
   "cell_type": "code",
   "execution_count": 29,
   "metadata": {
    "pycharm": {
     "is_executing": false,
     "name": "#%%\n"
    }
   },
   "outputs": [],
   "source": [
    "reviews_text_rdd = review.select(\"business_id\", \"text\").rdd\n",
    "reviews_by_business_rdd = reviews_text_rdd.map(tuple).reduceByKey(add)  \n",
    "reviews_by_business_df = spark.createDataFrame(reviews_by_business_rdd)\n",
    "reviews_by_business_df = reviews_by_business_df.withColumnRenamed(\"_1\", \"business_id\").withColumnRenamed(\"_2\", \"text\")"
   ]
  },
  {
   "cell_type": "markdown",
   "metadata": {
    "pycharm": {
     "name": "#%% md\n"
    }
   },
   "source": [
    "### Build Content Based Filtering Pipeline"
   ]
  },
  {
   "cell_type": "code",
   "execution_count": 30,
   "metadata": {
    "pycharm": {
     "is_executing": false,
     "name": "#%%\n"
    }
   },
   "outputs": [
    {
     "data": {
      "text/plain": "'\\n# prepare the pipeline\\n\\nregex_tokenizer = RegexTokenizer(gaps = False, pattern = \"\\\\w+\", inputCol = \"text\", outputCol = \"token\")\\nstop_words_remover = StopWordsRemover(inputCol = \"token\", outputCol = \"non_stop_word\")\\ncount_vectorizer = CountVectorizer(inputCol=\"non_stop_word\", outputCol=\"raw_feature\")\\nidf = IDF(inputCol=\"raw_feature\", outputCol=\"idf_vector\")\\nword_2_vector = Word2Vec(vectorSize = 100, minCount = 5, inputCol = \"non_stop_word\", outputCol = \"word_vector\", seed=1)\\nvector_assembler = VectorAssembler(inputCols=[\"idf_vector\", \"word_vector\"], outputCol=\"combined_vector\")\\n\\n# fit the pipeline\\n\\npipeline = Pipeline(stages=[regex_tokenizer, stop_words_remover, count_vectorizer, idf, word_2_vector, vector_assembler])\\npipeline_model = pipeline.fit(reviews_by_business_df)\\n\\n# save the pipeline model\\n\\npipeline_model.write().overwrite().save(\"content_based_pipeline_model\")\\n'"
     },
     "metadata": {},
     "output_type": "execute_result",
     "execution_count": 30
    }
   ],
   "source": [
    "\"\"\"\n",
    "# prepare the pipeline\n",
    "\n",
    "regex_tokenizer = RegexTokenizer(gaps = False, pattern = \"\\w+\", inputCol = \"text\", outputCol = \"token\")\n",
    "stop_words_remover = StopWordsRemover(inputCol = \"token\", outputCol = \"non_stop_word\")\n",
    "count_vectorizer = CountVectorizer(inputCol=\"non_stop_word\", outputCol=\"raw_feature\")\n",
    "idf = IDF(inputCol=\"raw_feature\", outputCol=\"idf_vector\")\n",
    "word_2_vector = Word2Vec(vectorSize = 100, minCount = 5, inputCol = \"non_stop_word\", outputCol = \"word_vector\", seed=1)\n",
    "vector_assembler = VectorAssembler(inputCols=[\"idf_vector\", \"word_vector\"], outputCol=\"combined_vector\")\n",
    "\n",
    "# fit the pipeline\n",
    "\n",
    "pipeline = Pipeline(stages=[regex_tokenizer, stop_words_remover, count_vectorizer, idf, word_2_vector, vector_assembler])\n",
    "pipeline_model = pipeline.fit(reviews_by_business_df)\n",
    "\n",
    "# save the pipeline model\n",
    "\n",
    "pipeline_model.write().overwrite().save(\"content_based_pipeline_model\")\n",
    "\"\"\""
   ]
  },
  {
   "cell_type": "code",
   "execution_count": 31,
   "metadata": {
    "pycharm": {
     "is_executing": false,
     "name": "#%%\n"
    }
   },
   "outputs": [],
   "source": [
    "# load the pipeline model\n",
    "\n",
    "pipeline_model = PipelineModel.load(\"content_based_pipeline_model\")\n",
    "all_business_vectors_df = pipeline_model.transform(reviews_by_business_df)"
   ]
  },
  {
   "cell_type": "code",
   "execution_count": 32,
   "metadata": {
    "pycharm": {
     "is_executing": false,
     "name": "#%%\n"
    }
   },
   "outputs": [
    {
     "name": "stdout",
     "text": [
      "root\n |-- business_id: string (nullable = true)\n |-- text: string (nullable = true)\n |-- token: array (nullable = true)\n |    |-- element: string (containsNull = true)\n |-- non_stop_word: array (nullable = true)\n |    |-- element: string (containsNull = true)\n |-- raw_feature: vector (nullable = true)\n |-- idf_vector: vector (nullable = true)\n |-- word_vector: vector (nullable = true)\n |-- combined_vector: vector (nullable = true)\n\n",
      "+--------------------+--------------------+--------------------+--------------------+--------------------+--------------------+--------------------+--------------------+\n|         business_id|                text|               token|       non_stop_word|         raw_feature|          idf_vector|         word_vector|     combined_vector|\n+--------------------+--------------------+--------------------+--------------------+--------------------+--------------------+--------------------+--------------------+\n|5oed6H5F8qZxNzELq...|A must!!! \n\nFirst...|[a, must, first, ...|[must, first, tim...|(157702,[0,1,2,3,...|(157702,[0,1,2,3,...|[0.00542387584545...|(157802,[0,1,2,3,...|\n|J5HZLevdqG_iTZ2eg...|Four for lunch to...|[four, for, lunch...|[four, lunch, tod...|(157702,[0,1,2,3,...|(157702,[0,1,2,3,...|[-0.0861706777546...|(157802,[0,1,2,3,...|\n|LF0EuyDA4-rhb6s36...|Amazing restauran...|[amazing, restaur...|[amazing, restaur...|(157702,[0,1,2,3,...|(157702,[0,1,2,3,...|[0.01427050327365...|(157802,[0,1,2,3,...|\n+--------------------+--------------------+--------------------+--------------------+--------------------+--------------------+--------------------+--------------------+\nonly showing top 3 rows\n\n"
     ],
     "output_type": "stream"
    }
   ],
   "source": [
    "all_business_vectors_df.printSchema()\n",
    "all_business_vectors_df.show(3)\n",
    "\n",
    "# save all business vectors\n",
    "\n",
    "all_business_vectors_df.select(\"business_id\", \"word_vector\").write.mode(\"overwrite\")\\\n",
    "    .format(\"parquet\").save(\"part7_all_business_vectors.parquet\")"
   ]
  },
  {
   "cell_type": "code",
   "execution_count": 33,
   "outputs": [
    {
     "name": "stdout",
     "text": [
      "+--------------------+--------------------+\n|         business_id|         word_vector|\n+--------------------+--------------------+\n|0OLouFEhEm3pIh4Sx...|[0.00706271847664...|\n|M4zae56hA6sb6V2Ty...|[-0.0525487022407...|\n|W60O4ast9uAq03n7n...|[-0.0027295319850...|\n+--------------------+--------------------+\nonly showing top 3 rows\n\n",
      "[-0.05254870224070885,0.03538502551234829,-0.03854379182152756,-0.053777138675465165,0.11863246697258918,-0.042976504449101866,-0.06302669620455528,-0.010523899725802371,-0.05600440347677558,-0.051089978157957947,-0.12485574790768786,-0.01871904768133106,-0.01511064755262284,-0.012473998580663153,-0.0065393127728708925,-0.018541000201754955,0.026146981704871602,-0.0016333255095140166,0.019860426191859133,-0.02298519021158624,-0.06866251518718708,-0.04173724704121691,0.058374670250007615,-0.033756228102148386,0.036534135101342076,0.031458382954585626,0.014802017625441538,0.04208449111690074,0.05030599064622714,0.02105374494679037,-0.0195642894819269,0.0034160628788665777,0.03395830864219333,0.01141115462098575,-0.07339074955288873,0.006038148350013599,0.030040749926342647,0.019178156645195826,0.030420070933069077,0.026424276935886563,0.06978567937052522,-0.038662586510325364,-0.003517041154072199,-0.0709566290981172,0.030881129774067616,0.03637652215834272,-0.042959994960077935,0.04972426530825177,0.05291908217583924,-0.007215156437148692,-0.06759938494600379,0.03604435021378773,0.026383831714969518,0.02697421875927038,-0.08937993100696903,-0.0675996710759407,-0.01982851261380241,-0.0017940402937706883,-0.058421112945044956,-0.08880331134560483,-0.005576195163382579,0.016750543706828425,0.014313391662452303,0.04417082428150613,0.006844726232884172,-0.07906391895275204,-0.04351495841047669,0.022416933752259262,-0.021910484226283663,-0.10473319522737395,-0.054996799571903864,-0.014218603449948854,-0.006363870307356984,-0.06445056761510565,0.022793586533658077,-0.06624891750990053,0.04677990500011084,0.04364684822155727,-0.029078167441544234,0.08173745354319949,0.04290179008066342,-0.035191017495432055,0.009587641693031453,-0.02862967071102764,0.01855057649868083,0.003869431405685691,0.0037144745455932587,-0.06723655056475496,0.05858744996030741,0.019736421721136845,-0.03625163426473645,-0.005349039772723941,-0.006491014786744817,-0.0841400456261289,-0.03875898864991421,0.0557050942813113,-0.08074009112186684,-0.06281409859545732,0.08900172704076087,-0.017272912181610128]\n"
     ],
     "output_type": "stream"
    }
   ],
   "source": [
    "# test load all business vectors\n",
    "\n",
    "all_business_vectors_df = spark.read.load(\"part7_all_business_vectors.parquet\")\n",
    "all_business_vectors_df.show(3)\n",
    "\n",
    "all_business_vectors = all_business_vectors_df.rdd.map(lambda x: (x[0], x[1])).collect()\n",
    "print(all_business_vectors[1][1])"
   ],
   "metadata": {
    "collapsed": false,
    "pycharm": {
     "name": "#%%\n",
     "is_executing": false
    }
   }
  },
  {
   "cell_type": "code",
   "execution_count": 86,
   "metadata": {
    "pycharm": {
     "is_executing": false,
     "name": "#%%\n"
    }
   },
   "outputs": [],
   "source": [
    "# utility functions\n",
    "\n",
    "def cosine_similarity(vector1, vector2): \n",
    "    return np.dot(vector1, vector2) / np.sqrt(np.dot(vector1, vector1)) / np.sqrt(np.dot(vector2, vector2)) \n",
    "\n",
    "\n",
    "def get_business_details(recommended_business):\n",
    "    return recommended_business.join(business, \"business_id\", \"inner\").orderBy(\"score\", ascending=False)\n",
    "            "
   ]
  },
  {
   "cell_type": "markdown",
   "metadata": {
    "pycharm": {
     "is_executing": false,
     "name": "#%% md\n"
    }
   },
   "source": [
    "### Get Similar Business by List of Business IDs"
   ]
  },
  {
   "cell_type": "code",
   "execution_count": 88,
   "outputs": [],
   "source": [
    "def get_similar_business(business_ids, limit=10):\n",
    "    schema = StructType([   \n",
    "                            StructField(\"business_id\", StringType(), True),\n",
    "                            StructField(\"score\", IntegerType(), True)\n",
    "                        ])\n",
    "    similar_businesses_df = spark.createDataFrame([], schema)\n",
    "    \n",
    "    for b_id in business_ids:\n",
    "        try:\n",
    "            input_vec = [(r[1]) for r in all_business_vectors if r[0] == b_id][0]\n",
    "        except:\n",
    "            continue\n",
    "        similar_business_rdd = spark.sparkContext.parallelize(\n",
    "            (i[0], float(cosine_similarity(input_vec, i[1]))) for i in all_business_vectors)\n",
    "\n",
    "        similar_business_df = spark.createDataFrame(similar_business_rdd) \\\n",
    "            .withColumnRenamed(\"_1\", \"business_id\") \\\n",
    "            .withColumnRenamed(\"_2\", \"score\") \\\n",
    "            .orderBy(\"score\", ascending = False)\n",
    "            \n",
    "        similar_business_df = similar_business_df.filter(col(\"business_id\") != b_id).limit(limit)\n",
    "        similar_businesses_df = similar_businesses_df \\\n",
    "                                    .union(similar_business_df)\n",
    "    return similar_businesses_df.orderBy(\"score\", ascending=False).limit(limit)"
   ],
   "metadata": {
    "collapsed": false,
    "pycharm": {
     "name": "#%%\n",
     "is_executing": false
    }
   }
  },
  {
   "cell_type": "code",
   "execution_count": 89,
   "outputs": [
    {
     "name": "stdout",
     "text": [
      "input restaurants details:\n+----------------------+---------------------------+-------------------------------+\n|business_id           |name                       |categories                     |\n+----------------------+---------------------------+-------------------------------+\n|Npm0cjoyWwyV13OULL9qOA|Nana's Ice Cream Scoop Shop|Food, Ice Cream & Frozen Yogurt|\n|ZKPqinA-7gkDA8-yzubSYw|Dairy Hill Ice Cream       |Ice Cream & Frozen Yogurt, Food|\n+----------------------+---------------------------+-------------------------------+\n\n",
      "top 10 similar restaurants: \n"
     ],
     "output_type": "stream"
    },
    {
     "data": {
      "text/plain": "              business_id     score                         name      city  \\\n0  J5pyv-h-OgbJJ1d7KFQXkg  0.959442         Dairy Hill Ice Cream  Portland   \n1  C3MsUBX9Zt76COT3l-OAtg  0.918731                   Ruby Jewel  Portland   \n2  sH-aYKTMVQ8TN7_wv7tr5A  0.909337         Hurry Back Ice Cream  Portland   \n3  D3ND25B6h3xOJVuohZxMtg  0.904133          Cool Moon Ice Cream  Portland   \n4  XUA4QMW3_lHPmmLwwDiZDQ  0.900201         Cloud City Ice Cream  Portland   \n5  xGiqtSj3GmfnOFTsVAK_JQ  0.899289  Handel's Homemade Ice Cream  Portland   \n6  3i-vTnuordT7_iQW8UroFw  0.893876        Fifty Licks Ice Cream  Portland   \n7  nVM8SLX5Yp3E6NNmL7tAPQ  0.891180                  Fifty Licks  Portland   \n8  DU9QRdyekAFrR3GzjDaB5g  0.889460                   Ruby Jewel  Portland   \n9  2lqbPc3KrbaFTZJCw0t2TQ  0.889111                   Ruby Jewel  Portland   \n\n  state stars review_count                                         categories  \\\n0    OR   4.5           61  Bakeries, Ice Cream & Frozen Yogurt, Desserts,...   \n1    OR   4.5           29          Food, Desserts, Ice Cream & Frozen Yogurt   \n2    OR   5.0           85       Food Trucks, Food, Ice Cream & Frozen Yogurt   \n3    OR   4.5          463  Ice Cream & Frozen Yogurt, Food, Coffee & Tea,...   \n4    OR   4.5          414  Food, Coffee & Tea, Ice Cream & Frozen Yogurt,...   \n5    OR   4.0           85                    Food, Ice Cream & Frozen Yogurt   \n6    OR   4.0          245       Food Trucks, Food, Ice Cream & Frozen Yogurt   \n7    OR   4.0          478       Food Trucks, Ice Cream & Frozen Yogurt, Food   \n8    OR   4.0          434  Bakeries, Caterers, Ice Cream & Frozen Yogurt,...   \n9    OR   4.0          743  Event Planning & Services, Caterers, Specialty...   \n\n        latitude        longitude is_open postal_code  \n0      45.477952  -122.6958435774       1       97239  \n1  45.5345046219  -122.6986144446       1       97210  \n2      45.467275      -122.653168       1       97202  \n3  45.5287951382  -122.6825249787       1       97209  \n4     45.4795487     -122.6159691       1       97206  \n5     45.5282597     -122.8148562       1       97229  \n6     45.5227216     -122.6374919       1       97214  \n7      45.503615  -122.6450414642       1       97202  \n8  45.5497015429   -122.675727682       1       97227  \n9     45.5220396     -122.6830297       1       97205  ",
      "text/html": "<div>\n<style scoped>\n    .dataframe tbody tr th:only-of-type {\n        vertical-align: middle;\n    }\n\n    .dataframe tbody tr th {\n        vertical-align: top;\n    }\n\n    .dataframe thead th {\n        text-align: right;\n    }\n</style>\n<table border=\"1\" class=\"dataframe\">\n  <thead>\n    <tr style=\"text-align: right;\">\n      <th></th>\n      <th>business_id</th>\n      <th>score</th>\n      <th>name</th>\n      <th>city</th>\n      <th>state</th>\n      <th>stars</th>\n      <th>review_count</th>\n      <th>categories</th>\n      <th>latitude</th>\n      <th>longitude</th>\n      <th>is_open</th>\n      <th>postal_code</th>\n    </tr>\n  </thead>\n  <tbody>\n    <tr>\n      <th>0</th>\n      <td>J5pyv-h-OgbJJ1d7KFQXkg</td>\n      <td>0.959442</td>\n      <td>Dairy Hill Ice Cream</td>\n      <td>Portland</td>\n      <td>OR</td>\n      <td>4.5</td>\n      <td>61</td>\n      <td>Bakeries, Ice Cream &amp; Frozen Yogurt, Desserts,...</td>\n      <td>45.477952</td>\n      <td>-122.6958435774</td>\n      <td>1</td>\n      <td>97239</td>\n    </tr>\n    <tr>\n      <th>1</th>\n      <td>C3MsUBX9Zt76COT3l-OAtg</td>\n      <td>0.918731</td>\n      <td>Ruby Jewel</td>\n      <td>Portland</td>\n      <td>OR</td>\n      <td>4.5</td>\n      <td>29</td>\n      <td>Food, Desserts, Ice Cream &amp; Frozen Yogurt</td>\n      <td>45.5345046219</td>\n      <td>-122.6986144446</td>\n      <td>1</td>\n      <td>97210</td>\n    </tr>\n    <tr>\n      <th>2</th>\n      <td>sH-aYKTMVQ8TN7_wv7tr5A</td>\n      <td>0.909337</td>\n      <td>Hurry Back Ice Cream</td>\n      <td>Portland</td>\n      <td>OR</td>\n      <td>5.0</td>\n      <td>85</td>\n      <td>Food Trucks, Food, Ice Cream &amp; Frozen Yogurt</td>\n      <td>45.467275</td>\n      <td>-122.653168</td>\n      <td>1</td>\n      <td>97202</td>\n    </tr>\n    <tr>\n      <th>3</th>\n      <td>D3ND25B6h3xOJVuohZxMtg</td>\n      <td>0.904133</td>\n      <td>Cool Moon Ice Cream</td>\n      <td>Portland</td>\n      <td>OR</td>\n      <td>4.5</td>\n      <td>463</td>\n      <td>Ice Cream &amp; Frozen Yogurt, Food, Coffee &amp; Tea,...</td>\n      <td>45.5287951382</td>\n      <td>-122.6825249787</td>\n      <td>1</td>\n      <td>97209</td>\n    </tr>\n    <tr>\n      <th>4</th>\n      <td>XUA4QMW3_lHPmmLwwDiZDQ</td>\n      <td>0.900201</td>\n      <td>Cloud City Ice Cream</td>\n      <td>Portland</td>\n      <td>OR</td>\n      <td>4.5</td>\n      <td>414</td>\n      <td>Food, Coffee &amp; Tea, Ice Cream &amp; Frozen Yogurt,...</td>\n      <td>45.4795487</td>\n      <td>-122.6159691</td>\n      <td>1</td>\n      <td>97206</td>\n    </tr>\n    <tr>\n      <th>5</th>\n      <td>xGiqtSj3GmfnOFTsVAK_JQ</td>\n      <td>0.899289</td>\n      <td>Handel's Homemade Ice Cream</td>\n      <td>Portland</td>\n      <td>OR</td>\n      <td>4.0</td>\n      <td>85</td>\n      <td>Food, Ice Cream &amp; Frozen Yogurt</td>\n      <td>45.5282597</td>\n      <td>-122.8148562</td>\n      <td>1</td>\n      <td>97229</td>\n    </tr>\n    <tr>\n      <th>6</th>\n      <td>3i-vTnuordT7_iQW8UroFw</td>\n      <td>0.893876</td>\n      <td>Fifty Licks Ice Cream</td>\n      <td>Portland</td>\n      <td>OR</td>\n      <td>4.0</td>\n      <td>245</td>\n      <td>Food Trucks, Food, Ice Cream &amp; Frozen Yogurt</td>\n      <td>45.5227216</td>\n      <td>-122.6374919</td>\n      <td>1</td>\n      <td>97214</td>\n    </tr>\n    <tr>\n      <th>7</th>\n      <td>nVM8SLX5Yp3E6NNmL7tAPQ</td>\n      <td>0.891180</td>\n      <td>Fifty Licks</td>\n      <td>Portland</td>\n      <td>OR</td>\n      <td>4.0</td>\n      <td>478</td>\n      <td>Food Trucks, Ice Cream &amp; Frozen Yogurt, Food</td>\n      <td>45.503615</td>\n      <td>-122.6450414642</td>\n      <td>1</td>\n      <td>97202</td>\n    </tr>\n    <tr>\n      <th>8</th>\n      <td>DU9QRdyekAFrR3GzjDaB5g</td>\n      <td>0.889460</td>\n      <td>Ruby Jewel</td>\n      <td>Portland</td>\n      <td>OR</td>\n      <td>4.0</td>\n      <td>434</td>\n      <td>Bakeries, Caterers, Ice Cream &amp; Frozen Yogurt,...</td>\n      <td>45.5497015429</td>\n      <td>-122.675727682</td>\n      <td>1</td>\n      <td>97227</td>\n    </tr>\n    <tr>\n      <th>9</th>\n      <td>2lqbPc3KrbaFTZJCw0t2TQ</td>\n      <td>0.889111</td>\n      <td>Ruby Jewel</td>\n      <td>Portland</td>\n      <td>OR</td>\n      <td>4.0</td>\n      <td>743</td>\n      <td>Event Planning &amp; Services, Caterers, Specialty...</td>\n      <td>45.5220396</td>\n      <td>-122.6830297</td>\n      <td>1</td>\n      <td>97205</td>\n    </tr>\n  </tbody>\n</table>\n</div>"
     },
     "metadata": {},
     "output_type": "execute_result",
     "execution_count": 89
    }
   ],
   "source": [
    "# test get similar business\n",
    "\n",
    "bids = [\"Npm0cjoyWwyV13OULL9qOA\", \"ZKPqinA-7gkDA8-yzubSYw\"]\n",
    "\n",
    "print(\"input restaurants details:\")\n",
    "business.select(\"business_id\",\"name\", \"categories\") \\\n",
    "    .filter(business.business_id.isin(bids) == True).show(truncate=False)\n",
    "    \n",
    "# get top 10 similar business\n",
    "similar_business = get_business_details(get_similar_business(bids))\n",
    "\n",
    "print(\"top 10 similar restaurants: \")\n",
    "similar_business.toPandas()"
   ],
   "metadata": {
    "collapsed": false,
    "pycharm": {
     "name": "#%%\n",
     "is_executing": false
    }
   }
  },
  {
   "cell_type": "markdown",
   "source": [
    "### Get Similar Business by User ID"
   ],
   "metadata": {
    "collapsed": false
   }
  },
  {
   "cell_type": "code",
   "execution_count": 90,
   "metadata": {
    "pycharm": {
     "is_executing": false,
     "name": "#%%\n"
    }
   },
   "outputs": [
    {
     "name": "stdout",
     "text": [
      "user id: uLhdaZUsVvT0gbNTdOSzDg\n",
      "user reviewed businesses: ['sekbE_TpoPkVWIHMu0uBiA']\n",
      "top 10 similar restaurants: \n"
     ],
     "output_type": "stream"
    },
    {
     "data": {
      "text/plain": "              business_id     score                        name      city  \\\n0  xzBdKVBwoPwDNLN7ZwVa2w  0.978557  Yoko's Japanese Restaurant  Portland   \n1  ZZTG_ttcN3YFQA6vuWZdYw  0.968871               Sushi & Sushi  Portland   \n2  zIUFzFUy4Ja0TWMClV0xRQ  0.967478      Marinepolis Sushi Land  Portland   \n3  eWghaE-97gjo6XXFm-2eRg  0.966427        Takahashi Restaurant  Portland   \n4  iyu3qzaLyOsLDkxf-XqcyA  0.965699                   Mio Sushi  Portland   \n5  Rn6Znnus_rryA2KlUjP0zA  0.965465         Mio Sushi Hawthorne  Portland   \n6  bg_YgINQ5X5s5ZfYAb-ifw  0.963899      Marinepolis Sushi Land  Portland   \n7  MzIrEXhiTALvtSfXOvheKA  0.960251            Hot Pot 'n Sushi  Portland   \n8  1dZSC57NMNIssNnnam7hug  0.958813                     O'sushi  Portland   \n9  2d7e7hkSvlBwlawrOWbP1w  0.958707          Fujiyama Sushi Bar  Portland   \n\n  state stars review_count                                         categories  \\\n0    OR   4.0          373  Sushi Bars, Coffee & Tea, Japanese, Restaurant...   \n1    OR   3.0          122                  Sushi Bars, Restaurants, Japanese   \n2    OR   2.5          310  Conveyor Belt Sushi, Sushi Bars, Restaurants, ...   \n3    OR   4.0          220                  Restaurants, Japanese, Sushi Bars   \n4    OR   3.5          152  Sushi Bars, Restaurants, Japanese, Soup, Asian...   \n5    OR   3.0          149                  Sushi Bars, Restaurants, Japanese   \n6    OR   2.5          169                  Japanese, Restaurants, Sushi Bars   \n7    OR   2.5          296                  Japanese, Sushi Bars, Restaurants   \n8    OR   3.5          213            Sushi Bars, Japanese, Soup, Restaurants   \n9    OR   3.5          117                  Sushi Bars, Restaurants, Japanese   \n\n        latitude        longitude is_open postal_code  \n0      45.493212      -122.636056       1       97202  \n1  45.4827352122  -122.5772265611       1       97266  \n2      45.524275       -122.68101       1       97209  \n3     45.4894604     -122.5565751       1       97266  \n4  45.4641036987  -122.6466827393       1       97202  \n5     45.5119111     -122.6214655       1       97214  \n6     45.3944013     -122.7503309       1       97224  \n7  45.5730768476  -122.5576400757       1       97220  \n8     45.5020521     -122.5780035       1       97266  \n9     45.5179319     -122.5573978       1       97216  ",
      "text/html": "<div>\n<style scoped>\n    .dataframe tbody tr th:only-of-type {\n        vertical-align: middle;\n    }\n\n    .dataframe tbody tr th {\n        vertical-align: top;\n    }\n\n    .dataframe thead th {\n        text-align: right;\n    }\n</style>\n<table border=\"1\" class=\"dataframe\">\n  <thead>\n    <tr style=\"text-align: right;\">\n      <th></th>\n      <th>business_id</th>\n      <th>score</th>\n      <th>name</th>\n      <th>city</th>\n      <th>state</th>\n      <th>stars</th>\n      <th>review_count</th>\n      <th>categories</th>\n      <th>latitude</th>\n      <th>longitude</th>\n      <th>is_open</th>\n      <th>postal_code</th>\n    </tr>\n  </thead>\n  <tbody>\n    <tr>\n      <th>0</th>\n      <td>xzBdKVBwoPwDNLN7ZwVa2w</td>\n      <td>0.978557</td>\n      <td>Yoko's Japanese Restaurant</td>\n      <td>Portland</td>\n      <td>OR</td>\n      <td>4.0</td>\n      <td>373</td>\n      <td>Sushi Bars, Coffee &amp; Tea, Japanese, Restaurant...</td>\n      <td>45.493212</td>\n      <td>-122.636056</td>\n      <td>1</td>\n      <td>97202</td>\n    </tr>\n    <tr>\n      <th>1</th>\n      <td>ZZTG_ttcN3YFQA6vuWZdYw</td>\n      <td>0.968871</td>\n      <td>Sushi &amp; Sushi</td>\n      <td>Portland</td>\n      <td>OR</td>\n      <td>3.0</td>\n      <td>122</td>\n      <td>Sushi Bars, Restaurants, Japanese</td>\n      <td>45.4827352122</td>\n      <td>-122.5772265611</td>\n      <td>1</td>\n      <td>97266</td>\n    </tr>\n    <tr>\n      <th>2</th>\n      <td>zIUFzFUy4Ja0TWMClV0xRQ</td>\n      <td>0.967478</td>\n      <td>Marinepolis Sushi Land</td>\n      <td>Portland</td>\n      <td>OR</td>\n      <td>2.5</td>\n      <td>310</td>\n      <td>Conveyor Belt Sushi, Sushi Bars, Restaurants, ...</td>\n      <td>45.524275</td>\n      <td>-122.68101</td>\n      <td>1</td>\n      <td>97209</td>\n    </tr>\n    <tr>\n      <th>3</th>\n      <td>eWghaE-97gjo6XXFm-2eRg</td>\n      <td>0.966427</td>\n      <td>Takahashi Restaurant</td>\n      <td>Portland</td>\n      <td>OR</td>\n      <td>4.0</td>\n      <td>220</td>\n      <td>Restaurants, Japanese, Sushi Bars</td>\n      <td>45.4894604</td>\n      <td>-122.5565751</td>\n      <td>1</td>\n      <td>97266</td>\n    </tr>\n    <tr>\n      <th>4</th>\n      <td>iyu3qzaLyOsLDkxf-XqcyA</td>\n      <td>0.965699</td>\n      <td>Mio Sushi</td>\n      <td>Portland</td>\n      <td>OR</td>\n      <td>3.5</td>\n      <td>152</td>\n      <td>Sushi Bars, Restaurants, Japanese, Soup, Asian...</td>\n      <td>45.4641036987</td>\n      <td>-122.6466827393</td>\n      <td>1</td>\n      <td>97202</td>\n    </tr>\n    <tr>\n      <th>5</th>\n      <td>Rn6Znnus_rryA2KlUjP0zA</td>\n      <td>0.965465</td>\n      <td>Mio Sushi Hawthorne</td>\n      <td>Portland</td>\n      <td>OR</td>\n      <td>3.0</td>\n      <td>149</td>\n      <td>Sushi Bars, Restaurants, Japanese</td>\n      <td>45.5119111</td>\n      <td>-122.6214655</td>\n      <td>1</td>\n      <td>97214</td>\n    </tr>\n    <tr>\n      <th>6</th>\n      <td>bg_YgINQ5X5s5ZfYAb-ifw</td>\n      <td>0.963899</td>\n      <td>Marinepolis Sushi Land</td>\n      <td>Portland</td>\n      <td>OR</td>\n      <td>2.5</td>\n      <td>169</td>\n      <td>Japanese, Restaurants, Sushi Bars</td>\n      <td>45.3944013</td>\n      <td>-122.7503309</td>\n      <td>1</td>\n      <td>97224</td>\n    </tr>\n    <tr>\n      <th>7</th>\n      <td>MzIrEXhiTALvtSfXOvheKA</td>\n      <td>0.960251</td>\n      <td>Hot Pot 'n Sushi</td>\n      <td>Portland</td>\n      <td>OR</td>\n      <td>2.5</td>\n      <td>296</td>\n      <td>Japanese, Sushi Bars, Restaurants</td>\n      <td>45.5730768476</td>\n      <td>-122.5576400757</td>\n      <td>1</td>\n      <td>97220</td>\n    </tr>\n    <tr>\n      <th>8</th>\n      <td>1dZSC57NMNIssNnnam7hug</td>\n      <td>0.958813</td>\n      <td>O'sushi</td>\n      <td>Portland</td>\n      <td>OR</td>\n      <td>3.5</td>\n      <td>213</td>\n      <td>Sushi Bars, Japanese, Soup, Restaurants</td>\n      <td>45.5020521</td>\n      <td>-122.5780035</td>\n      <td>1</td>\n      <td>97266</td>\n    </tr>\n    <tr>\n      <th>9</th>\n      <td>2d7e7hkSvlBwlawrOWbP1w</td>\n      <td>0.958707</td>\n      <td>Fujiyama Sushi Bar</td>\n      <td>Portland</td>\n      <td>OR</td>\n      <td>3.5</td>\n      <td>117</td>\n      <td>Sushi Bars, Restaurants, Japanese</td>\n      <td>45.5179319</td>\n      <td>-122.5573978</td>\n      <td>1</td>\n      <td>97216</td>\n    </tr>\n  </tbody>\n</table>\n</div>"
     },
     "metadata": {},
     "output_type": "execute_result",
     "execution_count": 90
    }
   ],
   "source": [
    "def get_user_recommendation(user_id, limit = 10):\n",
    "    print(f\"user id: {user}\")\n",
    "    user_reviewed_businesses = review.filter((col(\"user_id\") == user_id) & (col(\"superscore\")>=3.0))\\\n",
    "        .sample(False, 0.5).limit(5).select(\"business_id\")\n",
    "    business_ids = [i.business_id for i in user_reviewed_businesses.collect()]\n",
    "    print(f\"user reviewed businesses: {business_ids}\")\n",
    "    return get_business_details(get_similar_business(business_ids, limit))\n",
    "\n",
    "# test using user id\n",
    "user = \"uLhdaZUsVvT0gbNTdOSzDg\"\n",
    "user_recommendations =get_user_recommendation(user)\n",
    "    \n",
    "print(\"top 10 similar restaurants: \")\n",
    "user_recommendations.toPandas()"
   ]
  },
  {
   "cell_type": "markdown",
   "source": [
    "### Get Similar Business by Keywords"
   ],
   "metadata": {
    "collapsed": false
   }
  },
  {
   "cell_type": "code",
   "execution_count": 93,
   "outputs": [
    {
     "name": "stdout",
     "text": [
      "keywords: chinese noodles\n"
     ],
     "output_type": "stream"
    },
    {
     "data": {
      "text/plain": "              business_id     score                   name      city state  \\\n0  usQRZ_mE5sPCiq9G7aJ64Q  0.638887   Kenny's Noodle House  Portland    OR   \n1  dgTamELrc44HhmGkjdMaTQ  0.631080       Chinese Delicacy  Portland    OR   \n2  amza5c9G7ZSKg_lFAuVHGw  0.600734      Thai Bungalow PDX  Portland    OR   \n3  QgS0W43X-9MlHe3jMTDltg  0.599276             Good Taste  Portland    OR   \n4  A5B8MEce5DHyf3Vyl3s9KQ  0.589289         Drunken Noodle  Portland    OR   \n5  UeyTWGFukURbiA1JG-52FQ  0.588343                    YUI  Portland    OR   \n6  ok2ivADDFpchAI_RB5FU3A  0.587357       Yong Kang Street  Portland    OR   \n7  tXEC_kp_owg-9iN-iQvlNw  0.572733          Yang‘s Noodle  Portland    OR   \n8  mdVogU5UdVoHpubJMX7E2w  0.570026  Sunita's Thai Kitchen  Portland    OR   \n9  ADm5xkCMPiW1Mf7KxcvOtQ  0.564171     Taipei Noodle Haus  Portland    OR   \n\n  stars review_count                                         categories  \\\n0   4.0          505           Restaurants, Noodles, Cantonese, Chinese   \n1   4.0          112                       Korean, Chinese, Restaurants   \n2   4.5           21               Food Trucks, Restaurants, Food, Thai   \n3   4.0          416  Cantonese, Barbeque, Chinese, Noodles, Restaur...   \n4   4.5            5                                  Restaurants, Thai   \n5   4.5            9  Asian Fusion, Food, Salad, Desserts, Restauran...   \n6   3.0          111  Taiwanese, Noodles, Dim Sum, Chinese, Restaurants   \n7   4.5           98                      Chinese, Noodles, Restaurants   \n8   5.0            8  Bubble Tea, Coffee & Tea, Restaurants, Food, Thai   \n9   3.5           91   Restaurants, Korean, Taiwanese, Chinese, Noodles   \n\n     latitude     longitude is_open postal_code  \n0  45.4978746  -122.5775489       1       97266  \n1  45.4765891   -122.579343       1       97266  \n2   45.516638    -122.62887       1       97214  \n3  45.5235116  -122.6741571       1       97209  \n4   45.496178   -122.671694       1       97239  \n5  45.5630425  -122.6351619       1       97211  \n6  45.5184023  -122.6772626       1       97204  \n7  45.5593645  -122.6483421       1       97211  \n8   45.486783   -122.770581       1       97225  \n9  45.5331828  -122.5431283       1       97220  ",
      "text/html": "<div>\n<style scoped>\n    .dataframe tbody tr th:only-of-type {\n        vertical-align: middle;\n    }\n\n    .dataframe tbody tr th {\n        vertical-align: top;\n    }\n\n    .dataframe thead th {\n        text-align: right;\n    }\n</style>\n<table border=\"1\" class=\"dataframe\">\n  <thead>\n    <tr style=\"text-align: right;\">\n      <th></th>\n      <th>business_id</th>\n      <th>score</th>\n      <th>name</th>\n      <th>city</th>\n      <th>state</th>\n      <th>stars</th>\n      <th>review_count</th>\n      <th>categories</th>\n      <th>latitude</th>\n      <th>longitude</th>\n      <th>is_open</th>\n      <th>postal_code</th>\n    </tr>\n  </thead>\n  <tbody>\n    <tr>\n      <th>0</th>\n      <td>usQRZ_mE5sPCiq9G7aJ64Q</td>\n      <td>0.638887</td>\n      <td>Kenny's Noodle House</td>\n      <td>Portland</td>\n      <td>OR</td>\n      <td>4.0</td>\n      <td>505</td>\n      <td>Restaurants, Noodles, Cantonese, Chinese</td>\n      <td>45.4978746</td>\n      <td>-122.5775489</td>\n      <td>1</td>\n      <td>97266</td>\n    </tr>\n    <tr>\n      <th>1</th>\n      <td>dgTamELrc44HhmGkjdMaTQ</td>\n      <td>0.631080</td>\n      <td>Chinese Delicacy</td>\n      <td>Portland</td>\n      <td>OR</td>\n      <td>4.0</td>\n      <td>112</td>\n      <td>Korean, Chinese, Restaurants</td>\n      <td>45.4765891</td>\n      <td>-122.579343</td>\n      <td>1</td>\n      <td>97266</td>\n    </tr>\n    <tr>\n      <th>2</th>\n      <td>amza5c9G7ZSKg_lFAuVHGw</td>\n      <td>0.600734</td>\n      <td>Thai Bungalow PDX</td>\n      <td>Portland</td>\n      <td>OR</td>\n      <td>4.5</td>\n      <td>21</td>\n      <td>Food Trucks, Restaurants, Food, Thai</td>\n      <td>45.516638</td>\n      <td>-122.62887</td>\n      <td>1</td>\n      <td>97214</td>\n    </tr>\n    <tr>\n      <th>3</th>\n      <td>QgS0W43X-9MlHe3jMTDltg</td>\n      <td>0.599276</td>\n      <td>Good Taste</td>\n      <td>Portland</td>\n      <td>OR</td>\n      <td>4.0</td>\n      <td>416</td>\n      <td>Cantonese, Barbeque, Chinese, Noodles, Restaur...</td>\n      <td>45.5235116</td>\n      <td>-122.6741571</td>\n      <td>1</td>\n      <td>97209</td>\n    </tr>\n    <tr>\n      <th>4</th>\n      <td>A5B8MEce5DHyf3Vyl3s9KQ</td>\n      <td>0.589289</td>\n      <td>Drunken Noodle</td>\n      <td>Portland</td>\n      <td>OR</td>\n      <td>4.5</td>\n      <td>5</td>\n      <td>Restaurants, Thai</td>\n      <td>45.496178</td>\n      <td>-122.671694</td>\n      <td>1</td>\n      <td>97239</td>\n    </tr>\n    <tr>\n      <th>5</th>\n      <td>UeyTWGFukURbiA1JG-52FQ</td>\n      <td>0.588343</td>\n      <td>YUI</td>\n      <td>Portland</td>\n      <td>OR</td>\n      <td>4.5</td>\n      <td>9</td>\n      <td>Asian Fusion, Food, Salad, Desserts, Restauran...</td>\n      <td>45.5630425</td>\n      <td>-122.6351619</td>\n      <td>1</td>\n      <td>97211</td>\n    </tr>\n    <tr>\n      <th>6</th>\n      <td>ok2ivADDFpchAI_RB5FU3A</td>\n      <td>0.587357</td>\n      <td>Yong Kang Street</td>\n      <td>Portland</td>\n      <td>OR</td>\n      <td>3.0</td>\n      <td>111</td>\n      <td>Taiwanese, Noodles, Dim Sum, Chinese, Restaurants</td>\n      <td>45.5184023</td>\n      <td>-122.6772626</td>\n      <td>1</td>\n      <td>97204</td>\n    </tr>\n    <tr>\n      <th>7</th>\n      <td>tXEC_kp_owg-9iN-iQvlNw</td>\n      <td>0.572733</td>\n      <td>Yang‘s Noodle</td>\n      <td>Portland</td>\n      <td>OR</td>\n      <td>4.5</td>\n      <td>98</td>\n      <td>Chinese, Noodles, Restaurants</td>\n      <td>45.5593645</td>\n      <td>-122.6483421</td>\n      <td>1</td>\n      <td>97211</td>\n    </tr>\n    <tr>\n      <th>8</th>\n      <td>mdVogU5UdVoHpubJMX7E2w</td>\n      <td>0.570026</td>\n      <td>Sunita's Thai Kitchen</td>\n      <td>Portland</td>\n      <td>OR</td>\n      <td>5.0</td>\n      <td>8</td>\n      <td>Bubble Tea, Coffee &amp; Tea, Restaurants, Food, Thai</td>\n      <td>45.486783</td>\n      <td>-122.770581</td>\n      <td>1</td>\n      <td>97225</td>\n    </tr>\n    <tr>\n      <th>9</th>\n      <td>ADm5xkCMPiW1Mf7KxcvOtQ</td>\n      <td>0.564171</td>\n      <td>Taipei Noodle Haus</td>\n      <td>Portland</td>\n      <td>OR</td>\n      <td>3.5</td>\n      <td>91</td>\n      <td>Restaurants, Korean, Taiwanese, Chinese, Noodles</td>\n      <td>45.5331828</td>\n      <td>-122.5431283</td>\n      <td>1</td>\n      <td>97220</td>\n    </tr>\n  </tbody>\n</table>\n</div>"
     },
     "metadata": {},
     "output_type": "execute_result",
     "execution_count": 93
    }
   ],
   "source": [
    "def get_keywords_recommendation(keywords, limit=10):\n",
    "    \n",
    "    print(f\"keywords: {keywords}\")\n",
    "    keywords_df = spark.sparkContext.parallelize([(0, keywords)]).toDF(['business_id', 'text'])\n",
    "    \n",
    "    # transform the the keywords to vectors\n",
    "    \n",
    "    transformed_keywords_df = pipeline_model.transform(keywords_df)    \n",
    "    keywords_vector = transformed_keywords_df.select('word_vector').collect()[0][0]\n",
    "    sim_bus_byword_rdd = spark.sparkContext\\\n",
    "        .parallelize((i[0], float(cosine_similarity(keywords_vector, i[1]))) for i in all_business_vectors)\n",
    "\n",
    "    sim_bus_byword_df = spark.createDataFrame(sim_bus_byword_rdd) \\\n",
    "         .withColumnRenamed('_1', 'business_id') \\\n",
    "         .withColumnRenamed('_2', 'score') \\\n",
    "         .orderBy(\"score\", ascending = False) \\\n",
    "         .limit(limit)\n",
    "    \n",
    "    # return top 10 similar businesses\n",
    "    \n",
    "    a = sim_bus_byword_df.limit(limit)\n",
    "    return get_business_details(a)\n",
    "\n",
    "# test using keywords\n",
    "\n",
    "get_keywords_recommendation(\"chinese noodles\").toPandas()"
   ],
   "metadata": {
    "collapsed": false,
    "pycharm": {
     "name": "#%%\n",
     "is_executing": false
    }
   }
  },
  {
   "cell_type": "code",
   "execution_count": 95,
   "outputs": [
    {
     "name": "stdout",
     "text": [
      "keywords: burger\n"
     ],
     "output_type": "stream"
    },
    {
     "data": {
      "text/plain": "              business_id     score                                  name  \\\n0  RZEEoKF4odsIg_GV70xD_Q  0.627719                          Union Burger   \n1  EkyssuFKGgcMX6FpmVjiDA  0.602341                         Killer Burger   \n2  QreidCBt3HUOesM8gnULqw  0.595073                         Pickle & Salt   \n3  Hlvpm0izAXRQM1uZn1H35A  0.591029                     Little Big Burger   \n4  gcTc8abc8Jfpmg3t1ejp3g  0.581785                         Killer Burger   \n5  Jelhk2X7EJIMwUlO8RAN5g  0.581083                 Fuller's Burger Shack   \n6  JyPNR8kk5uBrhEMfuZoCug  0.580262                     Little Big Burger   \n7  jUnRs-5ZGecrN-sm8iiNjA  0.579537                     Little Big Burger   \n8  Yvsezs2OxUazHhw_kIYIPQ  0.575546  Bless Your Heart Burgers 33rd Avenue   \n9  TJoJ_1aQXRobOP-UITj5tw  0.575242                     Little Big Burger   \n\n       city state stars review_count  \\\n0  Portland    OR   5.0           46   \n1  Portland    OR   4.0          797   \n2  Portland    OR   4.5           15   \n3  Portland    OR   4.0          949   \n4  Portland    OR   4.0          411   \n5  Portland    OR   4.0           48   \n6  Portland    OR   3.5           73   \n7  Portland    OR   3.5          232   \n8  Portland    OR   4.0           63   \n9  Portland    OR   4.0          306   \n\n                                          categories       latitude  \\\n0            Restaurants, Food Trucks, Food, Burgers     45.5763354   \n1                               Restaurants, Burgers  45.5381080913   \n2     Food, Halal, Food Trucks, Burgers, Restaurants     45.5227501   \n3                    Burgers, Restaurants, Fast Food  45.5241461354   \n4                               Restaurants, Burgers     45.4596066   \n5  American (Traditional), American (New), Burger...     45.5731634   \n6  Food, Burgers, Restaurants, Vegetarian, Fast Food     45.5116533   \n7  Restaurants, Fast Food, American (Traditional)...     45.5501187   \n8  Burgers, Restaurants, Food Trucks, Food, Ameri...     45.5618172   \n9                    Restaurants, Burgers, Fast Food      45.529483   \n\n         longitude is_open postal_code  \n0  -122.6616957039       1       97211  \n1  -122.6151960203       1       97213  \n2     -122.6747903       1       97209  \n3  -122.6810082251       1       97209  \n4     -122.6468698       1       97202  \n5     -122.5575475       1       97220  \n6      -122.644857       1       97214  \n7     -122.6758684       1       97227  \n8     -122.6305022       1       97211  \n9       -122.69858       1       97210  ",
      "text/html": "<div>\n<style scoped>\n    .dataframe tbody tr th:only-of-type {\n        vertical-align: middle;\n    }\n\n    .dataframe tbody tr th {\n        vertical-align: top;\n    }\n\n    .dataframe thead th {\n        text-align: right;\n    }\n</style>\n<table border=\"1\" class=\"dataframe\">\n  <thead>\n    <tr style=\"text-align: right;\">\n      <th></th>\n      <th>business_id</th>\n      <th>score</th>\n      <th>name</th>\n      <th>city</th>\n      <th>state</th>\n      <th>stars</th>\n      <th>review_count</th>\n      <th>categories</th>\n      <th>latitude</th>\n      <th>longitude</th>\n      <th>is_open</th>\n      <th>postal_code</th>\n    </tr>\n  </thead>\n  <tbody>\n    <tr>\n      <th>0</th>\n      <td>RZEEoKF4odsIg_GV70xD_Q</td>\n      <td>0.627719</td>\n      <td>Union Burger</td>\n      <td>Portland</td>\n      <td>OR</td>\n      <td>5.0</td>\n      <td>46</td>\n      <td>Restaurants, Food Trucks, Food, Burgers</td>\n      <td>45.5763354</td>\n      <td>-122.6616957039</td>\n      <td>1</td>\n      <td>97211</td>\n    </tr>\n    <tr>\n      <th>1</th>\n      <td>EkyssuFKGgcMX6FpmVjiDA</td>\n      <td>0.602341</td>\n      <td>Killer Burger</td>\n      <td>Portland</td>\n      <td>OR</td>\n      <td>4.0</td>\n      <td>797</td>\n      <td>Restaurants, Burgers</td>\n      <td>45.5381080913</td>\n      <td>-122.6151960203</td>\n      <td>1</td>\n      <td>97213</td>\n    </tr>\n    <tr>\n      <th>2</th>\n      <td>QreidCBt3HUOesM8gnULqw</td>\n      <td>0.595073</td>\n      <td>Pickle &amp; Salt</td>\n      <td>Portland</td>\n      <td>OR</td>\n      <td>4.5</td>\n      <td>15</td>\n      <td>Food, Halal, Food Trucks, Burgers, Restaurants</td>\n      <td>45.5227501</td>\n      <td>-122.6747903</td>\n      <td>1</td>\n      <td>97209</td>\n    </tr>\n    <tr>\n      <th>3</th>\n      <td>Hlvpm0izAXRQM1uZn1H35A</td>\n      <td>0.591029</td>\n      <td>Little Big Burger</td>\n      <td>Portland</td>\n      <td>OR</td>\n      <td>4.0</td>\n      <td>949</td>\n      <td>Burgers, Restaurants, Fast Food</td>\n      <td>45.5241461354</td>\n      <td>-122.6810082251</td>\n      <td>1</td>\n      <td>97209</td>\n    </tr>\n    <tr>\n      <th>4</th>\n      <td>gcTc8abc8Jfpmg3t1ejp3g</td>\n      <td>0.581785</td>\n      <td>Killer Burger</td>\n      <td>Portland</td>\n      <td>OR</td>\n      <td>4.0</td>\n      <td>411</td>\n      <td>Restaurants, Burgers</td>\n      <td>45.4596066</td>\n      <td>-122.6468698</td>\n      <td>1</td>\n      <td>97202</td>\n    </tr>\n    <tr>\n      <th>5</th>\n      <td>Jelhk2X7EJIMwUlO8RAN5g</td>\n      <td>0.581083</td>\n      <td>Fuller's Burger Shack</td>\n      <td>Portland</td>\n      <td>OR</td>\n      <td>4.0</td>\n      <td>48</td>\n      <td>American (Traditional), American (New), Burger...</td>\n      <td>45.5731634</td>\n      <td>-122.5575475</td>\n      <td>1</td>\n      <td>97220</td>\n    </tr>\n    <tr>\n      <th>6</th>\n      <td>JyPNR8kk5uBrhEMfuZoCug</td>\n      <td>0.580262</td>\n      <td>Little Big Burger</td>\n      <td>Portland</td>\n      <td>OR</td>\n      <td>3.5</td>\n      <td>73</td>\n      <td>Food, Burgers, Restaurants, Vegetarian, Fast Food</td>\n      <td>45.5116533</td>\n      <td>-122.644857</td>\n      <td>1</td>\n      <td>97214</td>\n    </tr>\n    <tr>\n      <th>7</th>\n      <td>jUnRs-5ZGecrN-sm8iiNjA</td>\n      <td>0.579537</td>\n      <td>Little Big Burger</td>\n      <td>Portland</td>\n      <td>OR</td>\n      <td>3.5</td>\n      <td>232</td>\n      <td>Restaurants, Fast Food, American (Traditional)...</td>\n      <td>45.5501187</td>\n      <td>-122.6758684</td>\n      <td>1</td>\n      <td>97227</td>\n    </tr>\n    <tr>\n      <th>8</th>\n      <td>Yvsezs2OxUazHhw_kIYIPQ</td>\n      <td>0.575546</td>\n      <td>Bless Your Heart Burgers 33rd Avenue</td>\n      <td>Portland</td>\n      <td>OR</td>\n      <td>4.0</td>\n      <td>63</td>\n      <td>Burgers, Restaurants, Food Trucks, Food, Ameri...</td>\n      <td>45.5618172</td>\n      <td>-122.6305022</td>\n      <td>1</td>\n      <td>97211</td>\n    </tr>\n    <tr>\n      <th>9</th>\n      <td>TJoJ_1aQXRobOP-UITj5tw</td>\n      <td>0.575242</td>\n      <td>Little Big Burger</td>\n      <td>Portland</td>\n      <td>OR</td>\n      <td>4.0</td>\n      <td>306</td>\n      <td>Restaurants, Burgers, Fast Food</td>\n      <td>45.529483</td>\n      <td>-122.69858</td>\n      <td>1</td>\n      <td>97210</td>\n    </tr>\n  </tbody>\n</table>\n</div>"
     },
     "metadata": {},
     "output_type": "execute_result",
     "execution_count": 95
    }
   ],
   "source": [
    "# more test\n",
    "\n",
    "get_keywords_recommendation(\"burger\").toPandas()"
   ],
   "metadata": {
    "collapsed": false,
    "pycharm": {
     "name": "#%%\n",
     "is_executing": false
    }
   }
  }
 ],
 "metadata": {
  "kernelspec": {
   "display_name": "Python 3",
   "language": "python",
   "name": "python3"
  },
  "language_info": {
   "codemirror_mode": {
    "name": "ipython",
    "version": 3
   },
   "file_extension": ".py",
   "mimetype": "text/x-python",
   "name": "python",
   "nbconvert_exporter": "python",
   "pygments_lexer": "ipython3",
   "version": "3.6.13"
  },
  "pycharm": {
   "stem_cell": {
    "cell_type": "raw",
    "source": [],
    "metadata": {
     "collapsed": false
    }
   }
  }
 },
 "nbformat": 4,
 "nbformat_minor": 1
}