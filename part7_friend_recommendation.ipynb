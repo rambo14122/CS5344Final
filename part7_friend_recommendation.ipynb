{
 "cells": [
  {
   "cell_type": "markdown",
   "metadata": {
    "collapsed": true,
    "pycharm": {
     "name": "#%% md\n"
    }
   },
   "source": [
    "# Part 7 Friend Recommendation"
   ]
  },
  {
   "cell_type": "code",
   "execution_count": 4,
   "outputs": [],
   "source": [
    "from pyspark.sql.functions import *\n",
    "from pyspark.sql import SparkSession\n",
    "import pandas as pd\n",
    "\n",
    "spark = SparkSession.builder\\\n",
    "    .config(\"spark.driver.memory\", \"32g\")\\\n",
    "    .config(\"spark.executor.memory\",\"32g\")\\\n",
    "    .config(\"spark.driver.maxResultSize\",\"0\")\\\n",
    "    .config(\"spark.sql.autoBroadcastJoinThreshold\",\"-1\")\\\n",
    "    .config(\"spark.sql.broadcastTimeout\",\"1200\")\\\n",
    "    .config(\"spark.default.parallelism\", \"32\")\\\n",
    "    .config(\"spark.executor.heartbeatInterval\", \"3600\")\\\n",
    "    .config(\"spark.local.dir\",\"D:\\\\Data\")\\\n",
    "    .appName(\"part7\").getOrCreate()"
   ],
   "metadata": {
    "collapsed": false,
    "pycharm": {
     "name": "#%%\n",
     "is_executing": false
    }
   }
  },
  {
   "cell_type": "code",
   "execution_count": 48,
   "outputs": [],
   "source": [
    "review = spark.read.csv(\"part4_topicmodeling_review.csv\", header=True, multiLine=True)\n",
    "business = spark.read.csv(\"part1_dataclean_business.csv\",header=True, multiLine=True)\n",
    "user = spark.read.csv(\"part1_dataclean_user.csv\", header=True, multiLine=True)\n",
    "user_friends = user.select(\"user_id\", \"friends\")"
   ],
   "metadata": {
    "collapsed": false,
    "pycharm": {
     "name": "#%%\n",
     "is_executing": false
    }
   }
  },
  {
   "cell_type": "code",
   "execution_count": 50,
   "outputs": [
    {
     "data": {
      "text/plain": "              business_id                       name      city state stars  \\\n0  n73rxa6e6-fTIxQzfv4BuA      Mother’s Bistro & Bar  Portland    OR   4.5   \n1  1JKK_kmQ6Kxc6NzhQhcAOA    Sivalai Thai Restaurant  Portland    OR   4.5   \n2  9P-lp3AWDXGayDqJz9VPwQ              Marukin Ramen  Portland    OR   4.0   \n3  z1QhExIrJH0cnBdQKrsk0g              Piazza Italia  Portland    OR   4.0   \n4  nEaWb1R9wFRI6sTWBkymAA     Kizuki Ramen & Izakaya  Portland    OR   4.0   \n5  jXnMy7-VQ7eqRBtjXAacuQ         Lucky Devil Lounge  Portland    OR   4.0   \n6  4VT8kIUlTa4d3mwWrGJ5Zg               Pepe le Moko  Portland    OR   4.0   \n7  d69y3CN9_SQKrEnXXqQr8g  King Burrito Mexican Food  Portland    OR   4.0   \n8  nb6XRTOkX2mtWianzv819Q            Shigezo Izakaya  Portland    OR   3.5   \n9  qgq0usjnOA8qTWHdxbuzZA           Eclectic Kitchen  Portland    OR   3.5   \n\n  review_count                                         categories  \\\n0         4466  American (Traditional), Restaurants, Bars, Nig...   \n1          833                                  Restaurants, Thai   \n2          616              Restaurants, Ramen, Noodles, Japanese   \n3          973  Restaurants, Shopping, Salad, Delis, Art Galle...   \n4          955     Ramen, Japanese, Restaurants, Izakaya, Noodles   \n5          112  Restaurants, Bars, Adult Entertainment, Nightl...   \n6          439  Cocktail Bars, Nightlife, Bars, Restaurants, S...   \n7          534  Mexican, Restaurants, Breakfast & Brunch, Burgers   \n8          678  Tapas/Small Plates, Japanese, Ramen, Restauran...   \n9          137  Food, Salad, Sandwiches, Restaurants, Bakeries...   \n\n        latitude        longitude is_open postal_code  \n0      45.522196      -122.673868       1       97204  \n1     45.5190945     -122.6131884       1       97215  \n2      45.522407       -122.65937       1       97214  \n3     45.5287804     -122.6829301       1       97209  \n4     45.5217636     -122.8021536       1       97229  \n5     45.5017514     -122.6590969       1       97202  \n6  45.5218730302  -122.6811734763       1       97205  \n7     45.5769598     -122.6970866       1       97217  \n8     45.5176574     -122.6825351       1       97205  \n9      45.548143     -122.6118289       1       97213  ",
      "text/html": "<div>\n<style scoped>\n    .dataframe tbody tr th:only-of-type {\n        vertical-align: middle;\n    }\n\n    .dataframe tbody tr th {\n        vertical-align: top;\n    }\n\n    .dataframe thead th {\n        text-align: right;\n    }\n</style>\n<table border=\"1\" class=\"dataframe\">\n  <thead>\n    <tr style=\"text-align: right;\">\n      <th></th>\n      <th>business_id</th>\n      <th>name</th>\n      <th>city</th>\n      <th>state</th>\n      <th>stars</th>\n      <th>review_count</th>\n      <th>categories</th>\n      <th>latitude</th>\n      <th>longitude</th>\n      <th>is_open</th>\n      <th>postal_code</th>\n    </tr>\n  </thead>\n  <tbody>\n    <tr>\n      <th>0</th>\n      <td>n73rxa6e6-fTIxQzfv4BuA</td>\n      <td>Mother’s Bistro &amp; Bar</td>\n      <td>Portland</td>\n      <td>OR</td>\n      <td>4.5</td>\n      <td>4466</td>\n      <td>American (Traditional), Restaurants, Bars, Nig...</td>\n      <td>45.522196</td>\n      <td>-122.673868</td>\n      <td>1</td>\n      <td>97204</td>\n    </tr>\n    <tr>\n      <th>1</th>\n      <td>1JKK_kmQ6Kxc6NzhQhcAOA</td>\n      <td>Sivalai Thai Restaurant</td>\n      <td>Portland</td>\n      <td>OR</td>\n      <td>4.5</td>\n      <td>833</td>\n      <td>Restaurants, Thai</td>\n      <td>45.5190945</td>\n      <td>-122.6131884</td>\n      <td>1</td>\n      <td>97215</td>\n    </tr>\n    <tr>\n      <th>2</th>\n      <td>9P-lp3AWDXGayDqJz9VPwQ</td>\n      <td>Marukin Ramen</td>\n      <td>Portland</td>\n      <td>OR</td>\n      <td>4.0</td>\n      <td>616</td>\n      <td>Restaurants, Ramen, Noodles, Japanese</td>\n      <td>45.522407</td>\n      <td>-122.65937</td>\n      <td>1</td>\n      <td>97214</td>\n    </tr>\n    <tr>\n      <th>3</th>\n      <td>z1QhExIrJH0cnBdQKrsk0g</td>\n      <td>Piazza Italia</td>\n      <td>Portland</td>\n      <td>OR</td>\n      <td>4.0</td>\n      <td>973</td>\n      <td>Restaurants, Shopping, Salad, Delis, Art Galle...</td>\n      <td>45.5287804</td>\n      <td>-122.6829301</td>\n      <td>1</td>\n      <td>97209</td>\n    </tr>\n    <tr>\n      <th>4</th>\n      <td>nEaWb1R9wFRI6sTWBkymAA</td>\n      <td>Kizuki Ramen &amp; Izakaya</td>\n      <td>Portland</td>\n      <td>OR</td>\n      <td>4.0</td>\n      <td>955</td>\n      <td>Ramen, Japanese, Restaurants, Izakaya, Noodles</td>\n      <td>45.5217636</td>\n      <td>-122.8021536</td>\n      <td>1</td>\n      <td>97229</td>\n    </tr>\n    <tr>\n      <th>5</th>\n      <td>jXnMy7-VQ7eqRBtjXAacuQ</td>\n      <td>Lucky Devil Lounge</td>\n      <td>Portland</td>\n      <td>OR</td>\n      <td>4.0</td>\n      <td>112</td>\n      <td>Restaurants, Bars, Adult Entertainment, Nightl...</td>\n      <td>45.5017514</td>\n      <td>-122.6590969</td>\n      <td>1</td>\n      <td>97202</td>\n    </tr>\n    <tr>\n      <th>6</th>\n      <td>4VT8kIUlTa4d3mwWrGJ5Zg</td>\n      <td>Pepe le Moko</td>\n      <td>Portland</td>\n      <td>OR</td>\n      <td>4.0</td>\n      <td>439</td>\n      <td>Cocktail Bars, Nightlife, Bars, Restaurants, S...</td>\n      <td>45.5218730302</td>\n      <td>-122.6811734763</td>\n      <td>1</td>\n      <td>97205</td>\n    </tr>\n    <tr>\n      <th>7</th>\n      <td>d69y3CN9_SQKrEnXXqQr8g</td>\n      <td>King Burrito Mexican Food</td>\n      <td>Portland</td>\n      <td>OR</td>\n      <td>4.0</td>\n      <td>534</td>\n      <td>Mexican, Restaurants, Breakfast &amp; Brunch, Burgers</td>\n      <td>45.5769598</td>\n      <td>-122.6970866</td>\n      <td>1</td>\n      <td>97217</td>\n    </tr>\n    <tr>\n      <th>8</th>\n      <td>nb6XRTOkX2mtWianzv819Q</td>\n      <td>Shigezo Izakaya</td>\n      <td>Portland</td>\n      <td>OR</td>\n      <td>3.5</td>\n      <td>678</td>\n      <td>Tapas/Small Plates, Japanese, Ramen, Restauran...</td>\n      <td>45.5176574</td>\n      <td>-122.6825351</td>\n      <td>1</td>\n      <td>97205</td>\n    </tr>\n    <tr>\n      <th>9</th>\n      <td>qgq0usjnOA8qTWHdxbuzZA</td>\n      <td>Eclectic Kitchen</td>\n      <td>Portland</td>\n      <td>OR</td>\n      <td>3.5</td>\n      <td>137</td>\n      <td>Food, Salad, Sandwiches, Restaurants, Bakeries...</td>\n      <td>45.548143</td>\n      <td>-122.6118289</td>\n      <td>1</td>\n      <td>97213</td>\n    </tr>\n  </tbody>\n</table>\n</div>"
     },
     "metadata": {},
     "output_type": "execute_result",
     "execution_count": 50
    },
    {
     "name": "stderr",
     "text": [
      "ERROR:root:Exception while sending command.\nTraceback (most recent call last):\n  File \"E:\\IDE\\Conda3\\envs\\CS5344V3\\lib\\site-packages\\py4j\\java_gateway.py\", line 1205, in send_command\n    answer = smart_decode(self.stream.readline()[:-1])\n  File \"E:\\IDE\\Conda3\\envs\\CS5344V3\\lib\\socket.py\", line 589, in readinto\n    return self._sock.recv_into(b)\nConnectionResetError: [WinError 10054] 远程主机强迫关闭了一个现有的连接。\n\nDuring handling of the above exception, another exception occurred:\n\nTraceback (most recent call last):\n  File \"E:\\IDE\\Conda3\\envs\\CS5344V3\\lib\\site-packages\\py4j\\java_gateway.py\", line 1038, in send_command\n    response = connection.send_command(command)\n  File \"E:\\IDE\\Conda3\\envs\\CS5344V3\\lib\\site-packages\\py4j\\java_gateway.py\", line 1217, in send_command\n    \"Error while receiving\", e, proto.ERROR_ON_RECEIVE)\npy4j.protocol.Py4JNetworkError: Error while receiving\n",
      "----------------------------------------\nException happened during processing of request from ('127.0.0.1', 58665)\nTraceback (most recent call last):\n  File \"E:\\IDE\\Conda3\\envs\\CS5344V3\\lib\\socketserver.py\", line 316, in _handle_request_noblock\n    self.process_request(request, client_address)\n  File \"E:\\IDE\\Conda3\\envs\\CS5344V3\\lib\\socketserver.py\", line 347, in process_request\n    self.finish_request(request, client_address)\n  File \"E:\\IDE\\Conda3\\envs\\CS5344V3\\lib\\socketserver.py\", line 360, in finish_request\n    self.RequestHandlerClass(request, client_address, self)\n  File \"E:\\IDE\\Conda3\\envs\\CS5344V3\\lib\\socketserver.py\", line 720, in __init__\n    self.handle()\n  File \"E:\\IDE\\Conda3\\envs\\CS5344V3\\lib\\site-packages\\pyspark\\accumulators.py\", line 262, in handle\n    poll(accum_updates)\n  File \"E:\\IDE\\Conda3\\envs\\CS5344V3\\lib\\site-packages\\pyspark\\accumulators.py\", line 235, in poll\n    if func():\n  File \"E:\\IDE\\Conda3\\envs\\CS5344V3\\lib\\site-packages\\pyspark\\accumulators.py\", line 239, in accum_updates\n    num_updates = read_int(self.rfile)\n  File \"E:\\IDE\\Conda3\\envs\\CS5344V3\\lib\\site-packages\\pyspark\\serializers.py\", line 562, in read_int\n    length = stream.read(4)\n  File \"E:\\IDE\\Conda3\\envs\\CS5344V3\\lib\\socket.py\", line 589, in readinto\n    return self._sock.recv_into(b)\nConnectionResetError: [WinError 10054] 远程主机强迫关闭了一个现有的连接。\n----------------------------------------\n",
      "ERROR:py4j.java_gateway:An error occurred while trying to connect to the Java server (127.0.0.1:58239)\nTraceback (most recent call last):\n  File \"E:\\IDE\\Conda3\\envs\\CS5344V3\\lib\\site-packages\\py4j\\java_gateway.py\", line 982, in _get_connection\n    connection = self.deque.pop()\nIndexError: pop from an empty deque\n\nDuring handling of the above exception, another exception occurred:\n\nTraceback (most recent call last):\n  File \"E:\\IDE\\Conda3\\envs\\CS5344V3\\lib\\site-packages\\py4j\\java_gateway.py\", line 1120, in start\n    self.socket.connect((self.address, self.port))\nConnectionRefusedError: [WinError 10061] 由于目标计算机积极拒绝，无法连接。\n",
      "ERROR:py4j.java_gateway:An error occurred while trying to connect to the Java server (127.0.0.1:58239)\nTraceback (most recent call last):\n  File \"E:\\IDE\\Conda3\\envs\\CS5344V3\\lib\\site-packages\\py4j\\java_gateway.py\", line 982, in _get_connection\n    connection = self.deque.pop()\nIndexError: pop from an empty deque\n\nDuring handling of the above exception, another exception occurred:\n\nTraceback (most recent call last):\n  File \"E:\\IDE\\Conda3\\envs\\CS5344V3\\lib\\site-packages\\py4j\\java_gateway.py\", line 1120, in start\n    self.socket.connect((self.address, self.port))\nConnectionRefusedError: [WinError 10061] 由于目标计算机积极拒绝，无法连接。\n"
     ],
     "output_type": "stream"
    }
   ],
   "source": [
    "def get_business_details(business_list):\n",
    "    return business.filter(col(\"business_id\").isin(business_list)).orderBy(\"stars\", ascending=False)\n",
    "\n",
    "def get_friends_recommendation(user_id, limit=10):\n",
    "    friends = user_friends.filter(col(\"user_id\")==user_id).limit(1)\n",
    "    if friends.count()<1:\n",
    "        return None\n",
    "    friend_str = friends.select(\"friends\").rdd.collect()[0][0].replace(\" \", \"\")\n",
    "    if friend_str==\"\":\n",
    "        return None\n",
    "    friend_list = list(friend_str.split(\",\"))\n",
    "    friends_businesses = review.filter(\n",
    "         (col(\"superscore\")>=3.0) &(col(\"user_id\").isin(friend_list)))\\\n",
    "        .orderBy(\"superscore\", ascending=False)\\\n",
    "        .select(\"business_id\").distinct().limit(limit).rdd.collect()\n",
    "    if len(friends_businesses)==0:\n",
    "        return None\n",
    "    business_list = []\n",
    "    for row in friends_businesses:\n",
    "        business_list.append(row.business_id)\n",
    "    return get_business_details(business_list)\n",
    "get_friends_recommendation(\"uLhdaZUsVvT0gbNTdOSzDg\").toPandas()"
   ],
   "metadata": {
    "collapsed": false,
    "pycharm": {
     "name": "#%%\n",
     "is_executing": false
    }
   }
  }
 ],
 "metadata": {
  "kernelspec": {
   "display_name": "Python 3",
   "language": "python",
   "name": "python3"
  },
  "language_info": {
   "codemirror_mode": {
    "name": "ipython",
    "version": 2
   },
   "file_extension": ".py",
   "mimetype": "text/x-python",
   "name": "python",
   "nbconvert_exporter": "python",
   "pygments_lexer": "ipython2",
   "version": "2.7.6"
  },
  "pycharm": {
   "stem_cell": {
    "cell_type": "raw",
    "source": [],
    "metadata": {
     "collapsed": false
    }
   }
  }
 },
 "nbformat": 4,
 "nbformat_minor": 0
}